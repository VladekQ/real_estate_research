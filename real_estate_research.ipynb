{
 "cells": [
  {
   "cell_type": "markdown",
   "metadata": {},
   "source": [
    "# Исследование объявлений о продаже квартир\n",
    "\n",
    "В вашем распоряжении данные сервиса Яндекс.Недвижимость — архив объявлений о продаже квартир в Санкт-Петербурге и соседних населённых пунктах за несколько лет. Нужно научиться определять рыночную стоимость объектов недвижимости. Ваша задача — установить параметры. Это позволит построить автоматизированную систему: она отследит аномалии и мошенническую деятельность. \n",
    "\n",
    "По каждой квартире на продажу доступны два вида данных. Первые вписаны пользователем, вторые получены автоматически на основе картографических данных. Например, расстояние до центра, аэропорта, ближайшего парка и водоёма. "
   ]
  },
  {
   "cell_type": "markdown",
   "metadata": {},
   "source": [
    "## Изучение данных из файла"
   ]
  },
  {
   "cell_type": "code",
   "execution_count": 1,
   "metadata": {
    "scrolled": false
   },
   "outputs": [
    {
     "name": "stdout",
     "output_type": "stream",
     "text": [
      "<class 'pandas.core.frame.DataFrame'>\n",
      "RangeIndex: 23699 entries, 0 to 23698\n",
      "Data columns (total 22 columns):\n",
      " #   Column                Non-Null Count  Dtype  \n",
      "---  ------                --------------  -----  \n",
      " 0   total_images          23699 non-null  int64  \n",
      " 1   last_price            23699 non-null  float64\n",
      " 2   total_area            23699 non-null  float64\n",
      " 3   first_day_exposition  23699 non-null  object \n",
      " 4   rooms                 23699 non-null  int64  \n",
      " 5   ceiling_height        14504 non-null  float64\n",
      " 6   floors_total          23613 non-null  float64\n",
      " 7   living_area           21796 non-null  float64\n",
      " 8   floor                 23699 non-null  int64  \n",
      " 9   is_apartment          2775 non-null   object \n",
      " 10  studio                23699 non-null  bool   \n",
      " 11  open_plan             23699 non-null  bool   \n",
      " 12  kitchen_area          21421 non-null  float64\n",
      " 13  balcony               12180 non-null  float64\n",
      " 14  locality_name         23650 non-null  object \n",
      " 15  airports_nearest      18157 non-null  float64\n",
      " 16  cityCenters_nearest   18180 non-null  float64\n",
      " 17  parks_around3000      18181 non-null  float64\n",
      " 18  parks_nearest         8079 non-null   float64\n",
      " 19  ponds_around3000      18181 non-null  float64\n",
      " 20  ponds_nearest         9110 non-null   float64\n",
      " 21  days_exposition       20518 non-null  float64\n",
      "dtypes: bool(2), float64(14), int64(3), object(3)\n",
      "memory usage: 3.7+ MB\n"
     ]
    },
    {
     "data": {
      "text/html": [
       "<div>\n",
       "<style scoped>\n",
       "    .dataframe tbody tr th:only-of-type {\n",
       "        vertical-align: middle;\n",
       "    }\n",
       "\n",
       "    .dataframe tbody tr th {\n",
       "        vertical-align: top;\n",
       "    }\n",
       "\n",
       "    .dataframe thead th {\n",
       "        text-align: right;\n",
       "    }\n",
       "</style>\n",
       "<table border=\"1\" class=\"dataframe\">\n",
       "  <thead>\n",
       "    <tr style=\"text-align: right;\">\n",
       "      <th></th>\n",
       "      <th>total_images</th>\n",
       "      <th>last_price</th>\n",
       "      <th>total_area</th>\n",
       "      <th>first_day_exposition</th>\n",
       "      <th>rooms</th>\n",
       "      <th>ceiling_height</th>\n",
       "      <th>floors_total</th>\n",
       "      <th>living_area</th>\n",
       "      <th>floor</th>\n",
       "      <th>is_apartment</th>\n",
       "      <th>...</th>\n",
       "      <th>kitchen_area</th>\n",
       "      <th>balcony</th>\n",
       "      <th>locality_name</th>\n",
       "      <th>airports_nearest</th>\n",
       "      <th>cityCenters_nearest</th>\n",
       "      <th>parks_around3000</th>\n",
       "      <th>parks_nearest</th>\n",
       "      <th>ponds_around3000</th>\n",
       "      <th>ponds_nearest</th>\n",
       "      <th>days_exposition</th>\n",
       "    </tr>\n",
       "  </thead>\n",
       "  <tbody>\n",
       "    <tr>\n",
       "      <th>0</th>\n",
       "      <td>20</td>\n",
       "      <td>13000000.0</td>\n",
       "      <td>108.0</td>\n",
       "      <td>2019-03-07T00:00:00</td>\n",
       "      <td>3</td>\n",
       "      <td>2.70</td>\n",
       "      <td>16.0</td>\n",
       "      <td>51.0</td>\n",
       "      <td>8</td>\n",
       "      <td>NaN</td>\n",
       "      <td>...</td>\n",
       "      <td>25.0</td>\n",
       "      <td>NaN</td>\n",
       "      <td>Санкт-Петербург</td>\n",
       "      <td>18863.0</td>\n",
       "      <td>16028.0</td>\n",
       "      <td>1.0</td>\n",
       "      <td>482.0</td>\n",
       "      <td>2.0</td>\n",
       "      <td>755.0</td>\n",
       "      <td>NaN</td>\n",
       "    </tr>\n",
       "    <tr>\n",
       "      <th>1</th>\n",
       "      <td>7</td>\n",
       "      <td>3350000.0</td>\n",
       "      <td>40.4</td>\n",
       "      <td>2018-12-04T00:00:00</td>\n",
       "      <td>1</td>\n",
       "      <td>NaN</td>\n",
       "      <td>11.0</td>\n",
       "      <td>18.6</td>\n",
       "      <td>1</td>\n",
       "      <td>NaN</td>\n",
       "      <td>...</td>\n",
       "      <td>11.0</td>\n",
       "      <td>2.0</td>\n",
       "      <td>посёлок Шушары</td>\n",
       "      <td>12817.0</td>\n",
       "      <td>18603.0</td>\n",
       "      <td>0.0</td>\n",
       "      <td>NaN</td>\n",
       "      <td>0.0</td>\n",
       "      <td>NaN</td>\n",
       "      <td>81.0</td>\n",
       "    </tr>\n",
       "    <tr>\n",
       "      <th>2</th>\n",
       "      <td>10</td>\n",
       "      <td>5196000.0</td>\n",
       "      <td>56.0</td>\n",
       "      <td>2015-08-20T00:00:00</td>\n",
       "      <td>2</td>\n",
       "      <td>NaN</td>\n",
       "      <td>5.0</td>\n",
       "      <td>34.3</td>\n",
       "      <td>4</td>\n",
       "      <td>NaN</td>\n",
       "      <td>...</td>\n",
       "      <td>8.3</td>\n",
       "      <td>0.0</td>\n",
       "      <td>Санкт-Петербург</td>\n",
       "      <td>21741.0</td>\n",
       "      <td>13933.0</td>\n",
       "      <td>1.0</td>\n",
       "      <td>90.0</td>\n",
       "      <td>2.0</td>\n",
       "      <td>574.0</td>\n",
       "      <td>558.0</td>\n",
       "    </tr>\n",
       "    <tr>\n",
       "      <th>3</th>\n",
       "      <td>0</td>\n",
       "      <td>64900000.0</td>\n",
       "      <td>159.0</td>\n",
       "      <td>2015-07-24T00:00:00</td>\n",
       "      <td>3</td>\n",
       "      <td>NaN</td>\n",
       "      <td>14.0</td>\n",
       "      <td>NaN</td>\n",
       "      <td>9</td>\n",
       "      <td>NaN</td>\n",
       "      <td>...</td>\n",
       "      <td>NaN</td>\n",
       "      <td>0.0</td>\n",
       "      <td>Санкт-Петербург</td>\n",
       "      <td>28098.0</td>\n",
       "      <td>6800.0</td>\n",
       "      <td>2.0</td>\n",
       "      <td>84.0</td>\n",
       "      <td>3.0</td>\n",
       "      <td>234.0</td>\n",
       "      <td>424.0</td>\n",
       "    </tr>\n",
       "    <tr>\n",
       "      <th>4</th>\n",
       "      <td>2</td>\n",
       "      <td>10000000.0</td>\n",
       "      <td>100.0</td>\n",
       "      <td>2018-06-19T00:00:00</td>\n",
       "      <td>2</td>\n",
       "      <td>3.03</td>\n",
       "      <td>14.0</td>\n",
       "      <td>32.0</td>\n",
       "      <td>13</td>\n",
       "      <td>NaN</td>\n",
       "      <td>...</td>\n",
       "      <td>41.0</td>\n",
       "      <td>NaN</td>\n",
       "      <td>Санкт-Петербург</td>\n",
       "      <td>31856.0</td>\n",
       "      <td>8098.0</td>\n",
       "      <td>2.0</td>\n",
       "      <td>112.0</td>\n",
       "      <td>1.0</td>\n",
       "      <td>48.0</td>\n",
       "      <td>121.0</td>\n",
       "    </tr>\n",
       "  </tbody>\n",
       "</table>\n",
       "<p>5 rows × 22 columns</p>\n",
       "</div>"
      ],
      "text/plain": [
       "   total_images  last_price  total_area first_day_exposition  rooms  \\\n",
       "0            20  13000000.0       108.0  2019-03-07T00:00:00      3   \n",
       "1             7   3350000.0        40.4  2018-12-04T00:00:00      1   \n",
       "2            10   5196000.0        56.0  2015-08-20T00:00:00      2   \n",
       "3             0  64900000.0       159.0  2015-07-24T00:00:00      3   \n",
       "4             2  10000000.0       100.0  2018-06-19T00:00:00      2   \n",
       "\n",
       "   ceiling_height  floors_total  living_area  floor is_apartment  ...  \\\n",
       "0            2.70          16.0         51.0      8          NaN  ...   \n",
       "1             NaN          11.0         18.6      1          NaN  ...   \n",
       "2             NaN           5.0         34.3      4          NaN  ...   \n",
       "3             NaN          14.0          NaN      9          NaN  ...   \n",
       "4            3.03          14.0         32.0     13          NaN  ...   \n",
       "\n",
       "   kitchen_area  balcony    locality_name  airports_nearest  \\\n",
       "0          25.0      NaN  Санкт-Петербург           18863.0   \n",
       "1          11.0      2.0   посёлок Шушары           12817.0   \n",
       "2           8.3      0.0  Санкт-Петербург           21741.0   \n",
       "3           NaN      0.0  Санкт-Петербург           28098.0   \n",
       "4          41.0      NaN  Санкт-Петербург           31856.0   \n",
       "\n",
       "  cityCenters_nearest  parks_around3000  parks_nearest  ponds_around3000  \\\n",
       "0             16028.0               1.0          482.0               2.0   \n",
       "1             18603.0               0.0            NaN               0.0   \n",
       "2             13933.0               1.0           90.0               2.0   \n",
       "3              6800.0               2.0           84.0               3.0   \n",
       "4              8098.0               2.0          112.0               1.0   \n",
       "\n",
       "   ponds_nearest  days_exposition  \n",
       "0          755.0              NaN  \n",
       "1            NaN             81.0  \n",
       "2          574.0            558.0  \n",
       "3          234.0            424.0  \n",
       "4           48.0            121.0  \n",
       "\n",
       "[5 rows x 22 columns]"
      ]
     },
     "execution_count": 1,
     "metadata": {},
     "output_type": "execute_result"
    }
   ],
   "source": [
    "import pandas as pd\n",
    "import numpy as np\n",
    "\n",
    "real_estate_ads = pd.read_csv('real_estate_data.csv', sep='\\t')\n",
    "real_estate_ads.info()\n",
    "real_estate_ads.head(5)"
   ]
  },
  {
   "cell_type": "markdown",
   "metadata": {},
   "source": [
    "### Вывод"
   ]
  },
  {
   "cell_type": "markdown",
   "metadata": {},
   "source": [
    "Объявления о продаже квартир в Санкт-Петербурге. 23699 объявлений и 22 столбца или параметра (1 из них это цена). Большинство столбцов имеют тип данных <b>'float64'</b>. Присутствуют пропущенные значения в нескольких столбцах. Также присутcтвуют категориальные значения в столбце <b>'locality_name'</b> и <b>'is_apartment'</b>. При этом столбец <b>'is_apartment'</b> содержит булевы значения, но они определены как тип <b>'object'</b>, исправим это. Также столбец <b>'first_day_exposition'</b> необходимо обработать таким образом, чтобы он содержал тип данных 'date'. На первый взгляд данные вполне логично и понятны, посмотрим, что будет возникать по мере их исследования."
   ]
  },
  {
   "cell_type": "markdown",
   "metadata": {},
   "source": [
    "## Предобработка данных"
   ]
  },
  {
   "cell_type": "markdown",
   "metadata": {},
   "source": [
    "Как нам показал метод <b>info()</b>, в большинстве столбцов имеются <b>пропущенные значения</b>. Создадим и выведем на экран объект <b>Series</b>, в котором содержится название столбца с пропущенными значениями и их количество."
   ]
  },
  {
   "cell_type": "code",
   "execution_count": 176,
   "metadata": {},
   "outputs": [
    {
     "name": "stdout",
     "output_type": "stream",
     "text": [
      "is_apartment           20924\n",
      "parks_nearest          15620\n",
      "ponds_nearest          14589\n",
      "balcony                11519\n",
      "ceiling_height          9195\n",
      "airports_nearest        5542\n",
      "cityCenters_nearest     5519\n",
      "parks_around3000        5518\n",
      "ponds_around3000        5518\n",
      "days_exposition         3181\n",
      "kitchen_area            2278\n",
      "living_area             1903\n",
      "floors_total              86\n",
      "locality_name             49\n",
      "dtype: int64\n"
     ]
    }
   ],
   "source": [
    "miss_cols = pd.Series(dtype='float64')\n",
    "for col in real_estate_ads:\n",
    "    if real_estate_ads[col].isnull().any() == True:\n",
    "        miss_cols[col] = real_estate_ads[col].isna().sum()\n",
    "print(miss_cols.sort_values(ascending=False))"
   ]
  },
  {
   "cell_type": "markdown",
   "metadata": {},
   "source": [
    "### Столбец 'is_apartment'"
   ]
  },
  {
   "cell_type": "markdown",
   "metadata": {},
   "source": [
    "Начнем по порядку. Первое место по пропускам занимает столбец <b>'is_apartment'</b> — апартаменты (булев тип). Данный столбец указывает на тип жилого помещения. Рассмотрим какие значения, помимо пропущенных, имеет этот столбец."
   ]
  },
  {
   "cell_type": "code",
   "execution_count": 177,
   "metadata": {},
   "outputs": [
    {
     "data": {
      "text/plain": [
       "False    2725\n",
       "True       50\n",
       "Name: is_apartment, dtype: int64"
      ]
     },
     "execution_count": 177,
     "metadata": {},
     "output_type": "execute_result"
    }
   ],
   "source": [
    "real_estate_ads['is_apartment'].value_counts()"
   ]
  },
  {
   "cell_type": "markdown",
   "metadata": {},
   "source": [
    "В данном случае все становится ясно, этот столбец содержит <b>булевы значения</b>. False - квартира (не апартаменты), True - апартаменты. Очевидно, если значение пропущено, это означает, что жилое помещение, по которому создано объявление, не является апартаментами (False). \n",
    "\n",
    "<b>Для этого столбца заполним пропущенные значения 'False'</b>"
   ]
  },
  {
   "cell_type": "markdown",
   "metadata": {},
   "source": [
    "#### Замена пропущенных значений"
   ]
  },
  {
   "cell_type": "code",
   "execution_count": 178,
   "metadata": {},
   "outputs": [
    {
     "name": "stdout",
     "output_type": "stream",
     "text": [
      "False    23649\n",
      "True        50\n",
      "Name: is_apartment, dtype: int64\n"
     ]
    }
   ],
   "source": [
    "real_estate_ads['is_apartment'] = real_estate_ads['is_apartment'].fillna(False)\n",
    "# Проведем проверку значений в столбце после замены.\n",
    "print(real_estate_ads['is_apartment'].value_counts())"
   ]
  },
  {
   "cell_type": "markdown",
   "metadata": {},
   "source": [
    "#### Вывод и причины возникновения"
   ]
  },
  {
   "cell_type": "markdown",
   "metadata": {},
   "source": [
    "Оказывается, среди всех объявлений, лишь <b>0.2%</b> жилых помещений являются апартаментами. Это достаточно мало, но все равно не стоит забывать про данный параметр.\n",
    "\n",
    "<b>Причиной</b> возникновения пропущенных значений в данном столбце может являться:\n",
    "- Продавец не указал этот параметр, потому что, как показывает практика, большинство жилых помещений не являются апартаментами, а являются квартирами, соответственно, продавец не счел нужным указывать данный параметр."
   ]
  },
  {
   "cell_type": "markdown",
   "metadata": {},
   "source": [
    "### Столбцы 'parks_nearest', 'parks_around3000', 'ponds_nearest', 'ponds_around3000', 'airports_nearest', 'cityCenters_nearest' - картографические данные"
   ]
  },
  {
   "cell_type": "markdown",
   "metadata": {},
   "source": [
    "#### Замена пропущенных значений"
   ]
  },
  {
   "cell_type": "markdown",
   "metadata": {},
   "source": [
    "Все перечисленные столбцы относятся к автоматически взятым на основе картографических данных. Заметим, что число пропущенных значений в этих столбцах практически совпадает (за исключением 'parks_nearest' и 'ponds_nearest', здесь есть еще дополнительные сложности).\n",
    "\n",
    "<b>Заменить данные пропущенные значения не является возможным, так как, если мы заменим их средним числом, то исказим реальность, и у нас получится так, что, например, квартира в двух разных населенных пунктах имеет одинаковое расстояние до Аэропорта (который в Питере всего один).</b>\n",
    "\n",
    "<b>Считаю правильным ОСТАВИТЬ данные, в которых не достает картографических сведений, ведь эти пропущенные значения имеют смысл, а также мы не можем их восстановить.</b>"
   ]
  },
  {
   "cell_type": "markdown",
   "metadata": {},
   "source": [
    "#### Вывод и причины возникновения"
   ]
  },
  {
   "cell_type": "code",
   "execution_count": 179,
   "metadata": {},
   "outputs": [
    {
     "data": {
      "text/plain": [
       "<matplotlib.axes._subplots.AxesSubplot at 0x131e2c3e108>"
      ]
     },
     "execution_count": 179,
     "metadata": {},
     "output_type": "execute_result"
    },
    {
     "data": {
      "image/png": "[encoded data removed]",
      "text/plain": [
       "<Figure size 432x288 with 1 Axes>"
      ]
     },
     "metadata": {
      "needs_background": "light"
     },
     "output_type": "display_data"
    }
   ],
   "source": [
    "real_estate_ads['parks_nearest'].plot(kind='hist', bins=30, title='Parks nearest (m)')"
   ]
  },
  {
   "cell_type": "code",
   "execution_count": 180,
   "metadata": {},
   "outputs": [
    {
     "data": {
      "text/plain": [
       "<matplotlib.axes._subplots.AxesSubplot at 0x131e2d10508>"
      ]
     },
     "execution_count": 180,
     "metadata": {},
     "output_type": "execute_result"
    },
    {
     "data": {
      "image/png": "[encoded data removed]",
      "text/plain": [
       "<Figure size 432x288 with 1 Axes>"
      ]
     },
     "metadata": {
      "needs_background": "light"
     },
     "output_type": "display_data"
    }
   ],
   "source": [
    "real_estate_ads['parks_around3000'].plot(kind='hist', bins=30, title='Parks around (count)')"
   ]
  },
  {
   "cell_type": "code",
   "execution_count": 181,
   "metadata": {},
   "outputs": [
    {
     "data": {
      "text/plain": [
       "<matplotlib.axes._subplots.AxesSubplot at 0x131e2e415c8>"
      ]
     },
     "execution_count": 181,
     "metadata": {},
     "output_type": "execute_result"
    },
    {
     "data": {
      "image/png": "[encoded data removed]",
      "text/plain": [
       "<Figure size 432x288 with 1 Axes>"
      ]
     },
     "metadata": {
      "needs_background": "light"
     },
     "output_type": "display_data"
    }
   ],
   "source": [
    "real_estate_ads['ponds_nearest'].plot(kind='hist', bins=30, title='Ponds nearest (m)')"
   ]
  },
  {
   "cell_type": "code",
   "execution_count": 182,
   "metadata": {},
   "outputs": [
    {
     "data": {
      "text/plain": [
       "<matplotlib.axes._subplots.AxesSubplot at 0x131e4e9ec48>"
      ]
     },
     "execution_count": 182,
     "metadata": {},
     "output_type": "execute_result"
    },
    {
     "data": {
      "image/png": "[encoded data removed]",
      "text/plain": [
       "<Figure size 432x288 with 1 Axes>"
      ]
     },
     "metadata": {
      "needs_background": "light"
     },
     "output_type": "display_data"
    }
   ],
   "source": [
    "real_estate_ads['ponds_around3000'].plot(kind='hist', bins=30, title='Ponds around (count)')"
   ]
  },
  {
   "cell_type": "markdown",
   "metadata": {},
   "source": [
    "<b>Причиной отсутствия этих картографических данных может заключаться в том, что поблизости этих жилых помещений вообще нет парков или водоёмов. Либо эти данные были утеряны.</b>"
   ]
  },
  {
   "cell_type": "markdown",
   "metadata": {},
   "source": [
    "Посмотрим, какие еще пропущенные значения остались в наших данных:"
   ]
  },
  {
   "cell_type": "code",
   "execution_count": 183,
   "metadata": {},
   "outputs": [
    {
     "name": "stdout",
     "output_type": "stream",
     "text": [
      "parks_nearest          15620\n",
      "ponds_nearest          14589\n",
      "balcony                11519\n",
      "ceiling_height          9195\n",
      "airports_nearest        5542\n",
      "cityCenters_nearest     5519\n",
      "parks_around3000        5518\n",
      "ponds_around3000        5518\n",
      "days_exposition         3181\n",
      "kitchen_area            2278\n",
      "living_area             1903\n",
      "floors_total              86\n",
      "locality_name             49\n",
      "dtype: int64\n"
     ]
    }
   ],
   "source": [
    "miss_cols = pd.Series(dtype='float64')\n",
    "for col in real_estate_ads:\n",
    "    if real_estate_ads[col].isnull().any() == True:\n",
    "        miss_cols[col] = real_estate_ads[col].isna().sum()\n",
    "print(miss_cols.sort_values(ascending=False))"
   ]
  },
  {
   "cell_type": "markdown",
   "metadata": {},
   "source": [
    "### Столбец 'balcony'"
   ]
  },
  {
   "cell_type": "markdown",
   "metadata": {},
   "source": [
    "<b>'balcony' — число балконов</b>. Очевидно, что если значение этого параметра пропущено, это означает, что балконов в квартире <b>0</b>.\n",
    "\n",
    "<b>Пропущенных значений в данном столбце около половины, это странно, если только большинство квартир не находятся на нижних этажах (1-3 этажи).</b>\n",
    "\n",
    "<b>Как правило, в стандартных жилых домах, все квартиры, находящиеся на 3 этаже и выше, имеют хотя бы 1 балкон. <b>По информации из источника (https://agent112.ru/stati/kvartira-bez-balkona-stoit-li-pokupat.html) около 15-20% жилых помещений не имеют балконов. Проверим, сколько таких жилых помещений, которые находятся выше 2 этажа и число их балконов равно 0.</b>"
   ]
  },
  {
   "cell_type": "code",
   "execution_count": 184,
   "metadata": {},
   "outputs": [
    {
     "data": {
      "text/html": [
       "<div>\n",
       "<style scoped>\n",
       "    .dataframe tbody tr th:only-of-type {\n",
       "        vertical-align: middle;\n",
       "    }\n",
       "\n",
       "    .dataframe tbody tr th {\n",
       "        vertical-align: top;\n",
       "    }\n",
       "\n",
       "    .dataframe thead th {\n",
       "        text-align: right;\n",
       "    }\n",
       "</style>\n",
       "<table border=\"1\" class=\"dataframe\">\n",
       "  <thead>\n",
       "    <tr style=\"text-align: right;\">\n",
       "      <th></th>\n",
       "      <th>total_images</th>\n",
       "      <th>last_price</th>\n",
       "      <th>total_area</th>\n",
       "      <th>first_day_exposition</th>\n",
       "      <th>rooms</th>\n",
       "      <th>ceiling_height</th>\n",
       "      <th>floors_total</th>\n",
       "      <th>living_area</th>\n",
       "      <th>floor</th>\n",
       "      <th>is_apartment</th>\n",
       "      <th>...</th>\n",
       "      <th>kitchen_area</th>\n",
       "      <th>balcony</th>\n",
       "      <th>locality_name</th>\n",
       "      <th>airports_nearest</th>\n",
       "      <th>cityCenters_nearest</th>\n",
       "      <th>parks_around3000</th>\n",
       "      <th>parks_nearest</th>\n",
       "      <th>ponds_around3000</th>\n",
       "      <th>ponds_nearest</th>\n",
       "      <th>days_exposition</th>\n",
       "    </tr>\n",
       "  </thead>\n",
       "  <tbody>\n",
       "    <tr>\n",
       "      <th>2</th>\n",
       "      <td>10</td>\n",
       "      <td>5196000.0</td>\n",
       "      <td>56.0</td>\n",
       "      <td>2015-08-20T00:00:00</td>\n",
       "      <td>2</td>\n",
       "      <td>NaN</td>\n",
       "      <td>5.0</td>\n",
       "      <td>34.3</td>\n",
       "      <td>4</td>\n",
       "      <td>False</td>\n",
       "      <td>...</td>\n",
       "      <td>8.3</td>\n",
       "      <td>0.0</td>\n",
       "      <td>Санкт-Петербург</td>\n",
       "      <td>21741.0</td>\n",
       "      <td>13933.0</td>\n",
       "      <td>1.0</td>\n",
       "      <td>90.0</td>\n",
       "      <td>2.0</td>\n",
       "      <td>574.0</td>\n",
       "      <td>558.0</td>\n",
       "    </tr>\n",
       "    <tr>\n",
       "      <th>3</th>\n",
       "      <td>0</td>\n",
       "      <td>64900000.0</td>\n",
       "      <td>159.0</td>\n",
       "      <td>2015-07-24T00:00:00</td>\n",
       "      <td>3</td>\n",
       "      <td>NaN</td>\n",
       "      <td>14.0</td>\n",
       "      <td>NaN</td>\n",
       "      <td>9</td>\n",
       "      <td>False</td>\n",
       "      <td>...</td>\n",
       "      <td>NaN</td>\n",
       "      <td>0.0</td>\n",
       "      <td>Санкт-Петербург</td>\n",
       "      <td>28098.0</td>\n",
       "      <td>6800.0</td>\n",
       "      <td>2.0</td>\n",
       "      <td>84.0</td>\n",
       "      <td>3.0</td>\n",
       "      <td>234.0</td>\n",
       "      <td>424.0</td>\n",
       "    </tr>\n",
       "    <tr>\n",
       "      <th>12</th>\n",
       "      <td>10</td>\n",
       "      <td>3890000.0</td>\n",
       "      <td>54.0</td>\n",
       "      <td>2016-06-30T00:00:00</td>\n",
       "      <td>2</td>\n",
       "      <td>NaN</td>\n",
       "      <td>5.0</td>\n",
       "      <td>30.0</td>\n",
       "      <td>5</td>\n",
       "      <td>False</td>\n",
       "      <td>...</td>\n",
       "      <td>9.0</td>\n",
       "      <td>0.0</td>\n",
       "      <td>Сертолово</td>\n",
       "      <td>NaN</td>\n",
       "      <td>NaN</td>\n",
       "      <td>NaN</td>\n",
       "      <td>NaN</td>\n",
       "      <td>NaN</td>\n",
       "      <td>NaN</td>\n",
       "      <td>90.0</td>\n",
       "    </tr>\n",
       "    <tr>\n",
       "      <th>27</th>\n",
       "      <td>20</td>\n",
       "      <td>7100000.0</td>\n",
       "      <td>70.0</td>\n",
       "      <td>2017-05-12T00:00:00</td>\n",
       "      <td>3</td>\n",
       "      <td>2.60</td>\n",
       "      <td>17.0</td>\n",
       "      <td>49.0</td>\n",
       "      <td>11</td>\n",
       "      <td>False</td>\n",
       "      <td>...</td>\n",
       "      <td>9.2</td>\n",
       "      <td>0.0</td>\n",
       "      <td>Санкт-Петербург</td>\n",
       "      <td>29197.0</td>\n",
       "      <td>11456.0</td>\n",
       "      <td>2.0</td>\n",
       "      <td>452.0</td>\n",
       "      <td>1.0</td>\n",
       "      <td>779.0</td>\n",
       "      <td>151.0</td>\n",
       "    </tr>\n",
       "    <tr>\n",
       "      <th>29</th>\n",
       "      <td>9</td>\n",
       "      <td>8600000.0</td>\n",
       "      <td>100.0</td>\n",
       "      <td>2016-04-09T00:00:00</td>\n",
       "      <td>3</td>\n",
       "      <td>NaN</td>\n",
       "      <td>19.0</td>\n",
       "      <td>52.0</td>\n",
       "      <td>15</td>\n",
       "      <td>False</td>\n",
       "      <td>...</td>\n",
       "      <td>11.0</td>\n",
       "      <td>0.0</td>\n",
       "      <td>Санкт-Петербург</td>\n",
       "      <td>30394.0</td>\n",
       "      <td>11526.0</td>\n",
       "      <td>1.0</td>\n",
       "      <td>532.0</td>\n",
       "      <td>1.0</td>\n",
       "      <td>896.0</td>\n",
       "      <td>125.0</td>\n",
       "    </tr>\n",
       "    <tr>\n",
       "      <th>...</th>\n",
       "      <td>...</td>\n",
       "      <td>...</td>\n",
       "      <td>...</td>\n",
       "      <td>...</td>\n",
       "      <td>...</td>\n",
       "      <td>...</td>\n",
       "      <td>...</td>\n",
       "      <td>...</td>\n",
       "      <td>...</td>\n",
       "      <td>...</td>\n",
       "      <td>...</td>\n",
       "      <td>...</td>\n",
       "      <td>...</td>\n",
       "      <td>...</td>\n",
       "      <td>...</td>\n",
       "      <td>...</td>\n",
       "      <td>...</td>\n",
       "      <td>...</td>\n",
       "      <td>...</td>\n",
       "      <td>...</td>\n",
       "      <td>...</td>\n",
       "    </tr>\n",
       "    <tr>\n",
       "      <th>23657</th>\n",
       "      <td>2</td>\n",
       "      <td>5990000.0</td>\n",
       "      <td>64.0</td>\n",
       "      <td>2017-04-21T00:00:00</td>\n",
       "      <td>2</td>\n",
       "      <td>NaN</td>\n",
       "      <td>19.0</td>\n",
       "      <td>31.0</td>\n",
       "      <td>16</td>\n",
       "      <td>False</td>\n",
       "      <td>...</td>\n",
       "      <td>11.0</td>\n",
       "      <td>0.0</td>\n",
       "      <td>Санкт-Петербург</td>\n",
       "      <td>37636.0</td>\n",
       "      <td>14479.0</td>\n",
       "      <td>0.0</td>\n",
       "      <td>NaN</td>\n",
       "      <td>1.0</td>\n",
       "      <td>1127.0</td>\n",
       "      <td>40.0</td>\n",
       "    </tr>\n",
       "    <tr>\n",
       "      <th>23666</th>\n",
       "      <td>9</td>\n",
       "      <td>8150000.0</td>\n",
       "      <td>80.0</td>\n",
       "      <td>2016-04-17T00:00:00</td>\n",
       "      <td>3</td>\n",
       "      <td>NaN</td>\n",
       "      <td>17.0</td>\n",
       "      <td>44.9</td>\n",
       "      <td>12</td>\n",
       "      <td>False</td>\n",
       "      <td>...</td>\n",
       "      <td>11.4</td>\n",
       "      <td>0.0</td>\n",
       "      <td>деревня Кудрово</td>\n",
       "      <td>NaN</td>\n",
       "      <td>NaN</td>\n",
       "      <td>NaN</td>\n",
       "      <td>NaN</td>\n",
       "      <td>NaN</td>\n",
       "      <td>NaN</td>\n",
       "      <td>286.0</td>\n",
       "    </tr>\n",
       "    <tr>\n",
       "      <th>23676</th>\n",
       "      <td>19</td>\n",
       "      <td>3550000.0</td>\n",
       "      <td>36.4</td>\n",
       "      <td>2016-06-08T00:00:00</td>\n",
       "      <td>1</td>\n",
       "      <td>NaN</td>\n",
       "      <td>16.0</td>\n",
       "      <td>14.9</td>\n",
       "      <td>13</td>\n",
       "      <td>False</td>\n",
       "      <td>...</td>\n",
       "      <td>9.3</td>\n",
       "      <td>0.0</td>\n",
       "      <td>Санкт-Петербург</td>\n",
       "      <td>32228.0</td>\n",
       "      <td>11884.0</td>\n",
       "      <td>1.0</td>\n",
       "      <td>701.0</td>\n",
       "      <td>0.0</td>\n",
       "      <td>NaN</td>\n",
       "      <td>70.0</td>\n",
       "    </tr>\n",
       "    <tr>\n",
       "      <th>23686</th>\n",
       "      <td>8</td>\n",
       "      <td>3300000.0</td>\n",
       "      <td>31.0</td>\n",
       "      <td>2017-04-29T00:00:00</td>\n",
       "      <td>1</td>\n",
       "      <td>2.55</td>\n",
       "      <td>9.0</td>\n",
       "      <td>18.0</td>\n",
       "      <td>6</td>\n",
       "      <td>False</td>\n",
       "      <td>...</td>\n",
       "      <td>6.5</td>\n",
       "      <td>0.0</td>\n",
       "      <td>Санкт-Петербург</td>\n",
       "      <td>11751.0</td>\n",
       "      <td>11602.0</td>\n",
       "      <td>1.0</td>\n",
       "      <td>140.0</td>\n",
       "      <td>1.0</td>\n",
       "      <td>317.0</td>\n",
       "      <td>193.0</td>\n",
       "    </tr>\n",
       "    <tr>\n",
       "      <th>23693</th>\n",
       "      <td>9</td>\n",
       "      <td>4600000.0</td>\n",
       "      <td>62.4</td>\n",
       "      <td>2016-08-05T00:00:00</td>\n",
       "      <td>3</td>\n",
       "      <td>2.60</td>\n",
       "      <td>9.0</td>\n",
       "      <td>40.0</td>\n",
       "      <td>8</td>\n",
       "      <td>False</td>\n",
       "      <td>...</td>\n",
       "      <td>8.0</td>\n",
       "      <td>0.0</td>\n",
       "      <td>Петергоф</td>\n",
       "      <td>45602.0</td>\n",
       "      <td>34104.0</td>\n",
       "      <td>1.0</td>\n",
       "      <td>352.0</td>\n",
       "      <td>1.0</td>\n",
       "      <td>675.0</td>\n",
       "      <td>239.0</td>\n",
       "    </tr>\n",
       "  </tbody>\n",
       "</table>\n",
       "<p>2557 rows × 22 columns</p>\n",
       "</div>"
      ],
      "text/plain": [
       "       total_images  last_price  total_area first_day_exposition  rooms  \\\n",
       "2                10   5196000.0        56.0  2015-08-20T00:00:00      2   \n",
       "3                 0  64900000.0       159.0  2015-07-24T00:00:00      3   \n",
       "12               10   3890000.0        54.0  2016-06-30T00:00:00      2   \n",
       "27               20   7100000.0        70.0  2017-05-12T00:00:00      3   \n",
       "29                9   8600000.0       100.0  2016-04-09T00:00:00      3   \n",
       "...             ...         ...         ...                  ...    ...   \n",
       "23657             2   5990000.0        64.0  2017-04-21T00:00:00      2   \n",
       "23666             9   8150000.0        80.0  2016-04-17T00:00:00      3   \n",
       "23676            19   3550000.0        36.4  2016-06-08T00:00:00      1   \n",
       "23686             8   3300000.0        31.0  2017-04-29T00:00:00      1   \n",
       "23693             9   4600000.0        62.4  2016-08-05T00:00:00      3   \n",
       "\n",
       "       ceiling_height  floors_total  living_area  floor  is_apartment  ...  \\\n",
       "2                 NaN           5.0         34.3      4         False  ...   \n",
       "3                 NaN          14.0          NaN      9         False  ...   \n",
       "12                NaN           5.0         30.0      5         False  ...   \n",
       "27               2.60          17.0         49.0     11         False  ...   \n",
       "29                NaN          19.0         52.0     15         False  ...   \n",
       "...               ...           ...          ...    ...           ...  ...   \n",
       "23657             NaN          19.0         31.0     16         False  ...   \n",
       "23666             NaN          17.0         44.9     12         False  ...   \n",
       "23676             NaN          16.0         14.9     13         False  ...   \n",
       "23686            2.55           9.0         18.0      6         False  ...   \n",
       "23693            2.60           9.0         40.0      8         False  ...   \n",
       "\n",
       "       kitchen_area  balcony    locality_name  airports_nearest  \\\n",
       "2               8.3      0.0  Санкт-Петербург           21741.0   \n",
       "3               NaN      0.0  Санкт-Петербург           28098.0   \n",
       "12              9.0      0.0        Сертолово               NaN   \n",
       "27              9.2      0.0  Санкт-Петербург           29197.0   \n",
       "29             11.0      0.0  Санкт-Петербург           30394.0   \n",
       "...             ...      ...              ...               ...   \n",
       "23657          11.0      0.0  Санкт-Петербург           37636.0   \n",
       "23666          11.4      0.0  деревня Кудрово               NaN   \n",
       "23676           9.3      0.0  Санкт-Петербург           32228.0   \n",
       "23686           6.5      0.0  Санкт-Петербург           11751.0   \n",
       "23693           8.0      0.0         Петергоф           45602.0   \n",
       "\n",
       "      cityCenters_nearest  parks_around3000  parks_nearest  ponds_around3000  \\\n",
       "2                 13933.0               1.0           90.0               2.0   \n",
       "3                  6800.0               2.0           84.0               3.0   \n",
       "12                    NaN               NaN            NaN               NaN   \n",
       "27                11456.0               2.0          452.0               1.0   \n",
       "29                11526.0               1.0          532.0               1.0   \n",
       "...                   ...               ...            ...               ...   \n",
       "23657             14479.0               0.0            NaN               1.0   \n",
       "23666                 NaN               NaN            NaN               NaN   \n",
       "23676             11884.0               1.0          701.0               0.0   \n",
       "23686             11602.0               1.0          140.0               1.0   \n",
       "23693             34104.0               1.0          352.0               1.0   \n",
       "\n",
       "       ponds_nearest  days_exposition  \n",
       "2              574.0            558.0  \n",
       "3              234.0            424.0  \n",
       "12               NaN             90.0  \n",
       "27             779.0            151.0  \n",
       "29             896.0            125.0  \n",
       "...              ...              ...  \n",
       "23657         1127.0             40.0  \n",
       "23666            NaN            286.0  \n",
       "23676            NaN             70.0  \n",
       "23686          317.0            193.0  \n",
       "23693          675.0            239.0  \n",
       "\n",
       "[2557 rows x 22 columns]"
      ]
     },
     "execution_count": 184,
     "metadata": {},
     "output_type": "execute_result"
    }
   ],
   "source": [
    "r = real_estate_ads.query('balcony == 0')\n",
    "r[r['floor'] >= 3]"
   ]
  },
  {
   "cell_type": "markdown",
   "metadata": {},
   "source": [
    "2557 объявлений, вполне укладывается в 15% от общего количества объявлений, оставим эти значения без изменений."
   ]
  },
  {
   "cell_type": "markdown",
   "metadata": {},
   "source": [
    "#### Замена пропущенных значений"
   ]
  },
  {
   "cell_type": "markdown",
   "metadata": {},
   "source": [
    "Пропущенных значений в данном столбце - <b>11519</b>\n",
    "\n",
    "Если все их заменить на 0, то получится, что практически у половины квартир балконов нет. Это не соответствует реальности. <b>Поэтому для пропущенных значений воспользуемся следующей логикой:</b>\n",
    "\n",
    "- Если квартира находится на 3 этаже и выше, заменим ее пропущенное значение в параметре 'balcony' на значение 1.\n",
    "- Если квартира находится на 1 или 2 этаже, заменим ее пропущенное значение в параметре 'balcony' на значение 0."
   ]
  },
  {
   "cell_type": "code",
   "execution_count": 185,
   "metadata": {},
   "outputs": [
    {
     "name": "stdout",
     "output_type": "stream",
     "text": [
      "Кол-во пропущенных значений в столбце balcony: 0\n"
     ]
    }
   ],
   "source": [
    "real_estate_ads.loc[(real_estate_ads['floor'] >= 3) & (real_estate_ads['balcony'].isnull()), 'balcony'] = 1\n",
    "real_estate_ads.loc[(real_estate_ads['floor'] < 3) & (real_estate_ads['balcony'].isnull()), 'balcony'] = 0\n",
    "\n",
    "#Проверим наличие пропущенных значений после замены\n",
    "print('Кол-во пропущенных значений в столбце {}: {}'.format(\n",
    "    'balcony', real_estate_ads['balcony'].isnull().sum())\n",
    "     )"
   ]
  },
  {
   "cell_type": "markdown",
   "metadata": {},
   "source": [
    "#### Вывод и причины возникновения"
   ]
  },
  {
   "cell_type": "code",
   "execution_count": 186,
   "metadata": {},
   "outputs": [
    {
     "data": {
      "text/plain": [
       "<matplotlib.axes._subplots.AxesSubplot at 0x131e4f454c8>"
      ]
     },
     "execution_count": 186,
     "metadata": {},
     "output_type": "execute_result"
    },
    {
     "data": {
      "image/png": "[encoded data removed]",
      "text/plain": [
       "<Figure size 432x288 with 1 Axes>"
      ]
     },
     "metadata": {
      "needs_background": "light"
     },
     "output_type": "display_data"
    }
   ],
   "source": [
    "real_estate_ads['balcony'].plot(kind='hist', title='Количество балконов', grid=True)"
   ]
  },
  {
   "cell_type": "markdown",
   "metadata": {},
   "source": [
    "Судя по гистограмме, можно сделать вывод, что большинство жилых помещений имеют хотя бы 1 балкон, что вполне соответствует реальности.\n",
    "\n",
    "Немалая доля жилых помещений не имеет балконов вовсе, возможно это квартиры, расположенные на 1 или 2 этаже, или же это частные дома, где нет балконов, или же это 1-этажные или 2-х этажные дома."
   ]
  },
  {
   "cell_type": "markdown",
   "metadata": {},
   "source": [
    "<b>Причины возникновения пропущенных значений в данном столбце:</b>\n",
    "    \n",
    "- Отутствие балконов в квартире, в следствие чего продавец не указывает количество балконов, отсюда и берутся пропущенные значения\n",
    "- Данные могли быть утеряны при транспортировке или обработке."
   ]
  },
  {
   "cell_type": "markdown",
   "metadata": {},
   "source": [
    "### Столбец 'ceiling_height'"
   ]
  },
  {
   "cell_type": "markdown",
   "metadata": {},
   "source": [
    "<b>'ceiling_height' — высота потолков (м)</b> - пропущенных значений 9195\n",
    "\n",
    "Данные из этого столбца наверняка были утеряны, либо же продавец поленился заполнять этот параметр. Заменить пропущенные значения нулями мы не можем, ведь это высота потолков, а она есть всегда. Придется заменять пропущенные значения средними. Рассмотрим столбец 'ceiling_height' подробнее."
   ]
  },
  {
   "cell_type": "code",
   "execution_count": 187,
   "metadata": {},
   "outputs": [
    {
     "data": {
      "text/html": [
       "<div>\n",
       "<style scoped>\n",
       "    .dataframe tbody tr th:only-of-type {\n",
       "        vertical-align: middle;\n",
       "    }\n",
       "\n",
       "    .dataframe tbody tr th {\n",
       "        vertical-align: top;\n",
       "    }\n",
       "\n",
       "    .dataframe thead th {\n",
       "        text-align: right;\n",
       "    }\n",
       "</style>\n",
       "<table border=\"1\" class=\"dataframe\">\n",
       "  <thead>\n",
       "    <tr style=\"text-align: right;\">\n",
       "      <th></th>\n",
       "      <th>last_price</th>\n",
       "    </tr>\n",
       "    <tr>\n",
       "      <th>ceiling_height</th>\n",
       "      <th></th>\n",
       "    </tr>\n",
       "  </thead>\n",
       "  <tbody>\n",
       "    <tr>\n",
       "      <th>1.00</th>\n",
       "      <td>1</td>\n",
       "    </tr>\n",
       "    <tr>\n",
       "      <th>1.20</th>\n",
       "      <td>1</td>\n",
       "    </tr>\n",
       "    <tr>\n",
       "      <th>1.75</th>\n",
       "      <td>1</td>\n",
       "    </tr>\n",
       "    <tr>\n",
       "      <th>2.00</th>\n",
       "      <td>11</td>\n",
       "    </tr>\n",
       "    <tr>\n",
       "      <th>2.20</th>\n",
       "      <td>1</td>\n",
       "    </tr>\n",
       "    <tr>\n",
       "      <th>...</th>\n",
       "      <td>...</td>\n",
       "    </tr>\n",
       "    <tr>\n",
       "      <th>26.00</th>\n",
       "      <td>1</td>\n",
       "    </tr>\n",
       "    <tr>\n",
       "      <th>27.00</th>\n",
       "      <td>8</td>\n",
       "    </tr>\n",
       "    <tr>\n",
       "      <th>27.50</th>\n",
       "      <td>1</td>\n",
       "    </tr>\n",
       "    <tr>\n",
       "      <th>32.00</th>\n",
       "      <td>2</td>\n",
       "    </tr>\n",
       "    <tr>\n",
       "      <th>100.00</th>\n",
       "      <td>1</td>\n",
       "    </tr>\n",
       "  </tbody>\n",
       "</table>\n",
       "<p>183 rows × 1 columns</p>\n",
       "</div>"
      ],
      "text/plain": [
       "                last_price\n",
       "ceiling_height            \n",
       "1.00                     1\n",
       "1.20                     1\n",
       "1.75                     1\n",
       "2.00                    11\n",
       "2.20                     1\n",
       "...                    ...\n",
       "26.00                    1\n",
       "27.00                    8\n",
       "27.50                    1\n",
       "32.00                    2\n",
       "100.00                   1\n",
       "\n",
       "[183 rows x 1 columns]"
      ]
     },
     "execution_count": 187,
     "metadata": {},
     "output_type": "execute_result"
    }
   ],
   "source": [
    "real_estate_ads.pivot_table(index='ceiling_height', values='last_price', aggfunc='count')"
   ]
  },
  {
   "cell_type": "code",
   "execution_count": 188,
   "metadata": {},
   "outputs": [
    {
     "data": {
      "text/plain": [
       "<matplotlib.axes._subplots.AxesSubplot at 0x131e4feec48>"
      ]
     },
     "execution_count": 188,
     "metadata": {},
     "output_type": "execute_result"
    },
    {
     "data": {
      "image/png": "[encoded data removed]",
      "text/plain": [
       "<Figure size 432x288 with 1 Axes>"
      ]
     },
     "metadata": {
      "needs_background": "light"
     },
     "output_type": "display_data"
    }
   ],
   "source": [
    "real_estate_ads['ceiling_height'].plot(kind='hist', bins=100, title='Высота потолков', grid=True)"
   ]
  },
  {
   "cell_type": "markdown",
   "metadata": {},
   "source": [
    "Обратим внимание на сводную таблицу и гистограмму для столбца <b>'ceiling_height'</b>. Большинство значений находятся в нормальной зоне, но есть также и выбросы, такие как 100 метров, или 26 метров, или 1 метр (что тоже недопустимо для жилых помещений)."
   ]
  },
  {
   "cell_type": "markdown",
   "metadata": {},
   "source": [
    "#### Замена пропущенных значений"
   ]
  },
  {
   "cell_type": "markdown",
   "metadata": {},
   "source": [
    "Высота потолков в жилых помещениях регулируется регламентом.\n",
    "Основываясь на источнике (http://www.remotvet.ru/questions/20610-kakaja-minimalnaja-vysota-potolka-po-normam.html) - <b>Независимо от года постройки для жилых зданий высота от пола до потолка должна быть в пределах 2,5-3,2 метров.</b>\n",
    "Возьмем этот предел с запасом в 3.5 м, так как в некоторых \"Сталинках\" высота потолка могла доходить до 3.5 м.\n",
    "\n",
    "Основываясь на этой логике, заполним пропущенные значения и избавимся от выбросов в данном столбце. Заполним средним значением высоты потолков - 2,85 м. ((2.5 + 3.2) / 2 = 2.85 м) "
   ]
  },
  {
   "cell_type": "code",
   "execution_count": 189,
   "metadata": {},
   "outputs": [
    {
     "name": "stdout",
     "output_type": "stream",
     "text": [
      "Кол-во пропущенных значений в столбце ceiling_height: 0\n"
     ]
    }
   ],
   "source": [
    "real_estate_ads.loc[(real_estate_ads['ceiling_height'] < 2.5) | (real_estate_ads['ceiling_height'] > 3.5), 'ceiling_height'] = 2.85\n",
    "real_estate_ads['ceiling_height'].fillna(2.85, inplace=True)\n",
    "\n",
    "#Проверим наличие пропущенных значений после замены\n",
    "print('Кол-во пропущенных значений в столбце {}: {}'.format(\n",
    "    'ceiling_height', real_estate_ads['ceiling_height'].isnull().sum())\n",
    "     )"
   ]
  },
  {
   "cell_type": "markdown",
   "metadata": {},
   "source": [
    "#### Вывод и причины возникновения"
   ]
  },
  {
   "cell_type": "code",
   "execution_count": 190,
   "metadata": {},
   "outputs": [
    {
     "data": {
      "text/plain": [
       "<matplotlib.axes._subplots.AxesSubplot at 0x131e2b03208>"
      ]
     },
     "execution_count": 190,
     "metadata": {},
     "output_type": "execute_result"
    },
    {
     "data": {
      "image/png": "[encoded data removed]",
      "text/plain": [
       "<Figure size 432x288 with 1 Axes>"
      ]
     },
     "metadata": {
      "needs_background": "light"
     },
     "output_type": "display_data"
    }
   ],
   "source": [
    "real_estate_ads['ceiling_height'].plot(kind='hist', title='Высотка потолков после замены пропущенных значений', grid=True)"
   ]
  },
  {
   "cell_type": "markdown",
   "metadata": {},
   "source": [
    "Да, большое количество пропущенных значений, замененное на значение 2.85, очень повлияли на конечную гистограмму. Но, все равно, теперь данные для этого параметра выглядят нормально и логично.\n",
    "\n",
    "Можно сделать вывод, что в большинстве объявлений квартиры обладают потолком в пределах 2.5 - 2.9 м. Это говорит о том, что это все стандартные жилые дома, такие, какими мы привыкли их видеть, мало элитных домов с потолками высотой больше 3 м.\n",
    "\n",
    "<b>Причины возникновения пропущенных значений:</b>\n",
    "\n",
    "- Данные были утеряны при обработке или транспортировке\n",
    "- Продавец решил не измерять высоту потолков и не указывать этот параметр, так как, вполне вероятно, что большинству людей это не важно, ведь мы привыкли, что чаще всего в квартирах стандартные потолки около 2.5 - 2.9 м."
   ]
  },
  {
   "cell_type": "markdown",
   "metadata": {},
   "source": [
    "### Столбец 'airports_nearest'"
   ]
  },
  {
   "cell_type": "markdown",
   "metadata": {},
   "source": [
    "#### Замена пропущенных значений"
   ]
  },
  {
   "cell_type": "markdown",
   "metadata": {},
   "source": [
    "<b>'airports_nearest' — расстояние до ближайшего аэропорта в метрах (м)</b> - пропущенных значений 5542\n",
    "\n",
    "Эти данные являются картографическими и они были пропущены, <b>считаю правильным ОСТАВИТЬ эти пропущенные значения, ведь они означают, что аэропорт от квартиры находится слишком далеко</b>"
   ]
  },
  {
   "cell_type": "markdown",
   "metadata": {},
   "source": [
    "#### Вывод и причины возникновения"
   ]
  },
  {
   "cell_type": "code",
   "execution_count": 191,
   "metadata": {},
   "outputs": [
    {
     "data": {
      "text/plain": [
       "<matplotlib.axes._subplots.AxesSubplot at 0x131e2908648>"
      ]
     },
     "execution_count": 191,
     "metadata": {},
     "output_type": "execute_result"
    },
    {
     "data": {
      "image/png": "[encoded data removed]",
      "text/plain": [
       "<Figure size 432x288 with 1 Axes>"
      ]
     },
     "metadata": {
      "needs_background": "light"
     },
     "output_type": "display_data"
    }
   ],
   "source": [
    "real_estate_ads['airports_nearest'].plot(kind='hist', bins=30, title='Расстояние до аэропорта', grid=True)"
   ]
  },
  {
   "cell_type": "markdown",
   "metadata": {},
   "source": [
    "Мы видим более менее \"нормальное распределение\". Это не может не радовать.\n",
    "\n",
    "Основываясь на гистрограмме, можно сделать вывод, что большинство жилых помещений находятся от аэропорта на расстоянии около 15000-40000 м. Это достаточно недалеко.\n",
    "\n",
    "<b>Причиной возникновения пропущенных значений для данного параметра наиболее вероятно является утеря данных при их обработке или транспортировке</b>"
   ]
  },
  {
   "cell_type": "markdown",
   "metadata": {},
   "source": [
    "Взглянем еще раз, какие пропущенные значения остались в наших данных:"
   ]
  },
  {
   "cell_type": "code",
   "execution_count": 192,
   "metadata": {},
   "outputs": [
    {
     "name": "stdout",
     "output_type": "stream",
     "text": [
      "parks_nearest          15620\n",
      "ponds_nearest          14589\n",
      "airports_nearest        5542\n",
      "cityCenters_nearest     5519\n",
      "parks_around3000        5518\n",
      "ponds_around3000        5518\n",
      "days_exposition         3181\n",
      "kitchen_area            2278\n",
      "living_area             1903\n",
      "floors_total              86\n",
      "locality_name             49\n",
      "dtype: int64\n"
     ]
    }
   ],
   "source": [
    "miss_cols = pd.Series(dtype='float64')\n",
    "for col in real_estate_ads:\n",
    "    if real_estate_ads[col].isnull().any() == True:\n",
    "        miss_cols[col] = real_estate_ads[col].isna().sum()\n",
    "print(miss_cols.sort_values(ascending=False))"
   ]
  },
  {
   "cell_type": "markdown",
   "metadata": {},
   "source": [
    "### Столбец 'days_exposition'"
   ]
  },
  {
   "cell_type": "markdown",
   "metadata": {},
   "source": [
    "#### Замена пропущенных значений"
   ]
  },
  {
   "cell_type": "markdown",
   "metadata": {},
   "source": [
    "<b>'days_exposition'</b> — сколько дней было размещено объявление (от публикации до снятия) - пропущенных значений 3181\n",
    "\n",
    "<b>Вполне приемлимо будет оставить пропущенные значения, ведь они могут означать, что объявление все еще не снято</b>."
   ]
  },
  {
   "cell_type": "markdown",
   "metadata": {},
   "source": [
    "#### Вывод и причины возникновения"
   ]
  },
  {
   "cell_type": "code",
   "execution_count": 193,
   "metadata": {},
   "outputs": [
    {
     "data": {
      "text/plain": [
       "<matplotlib.axes._subplots.AxesSubplot at 0x131e2891d88>"
      ]
     },
     "execution_count": 193,
     "metadata": {},
     "output_type": "execute_result"
    },
    {
     "data": {
      "image/png": "[encoded data removed]",
      "text/plain": [
       "<Figure size 432x288 with 1 Axes>"
      ]
     },
     "metadata": {
      "needs_background": "light"
     },
     "output_type": "display_data"
    }
   ],
   "source": [
    "real_estate_ads['days_exposition'].plot(kind='hist', bins=300, title='Количество дней от размещения объявления до продажи')"
   ]
  },
  {
   "cell_type": "markdown",
   "metadata": {},
   "source": [
    "Основываясь на диаграмме, можно сделать вывод, что большинство квартир продаются достаточно быстро - до 200 дней в среднем.\n",
    "\n",
    "<b>Причины возникновения пропущенных значений:</b>\n",
    "\n",
    "- Объявление до сих пор не было снято\n",
    "- Данные были утеряны."
   ]
  },
  {
   "cell_type": "markdown",
   "metadata": {},
   "source": [
    "### Столбец 'locality_name'"
   ]
  },
  {
   "cell_type": "markdown",
   "metadata": {},
   "source": [
    "#### Замена пропущенных значений"
   ]
  },
  {
   "cell_type": "markdown",
   "metadata": {},
   "source": [
    "Как мы видим, в столбце 'locality_name' у нас есть 49 пропущенное значение, от них надо избавиться, <b>считаю самым действенным способом - удалить их, чтобы не присваивать им какие-либо средине значения и не искажать данные о их местоположении.</b>"
   ]
  },
  {
   "cell_type": "code",
   "execution_count": 194,
   "metadata": {},
   "outputs": [
    {
     "name": "stdout",
     "output_type": "stream",
     "text": [
      "Кол-во пропущенных значений в столбце locality_name: 0\n"
     ]
    }
   ],
   "source": [
    "ads_to_drop = real_estate_ads[real_estate_ads['locality_name'].isnull()]\n",
    "real_estate_ads.drop(ads_to_drop.index, inplace=True)\n",
    "\n",
    "\n",
    "# Проверим наличие пропущенных значений после удаления\n",
    "print('Кол-во пропущенных значений в столбце {}: {}'.format(\n",
    "    'locality_name', real_estate_ads['locality_name'].isnull().sum())\n",
    "     )"
   ]
  },
  {
   "cell_type": "markdown",
   "metadata": {},
   "source": [
    "### Обработка выбросов"
   ]
  },
  {
   "cell_type": "markdown",
   "metadata": {},
   "source": [
    "В данном пункте мы обработаем выбросы и несоответствия, такие как:\n",
    "\n",
    "- Невероятно большая цена\n",
    "- Очень большая общая площадь\n",
    "- Площадь кухни больше чем жилая площадь\n",
    "\n",
    "Рассмотрим столбцы с этими данными"
   ]
  },
  {
   "cell_type": "code",
   "execution_count": 195,
   "metadata": {},
   "outputs": [
    {
     "data": {
      "text/plain": [
       "<matplotlib.axes._subplots.AxesSubplot at 0x131e288f748>"
      ]
     },
     "execution_count": 195,
     "metadata": {},
     "output_type": "execute_result"
    },
    {
     "data": {
      "image/png": "[encoded data removed]",
      "text/plain": [
       "<Figure size 432x288 with 1 Axes>"
      ]
     },
     "metadata": {
      "needs_background": "light"
     },
     "output_type": "display_data"
    }
   ],
   "source": [
    "real_estate_ads['last_price'].plot(kind='hist', bins=100, title='Цена на квартиры', grid=True)"
   ]
  },
  {
   "cell_type": "markdown",
   "metadata": {},
   "source": [
    "Как мы видим на гистограмме, цена квартиры в наших объявлениях может доходить аж до 800 млн. Это безумно много, скорее всего, это ошибочные данные.\n",
    "\n",
    "Определим минимальный и максимальный порог для цен на квартиры. Цена на квартиру может начинаться примерно от 1 млн. (в деревнях и глубинках) и может доходить до 250 млн. (возможно это дорогие апартаменты или большие квартиры рядом с центром города).\n",
    "\n",
    "Удалим все объявление, в которых цена выходит за пределы от 1 млн. до 250 млн."
   ]
  },
  {
   "cell_type": "code",
   "execution_count": 196,
   "metadata": {},
   "outputs": [
    {
     "data": {
      "text/plain": [
       "(23419, 22)"
      ]
     },
     "execution_count": 196,
     "metadata": {},
     "output_type": "execute_result"
    }
   ],
   "source": [
    "ads_to_drop = real_estate_ads.query('last_price < 1000000 or last_price > 250000000')\n",
    "\n",
    "real_estate_ads.drop(ads_to_drop.index, inplace=True)\n",
    "\n",
    "real_estate_ads.shape"
   ]
  },
  {
   "cell_type": "code",
   "execution_count": 197,
   "metadata": {},
   "outputs": [
    {
     "data": {
      "text/plain": [
       "<matplotlib.axes._subplots.AxesSubplot at 0x131e2522848>"
      ]
     },
     "execution_count": 197,
     "metadata": {},
     "output_type": "execute_result"
    },
    {
     "data": {
      "image/png": "[encoded data removed]",
      "text/plain": [
       "<Figure size 432x288 with 1 Axes>"
      ]
     },
     "metadata": {
      "needs_background": "light"
     },
     "output_type": "display_data"
    }
   ],
   "source": [
    "real_estate_ads['last_price'].plot(kind='hist', bins=100, title='Цена на квартиры после удаления выбросов', grid=True)"
   ]
  },
  {
   "cell_type": "code",
   "execution_count": 198,
   "metadata": {},
   "outputs": [
    {
     "data": {
      "text/plain": [
       "<matplotlib.axes._subplots.AxesSubplot at 0x131e576b6c8>"
      ]
     },
     "execution_count": 198,
     "metadata": {},
     "output_type": "execute_result"
    },
    {
     "data": {
      "image/png": "[encoded data removed]",
      "text/plain": [
       "<Figure size 432x288 with 1 Axes>"
      ]
     },
     "metadata": {
      "needs_background": "light"
     },
     "output_type": "display_data"
    }
   ],
   "source": [
    "real_estate_ads['total_area'].plot(kind='hist', bins=100, title='Общая площадь квартир', grid=True)"
   ]
  },
  {
   "cell_type": "markdown",
   "metadata": {},
   "source": [
    "Как мы видим на гистограмме, общая площадь квартиры может доходить до 600 кв. м. Это достаточно много, но вполне реально, надо лишь убедиться, что это адекватные данные. Сравним стоимость этих квартир, у которых площадь больше 400 кв. м."
   ]
  },
  {
   "cell_type": "code",
   "execution_count": 199,
   "metadata": {},
   "outputs": [
    {
     "data": {
      "text/html": [
       "<div>\n",
       "<style scoped>\n",
       "    .dataframe tbody tr th:only-of-type {\n",
       "        vertical-align: middle;\n",
       "    }\n",
       "\n",
       "    .dataframe tbody tr th {\n",
       "        vertical-align: top;\n",
       "    }\n",
       "\n",
       "    .dataframe thead th {\n",
       "        text-align: right;\n",
       "    }\n",
       "</style>\n",
       "<table border=\"1\" class=\"dataframe\">\n",
       "  <thead>\n",
       "    <tr style=\"text-align: right;\">\n",
       "      <th></th>\n",
       "      <th>total_images</th>\n",
       "      <th>last_price</th>\n",
       "      <th>total_area</th>\n",
       "      <th>first_day_exposition</th>\n",
       "      <th>rooms</th>\n",
       "      <th>ceiling_height</th>\n",
       "      <th>floors_total</th>\n",
       "      <th>living_area</th>\n",
       "      <th>floor</th>\n",
       "      <th>is_apartment</th>\n",
       "      <th>...</th>\n",
       "      <th>kitchen_area</th>\n",
       "      <th>balcony</th>\n",
       "      <th>locality_name</th>\n",
       "      <th>airports_nearest</th>\n",
       "      <th>cityCenters_nearest</th>\n",
       "      <th>parks_around3000</th>\n",
       "      <th>parks_nearest</th>\n",
       "      <th>ponds_around3000</th>\n",
       "      <th>ponds_nearest</th>\n",
       "      <th>days_exposition</th>\n",
       "    </tr>\n",
       "  </thead>\n",
       "  <tbody>\n",
       "    <tr>\n",
       "      <th>660</th>\n",
       "      <td>3</td>\n",
       "      <td>49950000.0</td>\n",
       "      <td>483.90</td>\n",
       "      <td>2017-10-04T00:00:00</td>\n",
       "      <td>7</td>\n",
       "      <td>3.20</td>\n",
       "      <td>6.0</td>\n",
       "      <td>312.5</td>\n",
       "      <td>4</td>\n",
       "      <td>False</td>\n",
       "      <td>...</td>\n",
       "      <td>26.40</td>\n",
       "      <td>1.0</td>\n",
       "      <td>Санкт-Петербург</td>\n",
       "      <td>23079.0</td>\n",
       "      <td>945.0</td>\n",
       "      <td>3.0</td>\n",
       "      <td>461.0</td>\n",
       "      <td>3.0</td>\n",
       "      <td>22.0</td>\n",
       "      <td>391.0</td>\n",
       "    </tr>\n",
       "    <tr>\n",
       "      <th>3117</th>\n",
       "      <td>19</td>\n",
       "      <td>140000000.0</td>\n",
       "      <td>631.00</td>\n",
       "      <td>2019-03-30T00:00:00</td>\n",
       "      <td>7</td>\n",
       "      <td>2.85</td>\n",
       "      <td>5.0</td>\n",
       "      <td>NaN</td>\n",
       "      <td>5</td>\n",
       "      <td>False</td>\n",
       "      <td>...</td>\n",
       "      <td>60.00</td>\n",
       "      <td>1.0</td>\n",
       "      <td>Санкт-Петербург</td>\n",
       "      <td>25707.0</td>\n",
       "      <td>4972.0</td>\n",
       "      <td>0.0</td>\n",
       "      <td>NaN</td>\n",
       "      <td>2.0</td>\n",
       "      <td>210.0</td>\n",
       "      <td>NaN</td>\n",
       "    </tr>\n",
       "    <tr>\n",
       "      <th>3676</th>\n",
       "      <td>12</td>\n",
       "      <td>28789000.0</td>\n",
       "      <td>441.98</td>\n",
       "      <td>2019-01-23T00:00:00</td>\n",
       "      <td>4</td>\n",
       "      <td>2.85</td>\n",
       "      <td>6.0</td>\n",
       "      <td>NaN</td>\n",
       "      <td>6</td>\n",
       "      <td>False</td>\n",
       "      <td>...</td>\n",
       "      <td>35.05</td>\n",
       "      <td>1.0</td>\n",
       "      <td>Санкт-Петербург</td>\n",
       "      <td>20552.0</td>\n",
       "      <td>5181.0</td>\n",
       "      <td>0.0</td>\n",
       "      <td>NaN</td>\n",
       "      <td>0.0</td>\n",
       "      <td>NaN</td>\n",
       "      <td>NaN</td>\n",
       "    </tr>\n",
       "    <tr>\n",
       "      <th>4237</th>\n",
       "      <td>1</td>\n",
       "      <td>50000000.0</td>\n",
       "      <td>517.00</td>\n",
       "      <td>2017-10-14T00:00:00</td>\n",
       "      <td>7</td>\n",
       "      <td>2.85</td>\n",
       "      <td>4.0</td>\n",
       "      <td>332.0</td>\n",
       "      <td>3</td>\n",
       "      <td>False</td>\n",
       "      <td>...</td>\n",
       "      <td>22.00</td>\n",
       "      <td>1.0</td>\n",
       "      <td>Санкт-Петербург</td>\n",
       "      <td>22835.0</td>\n",
       "      <td>1847.0</td>\n",
       "      <td>2.0</td>\n",
       "      <td>477.0</td>\n",
       "      <td>2.0</td>\n",
       "      <td>540.0</td>\n",
       "      <td>NaN</td>\n",
       "    </tr>\n",
       "    <tr>\n",
       "      <th>5358</th>\n",
       "      <td>20</td>\n",
       "      <td>65000000.0</td>\n",
       "      <td>590.00</td>\n",
       "      <td>2019-02-14T00:00:00</td>\n",
       "      <td>15</td>\n",
       "      <td>3.50</td>\n",
       "      <td>6.0</td>\n",
       "      <td>409.0</td>\n",
       "      <td>3</td>\n",
       "      <td>False</td>\n",
       "      <td>...</td>\n",
       "      <td>100.00</td>\n",
       "      <td>1.0</td>\n",
       "      <td>Санкт-Петербург</td>\n",
       "      <td>24447.0</td>\n",
       "      <td>4666.0</td>\n",
       "      <td>1.0</td>\n",
       "      <td>767.0</td>\n",
       "      <td>0.0</td>\n",
       "      <td>NaN</td>\n",
       "      <td>14.0</td>\n",
       "    </tr>\n",
       "    <tr>\n",
       "      <th>5893</th>\n",
       "      <td>3</td>\n",
       "      <td>230000000.0</td>\n",
       "      <td>500.00</td>\n",
       "      <td>2017-05-31T00:00:00</td>\n",
       "      <td>6</td>\n",
       "      <td>2.85</td>\n",
       "      <td>7.0</td>\n",
       "      <td>NaN</td>\n",
       "      <td>7</td>\n",
       "      <td>False</td>\n",
       "      <td>...</td>\n",
       "      <td>40.00</td>\n",
       "      <td>0.0</td>\n",
       "      <td>Санкт-Петербург</td>\n",
       "      <td>32440.0</td>\n",
       "      <td>5297.0</td>\n",
       "      <td>0.0</td>\n",
       "      <td>NaN</td>\n",
       "      <td>2.0</td>\n",
       "      <td>198.0</td>\n",
       "      <td>50.0</td>\n",
       "    </tr>\n",
       "    <tr>\n",
       "      <th>6221</th>\n",
       "      <td>8</td>\n",
       "      <td>34000000.0</td>\n",
       "      <td>470.30</td>\n",
       "      <td>2018-01-14T00:00:00</td>\n",
       "      <td>4</td>\n",
       "      <td>2.85</td>\n",
       "      <td>3.0</td>\n",
       "      <td>248.7</td>\n",
       "      <td>3</td>\n",
       "      <td>False</td>\n",
       "      <td>...</td>\n",
       "      <td>40.00</td>\n",
       "      <td>1.0</td>\n",
       "      <td>Санкт-Петербург</td>\n",
       "      <td>43756.0</td>\n",
       "      <td>15459.0</td>\n",
       "      <td>1.0</td>\n",
       "      <td>852.0</td>\n",
       "      <td>3.0</td>\n",
       "      <td>122.0</td>\n",
       "      <td>179.0</td>\n",
       "    </tr>\n",
       "    <tr>\n",
       "      <th>6621</th>\n",
       "      <td>20</td>\n",
       "      <td>99000000.0</td>\n",
       "      <td>488.00</td>\n",
       "      <td>2017-04-09T00:00:00</td>\n",
       "      <td>5</td>\n",
       "      <td>2.95</td>\n",
       "      <td>20.0</td>\n",
       "      <td>216.0</td>\n",
       "      <td>17</td>\n",
       "      <td>False</td>\n",
       "      <td>...</td>\n",
       "      <td>50.00</td>\n",
       "      <td>1.0</td>\n",
       "      <td>Санкт-Петербург</td>\n",
       "      <td>27641.0</td>\n",
       "      <td>4598.0</td>\n",
       "      <td>1.0</td>\n",
       "      <td>646.0</td>\n",
       "      <td>1.0</td>\n",
       "      <td>368.0</td>\n",
       "      <td>351.0</td>\n",
       "    </tr>\n",
       "    <tr>\n",
       "      <th>8018</th>\n",
       "      <td>20</td>\n",
       "      <td>84000000.0</td>\n",
       "      <td>507.00</td>\n",
       "      <td>2015-12-17T00:00:00</td>\n",
       "      <td>5</td>\n",
       "      <td>2.85</td>\n",
       "      <td>7.0</td>\n",
       "      <td>301.5</td>\n",
       "      <td>7</td>\n",
       "      <td>True</td>\n",
       "      <td>...</td>\n",
       "      <td>45.50</td>\n",
       "      <td>1.0</td>\n",
       "      <td>Санкт-Петербург</td>\n",
       "      <td>NaN</td>\n",
       "      <td>5735.0</td>\n",
       "      <td>2.0</td>\n",
       "      <td>110.0</td>\n",
       "      <td>0.0</td>\n",
       "      <td>NaN</td>\n",
       "      <td>1078.0</td>\n",
       "    </tr>\n",
       "    <tr>\n",
       "      <th>9826</th>\n",
       "      <td>1</td>\n",
       "      <td>43185328.0</td>\n",
       "      <td>494.10</td>\n",
       "      <td>2017-05-12T00:00:00</td>\n",
       "      <td>1</td>\n",
       "      <td>2.85</td>\n",
       "      <td>12.0</td>\n",
       "      <td>NaN</td>\n",
       "      <td>3</td>\n",
       "      <td>False</td>\n",
       "      <td>...</td>\n",
       "      <td>NaN</td>\n",
       "      <td>0.0</td>\n",
       "      <td>Санкт-Петербург</td>\n",
       "      <td>28529.0</td>\n",
       "      <td>6832.0</td>\n",
       "      <td>1.0</td>\n",
       "      <td>592.0</td>\n",
       "      <td>0.0</td>\n",
       "      <td>NaN</td>\n",
       "      <td>5.0</td>\n",
       "    </tr>\n",
       "    <tr>\n",
       "      <th>12401</th>\n",
       "      <td>20</td>\n",
       "      <td>91500000.0</td>\n",
       "      <td>495.00</td>\n",
       "      <td>2017-06-19T00:00:00</td>\n",
       "      <td>7</td>\n",
       "      <td>2.85</td>\n",
       "      <td>7.0</td>\n",
       "      <td>347.5</td>\n",
       "      <td>7</td>\n",
       "      <td>False</td>\n",
       "      <td>...</td>\n",
       "      <td>25.00</td>\n",
       "      <td>0.0</td>\n",
       "      <td>Санкт-Петербург</td>\n",
       "      <td>NaN</td>\n",
       "      <td>5735.0</td>\n",
       "      <td>2.0</td>\n",
       "      <td>110.0</td>\n",
       "      <td>0.0</td>\n",
       "      <td>NaN</td>\n",
       "      <td>14.0</td>\n",
       "    </tr>\n",
       "    <tr>\n",
       "      <th>12859</th>\n",
       "      <td>20</td>\n",
       "      <td>140000000.0</td>\n",
       "      <td>631.20</td>\n",
       "      <td>2019-04-09T00:00:00</td>\n",
       "      <td>7</td>\n",
       "      <td>2.85</td>\n",
       "      <td>4.0</td>\n",
       "      <td>322.3</td>\n",
       "      <td>4</td>\n",
       "      <td>False</td>\n",
       "      <td>...</td>\n",
       "      <td>19.50</td>\n",
       "      <td>1.0</td>\n",
       "      <td>Санкт-Петербург</td>\n",
       "      <td>25707.0</td>\n",
       "      <td>4972.0</td>\n",
       "      <td>0.0</td>\n",
       "      <td>NaN</td>\n",
       "      <td>2.0</td>\n",
       "      <td>210.0</td>\n",
       "      <td>NaN</td>\n",
       "    </tr>\n",
       "    <tr>\n",
       "      <th>13749</th>\n",
       "      <td>7</td>\n",
       "      <td>240000000.0</td>\n",
       "      <td>410.00</td>\n",
       "      <td>2017-04-01T00:00:00</td>\n",
       "      <td>6</td>\n",
       "      <td>3.40</td>\n",
       "      <td>7.0</td>\n",
       "      <td>218.0</td>\n",
       "      <td>7</td>\n",
       "      <td>False</td>\n",
       "      <td>...</td>\n",
       "      <td>40.00</td>\n",
       "      <td>0.0</td>\n",
       "      <td>Санкт-Петербург</td>\n",
       "      <td>32440.0</td>\n",
       "      <td>5297.0</td>\n",
       "      <td>0.0</td>\n",
       "      <td>NaN</td>\n",
       "      <td>2.0</td>\n",
       "      <td>198.0</td>\n",
       "      <td>199.0</td>\n",
       "    </tr>\n",
       "    <tr>\n",
       "      <th>14088</th>\n",
       "      <td>8</td>\n",
       "      <td>51000000.0</td>\n",
       "      <td>402.00</td>\n",
       "      <td>2017-02-07T00:00:00</td>\n",
       "      <td>6</td>\n",
       "      <td>3.15</td>\n",
       "      <td>8.0</td>\n",
       "      <td>300.0</td>\n",
       "      <td>6</td>\n",
       "      <td>False</td>\n",
       "      <td>...</td>\n",
       "      <td>56.00</td>\n",
       "      <td>2.0</td>\n",
       "      <td>Санкт-Петербург</td>\n",
       "      <td>24484.0</td>\n",
       "      <td>5052.0</td>\n",
       "      <td>1.0</td>\n",
       "      <td>253.0</td>\n",
       "      <td>0.0</td>\n",
       "      <td>NaN</td>\n",
       "      <td>32.0</td>\n",
       "    </tr>\n",
       "    <tr>\n",
       "      <th>14991</th>\n",
       "      <td>19</td>\n",
       "      <td>45000000.0</td>\n",
       "      <td>413.50</td>\n",
       "      <td>2018-09-20T00:00:00</td>\n",
       "      <td>7</td>\n",
       "      <td>2.85</td>\n",
       "      <td>20.0</td>\n",
       "      <td>74.2</td>\n",
       "      <td>18</td>\n",
       "      <td>False</td>\n",
       "      <td>...</td>\n",
       "      <td>13.90</td>\n",
       "      <td>1.0</td>\n",
       "      <td>Санкт-Петербург</td>\n",
       "      <td>18748.0</td>\n",
       "      <td>4341.0</td>\n",
       "      <td>0.0</td>\n",
       "      <td>NaN</td>\n",
       "      <td>0.0</td>\n",
       "      <td>NaN</td>\n",
       "      <td>182.0</td>\n",
       "    </tr>\n",
       "    <tr>\n",
       "      <th>15016</th>\n",
       "      <td>8</td>\n",
       "      <td>150000000.0</td>\n",
       "      <td>500.00</td>\n",
       "      <td>2016-01-13T00:00:00</td>\n",
       "      <td>4</td>\n",
       "      <td>3.20</td>\n",
       "      <td>7.0</td>\n",
       "      <td>NaN</td>\n",
       "      <td>7</td>\n",
       "      <td>False</td>\n",
       "      <td>...</td>\n",
       "      <td>NaN</td>\n",
       "      <td>0.0</td>\n",
       "      <td>Санкт-Петербург</td>\n",
       "      <td>33058.0</td>\n",
       "      <td>6150.0</td>\n",
       "      <td>3.0</td>\n",
       "      <td>209.0</td>\n",
       "      <td>3.0</td>\n",
       "      <td>531.0</td>\n",
       "      <td>303.0</td>\n",
       "    </tr>\n",
       "    <tr>\n",
       "      <th>20273</th>\n",
       "      <td>12</td>\n",
       "      <td>20000000.0</td>\n",
       "      <td>460.80</td>\n",
       "      <td>2019-03-20T00:00:00</td>\n",
       "      <td>6</td>\n",
       "      <td>3.10</td>\n",
       "      <td>3.0</td>\n",
       "      <td>279.6</td>\n",
       "      <td>1</td>\n",
       "      <td>False</td>\n",
       "      <td>...</td>\n",
       "      <td>55.50</td>\n",
       "      <td>0.0</td>\n",
       "      <td>Санкт-Петербург</td>\n",
       "      <td>43756.0</td>\n",
       "      <td>15459.0</td>\n",
       "      <td>1.0</td>\n",
       "      <td>852.0</td>\n",
       "      <td>3.0</td>\n",
       "      <td>122.0</td>\n",
       "      <td>21.0</td>\n",
       "    </tr>\n",
       "    <tr>\n",
       "      <th>21955</th>\n",
       "      <td>19</td>\n",
       "      <td>130000000.0</td>\n",
       "      <td>431.00</td>\n",
       "      <td>2017-10-02T00:00:00</td>\n",
       "      <td>7</td>\n",
       "      <td>2.85</td>\n",
       "      <td>8.0</td>\n",
       "      <td>220.0</td>\n",
       "      <td>5</td>\n",
       "      <td>False</td>\n",
       "      <td>...</td>\n",
       "      <td>20.00</td>\n",
       "      <td>5.0</td>\n",
       "      <td>Санкт-Петербург</td>\n",
       "      <td>NaN</td>\n",
       "      <td>NaN</td>\n",
       "      <td>NaN</td>\n",
       "      <td>NaN</td>\n",
       "      <td>NaN</td>\n",
       "      <td>NaN</td>\n",
       "      <td>161.0</td>\n",
       "    </tr>\n",
       "    <tr>\n",
       "      <th>22131</th>\n",
       "      <td>14</td>\n",
       "      <td>27000000.0</td>\n",
       "      <td>422.20</td>\n",
       "      <td>2018-10-18T00:00:00</td>\n",
       "      <td>5</td>\n",
       "      <td>2.70</td>\n",
       "      <td>13.0</td>\n",
       "      <td>NaN</td>\n",
       "      <td>11</td>\n",
       "      <td>False</td>\n",
       "      <td>...</td>\n",
       "      <td>NaN</td>\n",
       "      <td>1.0</td>\n",
       "      <td>Санкт-Петербург</td>\n",
       "      <td>46625.0</td>\n",
       "      <td>16554.0</td>\n",
       "      <td>0.0</td>\n",
       "      <td>NaN</td>\n",
       "      <td>0.0</td>\n",
       "      <td>NaN</td>\n",
       "      <td>NaN</td>\n",
       "    </tr>\n",
       "    <tr>\n",
       "      <th>22494</th>\n",
       "      <td>7</td>\n",
       "      <td>91075000.0</td>\n",
       "      <td>491.00</td>\n",
       "      <td>2017-05-27T00:00:00</td>\n",
       "      <td>5</td>\n",
       "      <td>2.85</td>\n",
       "      <td>9.0</td>\n",
       "      <td>274.0</td>\n",
       "      <td>9</td>\n",
       "      <td>False</td>\n",
       "      <td>...</td>\n",
       "      <td>45.00</td>\n",
       "      <td>0.0</td>\n",
       "      <td>Санкт-Петербург</td>\n",
       "      <td>25525.0</td>\n",
       "      <td>5845.0</td>\n",
       "      <td>2.0</td>\n",
       "      <td>116.0</td>\n",
       "      <td>0.0</td>\n",
       "      <td>NaN</td>\n",
       "      <td>115.0</td>\n",
       "    </tr>\n",
       "  </tbody>\n",
       "</table>\n",
       "<p>20 rows × 22 columns</p>\n",
       "</div>"
      ],
      "text/plain": [
       "       total_images   last_price  total_area first_day_exposition  rooms  \\\n",
       "660               3   49950000.0      483.90  2017-10-04T00:00:00      7   \n",
       "3117             19  140000000.0      631.00  2019-03-30T00:00:00      7   \n",
       "3676             12   28789000.0      441.98  2019-01-23T00:00:00      4   \n",
       "4237              1   50000000.0      517.00  2017-10-14T00:00:00      7   \n",
       "5358             20   65000000.0      590.00  2019-02-14T00:00:00     15   \n",
       "5893              3  230000000.0      500.00  2017-05-31T00:00:00      6   \n",
       "6221              8   34000000.0      470.30  2018-01-14T00:00:00      4   \n",
       "6621             20   99000000.0      488.00  2017-04-09T00:00:00      5   \n",
       "8018             20   84000000.0      507.00  2015-12-17T00:00:00      5   \n",
       "9826              1   43185328.0      494.10  2017-05-12T00:00:00      1   \n",
       "12401            20   91500000.0      495.00  2017-06-19T00:00:00      7   \n",
       "12859            20  140000000.0      631.20  2019-04-09T00:00:00      7   \n",
       "13749             7  240000000.0      410.00  2017-04-01T00:00:00      6   \n",
       "14088             8   51000000.0      402.00  2017-02-07T00:00:00      6   \n",
       "14991            19   45000000.0      413.50  2018-09-20T00:00:00      7   \n",
       "15016             8  150000000.0      500.00  2016-01-13T00:00:00      4   \n",
       "20273            12   20000000.0      460.80  2019-03-20T00:00:00      6   \n",
       "21955            19  130000000.0      431.00  2017-10-02T00:00:00      7   \n",
       "22131            14   27000000.0      422.20  2018-10-18T00:00:00      5   \n",
       "22494             7   91075000.0      491.00  2017-05-27T00:00:00      5   \n",
       "\n",
       "       ceiling_height  floors_total  living_area  floor  is_apartment  ...  \\\n",
       "660              3.20           6.0        312.5      4         False  ...   \n",
       "3117             2.85           5.0          NaN      5         False  ...   \n",
       "3676             2.85           6.0          NaN      6         False  ...   \n",
       "4237             2.85           4.0        332.0      3         False  ...   \n",
       "5358             3.50           6.0        409.0      3         False  ...   \n",
       "5893             2.85           7.0          NaN      7         False  ...   \n",
       "6221             2.85           3.0        248.7      3         False  ...   \n",
       "6621             2.95          20.0        216.0     17         False  ...   \n",
       "8018             2.85           7.0        301.5      7          True  ...   \n",
       "9826             2.85          12.0          NaN      3         False  ...   \n",
       "12401            2.85           7.0        347.5      7         False  ...   \n",
       "12859            2.85           4.0        322.3      4         False  ...   \n",
       "13749            3.40           7.0        218.0      7         False  ...   \n",
       "14088            3.15           8.0        300.0      6         False  ...   \n",
       "14991            2.85          20.0         74.2     18         False  ...   \n",
       "15016            3.20           7.0          NaN      7         False  ...   \n",
       "20273            3.10           3.0        279.6      1         False  ...   \n",
       "21955            2.85           8.0        220.0      5         False  ...   \n",
       "22131            2.70          13.0          NaN     11         False  ...   \n",
       "22494            2.85           9.0        274.0      9         False  ...   \n",
       "\n",
       "       kitchen_area  balcony    locality_name  airports_nearest  \\\n",
       "660           26.40      1.0  Санкт-Петербург           23079.0   \n",
       "3117          60.00      1.0  Санкт-Петербург           25707.0   \n",
       "3676          35.05      1.0  Санкт-Петербург           20552.0   \n",
       "4237          22.00      1.0  Санкт-Петербург           22835.0   \n",
       "5358         100.00      1.0  Санкт-Петербург           24447.0   \n",
       "5893          40.00      0.0  Санкт-Петербург           32440.0   \n",
       "6221          40.00      1.0  Санкт-Петербург           43756.0   \n",
       "6621          50.00      1.0  Санкт-Петербург           27641.0   \n",
       "8018          45.50      1.0  Санкт-Петербург               NaN   \n",
       "9826            NaN      0.0  Санкт-Петербург           28529.0   \n",
       "12401         25.00      0.0  Санкт-Петербург               NaN   \n",
       "12859         19.50      1.0  Санкт-Петербург           25707.0   \n",
       "13749         40.00      0.0  Санкт-Петербург           32440.0   \n",
       "14088         56.00      2.0  Санкт-Петербург           24484.0   \n",
       "14991         13.90      1.0  Санкт-Петербург           18748.0   \n",
       "15016           NaN      0.0  Санкт-Петербург           33058.0   \n",
       "20273         55.50      0.0  Санкт-Петербург           43756.0   \n",
       "21955         20.00      5.0  Санкт-Петербург               NaN   \n",
       "22131           NaN      1.0  Санкт-Петербург           46625.0   \n",
       "22494         45.00      0.0  Санкт-Петербург           25525.0   \n",
       "\n",
       "      cityCenters_nearest  parks_around3000  parks_nearest  ponds_around3000  \\\n",
       "660                 945.0               3.0          461.0               3.0   \n",
       "3117               4972.0               0.0            NaN               2.0   \n",
       "3676               5181.0               0.0            NaN               0.0   \n",
       "4237               1847.0               2.0          477.0               2.0   \n",
       "5358               4666.0               1.0          767.0               0.0   \n",
       "5893               5297.0               0.0            NaN               2.0   \n",
       "6221              15459.0               1.0          852.0               3.0   \n",
       "6621               4598.0               1.0          646.0               1.0   \n",
       "8018               5735.0               2.0          110.0               0.0   \n",
       "9826               6832.0               1.0          592.0               0.0   \n",
       "12401              5735.0               2.0          110.0               0.0   \n",
       "12859              4972.0               0.0            NaN               2.0   \n",
       "13749              5297.0               0.0            NaN               2.0   \n",
       "14088              5052.0               1.0          253.0               0.0   \n",
       "14991              4341.0               0.0            NaN               0.0   \n",
       "15016              6150.0               3.0          209.0               3.0   \n",
       "20273             15459.0               1.0          852.0               3.0   \n",
       "21955                 NaN               NaN            NaN               NaN   \n",
       "22131             16554.0               0.0            NaN               0.0   \n",
       "22494              5845.0               2.0          116.0               0.0   \n",
       "\n",
       "       ponds_nearest  days_exposition  \n",
       "660             22.0            391.0  \n",
       "3117           210.0              NaN  \n",
       "3676             NaN              NaN  \n",
       "4237           540.0              NaN  \n",
       "5358             NaN             14.0  \n",
       "5893           198.0             50.0  \n",
       "6221           122.0            179.0  \n",
       "6621           368.0            351.0  \n",
       "8018             NaN           1078.0  \n",
       "9826             NaN              5.0  \n",
       "12401            NaN             14.0  \n",
       "12859          210.0              NaN  \n",
       "13749          198.0            199.0  \n",
       "14088            NaN             32.0  \n",
       "14991            NaN            182.0  \n",
       "15016          531.0            303.0  \n",
       "20273          122.0             21.0  \n",
       "21955            NaN            161.0  \n",
       "22131            NaN              NaN  \n",
       "22494            NaN            115.0  \n",
       "\n",
       "[20 rows x 22 columns]"
      ]
     },
     "execution_count": 199,
     "metadata": {},
     "output_type": "execute_result"
    }
   ],
   "source": [
    "real_estate_ads.query('total_area > 400')"
   ]
  },
  {
   "cell_type": "markdown",
   "metadata": {},
   "source": [
    "Стоимость таких квартир начинается от 20 млн. и доходит до 240 млн. Я считаю, что это вполне логичные цифры."
   ]
  },
  {
   "cell_type": "code",
   "execution_count": 200,
   "metadata": {},
   "outputs": [
    {
     "data": {
      "text/html": [
       "<div>\n",
       "<style scoped>\n",
       "    .dataframe tbody tr th:only-of-type {\n",
       "        vertical-align: middle;\n",
       "    }\n",
       "\n",
       "    .dataframe tbody tr th {\n",
       "        vertical-align: top;\n",
       "    }\n",
       "\n",
       "    .dataframe thead th {\n",
       "        text-align: right;\n",
       "    }\n",
       "</style>\n",
       "<table border=\"1\" class=\"dataframe\">\n",
       "  <thead>\n",
       "    <tr style=\"text-align: right;\">\n",
       "      <th></th>\n",
       "      <th>total_images</th>\n",
       "      <th>last_price</th>\n",
       "      <th>total_area</th>\n",
       "      <th>first_day_exposition</th>\n",
       "      <th>rooms</th>\n",
       "      <th>ceiling_height</th>\n",
       "      <th>floors_total</th>\n",
       "      <th>living_area</th>\n",
       "      <th>floor</th>\n",
       "      <th>is_apartment</th>\n",
       "      <th>...</th>\n",
       "      <th>kitchen_area</th>\n",
       "      <th>balcony</th>\n",
       "      <th>locality_name</th>\n",
       "      <th>airports_nearest</th>\n",
       "      <th>cityCenters_nearest</th>\n",
       "      <th>parks_around3000</th>\n",
       "      <th>parks_nearest</th>\n",
       "      <th>ponds_around3000</th>\n",
       "      <th>ponds_nearest</th>\n",
       "      <th>days_exposition</th>\n",
       "    </tr>\n",
       "  </thead>\n",
       "  <tbody>\n",
       "    <tr>\n",
       "      <th>4</th>\n",
       "      <td>2</td>\n",
       "      <td>10000000.0</td>\n",
       "      <td>100.00</td>\n",
       "      <td>2018-06-19T00:00:00</td>\n",
       "      <td>2</td>\n",
       "      <td>3.03</td>\n",
       "      <td>14.0</td>\n",
       "      <td>32.00</td>\n",
       "      <td>13</td>\n",
       "      <td>False</td>\n",
       "      <td>...</td>\n",
       "      <td>41.00</td>\n",
       "      <td>1.0</td>\n",
       "      <td>Санкт-Петербург</td>\n",
       "      <td>31856.0</td>\n",
       "      <td>8098.0</td>\n",
       "      <td>2.0</td>\n",
       "      <td>112.0</td>\n",
       "      <td>1.0</td>\n",
       "      <td>48.0</td>\n",
       "      <td>121.0</td>\n",
       "    </tr>\n",
       "    <tr>\n",
       "      <th>6</th>\n",
       "      <td>6</td>\n",
       "      <td>3700000.0</td>\n",
       "      <td>37.30</td>\n",
       "      <td>2017-11-02T00:00:00</td>\n",
       "      <td>1</td>\n",
       "      <td>2.85</td>\n",
       "      <td>26.0</td>\n",
       "      <td>10.60</td>\n",
       "      <td>6</td>\n",
       "      <td>False</td>\n",
       "      <td>...</td>\n",
       "      <td>14.40</td>\n",
       "      <td>1.0</td>\n",
       "      <td>посёлок Парголово</td>\n",
       "      <td>52996.0</td>\n",
       "      <td>19143.0</td>\n",
       "      <td>0.0</td>\n",
       "      <td>NaN</td>\n",
       "      <td>0.0</td>\n",
       "      <td>NaN</td>\n",
       "      <td>155.0</td>\n",
       "    </tr>\n",
       "    <tr>\n",
       "      <th>51</th>\n",
       "      <td>7</td>\n",
       "      <td>45000000.0</td>\n",
       "      <td>161.00</td>\n",
       "      <td>2017-10-17T00:00:00</td>\n",
       "      <td>3</td>\n",
       "      <td>3.20</td>\n",
       "      <td>8.0</td>\n",
       "      <td>38.00</td>\n",
       "      <td>4</td>\n",
       "      <td>False</td>\n",
       "      <td>...</td>\n",
       "      <td>50.00</td>\n",
       "      <td>1.0</td>\n",
       "      <td>Санкт-Петербург</td>\n",
       "      <td>32537.0</td>\n",
       "      <td>6589.0</td>\n",
       "      <td>0.0</td>\n",
       "      <td>NaN</td>\n",
       "      <td>3.0</td>\n",
       "      <td>99.0</td>\n",
       "      <td>541.0</td>\n",
       "    </tr>\n",
       "    <tr>\n",
       "      <th>53</th>\n",
       "      <td>7</td>\n",
       "      <td>4300000.0</td>\n",
       "      <td>39.10</td>\n",
       "      <td>2017-11-10T00:00:00</td>\n",
       "      <td>1</td>\n",
       "      <td>2.85</td>\n",
       "      <td>25.0</td>\n",
       "      <td>15.40</td>\n",
       "      <td>13</td>\n",
       "      <td>False</td>\n",
       "      <td>...</td>\n",
       "      <td>15.50</td>\n",
       "      <td>2.0</td>\n",
       "      <td>посёлок Парголово</td>\n",
       "      <td>52611.0</td>\n",
       "      <td>18783.0</td>\n",
       "      <td>0.0</td>\n",
       "      <td>NaN</td>\n",
       "      <td>0.0</td>\n",
       "      <td>NaN</td>\n",
       "      <td>6.0</td>\n",
       "    </tr>\n",
       "    <tr>\n",
       "      <th>101</th>\n",
       "      <td>4</td>\n",
       "      <td>3000000.0</td>\n",
       "      <td>37.00</td>\n",
       "      <td>2019-03-23T00:00:00</td>\n",
       "      <td>1</td>\n",
       "      <td>2.75</td>\n",
       "      <td>10.0</td>\n",
       "      <td>12.00</td>\n",
       "      <td>3</td>\n",
       "      <td>False</td>\n",
       "      <td>...</td>\n",
       "      <td>13.00</td>\n",
       "      <td>1.0</td>\n",
       "      <td>садовое товарищество Новая Ропша</td>\n",
       "      <td>NaN</td>\n",
       "      <td>NaN</td>\n",
       "      <td>NaN</td>\n",
       "      <td>NaN</td>\n",
       "      <td>NaN</td>\n",
       "      <td>NaN</td>\n",
       "      <td>NaN</td>\n",
       "    </tr>\n",
       "    <tr>\n",
       "      <th>...</th>\n",
       "      <td>...</td>\n",
       "      <td>...</td>\n",
       "      <td>...</td>\n",
       "      <td>...</td>\n",
       "      <td>...</td>\n",
       "      <td>...</td>\n",
       "      <td>...</td>\n",
       "      <td>...</td>\n",
       "      <td>...</td>\n",
       "      <td>...</td>\n",
       "      <td>...</td>\n",
       "      <td>...</td>\n",
       "      <td>...</td>\n",
       "      <td>...</td>\n",
       "      <td>...</td>\n",
       "      <td>...</td>\n",
       "      <td>...</td>\n",
       "      <td>...</td>\n",
       "      <td>...</td>\n",
       "      <td>...</td>\n",
       "      <td>...</td>\n",
       "    </tr>\n",
       "    <tr>\n",
       "      <th>23388</th>\n",
       "      <td>7</td>\n",
       "      <td>5400000.0</td>\n",
       "      <td>43.00</td>\n",
       "      <td>2017-04-24T00:00:00</td>\n",
       "      <td>1</td>\n",
       "      <td>2.85</td>\n",
       "      <td>18.0</td>\n",
       "      <td>12.00</td>\n",
       "      <td>8</td>\n",
       "      <td>False</td>\n",
       "      <td>...</td>\n",
       "      <td>20.00</td>\n",
       "      <td>0.0</td>\n",
       "      <td>Санкт-Петербург</td>\n",
       "      <td>25108.0</td>\n",
       "      <td>15940.0</td>\n",
       "      <td>0.0</td>\n",
       "      <td>NaN</td>\n",
       "      <td>0.0</td>\n",
       "      <td>NaN</td>\n",
       "      <td>124.0</td>\n",
       "    </tr>\n",
       "    <tr>\n",
       "      <th>23481</th>\n",
       "      <td>1</td>\n",
       "      <td>3000000.0</td>\n",
       "      <td>37.29</td>\n",
       "      <td>2019-04-15T00:00:00</td>\n",
       "      <td>1</td>\n",
       "      <td>2.85</td>\n",
       "      <td>19.0</td>\n",
       "      <td>10.08</td>\n",
       "      <td>10</td>\n",
       "      <td>False</td>\n",
       "      <td>...</td>\n",
       "      <td>16.88</td>\n",
       "      <td>1.0</td>\n",
       "      <td>Санкт-Петербург</td>\n",
       "      <td>37006.0</td>\n",
       "      <td>15157.0</td>\n",
       "      <td>0.0</td>\n",
       "      <td>NaN</td>\n",
       "      <td>0.0</td>\n",
       "      <td>NaN</td>\n",
       "      <td>7.0</td>\n",
       "    </tr>\n",
       "    <tr>\n",
       "      <th>23573</th>\n",
       "      <td>8</td>\n",
       "      <td>6290000.0</td>\n",
       "      <td>47.67</td>\n",
       "      <td>2019-03-20T00:00:00</td>\n",
       "      <td>1</td>\n",
       "      <td>2.85</td>\n",
       "      <td>12.0</td>\n",
       "      <td>13.59</td>\n",
       "      <td>12</td>\n",
       "      <td>False</td>\n",
       "      <td>...</td>\n",
       "      <td>17.87</td>\n",
       "      <td>2.0</td>\n",
       "      <td>Санкт-Петербург</td>\n",
       "      <td>35726.0</td>\n",
       "      <td>16028.0</td>\n",
       "      <td>1.0</td>\n",
       "      <td>253.0</td>\n",
       "      <td>2.0</td>\n",
       "      <td>99.0</td>\n",
       "      <td>19.0</td>\n",
       "    </tr>\n",
       "    <tr>\n",
       "      <th>23574</th>\n",
       "      <td>14</td>\n",
       "      <td>64990000.0</td>\n",
       "      <td>139.00</td>\n",
       "      <td>2015-11-24T00:00:00</td>\n",
       "      <td>3</td>\n",
       "      <td>3.00</td>\n",
       "      <td>8.0</td>\n",
       "      <td>3.00</td>\n",
       "      <td>8</td>\n",
       "      <td>False</td>\n",
       "      <td>...</td>\n",
       "      <td>16.00</td>\n",
       "      <td>1.0</td>\n",
       "      <td>Санкт-Петербург</td>\n",
       "      <td>33255.0</td>\n",
       "      <td>5975.0</td>\n",
       "      <td>1.0</td>\n",
       "      <td>630.0</td>\n",
       "      <td>3.0</td>\n",
       "      <td>100.0</td>\n",
       "      <td>280.0</td>\n",
       "    </tr>\n",
       "    <tr>\n",
       "      <th>23658</th>\n",
       "      <td>6</td>\n",
       "      <td>3063600.0</td>\n",
       "      <td>43.80</td>\n",
       "      <td>2016-11-28T00:00:00</td>\n",
       "      <td>1</td>\n",
       "      <td>2.70</td>\n",
       "      <td>NaN</td>\n",
       "      <td>14.00</td>\n",
       "      <td>8</td>\n",
       "      <td>False</td>\n",
       "      <td>...</td>\n",
       "      <td>15.50</td>\n",
       "      <td>2.0</td>\n",
       "      <td>Санкт-Петербург</td>\n",
       "      <td>8426.0</td>\n",
       "      <td>12082.0</td>\n",
       "      <td>2.0</td>\n",
       "      <td>24.0</td>\n",
       "      <td>1.0</td>\n",
       "      <td>271.0</td>\n",
       "      <td>246.0</td>\n",
       "    </tr>\n",
       "  </tbody>\n",
       "</table>\n",
       "<p>354 rows × 22 columns</p>\n",
       "</div>"
      ],
      "text/plain": [
       "       total_images  last_price  total_area first_day_exposition  rooms  \\\n",
       "4                 2  10000000.0      100.00  2018-06-19T00:00:00      2   \n",
       "6                 6   3700000.0       37.30  2017-11-02T00:00:00      1   \n",
       "51                7  45000000.0      161.00  2017-10-17T00:00:00      3   \n",
       "53                7   4300000.0       39.10  2017-11-10T00:00:00      1   \n",
       "101               4   3000000.0       37.00  2019-03-23T00:00:00      1   \n",
       "...             ...         ...         ...                  ...    ...   \n",
       "23388             7   5400000.0       43.00  2017-04-24T00:00:00      1   \n",
       "23481             1   3000000.0       37.29  2019-04-15T00:00:00      1   \n",
       "23573             8   6290000.0       47.67  2019-03-20T00:00:00      1   \n",
       "23574            14  64990000.0      139.00  2015-11-24T00:00:00      3   \n",
       "23658             6   3063600.0       43.80  2016-11-28T00:00:00      1   \n",
       "\n",
       "       ceiling_height  floors_total  living_area  floor  is_apartment  ...  \\\n",
       "4                3.03          14.0        32.00     13         False  ...   \n",
       "6                2.85          26.0        10.60      6         False  ...   \n",
       "51               3.20           8.0        38.00      4         False  ...   \n",
       "53               2.85          25.0        15.40     13         False  ...   \n",
       "101              2.75          10.0        12.00      3         False  ...   \n",
       "...               ...           ...          ...    ...           ...  ...   \n",
       "23388            2.85          18.0        12.00      8         False  ...   \n",
       "23481            2.85          19.0        10.08     10         False  ...   \n",
       "23573            2.85          12.0        13.59     12         False  ...   \n",
       "23574            3.00           8.0         3.00      8         False  ...   \n",
       "23658            2.70           NaN        14.00      8         False  ...   \n",
       "\n",
       "       kitchen_area  balcony                     locality_name  \\\n",
       "4             41.00      1.0                   Санкт-Петербург   \n",
       "6             14.40      1.0                 посёлок Парголово   \n",
       "51            50.00      1.0                   Санкт-Петербург   \n",
       "53            15.50      2.0                 посёлок Парголово   \n",
       "101           13.00      1.0  садовое товарищество Новая Ропша   \n",
       "...             ...      ...                               ...   \n",
       "23388         20.00      0.0                   Санкт-Петербург   \n",
       "23481         16.88      1.0                   Санкт-Петербург   \n",
       "23573         17.87      2.0                   Санкт-Петербург   \n",
       "23574         16.00      1.0                   Санкт-Петербург   \n",
       "23658         15.50      2.0                   Санкт-Петербург   \n",
       "\n",
       "       airports_nearest cityCenters_nearest  parks_around3000  parks_nearest  \\\n",
       "4               31856.0              8098.0               2.0          112.0   \n",
       "6               52996.0             19143.0               0.0            NaN   \n",
       "51              32537.0              6589.0               0.0            NaN   \n",
       "53              52611.0             18783.0               0.0            NaN   \n",
       "101                 NaN                 NaN               NaN            NaN   \n",
       "...                 ...                 ...               ...            ...   \n",
       "23388           25108.0             15940.0               0.0            NaN   \n",
       "23481           37006.0             15157.0               0.0            NaN   \n",
       "23573           35726.0             16028.0               1.0          253.0   \n",
       "23574           33255.0              5975.0               1.0          630.0   \n",
       "23658            8426.0             12082.0               2.0           24.0   \n",
       "\n",
       "       ponds_around3000  ponds_nearest  days_exposition  \n",
       "4                   1.0           48.0            121.0  \n",
       "6                   0.0            NaN            155.0  \n",
       "51                  3.0           99.0            541.0  \n",
       "53                  0.0            NaN              6.0  \n",
       "101                 NaN            NaN              NaN  \n",
       "...                 ...            ...              ...  \n",
       "23388               0.0            NaN            124.0  \n",
       "23481               0.0            NaN              7.0  \n",
       "23573               2.0           99.0             19.0  \n",
       "23574               3.0          100.0            280.0  \n",
       "23658               1.0          271.0            246.0  \n",
       "\n",
       "[354 rows x 22 columns]"
      ]
     },
     "execution_count": 200,
     "metadata": {},
     "output_type": "execute_result"
    }
   ],
   "source": [
    "real_estate_ads.query('living_area < kitchen_area')"
   ]
  },
  {
   "cell_type": "markdown",
   "metadata": {},
   "source": [
    "Эти данные искажены, считаю, что лучше от них избавиться."
   ]
  },
  {
   "cell_type": "code",
   "execution_count": 201,
   "metadata": {},
   "outputs": [
    {
     "data": {
      "text/plain": [
       "(23065, 22)"
      ]
     },
     "execution_count": 201,
     "metadata": {},
     "output_type": "execute_result"
    }
   ],
   "source": [
    "ads_to_drop = real_estate_ads.query('living_area < kitchen_area')\n",
    "real_estate_ads.drop(ads_to_drop.index, inplace=True)\n",
    "real_estate_ads.shape"
   ]
  },
  {
   "cell_type": "markdown",
   "metadata": {},
   "source": [
    "Мы обработали очевидные выбросы, теперь посмотрим, какие пропущенные значения еще остались."
   ]
  },
  {
   "cell_type": "code",
   "execution_count": 202,
   "metadata": {},
   "outputs": [
    {
     "name": "stdout",
     "output_type": "stream",
     "text": [
      "parks_nearest          15143\n",
      "ponds_nearest          14160\n",
      "airports_nearest        5242\n",
      "cityCenters_nearest     5219\n",
      "parks_around3000        5218\n",
      "ponds_around3000        5218\n",
      "days_exposition         3083\n",
      "kitchen_area            2221\n",
      "living_area             1855\n",
      "floors_total              84\n",
      "dtype: int64\n"
     ]
    }
   ],
   "source": [
    "miss_cols = pd.Series(dtype='float64')\n",
    "for col in real_estate_ads:\n",
    "    if real_estate_ads[col].isnull().any() == True:\n",
    "        miss_cols[col] = real_estate_ads[col].isna().sum()\n",
    "print(miss_cols.sort_values(ascending=False))"
   ]
  },
  {
   "cell_type": "code",
   "execution_count": 203,
   "metadata": {},
   "outputs": [],
   "source": [
    "real_estate_ads = real_estate_ads.reset_index(drop=True)"
   ]
  },
  {
   "cell_type": "markdown",
   "metadata": {},
   "source": [
    "### Столбец 'kitchen_area' и 'living_area'"
   ]
  },
  {
   "cell_type": "markdown",
   "metadata": {},
   "source": [
    "<b>'kitchen_area' — площадь кухни в квадратных метрах (м²)</b> - пропущенных значений 1555\n",
    "\n",
    "<b>'living_area' — жилая площадь в квадратных метрах(м²)</b> - пропущенных значений 1276\n",
    "\n",
    "Эти пропущенные значения мы можем заменить, рассчитав среднюю долю жилой площади и площади кухни относительно общей площади квартиры.\n",
    "\n",
    "Рассчитаем эти показатели."
   ]
  },
  {
   "cell_type": "code",
   "execution_count": 204,
   "metadata": {},
   "outputs": [
    {
     "name": "stdout",
     "output_type": "stream",
     "text": [
      "Медиана доли жилой площади относительно общей площади: 57.01%\n",
      "Медиана доли площади кухни относительно общей площади: 17.10%\n"
     ]
    }
   ],
   "source": [
    "total_area_living_area = real_estate_ads['living_area'] / real_estate_ads['total_area']\n",
    "print('Медиана доли жилой площади относительно общей площади: {:.2%}'.format(total_area_living_area.median()))\n",
    "\n",
    "total_area_kitchen_area = real_estate_ads['kitchen_area'] / real_estate_ads['total_area']\n",
    "print('Медиана доли площади кухни относительно общей площади: {:.2%}'.format(total_area_kitchen_area.median()))"
   ]
  },
  {
   "cell_type": "markdown",
   "metadata": {},
   "source": [
    "Показатели достаточно логичные. Заполним пропущенные значения."
   ]
  },
  {
   "cell_type": "markdown",
   "metadata": {},
   "source": [
    "#### Заполнение пропущенных значений"
   ]
  },
  {
   "cell_type": "code",
   "execution_count": 205,
   "metadata": {},
   "outputs": [],
   "source": [
    "living_area_missing = real_estate_ads[real_estate_ads['living_area'].isnull()].index\n",
    "kitchen_area_missing = real_estate_ads[real_estate_ads['kitchen_area'].isnull()].index"
   ]
  },
  {
   "cell_type": "code",
   "execution_count": 206,
   "metadata": {},
   "outputs": [
    {
     "name": "stdout",
     "output_type": "stream",
     "text": [
      "Кол-во пропущенных значений в столбце living_area: 0\n",
      "Кол-во пропущенных значений в столбце kitchen_area: 0\n"
     ]
    }
   ],
   "source": [
    "for row in living_area_missing:\n",
    "    real_estate_ads.loc[row, 'living_area'] = real_estate_ads['total_area'][row] * 0.5701\n",
    "\n",
    "# Проверим наличие пропущенных значений после замены\n",
    "print('Кол-во пропущенных значений в столбце {}: {}'.format(\n",
    "    'living_area', real_estate_ads['living_area'].isnull().sum())\n",
    "     )\n",
    "\n",
    "for row in kitchen_area_missing:\n",
    "    real_estate_ads.loc[row, 'kitchen_area'] = real_estate_ads['total_area'][row] * 0.1710\n",
    "    \n",
    "# Проверим наличие пропущенных значений после замены\n",
    "print('Кол-во пропущенных значений в столбце {}: {}'.format(\n",
    "    'kitchen_area', real_estate_ads['kitchen_area'].isnull().sum())\n",
    "     )\n"
   ]
  },
  {
   "cell_type": "markdown",
   "metadata": {},
   "source": [
    "#### Вывод и причины возникновения"
   ]
  },
  {
   "cell_type": "code",
   "execution_count": 207,
   "metadata": {},
   "outputs": [
    {
     "data": {
      "text/plain": [
       "<matplotlib.axes._subplots.AxesSubplot at 0x131e590e648>"
      ]
     },
     "execution_count": 207,
     "metadata": {},
     "output_type": "execute_result"
    },
    {
     "data": {
      "image/png": "[encoded data removed]",
      "text/plain": [
       "<Figure size 432x288 with 1 Axes>"
      ]
     },
     "metadata": {
      "needs_background": "light"
     },
     "output_type": "display_data"
    }
   ],
   "source": [
    "real_estate_ads['living_area'].plot(kind='hist', bins=[0, 15, 30, 50, 100, 300, 400], title='Жилая площадь квартир', grid=True)"
   ]
  },
  {
   "cell_type": "code",
   "execution_count": 208,
   "metadata": {},
   "outputs": [
    {
     "data": {
      "text/plain": [
       "<matplotlib.axes._subplots.AxesSubplot at 0x131e599bd88>"
      ]
     },
     "execution_count": 208,
     "metadata": {},
     "output_type": "execute_result"
    },
    {
     "data": {
      "image/png": "[encoded data removed]",
      "text/plain": [
       "<Figure size 432x288 with 1 Axes>"
      ]
     },
     "metadata": {
      "needs_background": "light"
     },
     "output_type": "display_data"
    }
   ],
   "source": [
    "real_estate_ads['kitchen_area'].plot(kind='hist', bins=[0, 8, 15, 30, 50, 100], title='Площадь кухни', grid=True)"
   ]
  },
  {
   "cell_type": "markdown",
   "metadata": {},
   "source": [
    "Основываясь на диаграммах, можно сделать вывод, что большинство квартир имеют жилую площадь в пределах 50 кв. м., а их кухни как правило площадью до 20 кв. м.\n",
    "\n",
    "<b>Причины возникновения пропущенных значений:</b>\n",
    "\n",
    "- Продавец не стал замерять жилую площадь или площадь кухни\n",
    "- Продавец не указал эти данные, но указал общую площадь квартиры\n",
    "- Данные были утеряны"
   ]
  },
  {
   "cell_type": "markdown",
   "metadata": {},
   "source": [
    "### Столбец 'floors_total'"
   ]
  },
  {
   "cell_type": "markdown",
   "metadata": {},
   "source": [
    "<b>'floors_total' — всего этажей в доме</b> - пропущенных значений 84\n",
    "\n",
    "Вполне вероятно, что продавец не указал количество этажей в доме, или этот дом является частным или одноэтажным, рассмотрим этот столбец подробнее."
   ]
  },
  {
   "cell_type": "code",
   "execution_count": 209,
   "metadata": {},
   "outputs": [
    {
     "data": {
      "text/html": [
       "<div>\n",
       "<style scoped>\n",
       "    .dataframe tbody tr th:only-of-type {\n",
       "        vertical-align: middle;\n",
       "    }\n",
       "\n",
       "    .dataframe tbody tr th {\n",
       "        vertical-align: top;\n",
       "    }\n",
       "\n",
       "    .dataframe thead th {\n",
       "        text-align: right;\n",
       "    }\n",
       "</style>\n",
       "<table border=\"1\" class=\"dataframe\">\n",
       "  <thead>\n",
       "    <tr style=\"text-align: right;\">\n",
       "      <th></th>\n",
       "      <th>total_images</th>\n",
       "      <th>last_price</th>\n",
       "      <th>total_area</th>\n",
       "      <th>first_day_exposition</th>\n",
       "      <th>rooms</th>\n",
       "      <th>ceiling_height</th>\n",
       "      <th>floors_total</th>\n",
       "      <th>living_area</th>\n",
       "      <th>floor</th>\n",
       "      <th>is_apartment</th>\n",
       "      <th>...</th>\n",
       "      <th>kitchen_area</th>\n",
       "      <th>balcony</th>\n",
       "      <th>locality_name</th>\n",
       "      <th>airports_nearest</th>\n",
       "      <th>cityCenters_nearest</th>\n",
       "      <th>parks_around3000</th>\n",
       "      <th>parks_nearest</th>\n",
       "      <th>ponds_around3000</th>\n",
       "      <th>ponds_nearest</th>\n",
       "      <th>days_exposition</th>\n",
       "    </tr>\n",
       "  </thead>\n",
       "  <tbody>\n",
       "    <tr>\n",
       "      <th>178</th>\n",
       "      <td>12</td>\n",
       "      <td>11640000.0</td>\n",
       "      <td>65.2</td>\n",
       "      <td>2018-10-02T00:00:00</td>\n",
       "      <td>2</td>\n",
       "      <td>2.85</td>\n",
       "      <td>NaN</td>\n",
       "      <td>30.80000</td>\n",
       "      <td>4</td>\n",
       "      <td>False</td>\n",
       "      <td>...</td>\n",
       "      <td>12.0000</td>\n",
       "      <td>1.0</td>\n",
       "      <td>Санкт-Петербург</td>\n",
       "      <td>39197.0</td>\n",
       "      <td>12373.0</td>\n",
       "      <td>1.0</td>\n",
       "      <td>123.0</td>\n",
       "      <td>0.0</td>\n",
       "      <td>NaN</td>\n",
       "      <td>49.0</td>\n",
       "    </tr>\n",
       "    <tr>\n",
       "      <th>229</th>\n",
       "      <td>4</td>\n",
       "      <td>2438033.0</td>\n",
       "      <td>28.1</td>\n",
       "      <td>2016-11-23T00:00:00</td>\n",
       "      <td>1</td>\n",
       "      <td>2.85</td>\n",
       "      <td>NaN</td>\n",
       "      <td>20.75000</td>\n",
       "      <td>1</td>\n",
       "      <td>False</td>\n",
       "      <td>...</td>\n",
       "      <td>4.8051</td>\n",
       "      <td>0.0</td>\n",
       "      <td>Санкт-Петербург</td>\n",
       "      <td>22041.0</td>\n",
       "      <td>17369.0</td>\n",
       "      <td>0.0</td>\n",
       "      <td>NaN</td>\n",
       "      <td>1.0</td>\n",
       "      <td>374.0</td>\n",
       "      <td>251.0</td>\n",
       "    </tr>\n",
       "    <tr>\n",
       "      <th>440</th>\n",
       "      <td>4</td>\n",
       "      <td>9788348.0</td>\n",
       "      <td>70.8</td>\n",
       "      <td>2015-08-01T00:00:00</td>\n",
       "      <td>2</td>\n",
       "      <td>2.85</td>\n",
       "      <td>NaN</td>\n",
       "      <td>38.40000</td>\n",
       "      <td>12</td>\n",
       "      <td>False</td>\n",
       "      <td>...</td>\n",
       "      <td>10.6300</td>\n",
       "      <td>0.0</td>\n",
       "      <td>Санкт-Петербург</td>\n",
       "      <td>37364.0</td>\n",
       "      <td>8322.0</td>\n",
       "      <td>2.0</td>\n",
       "      <td>309.0</td>\n",
       "      <td>2.0</td>\n",
       "      <td>706.0</td>\n",
       "      <td>727.0</td>\n",
       "    </tr>\n",
       "    <tr>\n",
       "      <th>650</th>\n",
       "      <td>4</td>\n",
       "      <td>6051191.0</td>\n",
       "      <td>93.6</td>\n",
       "      <td>2017-04-06T00:00:00</td>\n",
       "      <td>3</td>\n",
       "      <td>2.85</td>\n",
       "      <td>NaN</td>\n",
       "      <td>47.10000</td>\n",
       "      <td>8</td>\n",
       "      <td>False</td>\n",
       "      <td>...</td>\n",
       "      <td>16.8000</td>\n",
       "      <td>0.0</td>\n",
       "      <td>Санкт-Петербург</td>\n",
       "      <td>22041.0</td>\n",
       "      <td>17369.0</td>\n",
       "      <td>0.0</td>\n",
       "      <td>NaN</td>\n",
       "      <td>1.0</td>\n",
       "      <td>374.0</td>\n",
       "      <td>123.0</td>\n",
       "    </tr>\n",
       "    <tr>\n",
       "      <th>1709</th>\n",
       "      <td>5</td>\n",
       "      <td>3600000.0</td>\n",
       "      <td>39.0</td>\n",
       "      <td>2017-04-22T00:00:00</td>\n",
       "      <td>1</td>\n",
       "      <td>2.85</td>\n",
       "      <td>NaN</td>\n",
       "      <td>22.23390</td>\n",
       "      <td>9</td>\n",
       "      <td>False</td>\n",
       "      <td>...</td>\n",
       "      <td>6.6690</td>\n",
       "      <td>0.0</td>\n",
       "      <td>Санкт-Петербург</td>\n",
       "      <td>22735.0</td>\n",
       "      <td>11618.0</td>\n",
       "      <td>1.0</td>\n",
       "      <td>835.0</td>\n",
       "      <td>1.0</td>\n",
       "      <td>652.0</td>\n",
       "      <td>77.0</td>\n",
       "    </tr>\n",
       "    <tr>\n",
       "      <th>...</th>\n",
       "      <td>...</td>\n",
       "      <td>...</td>\n",
       "      <td>...</td>\n",
       "      <td>...</td>\n",
       "      <td>...</td>\n",
       "      <td>...</td>\n",
       "      <td>...</td>\n",
       "      <td>...</td>\n",
       "      <td>...</td>\n",
       "      <td>...</td>\n",
       "      <td>...</td>\n",
       "      <td>...</td>\n",
       "      <td>...</td>\n",
       "      <td>...</td>\n",
       "      <td>...</td>\n",
       "      <td>...</td>\n",
       "      <td>...</td>\n",
       "      <td>...</td>\n",
       "      <td>...</td>\n",
       "      <td>...</td>\n",
       "      <td>...</td>\n",
       "    </tr>\n",
       "    <tr>\n",
       "      <th>21163</th>\n",
       "      <td>7</td>\n",
       "      <td>6800000.0</td>\n",
       "      <td>57.0</td>\n",
       "      <td>2017-05-01T00:00:00</td>\n",
       "      <td>2</td>\n",
       "      <td>2.85</td>\n",
       "      <td>NaN</td>\n",
       "      <td>32.49570</td>\n",
       "      <td>21</td>\n",
       "      <td>False</td>\n",
       "      <td>...</td>\n",
       "      <td>9.7470</td>\n",
       "      <td>0.0</td>\n",
       "      <td>Санкт-Петербург</td>\n",
       "      <td>17618.0</td>\n",
       "      <td>14600.0</td>\n",
       "      <td>2.0</td>\n",
       "      <td>104.0</td>\n",
       "      <td>0.0</td>\n",
       "      <td>NaN</td>\n",
       "      <td>36.0</td>\n",
       "    </tr>\n",
       "    <tr>\n",
       "      <th>21931</th>\n",
       "      <td>5</td>\n",
       "      <td>8500000.0</td>\n",
       "      <td>63.5</td>\n",
       "      <td>2017-05-24T00:00:00</td>\n",
       "      <td>2</td>\n",
       "      <td>2.80</td>\n",
       "      <td>NaN</td>\n",
       "      <td>36.20135</td>\n",
       "      <td>3</td>\n",
       "      <td>False</td>\n",
       "      <td>...</td>\n",
       "      <td>10.8585</td>\n",
       "      <td>1.0</td>\n",
       "      <td>Санкт-Петербург</td>\n",
       "      <td>51340.0</td>\n",
       "      <td>15363.0</td>\n",
       "      <td>0.0</td>\n",
       "      <td>NaN</td>\n",
       "      <td>1.0</td>\n",
       "      <td>853.0</td>\n",
       "      <td>512.0</td>\n",
       "    </tr>\n",
       "    <tr>\n",
       "      <th>22043</th>\n",
       "      <td>4</td>\n",
       "      <td>4574160.0</td>\n",
       "      <td>64.5</td>\n",
       "      <td>2017-04-02T00:00:00</td>\n",
       "      <td>2</td>\n",
       "      <td>2.85</td>\n",
       "      <td>NaN</td>\n",
       "      <td>31.70000</td>\n",
       "      <td>20</td>\n",
       "      <td>False</td>\n",
       "      <td>...</td>\n",
       "      <td>14.4000</td>\n",
       "      <td>0.0</td>\n",
       "      <td>Санкт-Петербург</td>\n",
       "      <td>22041.0</td>\n",
       "      <td>17369.0</td>\n",
       "      <td>0.0</td>\n",
       "      <td>NaN</td>\n",
       "      <td>1.0</td>\n",
       "      <td>374.0</td>\n",
       "      <td>127.0</td>\n",
       "    </tr>\n",
       "    <tr>\n",
       "      <th>22194</th>\n",
       "      <td>0</td>\n",
       "      <td>14569263.0</td>\n",
       "      <td>110.4</td>\n",
       "      <td>2016-11-20T00:00:00</td>\n",
       "      <td>3</td>\n",
       "      <td>2.85</td>\n",
       "      <td>NaN</td>\n",
       "      <td>45.38000</td>\n",
       "      <td>6</td>\n",
       "      <td>False</td>\n",
       "      <td>...</td>\n",
       "      <td>23.4200</td>\n",
       "      <td>0.0</td>\n",
       "      <td>Санкт-Петербург</td>\n",
       "      <td>19095.0</td>\n",
       "      <td>4529.0</td>\n",
       "      <td>0.0</td>\n",
       "      <td>NaN</td>\n",
       "      <td>0.0</td>\n",
       "      <td>NaN</td>\n",
       "      <td>260.0</td>\n",
       "    </tr>\n",
       "    <tr>\n",
       "      <th>22958</th>\n",
       "      <td>0</td>\n",
       "      <td>21187872.0</td>\n",
       "      <td>123.3</td>\n",
       "      <td>2017-04-25T00:00:00</td>\n",
       "      <td>3</td>\n",
       "      <td>2.85</td>\n",
       "      <td>NaN</td>\n",
       "      <td>50.40000</td>\n",
       "      <td>18</td>\n",
       "      <td>False</td>\n",
       "      <td>...</td>\n",
       "      <td>23.6000</td>\n",
       "      <td>0.0</td>\n",
       "      <td>Санкт-Петербург</td>\n",
       "      <td>19095.0</td>\n",
       "      <td>4529.0</td>\n",
       "      <td>0.0</td>\n",
       "      <td>NaN</td>\n",
       "      <td>0.0</td>\n",
       "      <td>NaN</td>\n",
       "      <td>104.0</td>\n",
       "    </tr>\n",
       "  </tbody>\n",
       "</table>\n",
       "<p>84 rows × 22 columns</p>\n",
       "</div>"
      ],
      "text/plain": [
       "       total_images  last_price  total_area first_day_exposition  rooms  \\\n",
       "178              12  11640000.0        65.2  2018-10-02T00:00:00      2   \n",
       "229               4   2438033.0        28.1  2016-11-23T00:00:00      1   \n",
       "440               4   9788348.0        70.8  2015-08-01T00:00:00      2   \n",
       "650               4   6051191.0        93.6  2017-04-06T00:00:00      3   \n",
       "1709              5   3600000.0        39.0  2017-04-22T00:00:00      1   \n",
       "...             ...         ...         ...                  ...    ...   \n",
       "21163             7   6800000.0        57.0  2017-05-01T00:00:00      2   \n",
       "21931             5   8500000.0        63.5  2017-05-24T00:00:00      2   \n",
       "22043             4   4574160.0        64.5  2017-04-02T00:00:00      2   \n",
       "22194             0  14569263.0       110.4  2016-11-20T00:00:00      3   \n",
       "22958             0  21187872.0       123.3  2017-04-25T00:00:00      3   \n",
       "\n",
       "       ceiling_height  floors_total  living_area  floor  is_apartment  ...  \\\n",
       "178              2.85           NaN     30.80000      4         False  ...   \n",
       "229              2.85           NaN     20.75000      1         False  ...   \n",
       "440              2.85           NaN     38.40000     12         False  ...   \n",
       "650              2.85           NaN     47.10000      8         False  ...   \n",
       "1709             2.85           NaN     22.23390      9         False  ...   \n",
       "...               ...           ...          ...    ...           ...  ...   \n",
       "21163            2.85           NaN     32.49570     21         False  ...   \n",
       "21931            2.80           NaN     36.20135      3         False  ...   \n",
       "22043            2.85           NaN     31.70000     20         False  ...   \n",
       "22194            2.85           NaN     45.38000      6         False  ...   \n",
       "22958            2.85           NaN     50.40000     18         False  ...   \n",
       "\n",
       "       kitchen_area  balcony    locality_name  airports_nearest  \\\n",
       "178         12.0000      1.0  Санкт-Петербург           39197.0   \n",
       "229          4.8051      0.0  Санкт-Петербург           22041.0   \n",
       "440         10.6300      0.0  Санкт-Петербург           37364.0   \n",
       "650         16.8000      0.0  Санкт-Петербург           22041.0   \n",
       "1709         6.6690      0.0  Санкт-Петербург           22735.0   \n",
       "...             ...      ...              ...               ...   \n",
       "21163        9.7470      0.0  Санкт-Петербург           17618.0   \n",
       "21931       10.8585      1.0  Санкт-Петербург           51340.0   \n",
       "22043       14.4000      0.0  Санкт-Петербург           22041.0   \n",
       "22194       23.4200      0.0  Санкт-Петербург           19095.0   \n",
       "22958       23.6000      0.0  Санкт-Петербург           19095.0   \n",
       "\n",
       "      cityCenters_nearest  parks_around3000  parks_nearest  ponds_around3000  \\\n",
       "178               12373.0               1.0          123.0               0.0   \n",
       "229               17369.0               0.0            NaN               1.0   \n",
       "440                8322.0               2.0          309.0               2.0   \n",
       "650               17369.0               0.0            NaN               1.0   \n",
       "1709              11618.0               1.0          835.0               1.0   \n",
       "...                   ...               ...            ...               ...   \n",
       "21163             14600.0               2.0          104.0               0.0   \n",
       "21931             15363.0               0.0            NaN               1.0   \n",
       "22043             17369.0               0.0            NaN               1.0   \n",
       "22194              4529.0               0.0            NaN               0.0   \n",
       "22958              4529.0               0.0            NaN               0.0   \n",
       "\n",
       "       ponds_nearest  days_exposition  \n",
       "178              NaN             49.0  \n",
       "229            374.0            251.0  \n",
       "440            706.0            727.0  \n",
       "650            374.0            123.0  \n",
       "1709           652.0             77.0  \n",
       "...              ...              ...  \n",
       "21163            NaN             36.0  \n",
       "21931          853.0            512.0  \n",
       "22043          374.0            127.0  \n",
       "22194            NaN            260.0  \n",
       "22958            NaN            104.0  \n",
       "\n",
       "[84 rows x 22 columns]"
      ]
     },
     "execution_count": 209,
     "metadata": {},
     "output_type": "execute_result"
    }
   ],
   "source": [
    "real_estate_ads[real_estate_ads['floors_total'].isnull()]"
   ]
  },
  {
   "cell_type": "markdown",
   "metadata": {},
   "source": [
    "#### Замена пропущенных значений"
   ]
  },
  {
   "cell_type": "markdown",
   "metadata": {},
   "source": [
    "Можно заметить, что количество этажей в доме не указано, но квартира находится, например, на 18 этаже или на 9 этаже. Это говорит о том, что дом имеет минимум это количество этажей.\n",
    "\n",
    "<b>Заполним эти пропущенные значения этажем, на котором располагается квартира</b>"
   ]
  },
  {
   "cell_type": "code",
   "execution_count": 210,
   "metadata": {},
   "outputs": [
    {
     "name": "stdout",
     "output_type": "stream",
     "text": [
      "Кол-во пропущенных значений в столбце floors_total: 0\n"
     ]
    }
   ],
   "source": [
    "total_floors_missing = real_estate_ads[real_estate_ads['floors_total'].isnull()].index\n",
    "\n",
    "for row in total_floors_missing:\n",
    "    real_estate_ads.loc[row, 'floors_total'] = real_estate_ads['floor'][row]\n",
    "    \n",
    "    \n",
    "# Проверим наличие пропущенных значений после замены\n",
    "print('Кол-во пропущенных значений в столбце {}: {}'.format(\n",
    "    'floors_total', real_estate_ads['floors_total'].isnull().sum())\n",
    "     )\n"
   ]
  },
  {
   "cell_type": "markdown",
   "metadata": {},
   "source": [
    "#### Вывод и причины возникновения"
   ]
  },
  {
   "cell_type": "code",
   "execution_count": 211,
   "metadata": {},
   "outputs": [
    {
     "data": {
      "text/plain": [
       "<matplotlib.axes._subplots.AxesSubplot at 0x131e5a02748>"
      ]
     },
     "execution_count": 211,
     "metadata": {},
     "output_type": "execute_result"
    },
    {
     "data": {
      "image/png": "[encoded data removed]",
      "text/plain": [
       "<Figure size 432x288 with 1 Axes>"
      ]
     },
     "metadata": {
      "needs_background": "light"
     },
     "output_type": "display_data"
    }
   ],
   "source": [
    "real_estate_ads['floors_total'].plot(kind='hist', bins = [0, 5, 10, 15, 30, 60], title='Количество этажей в доме', grid=True)"
   ]
  },
  {
   "cell_type": "markdown",
   "metadata": {},
   "source": [
    "Основываясь на гистограмме, можно сделать вывод, что большинство домов имеют около 5-10, но есть и исключения, такие как 60-этажные дома, это вполне реально.\n",
    "\n",
    "<b>Причины пропущенных значений:</b>\n",
    "\n",
    "- Дом имеет 1 этаж\n",
    "- Продавец не указал общее количество этажей\n",
    "- Данные были утеряны"
   ]
  },
  {
   "cell_type": "code",
   "execution_count": 212,
   "metadata": {},
   "outputs": [
    {
     "name": "stdout",
     "output_type": "stream",
     "text": [
      "parks_nearest          15143\n",
      "ponds_nearest          14160\n",
      "airports_nearest        5242\n",
      "cityCenters_nearest     5219\n",
      "parks_around3000        5218\n",
      "ponds_around3000        5218\n",
      "days_exposition         3083\n",
      "dtype: int64\n"
     ]
    }
   ],
   "source": [
    "# Проверим оставшиеся пропущенные значения\n",
    "miss_cols = pd.Series(dtype='float64')\n",
    "for col in real_estate_ads:\n",
    "    if real_estate_ads[col].isnull().any() == True:\n",
    "        miss_cols[col] = real_estate_ads[col].isna().sum()\n",
    "print(miss_cols.sort_values(ascending=False))"
   ]
  },
  {
   "cell_type": "markdown",
   "metadata": {},
   "source": [
    "### Столбец 'cityCenters_nearest'"
   ]
  },
  {
   "cell_type": "code",
   "execution_count": 213,
   "metadata": {},
   "outputs": [
    {
     "data": {
      "text/html": [
       "<div>\n",
       "<style scoped>\n",
       "    .dataframe tbody tr th:only-of-type {\n",
       "        vertical-align: middle;\n",
       "    }\n",
       "\n",
       "    .dataframe tbody tr th {\n",
       "        vertical-align: top;\n",
       "    }\n",
       "\n",
       "    .dataframe thead th {\n",
       "        text-align: right;\n",
       "    }\n",
       "</style>\n",
       "<table border=\"1\" class=\"dataframe\">\n",
       "  <thead>\n",
       "    <tr style=\"text-align: right;\">\n",
       "      <th></th>\n",
       "      <th>total_images</th>\n",
       "      <th>last_price</th>\n",
       "      <th>total_area</th>\n",
       "      <th>first_day_exposition</th>\n",
       "      <th>rooms</th>\n",
       "      <th>ceiling_height</th>\n",
       "      <th>floors_total</th>\n",
       "      <th>living_area</th>\n",
       "      <th>floor</th>\n",
       "      <th>is_apartment</th>\n",
       "      <th>...</th>\n",
       "      <th>kitchen_area</th>\n",
       "      <th>balcony</th>\n",
       "      <th>locality_name</th>\n",
       "      <th>airports_nearest</th>\n",
       "      <th>cityCenters_nearest</th>\n",
       "      <th>parks_around3000</th>\n",
       "      <th>parks_nearest</th>\n",
       "      <th>ponds_around3000</th>\n",
       "      <th>ponds_nearest</th>\n",
       "      <th>days_exposition</th>\n",
       "    </tr>\n",
       "  </thead>\n",
       "  <tbody>\n",
       "    <tr>\n",
       "      <th>4</th>\n",
       "      <td>10</td>\n",
       "      <td>2890000.0</td>\n",
       "      <td>30.40</td>\n",
       "      <td>2018-09-10T00:00:00</td>\n",
       "      <td>1</td>\n",
       "      <td>2.85</td>\n",
       "      <td>12.0</td>\n",
       "      <td>14.40000</td>\n",
       "      <td>5</td>\n",
       "      <td>False</td>\n",
       "      <td>...</td>\n",
       "      <td>9.1000</td>\n",
       "      <td>1.0</td>\n",
       "      <td>городской посёлок Янино-1</td>\n",
       "      <td>NaN</td>\n",
       "      <td>NaN</td>\n",
       "      <td>NaN</td>\n",
       "      <td>NaN</td>\n",
       "      <td>NaN</td>\n",
       "      <td>NaN</td>\n",
       "      <td>55.0</td>\n",
       "    </tr>\n",
       "    <tr>\n",
       "      <th>6</th>\n",
       "      <td>20</td>\n",
       "      <td>2900000.0</td>\n",
       "      <td>33.16</td>\n",
       "      <td>2018-05-23T00:00:00</td>\n",
       "      <td>1</td>\n",
       "      <td>2.85</td>\n",
       "      <td>27.0</td>\n",
       "      <td>15.43000</td>\n",
       "      <td>26</td>\n",
       "      <td>False</td>\n",
       "      <td>...</td>\n",
       "      <td>8.8100</td>\n",
       "      <td>1.0</td>\n",
       "      <td>посёлок Мурино</td>\n",
       "      <td>NaN</td>\n",
       "      <td>NaN</td>\n",
       "      <td>NaN</td>\n",
       "      <td>NaN</td>\n",
       "      <td>NaN</td>\n",
       "      <td>NaN</td>\n",
       "      <td>189.0</td>\n",
       "    </tr>\n",
       "    <tr>\n",
       "      <th>10</th>\n",
       "      <td>10</td>\n",
       "      <td>3890000.0</td>\n",
       "      <td>54.00</td>\n",
       "      <td>2016-06-30T00:00:00</td>\n",
       "      <td>2</td>\n",
       "      <td>2.85</td>\n",
       "      <td>5.0</td>\n",
       "      <td>30.00000</td>\n",
       "      <td>5</td>\n",
       "      <td>False</td>\n",
       "      <td>...</td>\n",
       "      <td>9.0000</td>\n",
       "      <td>0.0</td>\n",
       "      <td>Сертолово</td>\n",
       "      <td>NaN</td>\n",
       "      <td>NaN</td>\n",
       "      <td>NaN</td>\n",
       "      <td>NaN</td>\n",
       "      <td>NaN</td>\n",
       "      <td>NaN</td>\n",
       "      <td>90.0</td>\n",
       "    </tr>\n",
       "    <tr>\n",
       "      <th>20</th>\n",
       "      <td>20</td>\n",
       "      <td>5000000.0</td>\n",
       "      <td>58.00</td>\n",
       "      <td>2017-04-24T00:00:00</td>\n",
       "      <td>2</td>\n",
       "      <td>2.75</td>\n",
       "      <td>25.0</td>\n",
       "      <td>30.00000</td>\n",
       "      <td>15</td>\n",
       "      <td>False</td>\n",
       "      <td>...</td>\n",
       "      <td>11.0000</td>\n",
       "      <td>2.0</td>\n",
       "      <td>деревня Кудрово</td>\n",
       "      <td>NaN</td>\n",
       "      <td>NaN</td>\n",
       "      <td>NaN</td>\n",
       "      <td>NaN</td>\n",
       "      <td>NaN</td>\n",
       "      <td>NaN</td>\n",
       "      <td>60.0</td>\n",
       "    </tr>\n",
       "    <tr>\n",
       "      <th>28</th>\n",
       "      <td>12</td>\n",
       "      <td>2200000.0</td>\n",
       "      <td>32.80</td>\n",
       "      <td>2018-02-19T00:00:00</td>\n",
       "      <td>1</td>\n",
       "      <td>2.85</td>\n",
       "      <td>9.0</td>\n",
       "      <td>18.69928</td>\n",
       "      <td>2</td>\n",
       "      <td>False</td>\n",
       "      <td>...</td>\n",
       "      <td>5.6088</td>\n",
       "      <td>0.0</td>\n",
       "      <td>Коммунар</td>\n",
       "      <td>NaN</td>\n",
       "      <td>NaN</td>\n",
       "      <td>NaN</td>\n",
       "      <td>NaN</td>\n",
       "      <td>NaN</td>\n",
       "      <td>NaN</td>\n",
       "      <td>63.0</td>\n",
       "    </tr>\n",
       "    <tr>\n",
       "      <th>...</th>\n",
       "      <td>...</td>\n",
       "      <td>...</td>\n",
       "      <td>...</td>\n",
       "      <td>...</td>\n",
       "      <td>...</td>\n",
       "      <td>...</td>\n",
       "      <td>...</td>\n",
       "      <td>...</td>\n",
       "      <td>...</td>\n",
       "      <td>...</td>\n",
       "      <td>...</td>\n",
       "      <td>...</td>\n",
       "      <td>...</td>\n",
       "      <td>...</td>\n",
       "      <td>...</td>\n",
       "      <td>...</td>\n",
       "      <td>...</td>\n",
       "      <td>...</td>\n",
       "      <td>...</td>\n",
       "      <td>...</td>\n",
       "      <td>...</td>\n",
       "    </tr>\n",
       "    <tr>\n",
       "      <th>23049</th>\n",
       "      <td>16</td>\n",
       "      <td>2100000.0</td>\n",
       "      <td>62.80</td>\n",
       "      <td>2018-09-18T00:00:00</td>\n",
       "      <td>4</td>\n",
       "      <td>2.50</td>\n",
       "      <td>5.0</td>\n",
       "      <td>45.50000</td>\n",
       "      <td>3</td>\n",
       "      <td>False</td>\n",
       "      <td>...</td>\n",
       "      <td>5.5000</td>\n",
       "      <td>1.0</td>\n",
       "      <td>посёлок Дзержинского</td>\n",
       "      <td>NaN</td>\n",
       "      <td>NaN</td>\n",
       "      <td>NaN</td>\n",
       "      <td>NaN</td>\n",
       "      <td>NaN</td>\n",
       "      <td>NaN</td>\n",
       "      <td>NaN</td>\n",
       "    </tr>\n",
       "    <tr>\n",
       "      <th>23058</th>\n",
       "      <td>2</td>\n",
       "      <td>1350000.0</td>\n",
       "      <td>30.00</td>\n",
       "      <td>2017-07-07T00:00:00</td>\n",
       "      <td>1</td>\n",
       "      <td>2.85</td>\n",
       "      <td>5.0</td>\n",
       "      <td>17.50000</td>\n",
       "      <td>4</td>\n",
       "      <td>False</td>\n",
       "      <td>...</td>\n",
       "      <td>6.0000</td>\n",
       "      <td>1.0</td>\n",
       "      <td>Тихвин</td>\n",
       "      <td>NaN</td>\n",
       "      <td>NaN</td>\n",
       "      <td>NaN</td>\n",
       "      <td>NaN</td>\n",
       "      <td>NaN</td>\n",
       "      <td>NaN</td>\n",
       "      <td>413.0</td>\n",
       "    </tr>\n",
       "    <tr>\n",
       "      <th>23061</th>\n",
       "      <td>14</td>\n",
       "      <td>3100000.0</td>\n",
       "      <td>59.00</td>\n",
       "      <td>2018-01-15T00:00:00</td>\n",
       "      <td>3</td>\n",
       "      <td>2.85</td>\n",
       "      <td>5.0</td>\n",
       "      <td>38.00000</td>\n",
       "      <td>4</td>\n",
       "      <td>False</td>\n",
       "      <td>...</td>\n",
       "      <td>8.5000</td>\n",
       "      <td>1.0</td>\n",
       "      <td>Тосно</td>\n",
       "      <td>NaN</td>\n",
       "      <td>NaN</td>\n",
       "      <td>NaN</td>\n",
       "      <td>NaN</td>\n",
       "      <td>NaN</td>\n",
       "      <td>NaN</td>\n",
       "      <td>45.0</td>\n",
       "    </tr>\n",
       "    <tr>\n",
       "      <th>23062</th>\n",
       "      <td>18</td>\n",
       "      <td>2500000.0</td>\n",
       "      <td>56.70</td>\n",
       "      <td>2018-02-11T00:00:00</td>\n",
       "      <td>2</td>\n",
       "      <td>2.85</td>\n",
       "      <td>3.0</td>\n",
       "      <td>29.70000</td>\n",
       "      <td>1</td>\n",
       "      <td>False</td>\n",
       "      <td>...</td>\n",
       "      <td>9.6957</td>\n",
       "      <td>0.0</td>\n",
       "      <td>село Рождествено</td>\n",
       "      <td>NaN</td>\n",
       "      <td>NaN</td>\n",
       "      <td>NaN</td>\n",
       "      <td>NaN</td>\n",
       "      <td>NaN</td>\n",
       "      <td>NaN</td>\n",
       "      <td>NaN</td>\n",
       "    </tr>\n",
       "    <tr>\n",
       "      <th>23064</th>\n",
       "      <td>4</td>\n",
       "      <td>1350000.0</td>\n",
       "      <td>32.30</td>\n",
       "      <td>2017-07-21T00:00:00</td>\n",
       "      <td>1</td>\n",
       "      <td>2.50</td>\n",
       "      <td>5.0</td>\n",
       "      <td>12.30000</td>\n",
       "      <td>1</td>\n",
       "      <td>False</td>\n",
       "      <td>...</td>\n",
       "      <td>9.0000</td>\n",
       "      <td>0.0</td>\n",
       "      <td>поселок Новый Учхоз</td>\n",
       "      <td>NaN</td>\n",
       "      <td>NaN</td>\n",
       "      <td>NaN</td>\n",
       "      <td>NaN</td>\n",
       "      <td>NaN</td>\n",
       "      <td>NaN</td>\n",
       "      <td>NaN</td>\n",
       "    </tr>\n",
       "  </tbody>\n",
       "</table>\n",
       "<p>5219 rows × 22 columns</p>\n",
       "</div>"
      ],
      "text/plain": [
       "       total_images  last_price  total_area first_day_exposition  rooms  \\\n",
       "4                10   2890000.0       30.40  2018-09-10T00:00:00      1   \n",
       "6                20   2900000.0       33.16  2018-05-23T00:00:00      1   \n",
       "10               10   3890000.0       54.00  2016-06-30T00:00:00      2   \n",
       "20               20   5000000.0       58.00  2017-04-24T00:00:00      2   \n",
       "28               12   2200000.0       32.80  2018-02-19T00:00:00      1   \n",
       "...             ...         ...         ...                  ...    ...   \n",
       "23049            16   2100000.0       62.80  2018-09-18T00:00:00      4   \n",
       "23058             2   1350000.0       30.00  2017-07-07T00:00:00      1   \n",
       "23061            14   3100000.0       59.00  2018-01-15T00:00:00      3   \n",
       "23062            18   2500000.0       56.70  2018-02-11T00:00:00      2   \n",
       "23064             4   1350000.0       32.30  2017-07-21T00:00:00      1   \n",
       "\n",
       "       ceiling_height  floors_total  living_area  floor  is_apartment  ...  \\\n",
       "4                2.85          12.0     14.40000      5         False  ...   \n",
       "6                2.85          27.0     15.43000     26         False  ...   \n",
       "10               2.85           5.0     30.00000      5         False  ...   \n",
       "20               2.75          25.0     30.00000     15         False  ...   \n",
       "28               2.85           9.0     18.69928      2         False  ...   \n",
       "...               ...           ...          ...    ...           ...  ...   \n",
       "23049            2.50           5.0     45.50000      3         False  ...   \n",
       "23058            2.85           5.0     17.50000      4         False  ...   \n",
       "23061            2.85           5.0     38.00000      4         False  ...   \n",
       "23062            2.85           3.0     29.70000      1         False  ...   \n",
       "23064            2.50           5.0     12.30000      1         False  ...   \n",
       "\n",
       "       kitchen_area  balcony              locality_name  airports_nearest  \\\n",
       "4            9.1000      1.0  городской посёлок Янино-1               NaN   \n",
       "6            8.8100      1.0             посёлок Мурино               NaN   \n",
       "10           9.0000      0.0                  Сертолово               NaN   \n",
       "20          11.0000      2.0            деревня Кудрово               NaN   \n",
       "28           5.6088      0.0                   Коммунар               NaN   \n",
       "...             ...      ...                        ...               ...   \n",
       "23049        5.5000      1.0       посёлок Дзержинского               NaN   \n",
       "23058        6.0000      1.0                     Тихвин               NaN   \n",
       "23061        8.5000      1.0                      Тосно               NaN   \n",
       "23062        9.6957      0.0           село Рождествено               NaN   \n",
       "23064        9.0000      0.0        поселок Новый Учхоз               NaN   \n",
       "\n",
       "      cityCenters_nearest  parks_around3000  parks_nearest  ponds_around3000  \\\n",
       "4                     NaN               NaN            NaN               NaN   \n",
       "6                     NaN               NaN            NaN               NaN   \n",
       "10                    NaN               NaN            NaN               NaN   \n",
       "20                    NaN               NaN            NaN               NaN   \n",
       "28                    NaN               NaN            NaN               NaN   \n",
       "...                   ...               ...            ...               ...   \n",
       "23049                 NaN               NaN            NaN               NaN   \n",
       "23058                 NaN               NaN            NaN               NaN   \n",
       "23061                 NaN               NaN            NaN               NaN   \n",
       "23062                 NaN               NaN            NaN               NaN   \n",
       "23064                 NaN               NaN            NaN               NaN   \n",
       "\n",
       "       ponds_nearest  days_exposition  \n",
       "4                NaN             55.0  \n",
       "6                NaN            189.0  \n",
       "10               NaN             90.0  \n",
       "20               NaN             60.0  \n",
       "28               NaN             63.0  \n",
       "...              ...              ...  \n",
       "23049            NaN              NaN  \n",
       "23058            NaN            413.0  \n",
       "23061            NaN             45.0  \n",
       "23062            NaN              NaN  \n",
       "23064            NaN              NaN  \n",
       "\n",
       "[5219 rows x 22 columns]"
      ]
     },
     "execution_count": 213,
     "metadata": {},
     "output_type": "execute_result"
    }
   ],
   "source": [
    "real_estate_ads[real_estate_ads['cityCenters_nearest'].isnull()]\n",
    "#real_estate_ads.query('cityCenters_nearest.isnull()')"
   ]
  },
  {
   "cell_type": "markdown",
   "metadata": {},
   "source": [
    "#### Замена пропущенных значений"
   ]
  },
  {
   "cell_type": "markdown",
   "metadata": {},
   "source": [
    "Эти данные являются картографическими, пропущенные значения имеют смысл, они говорят о том, что центр находится слишком далеко. Считаю правильным ОСТАВИТЬ эти пропущенные значения."
   ]
  },
  {
   "cell_type": "markdown",
   "metadata": {},
   "source": [
    "#### Вывод и причины возникновения"
   ]
  },
  {
   "cell_type": "code",
   "execution_count": 214,
   "metadata": {},
   "outputs": [
    {
     "data": {
      "text/plain": [
       "<matplotlib.axes._subplots.AxesSubplot at 0x131e5a94448>"
      ]
     },
     "execution_count": 214,
     "metadata": {},
     "output_type": "execute_result"
    },
    {
     "data": {
      "image/png": "[encoded data removed]",
      "text/plain": [
       "<Figure size 432x288 with 1 Axes>"
      ]
     },
     "metadata": {
      "needs_background": "light"
     },
     "output_type": "display_data"
    }
   ],
   "source": [
    "real_estate_ads['cityCenters_nearest'].plot(kind='hist', title='Расстояние до центра (м)', grid=True)"
   ]
  },
  {
   "cell_type": "markdown",
   "metadata": {},
   "source": [
    "Основываясь на гистограмме, можем сделать вывод, что большинство квартир находятся в 20 км от центра, неплохой показатель.\n",
    "\n",
    "<b>Причиной пропущенного значения могло является:</b>\n",
    "\n",
    "- Утеря картографических данных"
   ]
  },
  {
   "cell_type": "code",
   "execution_count": 215,
   "metadata": {},
   "outputs": [
    {
     "name": "stdout",
     "output_type": "stream",
     "text": [
      "parks_nearest          15143\n",
      "ponds_nearest          14160\n",
      "airports_nearest        5242\n",
      "cityCenters_nearest     5219\n",
      "parks_around3000        5218\n",
      "ponds_around3000        5218\n",
      "days_exposition         3083\n",
      "dtype: int64\n"
     ]
    }
   ],
   "source": [
    "# Проверим оставшиеся пропущенные значения\n",
    "miss_cols = pd.Series(dtype='float64')\n",
    "for col in real_estate_ads:\n",
    "    if real_estate_ads[col].isnull().any() == True:\n",
    "        miss_cols[col] = real_estate_ads[col].isna().sum()\n",
    "print(miss_cols.sort_values(ascending=False))"
   ]
  },
  {
   "cell_type": "markdown",
   "metadata": {},
   "source": [
    "<b>Важных пропущенных значений не осталось! Теперь приведем все данные к нужному типу!</b>"
   ]
  },
  {
   "cell_type": "markdown",
   "metadata": {},
   "source": [
    "### Приводение данных к нужным типам"
   ]
  },
  {
   "cell_type": "code",
   "execution_count": 216,
   "metadata": {},
   "outputs": [
    {
     "name": "stdout",
     "output_type": "stream",
     "text": [
      "<class 'pandas.core.frame.DataFrame'>\n",
      "RangeIndex: 23065 entries, 0 to 23064\n",
      "Data columns (total 22 columns):\n",
      " #   Column                Non-Null Count  Dtype  \n",
      "---  ------                --------------  -----  \n",
      " 0   total_images          23065 non-null  int64  \n",
      " 1   last_price            23065 non-null  float64\n",
      " 2   total_area            23065 non-null  float64\n",
      " 3   first_day_exposition  23065 non-null  object \n",
      " 4   rooms                 23065 non-null  int64  \n",
      " 5   ceiling_height        23065 non-null  float64\n",
      " 6   floors_total          23065 non-null  float64\n",
      " 7   living_area           23065 non-null  float64\n",
      " 8   floor                 23065 non-null  int64  \n",
      " 9   is_apartment          23065 non-null  bool   \n",
      " 10  studio                23065 non-null  bool   \n",
      " 11  open_plan             23065 non-null  bool   \n",
      " 12  kitchen_area          23065 non-null  float64\n",
      " 13  balcony               23065 non-null  float64\n",
      " 14  locality_name         23065 non-null  object \n",
      " 15  airports_nearest      17823 non-null  float64\n",
      " 16  cityCenters_nearest   17846 non-null  float64\n",
      " 17  parks_around3000      17847 non-null  float64\n",
      " 18  parks_nearest         7922 non-null   float64\n",
      " 19  ponds_around3000      17847 non-null  float64\n",
      " 20  ponds_nearest         8905 non-null   float64\n",
      " 21  days_exposition       19982 non-null  float64\n",
      "dtypes: bool(3), float64(14), int64(3), object(2)\n",
      "memory usage: 3.4+ MB\n"
     ]
    }
   ],
   "source": [
    "real_estate_ads = real_estate_ads.reset_index(drop=True)\n",
    "real_estate_ads.info()"
   ]
  },
  {
   "cell_type": "markdown",
   "metadata": {},
   "source": [
    "<b>Список столбцов, которые мы преобразуем, к какому типу и почему:</b>\n",
    "\n",
    "- 'last_price' преобразуем в int, чтобы цена была целым числом\n",
    "- 'first_day_exposition' преобразуем в data, чтобы в дальнейшем использовать этот столбец для анализа, оставим только дату, без времени, так как везде стоит время 00:00.\n",
    "- 'floors_total' преобразуем в int, ведь количество этажей в доме всегда целое число\n",
    "- 'is_apartment', 'studio', 'open_plan' - преобразуем в int, то есть в 1 или 0 для того, чтобы использовать эти данные для анализа\n",
    "- 'balcony' преобразуем в int, ведь количество балконов всегда целое число\n",
    "- 'airports_nearest', 'cityCenters_nearest', 'parks_around3000', 'parks_nearest', 'ponds_around3000', 'ponds_nearest', 'days_exposition' - преобразуем в int, ведь это все целые числа."
   ]
  },
  {
   "cell_type": "code",
   "execution_count": 217,
   "metadata": {},
   "outputs": [],
   "source": [
    "real_estate_ads['last_price'] = real_estate_ads['last_price'].astype(int)\n",
    "real_estate_ads['first_day_exposition'] = pd.to_datetime(\n",
    "    real_estate_ads['first_day_exposition'], format='%Y-%m-%d'\n",
    ")\n",
    "real_estate_ads['floors_total'] = real_estate_ads['floors_total'].astype(int)\n",
    "real_estate_ads['is_apartment'] = real_estate_ads['is_apartment'].astype(int)\n",
    "real_estate_ads['studio'] = real_estate_ads['studio'].astype(int)\n",
    "real_estate_ads['open_plan'] = real_estate_ads['open_plan'].astype(int)\n",
    "real_estate_ads['balcony'] = real_estate_ads['balcony'].astype(int)\n",
    "real_estate_ads['airports_nearest'] = real_estate_ads['airports_nearest'].astype('int64', errors='ignore')\n",
    "real_estate_ads['cityCenters_nearest'] = real_estate_ads['cityCenters_nearest'].astype('int64', errors='ignore')\n",
    "real_estate_ads['parks_around3000'] = real_estate_ads['parks_around3000'].astype('int64', errors='ignore')\n",
    "real_estate_ads['parks_nearest'] = real_estate_ads['parks_nearest'].astype('int64', errors='ignore')\n",
    "real_estate_ads['ponds_around3000'] = real_estate_ads['ponds_around3000'].astype('int64', errors='ignore')\n",
    "real_estate_ads['ponds_nearest'] = real_estate_ads['ponds_nearest'].astype('int64', errors='ignore')\n",
    "real_estate_ads['days_exposition'] = real_estate_ads['days_exposition'].astype('int64', errors='ignore')"
   ]
  },
  {
   "cell_type": "code",
   "execution_count": 218,
   "metadata": {},
   "outputs": [
    {
     "name": "stdout",
     "output_type": "stream",
     "text": [
      "<class 'pandas.core.frame.DataFrame'>\n",
      "RangeIndex: 23065 entries, 0 to 23064\n",
      "Data columns (total 22 columns):\n",
      " #   Column                Non-Null Count  Dtype         \n",
      "---  ------                --------------  -----         \n",
      " 0   total_images          23065 non-null  int64         \n",
      " 1   last_price            23065 non-null  int32         \n",
      " 2   total_area            23065 non-null  float64       \n",
      " 3   first_day_exposition  23065 non-null  datetime64[ns]\n",
      " 4   rooms                 23065 non-null  int64         \n",
      " 5   ceiling_height        23065 non-null  float64       \n",
      " 6   floors_total          23065 non-null  int32         \n",
      " 7   living_area           23065 non-null  float64       \n",
      " 8   floor                 23065 non-null  int64         \n",
      " 9   is_apartment          23065 non-null  int32         \n",
      " 10  studio                23065 non-null  int32         \n",
      " 11  open_plan             23065 non-null  int32         \n",
      " 12  kitchen_area          23065 non-null  float64       \n",
      " 13  balcony               23065 non-null  int32         \n",
      " 14  locality_name         23065 non-null  object        \n",
      " 15  airports_nearest      17823 non-null  float64       \n",
      " 16  cityCenters_nearest   17846 non-null  float64       \n",
      " 17  parks_around3000      17847 non-null  float64       \n",
      " 18  parks_nearest         7922 non-null   float64       \n",
      " 19  ponds_around3000      17847 non-null  float64       \n",
      " 20  ponds_nearest         8905 non-null   float64       \n",
      " 21  days_exposition       19982 non-null  float64       \n",
      "dtypes: datetime64[ns](1), float64(11), int32(6), int64(3), object(1)\n",
      "memory usage: 3.3+ MB\n"
     ]
    }
   ],
   "source": [
    "real_estate_ads.info()"
   ]
  },
  {
   "cell_type": "markdown",
   "metadata": {},
   "source": [
    "## Расчёты и добавление результатов в таблицу"
   ]
  },
  {
   "cell_type": "markdown",
   "metadata": {},
   "source": [
    "Добавление столбца \"цена за квадратный метр\""
   ]
  },
  {
   "cell_type": "code",
   "execution_count": 219,
   "metadata": {},
   "outputs": [],
   "source": [
    "real_estate_ads['price_per_square_meter'] = real_estate_ads['last_price'] / real_estate_ads['total_area']"
   ]
  },
  {
   "cell_type": "markdown",
   "metadata": {},
   "source": [
    "День недели, месяц и год"
   ]
  },
  {
   "cell_type": "code",
   "execution_count": 220,
   "metadata": {},
   "outputs": [],
   "source": [
    "real_estate_ads['year_exposition'] = real_estate_ads['first_day_exposition'].dt.year\n",
    "real_estate_ads['month_exposition'] = real_estate_ads['first_day_exposition'].dt.month\n",
    "real_estate_ads['day_exposition'] = real_estate_ads['first_day_exposition'].dt.day"
   ]
  },
  {
   "cell_type": "markdown",
   "metadata": {},
   "source": [
    "Этаж квартиры; варианты — первый, последний, другой;"
   ]
  },
  {
   "cell_type": "code",
   "execution_count": 221,
   "metadata": {},
   "outputs": [
    {
     "data": {
      "text/plain": [
       "0        другой\n",
       "1        первый\n",
       "2        другой\n",
       "3        другой\n",
       "4        другой\n",
       "          ...  \n",
       "23060    другой\n",
       "23061    другой\n",
       "23062    первый\n",
       "23063    другой\n",
       "23064    первый\n",
       "Name: home_floor, Length: 23065, dtype: object"
      ]
     },
     "execution_count": 221,
     "metadata": {},
     "output_type": "execute_result"
    }
   ],
   "source": [
    "real_estate_ads['home_floor'] = 0\n",
    "for row in range(real_estate_ads.shape[0]):\n",
    "    if real_estate_ads['floor'][row] == 1:\n",
    "        real_estate_ads.loc[row, 'home_floor'] = 'первый'\n",
    "    elif real_estate_ads['floor'][row] == real_estate_ads['floors_total'][row]:\n",
    "        real_estate_ads.loc[row, 'home_floor'] = 'последний'\n",
    "    else:\n",
    "        real_estate_ads.loc[row, 'home_floor'] = 'другой'\n",
    "    \n",
    "real_estate_ads['home_floor']"
   ]
  },
  {
   "cell_type": "markdown",
   "metadata": {},
   "source": [
    "Cоотношение жилой и общей площади, а также отношение площади кухни к общей."
   ]
  },
  {
   "cell_type": "code",
   "execution_count": 222,
   "metadata": {},
   "outputs": [
    {
     "name": "stdout",
     "output_type": "stream",
     "text": [
      "Медиана доли жилой площади относительно общей площади: 57.01%\n",
      "Медиана доли площади кухни относительно общей площади: 17.10%\n"
     ]
    }
   ],
   "source": [
    "real_estate_ads['total_living_area'] = real_estate_ads['living_area'] / real_estate_ads['total_area']\n",
    "real_estate_ads['total_kitchen_area'] = real_estate_ads['kitchen_area'] / real_estate_ads['total_area']\n",
    "\n",
    "total_area_living_area = real_estate_ads['living_area'] / real_estate_ads['total_area']\n",
    "print('Медиана доли жилой площади относительно общей площади: {:.2%}'.format(total_area_living_area.median()))\n",
    "\n",
    "total_area_kitchen_area = real_estate_ads['kitchen_area'] / real_estate_ads['total_area']\n",
    "print('Медиана доли площади кухни относительно общей площади: {:.2%}'.format(total_area_kitchen_area.median()))"
   ]
  },
  {
   "cell_type": "markdown",
   "metadata": {},
   "source": [
    "## Исследовательский анализ данных"
   ]
  },
  {
   "cell_type": "markdown",
   "metadata": {},
   "source": [
    "Изучим следующие параметры: площадь, цена, число комнат, высота потолков. Построим гистограммы для каждого параметра."
   ]
  },
  {
   "cell_type": "code",
   "execution_count": 223,
   "metadata": {},
   "outputs": [
    {
     "data": {
      "text/plain": [
       "<matplotlib.axes._subplots.AxesSubplot at 0x131e5b27dc8>"
      ]
     },
     "execution_count": 223,
     "metadata": {},
     "output_type": "execute_result"
    },
    {
     "data": {
      "image/png": "[encoded data removed]",
      "text/plain": [
       "<Figure size 432x288 with 1 Axes>"
      ]
     },
     "metadata": {
      "needs_background": "light"
     },
     "output_type": "display_data"
    }
   ],
   "source": [
    "real_estate_ads['total_area'].plot(kind='hist', title='Общая площадь', grid=True)"
   ]
  },
  {
   "cell_type": "code",
   "execution_count": 224,
   "metadata": {},
   "outputs": [
    {
     "data": {
      "text/plain": [
       "<matplotlib.axes._subplots.AxesSubplot at 0x131e5e30e08>"
      ]
     },
     "execution_count": 224,
     "metadata": {},
     "output_type": "execute_result"
    },
    {
     "data": {
      "image/png": "[encoded data removed]",
      "text/plain": [
       "<Figure size 432x288 with 1 Axes>"
      ]
     },
     "metadata": {
      "needs_background": "light"
     },
     "output_type": "display_data"
    }
   ],
   "source": [
    "real_estate_ads['last_price'].plot(kind='hist', title='Цена квартир', grid=True)"
   ]
  },
  {
   "cell_type": "code",
   "execution_count": 225,
   "metadata": {},
   "outputs": [
    {
     "data": {
      "text/plain": [
       "<matplotlib.axes._subplots.AxesSubplot at 0x131e5e98748>"
      ]
     },
     "execution_count": 225,
     "metadata": {},
     "output_type": "execute_result"
    },
    {
     "data": {
      "image/png": "[encoded data removed]",
      "text/plain": [
       "<Figure size 432x288 with 1 Axes>"
      ]
     },
     "metadata": {
      "needs_background": "light"
     },
     "output_type": "display_data"
    }
   ],
   "source": [
    "real_estate_ads['rooms'].plot(kind='hist', title='Количество комнат', grid=True)"
   ]
  },
  {
   "cell_type": "code",
   "execution_count": 226,
   "metadata": {},
   "outputs": [
    {
     "data": {
      "text/plain": [
       "<matplotlib.axes._subplots.AxesSubplot at 0x131e5f13148>"
      ]
     },
     "execution_count": 226,
     "metadata": {},
     "output_type": "execute_result"
    },
    {
     "data": {
      "image/png": "[encoded data removed]",
      "text/plain": [
       "<Figure size 432x288 with 1 Axes>"
      ]
     },
     "metadata": {
      "needs_background": "light"
     },
     "output_type": "display_data"
    }
   ],
   "source": [
    "real_estate_ads['ceiling_height'].plot(kind='hist', title='Высота потолков', grid=True)"
   ]
  },
  {
   "cell_type": "markdown",
   "metadata": {},
   "source": [
    "Изучим время продажи квартиры. Построим гистограмму. Посчитаем среднее и медиану. Опишем, сколько обычно занимает продажа. Когда можно считать, что продажи прошли очень быстро, а когда необычно долго?"
   ]
  },
  {
   "cell_type": "code",
   "execution_count": 227,
   "metadata": {},
   "outputs": [
    {
     "data": {
      "text/plain": [
       "<matplotlib.axes._subplots.AxesSubplot at 0x131e5f9f548>"
      ]
     },
     "execution_count": 227,
     "metadata": {},
     "output_type": "execute_result"
    },
    {
     "data": {
      "image/png": "[encoded data removed]",
      "text/plain": [
       "<Figure size 432x288 with 1 Axes>"
      ]
     },
     "metadata": {
      "needs_background": "light"
     },
     "output_type": "display_data"
    }
   ],
   "source": [
    "real_estate_ads['days_exposition'].plot(kind='hist', title='Количество дней размещенного объявления', grid=True)"
   ]
  },
  {
   "cell_type": "code",
   "execution_count": 228,
   "metadata": {},
   "outputs": [
    {
     "name": "stdout",
     "output_type": "stream",
     "text": [
      "Медиана времени продажи квартиры: 95.00\n",
      "Среднее время продажи квартиры: 180.77\n"
     ]
    }
   ],
   "source": [
    "print('Медиана времени продажи квартиры: {:.2f}'.format(real_estate_ads['days_exposition'].median()))\n",
    "print('Среднее время продажи квартиры: {:.2f}'.format(real_estate_ads['days_exposition'].mean()))"
   ]
  },
  {
   "cell_type": "markdown",
   "metadata": {},
   "source": [
    "Основываясь на медиане, можно сказать, что продажа квартиры обычно занимает 3 месяца.\n",
    "\n",
    "Слишком быстрой продажей квартиры можно считать продажу за 5 дней и быстрее, ведь покупателям нужно как минимум осмотреть квартиру и подготовить деньги, документы.\n",
    "\n",
    "Нельзя точно сказать, когда можно считать продажу необычно долгой, ведь квартира - это дорогая недвижимость, и она не всегда может продаться даже за 1 год. Но в рамках этого проекта, допустим, что необычно долгое время продажи квартиры - 1000 дней и больше."
   ]
  },
  {
   "cell_type": "markdown",
   "metadata": {},
   "source": [
    "<b>Уберем редкие и выбивающиеся значения. Опишем, какие особенности обнаружили.</b>\n",
    "\n",
    "Эти действия были проделаны в разделе \"Обработка выбросов\". Но в столбце \"время продажи\" редкие значения не были убраны."
   ]
  },
  {
   "cell_type": "code",
   "execution_count": 229,
   "metadata": {},
   "outputs": [
    {
     "data": {
      "text/html": [
       "<div>\n",
       "<style scoped>\n",
       "    .dataframe tbody tr th:only-of-type {\n",
       "        vertical-align: middle;\n",
       "    }\n",
       "\n",
       "    .dataframe tbody tr th {\n",
       "        vertical-align: top;\n",
       "    }\n",
       "\n",
       "    .dataframe thead th {\n",
       "        text-align: right;\n",
       "    }\n",
       "</style>\n",
       "<table border=\"1\" class=\"dataframe\">\n",
       "  <thead>\n",
       "    <tr style=\"text-align: right;\">\n",
       "      <th></th>\n",
       "      <th>total_images</th>\n",
       "      <th>last_price</th>\n",
       "      <th>total_area</th>\n",
       "      <th>first_day_exposition</th>\n",
       "      <th>rooms</th>\n",
       "      <th>ceiling_height</th>\n",
       "      <th>floors_total</th>\n",
       "      <th>living_area</th>\n",
       "      <th>floor</th>\n",
       "      <th>is_apartment</th>\n",
       "      <th>...</th>\n",
       "      <th>ponds_around3000</th>\n",
       "      <th>ponds_nearest</th>\n",
       "      <th>days_exposition</th>\n",
       "      <th>price_per_square_meter</th>\n",
       "      <th>year_exposition</th>\n",
       "      <th>month_exposition</th>\n",
       "      <th>day_exposition</th>\n",
       "      <th>home_floor</th>\n",
       "      <th>total_living_area</th>\n",
       "      <th>total_kitchen_area</th>\n",
       "    </tr>\n",
       "  </thead>\n",
       "  <tbody>\n",
       "    <tr>\n",
       "      <th>90</th>\n",
       "      <td>3</td>\n",
       "      <td>3500000</td>\n",
       "      <td>29.5</td>\n",
       "      <td>2019-04-26</td>\n",
       "      <td>1</td>\n",
       "      <td>2.50</td>\n",
       "      <td>5</td>\n",
       "      <td>15.60000</td>\n",
       "      <td>2</td>\n",
       "      <td>0</td>\n",
       "      <td>...</td>\n",
       "      <td>0.0</td>\n",
       "      <td>NaN</td>\n",
       "      <td>4.0</td>\n",
       "      <td>118644.067797</td>\n",
       "      <td>2019</td>\n",
       "      <td>4</td>\n",
       "      <td>26</td>\n",
       "      <td>другой</td>\n",
       "      <td>0.528814</td>\n",
       "      <td>0.186441</td>\n",
       "    </tr>\n",
       "    <tr>\n",
       "      <th>104</th>\n",
       "      <td>2</td>\n",
       "      <td>7497600</td>\n",
       "      <td>62.5</td>\n",
       "      <td>2015-12-08</td>\n",
       "      <td>2</td>\n",
       "      <td>2.85</td>\n",
       "      <td>5</td>\n",
       "      <td>35.50000</td>\n",
       "      <td>5</td>\n",
       "      <td>0</td>\n",
       "      <td>...</td>\n",
       "      <td>0.0</td>\n",
       "      <td>NaN</td>\n",
       "      <td>1048.0</td>\n",
       "      <td>119961.600000</td>\n",
       "      <td>2015</td>\n",
       "      <td>12</td>\n",
       "      <td>8</td>\n",
       "      <td>последний</td>\n",
       "      <td>0.568000</td>\n",
       "      <td>0.152000</td>\n",
       "    </tr>\n",
       "    <tr>\n",
       "      <th>281</th>\n",
       "      <td>20</td>\n",
       "      <td>3850000</td>\n",
       "      <td>37.0</td>\n",
       "      <td>2018-10-14</td>\n",
       "      <td>1</td>\n",
       "      <td>2.50</td>\n",
       "      <td>16</td>\n",
       "      <td>18.20000</td>\n",
       "      <td>15</td>\n",
       "      <td>0</td>\n",
       "      <td>...</td>\n",
       "      <td>0.0</td>\n",
       "      <td>NaN</td>\n",
       "      <td>3.0</td>\n",
       "      <td>104054.054054</td>\n",
       "      <td>2018</td>\n",
       "      <td>10</td>\n",
       "      <td>14</td>\n",
       "      <td>другой</td>\n",
       "      <td>0.491892</td>\n",
       "      <td>0.237838</td>\n",
       "    </tr>\n",
       "    <tr>\n",
       "      <th>339</th>\n",
       "      <td>4</td>\n",
       "      <td>5990000</td>\n",
       "      <td>43.5</td>\n",
       "      <td>2015-05-08</td>\n",
       "      <td>1</td>\n",
       "      <td>3.00</td>\n",
       "      <td>5</td>\n",
       "      <td>25.00000</td>\n",
       "      <td>4</td>\n",
       "      <td>0</td>\n",
       "      <td>...</td>\n",
       "      <td>0.0</td>\n",
       "      <td>NaN</td>\n",
       "      <td>1292.0</td>\n",
       "      <td>137701.149425</td>\n",
       "      <td>2015</td>\n",
       "      <td>5</td>\n",
       "      <td>8</td>\n",
       "      <td>другой</td>\n",
       "      <td>0.574713</td>\n",
       "      <td>0.216092</td>\n",
       "    </tr>\n",
       "    <tr>\n",
       "      <th>354</th>\n",
       "      <td>19</td>\n",
       "      <td>12500000</td>\n",
       "      <td>85.0</td>\n",
       "      <td>2018-09-21</td>\n",
       "      <td>3</td>\n",
       "      <td>2.85</td>\n",
       "      <td>6</td>\n",
       "      <td>56.50000</td>\n",
       "      <td>6</td>\n",
       "      <td>0</td>\n",
       "      <td>...</td>\n",
       "      <td>1.0</td>\n",
       "      <td>36.0</td>\n",
       "      <td>4.0</td>\n",
       "      <td>147058.823529</td>\n",
       "      <td>2018</td>\n",
       "      <td>9</td>\n",
       "      <td>21</td>\n",
       "      <td>последний</td>\n",
       "      <td>0.664706</td>\n",
       "      <td>0.258824</td>\n",
       "    </tr>\n",
       "    <tr>\n",
       "      <th>...</th>\n",
       "      <td>...</td>\n",
       "      <td>...</td>\n",
       "      <td>...</td>\n",
       "      <td>...</td>\n",
       "      <td>...</td>\n",
       "      <td>...</td>\n",
       "      <td>...</td>\n",
       "      <td>...</td>\n",
       "      <td>...</td>\n",
       "      <td>...</td>\n",
       "      <td>...</td>\n",
       "      <td>...</td>\n",
       "      <td>...</td>\n",
       "      <td>...</td>\n",
       "      <td>...</td>\n",
       "      <td>...</td>\n",
       "      <td>...</td>\n",
       "      <td>...</td>\n",
       "      <td>...</td>\n",
       "      <td>...</td>\n",
       "      <td>...</td>\n",
       "    </tr>\n",
       "    <tr>\n",
       "      <th>22798</th>\n",
       "      <td>17</td>\n",
       "      <td>8778000</td>\n",
       "      <td>47.5</td>\n",
       "      <td>2014-12-29</td>\n",
       "      <td>1</td>\n",
       "      <td>3.00</td>\n",
       "      <td>7</td>\n",
       "      <td>27.07975</td>\n",
       "      <td>4</td>\n",
       "      <td>0</td>\n",
       "      <td>...</td>\n",
       "      <td>3.0</td>\n",
       "      <td>204.0</td>\n",
       "      <td>1360.0</td>\n",
       "      <td>184800.000000</td>\n",
       "      <td>2014</td>\n",
       "      <td>12</td>\n",
       "      <td>29</td>\n",
       "      <td>другой</td>\n",
       "      <td>0.570100</td>\n",
       "      <td>0.246316</td>\n",
       "    </tr>\n",
       "    <tr>\n",
       "      <th>22814</th>\n",
       "      <td>0</td>\n",
       "      <td>2500000</td>\n",
       "      <td>27.7</td>\n",
       "      <td>2017-09-28</td>\n",
       "      <td>0</td>\n",
       "      <td>2.85</td>\n",
       "      <td>24</td>\n",
       "      <td>18.00000</td>\n",
       "      <td>4</td>\n",
       "      <td>0</td>\n",
       "      <td>...</td>\n",
       "      <td>NaN</td>\n",
       "      <td>NaN</td>\n",
       "      <td>4.0</td>\n",
       "      <td>90252.707581</td>\n",
       "      <td>2017</td>\n",
       "      <td>9</td>\n",
       "      <td>28</td>\n",
       "      <td>другой</td>\n",
       "      <td>0.649819</td>\n",
       "      <td>0.171000</td>\n",
       "    </tr>\n",
       "    <tr>\n",
       "      <th>22873</th>\n",
       "      <td>11</td>\n",
       "      <td>3530000</td>\n",
       "      <td>36.1</td>\n",
       "      <td>2017-11-17</td>\n",
       "      <td>1</td>\n",
       "      <td>2.85</td>\n",
       "      <td>10</td>\n",
       "      <td>19.10000</td>\n",
       "      <td>8</td>\n",
       "      <td>0</td>\n",
       "      <td>...</td>\n",
       "      <td>2.0</td>\n",
       "      <td>129.0</td>\n",
       "      <td>4.0</td>\n",
       "      <td>97783.933518</td>\n",
       "      <td>2017</td>\n",
       "      <td>11</td>\n",
       "      <td>17</td>\n",
       "      <td>другой</td>\n",
       "      <td>0.529086</td>\n",
       "      <td>0.193906</td>\n",
       "    </tr>\n",
       "    <tr>\n",
       "      <th>22910</th>\n",
       "      <td>10</td>\n",
       "      <td>1500000</td>\n",
       "      <td>43.7</td>\n",
       "      <td>2016-06-28</td>\n",
       "      <td>2</td>\n",
       "      <td>2.55</td>\n",
       "      <td>3</td>\n",
       "      <td>28.00000</td>\n",
       "      <td>2</td>\n",
       "      <td>0</td>\n",
       "      <td>...</td>\n",
       "      <td>NaN</td>\n",
       "      <td>NaN</td>\n",
       "      <td>1007.0</td>\n",
       "      <td>34324.942792</td>\n",
       "      <td>2016</td>\n",
       "      <td>6</td>\n",
       "      <td>28</td>\n",
       "      <td>другой</td>\n",
       "      <td>0.640732</td>\n",
       "      <td>0.167048</td>\n",
       "    </tr>\n",
       "    <tr>\n",
       "      <th>22974</th>\n",
       "      <td>0</td>\n",
       "      <td>2850000</td>\n",
       "      <td>68.0</td>\n",
       "      <td>2018-07-29</td>\n",
       "      <td>1</td>\n",
       "      <td>3.00</td>\n",
       "      <td>5</td>\n",
       "      <td>41.00000</td>\n",
       "      <td>3</td>\n",
       "      <td>0</td>\n",
       "      <td>...</td>\n",
       "      <td>3.0</td>\n",
       "      <td>327.0</td>\n",
       "      <td>4.0</td>\n",
       "      <td>41911.764706</td>\n",
       "      <td>2018</td>\n",
       "      <td>7</td>\n",
       "      <td>29</td>\n",
       "      <td>другой</td>\n",
       "      <td>0.602941</td>\n",
       "      <td>0.147059</td>\n",
       "    </tr>\n",
       "  </tbody>\n",
       "</table>\n",
       "<p>604 rows × 29 columns</p>\n",
       "</div>"
      ],
      "text/plain": [
       "       total_images  last_price  total_area first_day_exposition  rooms  \\\n",
       "90                3     3500000        29.5           2019-04-26      1   \n",
       "104               2     7497600        62.5           2015-12-08      2   \n",
       "281              20     3850000        37.0           2018-10-14      1   \n",
       "339               4     5990000        43.5           2015-05-08      1   \n",
       "354              19    12500000        85.0           2018-09-21      3   \n",
       "...             ...         ...         ...                  ...    ...   \n",
       "22798            17     8778000        47.5           2014-12-29      1   \n",
       "22814             0     2500000        27.7           2017-09-28      0   \n",
       "22873            11     3530000        36.1           2017-11-17      1   \n",
       "22910            10     1500000        43.7           2016-06-28      2   \n",
       "22974             0     2850000        68.0           2018-07-29      1   \n",
       "\n",
       "       ceiling_height  floors_total  living_area  floor  is_apartment  ...  \\\n",
       "90               2.50             5     15.60000      2             0  ...   \n",
       "104              2.85             5     35.50000      5             0  ...   \n",
       "281              2.50            16     18.20000     15             0  ...   \n",
       "339              3.00             5     25.00000      4             0  ...   \n",
       "354              2.85             6     56.50000      6             0  ...   \n",
       "...               ...           ...          ...    ...           ...  ...   \n",
       "22798            3.00             7     27.07975      4             0  ...   \n",
       "22814            2.85            24     18.00000      4             0  ...   \n",
       "22873            2.85            10     19.10000      8             0  ...   \n",
       "22910            2.55             3     28.00000      2             0  ...   \n",
       "22974            3.00             5     41.00000      3             0  ...   \n",
       "\n",
       "       ponds_around3000  ponds_nearest  days_exposition  \\\n",
       "90                  0.0            NaN              4.0   \n",
       "104                 0.0            NaN           1048.0   \n",
       "281                 0.0            NaN              3.0   \n",
       "339                 0.0            NaN           1292.0   \n",
       "354                 1.0           36.0              4.0   \n",
       "...                 ...            ...              ...   \n",
       "22798               3.0          204.0           1360.0   \n",
       "22814               NaN            NaN              4.0   \n",
       "22873               2.0          129.0              4.0   \n",
       "22910               NaN            NaN           1007.0   \n",
       "22974               3.0          327.0              4.0   \n",
       "\n",
       "       price_per_square_meter year_exposition  month_exposition  \\\n",
       "90              118644.067797            2019                 4   \n",
       "104             119961.600000            2015                12   \n",
       "281             104054.054054            2018                10   \n",
       "339             137701.149425            2015                 5   \n",
       "354             147058.823529            2018                 9   \n",
       "...                       ...             ...               ...   \n",
       "22798           184800.000000            2014                12   \n",
       "22814            90252.707581            2017                 9   \n",
       "22873            97783.933518            2017                11   \n",
       "22910            34324.942792            2016                 6   \n",
       "22974            41911.764706            2018                 7   \n",
       "\n",
       "       day_exposition  home_floor  total_living_area  total_kitchen_area  \n",
       "90                 26      другой           0.528814            0.186441  \n",
       "104                 8   последний           0.568000            0.152000  \n",
       "281                14      другой           0.491892            0.237838  \n",
       "339                 8      другой           0.574713            0.216092  \n",
       "354                21   последний           0.664706            0.258824  \n",
       "...               ...         ...                ...                 ...  \n",
       "22798              29      другой           0.570100            0.246316  \n",
       "22814              28      другой           0.649819            0.171000  \n",
       "22873              17      другой           0.529086            0.193906  \n",
       "22910              28      другой           0.640732            0.167048  \n",
       "22974              29      другой           0.602941            0.147059  \n",
       "\n",
       "[604 rows x 29 columns]"
      ]
     },
     "execution_count": 229,
     "metadata": {},
     "output_type": "execute_result"
    }
   ],
   "source": [
    "ads_to_drop = real_estate_ads.query('days_exposition < 5 or days_exposition > 1000')\n",
    "ads_to_drop"
   ]
  },
  {
   "cell_type": "markdown",
   "metadata": {},
   "source": [
    "604 объявления, время продажи которых выходит за рамки адекватного. Избавимся от них."
   ]
  },
  {
   "cell_type": "code",
   "execution_count": 230,
   "metadata": {},
   "outputs": [
    {
     "data": {
      "text/plain": [
       "(22461, 29)"
      ]
     },
     "execution_count": 230,
     "metadata": {},
     "output_type": "execute_result"
    }
   ],
   "source": [
    "real_estate_ads.drop(ads_to_drop.index, inplace=True)\n",
    "real_estate_ads.shape"
   ]
  },
  {
   "cell_type": "code",
   "execution_count": 231,
   "metadata": {},
   "outputs": [],
   "source": [
    "real_estate_ads = real_estate_ads.reset_index(drop=True)"
   ]
  },
  {
   "cell_type": "markdown",
   "metadata": {},
   "source": [
    "Какие факторы больше всего влияют на стоимость квартиры? Изучим, зависит ли цена от площади, числа комнат, удалённости от центра. Изучим зависимость цены от того, на каком этаже расположена квартира: первом, последнем или другом. Также изучим зависимость от даты размещения: дня недели, месяца и года."
   ]
  },
  {
   "cell_type": "code",
   "execution_count": 232,
   "metadata": {},
   "outputs": [
    {
     "data": {
      "text/plain": [
       "<matplotlib.axes._subplots.AxesSubplot at 0x131e626efc8>"
      ]
     },
     "execution_count": 232,
     "metadata": {},
     "output_type": "execute_result"
    },
    {
     "data": {
      "image/png": "[encoded data removed]",
      "text/plain": [
       "<Figure size 432x288 with 1 Axes>"
      ]
     },
     "metadata": {
      "needs_background": "light"
     },
     "output_type": "display_data"
    }
   ],
   "source": [
    "real_estate_ads.plot(x='total_area', y='last_price', kind='scatter', title='Зависимость цены от общей площади', grid=True)"
   ]
  },
  {
   "cell_type": "markdown",
   "metadata": {},
   "source": [
    "<b>Как мы видим на графике, общая площадь напрямую влияет на стоимость квартиры, особенно когда площадь в пределах до 200 кв. м., после этой отметки зависимость продолжает оставаться, но слабеет."
   ]
  },
  {
   "cell_type": "code",
   "execution_count": 233,
   "metadata": {},
   "outputs": [
    {
     "data": {
      "text/plain": [
       "<matplotlib.axes._subplots.AxesSubplot at 0x131e69f0208>"
      ]
     },
     "execution_count": 233,
     "metadata": {},
     "output_type": "execute_result"
    },
    {
     "data": {
      "image/png": "[encoded data removed]",
      "text/plain": [
       "<Figure size 432x288 with 1 Axes>"
      ]
     },
     "metadata": {
      "needs_background": "light"
     },
     "output_type": "display_data"
    }
   ],
   "source": [
    "real_estate_ads.plot(x='rooms', y='last_price', kind='scatter', title='Зависимость цены от количества комнат', grid=True)"
   ]
  },
  {
   "cell_type": "markdown",
   "metadata": {},
   "source": [
    "<b>Количество комнат также влияет на стоимость квартиры, хотя есть и такие квартиры, где 5 комнат, но стоят они так же, как и с 2 комнатами.\n",
    "    \n",
    "Но, все квартиры дороже 100 млн, имеют минимум 3 комнаты."
   ]
  },
  {
   "cell_type": "code",
   "execution_count": 234,
   "metadata": {},
   "outputs": [
    {
     "data": {
      "text/plain": [
       "<matplotlib.axes._subplots.AxesSubplot at 0x131e62f3f48>"
      ]
     },
     "execution_count": 234,
     "metadata": {},
     "output_type": "execute_result"
    },
    {
     "data": {
      "image/png": "[encoded data removed]",
      "text/plain": [
       "<Figure size 432x288 with 1 Axes>"
      ]
     },
     "metadata": {
      "needs_background": "light"
     },
     "output_type": "display_data"
    }
   ],
   "source": [
    "real_estate_ads.plot(x='cityCenters_nearest', y='last_price', kind='scatter', alpha=0.5, title='Зависимость цены от удаленности от центра', grid=True)"
   ]
  },
  {
   "cell_type": "markdown",
   "metadata": {},
   "source": [
    "<b>Здесь мы также видим зависимость, чем ближе квартира к центру - тем дороже ее цена. Самые дорогие квартиры располагаются в пределах 10 км от центра.</b>"
   ]
  },
  {
   "cell_type": "code",
   "execution_count": 235,
   "metadata": {},
   "outputs": [
    {
     "data": {
      "text/plain": [
       "<matplotlib.axes._subplots.AxesSubplot at 0x131e6377a48>"
      ]
     },
     "execution_count": 235,
     "metadata": {},
     "output_type": "execute_result"
    },
    {
     "data": {
      "image/png": "[encoded data removed]",
      "text/plain": [
       "<Figure size 432x288 with 1 Axes>"
      ]
     },
     "metadata": {
      "needs_background": "light"
     },
     "output_type": "display_data"
    }
   ],
   "source": [
    "home_floor_price = real_estate_ads.pivot_table(index='home_floor', values='last_price', aggfunc='mean')\n",
    "home_floor_price.plot.bar(title='Зависимость цены от этажа')"
   ]
  },
  {
   "cell_type": "markdown",
   "metadata": {},
   "source": [
    "<b>В среднем, квартиры на последнем этаже самые дорогие, а самые дешевые квартиры в среднем на первом этаже. Это можно объяснить тем, что квартиры, который находятся на первом этаже, обычно шумные, там постоянно ходят люди, ездят машины и это все очень хорошо слышно, а также в таких квартирах зимой холоднее, чем на этажах выше."
   ]
  },
  {
   "cell_type": "code",
   "execution_count": 236,
   "metadata": {},
   "outputs": [
    {
     "data": {
      "text/plain": [
       "<matplotlib.axes._subplots.AxesSubplot at 0x131e678c608>"
      ]
     },
     "execution_count": 236,
     "metadata": {},
     "output_type": "execute_result"
    },
    {
     "data": {
      "image/png": "[encoded data removed]",
      "text/plain": [
       "<Figure size 432x288 with 1 Axes>"
      ]
     },
     "metadata": {
      "needs_background": "light"
     },
     "output_type": "display_data"
    }
   ],
   "source": [
    "year_price = real_estate_ads.pivot_table(index='year_exposition', values='last_price', aggfunc='mean')\n",
    "year_price.plot.bar(title='Зависимость цены от года размещения')"
   ]
  },
  {
   "cell_type": "markdown",
   "metadata": {},
   "source": [
    "<b>Удивительный результат, казалось бы, цена на недвижимость каждый год росла, но наши данные показывают нам, что в среднем она с каждым годом снижалась, и только в 2019 году пошла вверх.\n",
    "\n",
    "Вывод можно сделать следующий, в среднем с каждым годом квартиры становились дешевле."
   ]
  },
  {
   "cell_type": "code",
   "execution_count": 237,
   "metadata": {},
   "outputs": [
    {
     "data": {
      "text/plain": [
       "<matplotlib.axes._subplots.AxesSubplot at 0x131e67f3208>"
      ]
     },
     "execution_count": 237,
     "metadata": {},
     "output_type": "execute_result"
    },
    {
     "data": {
      "image/png": "[encoded data removed]",
      "text/plain": [
       "<Figure size 432x288 with 1 Axes>"
      ]
     },
     "metadata": {
      "needs_background": "light"
     },
     "output_type": "display_data"
    }
   ],
   "source": [
    "month_price = real_estate_ads.pivot_table(index='month_exposition', values='last_price', aggfunc='mean')\n",
    "month_price.plot.bar(title='Зависимость цены от месяца размещения')"
   ]
  },
  {
   "cell_type": "markdown",
   "metadata": {},
   "source": [
    "<b>С месяцем размещения результат очевидный, в среднем месяц размещения практически не влияет на стоимость квартиры, потому что экономика в целом и цены на недвижимость не меняются так быстро."
   ]
  },
  {
   "cell_type": "code",
   "execution_count": 238,
   "metadata": {},
   "outputs": [
    {
     "data": {
      "text/plain": [
       "<matplotlib.axes._subplots.AxesSubplot at 0x131e689a048>"
      ]
     },
     "execution_count": 238,
     "metadata": {},
     "output_type": "execute_result"
    },
    {
     "data": {
      "image/png": "[encoded data removed]",
      "text/plain": [
       "<Figure size 432x288 with 1 Axes>"
      ]
     },
     "metadata": {
      "needs_background": "light"
     },
     "output_type": "display_data"
    }
   ],
   "source": [
    "day_price = real_estate_ads.pivot_table(index='day_exposition', values='last_price', aggfunc='mean')\n",
    "day_price.plot.bar(title='Зависимость цены от дня размещения')"
   ]
  },
  {
   "cell_type": "markdown",
   "metadata": {},
   "source": [
    "<b>С днями размещения немного иная ситуация, мы можем увидеть слабую зависимость, но она есть. В целом, экономика и цены на недвижимость не меняются так быстро, чтобы каждый день цена менялась."
   ]
  },
  {
   "cell_type": "markdown",
   "metadata": {},
   "source": [
    "<b>Можно сделать вывод, что основные влияющие на стоимость квартиры факторы это: общая площадь, этаж, год размещения, а также удаленность от центра.</b>"
   ]
  },
  {
   "cell_type": "markdown",
   "metadata": {},
   "source": [
    "Выберем 10 населённых пунктов с наибольшим числом объявлений. Посчитаем среднюю цену квадратного метра в этих населённых пунктах. Выделим среди них населённые пункты с самой высокой и низкой стоимостью жилья. Эти данные можно найти по имени в столбце 'locality_name'."
   ]
  },
  {
   "cell_type": "code",
   "execution_count": 239,
   "metadata": {},
   "outputs": [
    {
     "data": {
      "text/html": [
       "<div>\n",
       "<style scoped>\n",
       "    .dataframe tbody tr th:only-of-type {\n",
       "        vertical-align: middle;\n",
       "    }\n",
       "\n",
       "    .dataframe tbody tr th {\n",
       "        vertical-align: top;\n",
       "    }\n",
       "\n",
       "    .dataframe thead th {\n",
       "        text-align: right;\n",
       "    }\n",
       "</style>\n",
       "<table border=\"1\" class=\"dataframe\">\n",
       "  <thead>\n",
       "    <tr style=\"text-align: right;\">\n",
       "      <th></th>\n",
       "      <th>count</th>\n",
       "    </tr>\n",
       "    <tr>\n",
       "      <th>locality_name</th>\n",
       "      <th></th>\n",
       "    </tr>\n",
       "  </thead>\n",
       "  <tbody>\n",
       "    <tr>\n",
       "      <th>Санкт-Петербург</th>\n",
       "      <td>15027</td>\n",
       "    </tr>\n",
       "    <tr>\n",
       "      <th>посёлок Мурино</th>\n",
       "      <td>490</td>\n",
       "    </tr>\n",
       "    <tr>\n",
       "      <th>посёлок Шушары</th>\n",
       "      <td>423</td>\n",
       "    </tr>\n",
       "    <tr>\n",
       "      <th>Всеволожск</th>\n",
       "      <td>385</td>\n",
       "    </tr>\n",
       "    <tr>\n",
       "      <th>Пушкин</th>\n",
       "      <td>348</td>\n",
       "    </tr>\n",
       "    <tr>\n",
       "      <th>Колпино</th>\n",
       "      <td>329</td>\n",
       "    </tr>\n",
       "    <tr>\n",
       "      <th>посёлок Парголово</th>\n",
       "      <td>305</td>\n",
       "    </tr>\n",
       "    <tr>\n",
       "      <th>Гатчина</th>\n",
       "      <td>299</td>\n",
       "    </tr>\n",
       "    <tr>\n",
       "      <th>деревня Кудрово</th>\n",
       "      <td>277</td>\n",
       "    </tr>\n",
       "    <tr>\n",
       "      <th>Выборг</th>\n",
       "      <td>228</td>\n",
       "    </tr>\n",
       "  </tbody>\n",
       "</table>\n",
       "</div>"
      ],
      "text/plain": [
       "                   count\n",
       "locality_name           \n",
       "Санкт-Петербург    15027\n",
       "посёлок Мурино       490\n",
       "посёлок Шушары       423\n",
       "Всеволожск           385\n",
       "Пушкин               348\n",
       "Колпино              329\n",
       "посёлок Парголово    305\n",
       "Гатчина              299\n",
       "деревня Кудрово      277\n",
       "Выборг               228"
      ]
     },
     "execution_count": 239,
     "metadata": {},
     "output_type": "execute_result"
    }
   ],
   "source": [
    "locality_name_ads_count = real_estate_ads.pivot_table(index='locality_name', values='last_price', aggfunc='count')\n",
    "locality_name_ads_count.columns = ['count']\n",
    "top_10_locality = locality_name_ads_count.sort_values(by='count', ascending=False).head(10)\n",
    "top_10_locality"
   ]
  },
  {
   "cell_type": "markdown",
   "metadata": {},
   "source": [
    "Очевидно, что в большом городе будет больше всего объявлений."
   ]
  },
  {
   "cell_type": "code",
   "execution_count": 240,
   "metadata": {},
   "outputs": [
    {
     "data": {
      "text/html": [
       "<div>\n",
       "<style scoped>\n",
       "    .dataframe tbody tr th:only-of-type {\n",
       "        vertical-align: middle;\n",
       "    }\n",
       "\n",
       "    .dataframe tbody tr th {\n",
       "        vertical-align: top;\n",
       "    }\n",
       "\n",
       "    .dataframe thead th {\n",
       "        text-align: right;\n",
       "    }\n",
       "</style>\n",
       "<table border=\"1\" class=\"dataframe\">\n",
       "  <thead>\n",
       "    <tr style=\"text-align: right;\">\n",
       "      <th></th>\n",
       "      <th>price_per_square_meter</th>\n",
       "    </tr>\n",
       "    <tr>\n",
       "      <th>locality_name</th>\n",
       "      <th></th>\n",
       "    </tr>\n",
       "  </thead>\n",
       "  <tbody>\n",
       "    <tr>\n",
       "      <th>Санкт-Петербург</th>\n",
       "      <td>113677.516181</td>\n",
       "    </tr>\n",
       "    <tr>\n",
       "      <th>Пушкин</th>\n",
       "      <td>102577.467363</td>\n",
       "    </tr>\n",
       "    <tr>\n",
       "      <th>деревня Кудрово</th>\n",
       "      <td>92469.304898</td>\n",
       "    </tr>\n",
       "    <tr>\n",
       "      <th>посёлок Парголово</th>\n",
       "      <td>89617.762289</td>\n",
       "    </tr>\n",
       "    <tr>\n",
       "      <th>посёлок Мурино</th>\n",
       "      <td>85558.193538</td>\n",
       "    </tr>\n",
       "    <tr>\n",
       "      <th>посёлок Шушары</th>\n",
       "      <td>78397.229739</td>\n",
       "    </tr>\n",
       "    <tr>\n",
       "      <th>Колпино</th>\n",
       "      <td>75297.303846</td>\n",
       "    </tr>\n",
       "    <tr>\n",
       "      <th>Гатчина</th>\n",
       "      <td>68902.681515</td>\n",
       "    </tr>\n",
       "    <tr>\n",
       "      <th>Всеволожск</th>\n",
       "      <td>68766.572031</td>\n",
       "    </tr>\n",
       "    <tr>\n",
       "      <th>Выборг</th>\n",
       "      <td>58672.864949</td>\n",
       "    </tr>\n",
       "  </tbody>\n",
       "</table>\n",
       "</div>"
      ],
      "text/plain": [
       "                   price_per_square_meter\n",
       "locality_name                            \n",
       "Санкт-Петербург             113677.516181\n",
       "Пушкин                      102577.467363\n",
       "деревня Кудрово              92469.304898\n",
       "посёлок Парголово            89617.762289\n",
       "посёлок Мурино               85558.193538\n",
       "посёлок Шушары               78397.229739\n",
       "Колпино                      75297.303846\n",
       "Гатчина                      68902.681515\n",
       "Всеволожск                   68766.572031\n",
       "Выборг                       58672.864949"
      ]
     },
     "execution_count": 240,
     "metadata": {},
     "output_type": "execute_result"
    }
   ],
   "source": [
    "real_estate_ads.query('locality_name in @top_10_locality.index').pivot_table(\n",
    "    index='locality_name', values='price_per_square_meter').sort_values(by='price_per_square_meter', ascending=False)"
   ]
  },
  {
   "cell_type": "markdown",
   "metadata": {},
   "source": [
    "В данном случае все тоже очевидно, в большом городе, где лучше развита инфраструктура, дороже и цена за квадратный метр."
   ]
  },
  {
   "cell_type": "code",
   "execution_count": 241,
   "metadata": {},
   "outputs": [
    {
     "data": {
      "text/html": [
       "<div>\n",
       "<style scoped>\n",
       "    .dataframe tbody tr th:only-of-type {\n",
       "        vertical-align: middle;\n",
       "    }\n",
       "\n",
       "    .dataframe tbody tr th {\n",
       "        vertical-align: top;\n",
       "    }\n",
       "\n",
       "    .dataframe thead th {\n",
       "        text-align: right;\n",
       "    }\n",
       "</style>\n",
       "<table border=\"1\" class=\"dataframe\">\n",
       "  <thead>\n",
       "    <tr style=\"text-align: right;\">\n",
       "      <th></th>\n",
       "      <th>last_price</th>\n",
       "    </tr>\n",
       "    <tr>\n",
       "      <th>locality_name</th>\n",
       "      <th></th>\n",
       "    </tr>\n",
       "  </thead>\n",
       "  <tbody>\n",
       "    <tr>\n",
       "      <th>Санкт-Петербург</th>\n",
       "      <td>7.819283e+06</td>\n",
       "    </tr>\n",
       "    <tr>\n",
       "      <th>Пушкин</th>\n",
       "      <td>6.333561e+06</td>\n",
       "    </tr>\n",
       "    <tr>\n",
       "      <th>посёлок Парголово</th>\n",
       "      <td>4.512890e+06</td>\n",
       "    </tr>\n",
       "    <tr>\n",
       "      <th>деревня Кудрово</th>\n",
       "      <td>4.220645e+06</td>\n",
       "    </tr>\n",
       "    <tr>\n",
       "      <th>посёлок Шушары</th>\n",
       "      <td>4.122132e+06</td>\n",
       "    </tr>\n",
       "    <tr>\n",
       "      <th>Колпино</th>\n",
       "      <td>3.974286e+06</td>\n",
       "    </tr>\n",
       "    <tr>\n",
       "      <th>Всеволожск</th>\n",
       "      <td>3.813381e+06</td>\n",
       "    </tr>\n",
       "    <tr>\n",
       "      <th>посёлок Мурино</th>\n",
       "      <td>3.660346e+06</td>\n",
       "    </tr>\n",
       "    <tr>\n",
       "      <th>Гатчина</th>\n",
       "      <td>3.506252e+06</td>\n",
       "    </tr>\n",
       "    <tr>\n",
       "      <th>Выборг</th>\n",
       "      <td>3.295189e+06</td>\n",
       "    </tr>\n",
       "  </tbody>\n",
       "</table>\n",
       "</div>"
      ],
      "text/plain": [
       "                     last_price\n",
       "locality_name                  \n",
       "Санкт-Петербург    7.819283e+06\n",
       "Пушкин             6.333561e+06\n",
       "посёлок Парголово  4.512890e+06\n",
       "деревня Кудрово    4.220645e+06\n",
       "посёлок Шушары     4.122132e+06\n",
       "Колпино            3.974286e+06\n",
       "Всеволожск         3.813381e+06\n",
       "посёлок Мурино     3.660346e+06\n",
       "Гатчина            3.506252e+06\n",
       "Выборг             3.295189e+06"
      ]
     },
     "execution_count": 241,
     "metadata": {},
     "output_type": "execute_result"
    }
   ],
   "source": [
    "real_estate_ads.query('locality_name in @top_10_locality.index').pivot_table(\n",
    "    index='locality_name', values='last_price').sort_values(by='last_price', ascending=False)"
   ]
  },
  {
   "cell_type": "markdown",
   "metadata": {},
   "source": [
    "<b>Санкт-Петербург имеет самую высокую стоимость жилья. Выборг имеет самую низкую стоимость жилья</b>"
   ]
  },
  {
   "cell_type": "markdown",
   "metadata": {},
   "source": [
    "Изучим предложения квартир: для каждой квартиры есть информация о расстоянии до центра. Выделим квартиры в Санкт-Петербурге ('locality_name'). Задача — выяснить, какая область входит в центр. Создадим столбец с расстоянием до центра в километрах: округлим до целых значений. После этого посчитаем среднюю цену для каждого километра. Построим график: он должен показывать, как цена зависит от удалённости от центра. Определим границу, где график сильно меняется — это и будет центральная зона."
   ]
  },
  {
   "cell_type": "code",
   "execution_count": 242,
   "metadata": {},
   "outputs": [
    {
     "data": {
      "text/plain": [
       "0        17.0\n",
       "2        14.0\n",
       "3         7.0\n",
       "5        12.0\n",
       "7        16.0\n",
       "         ... \n",
       "22451    17.0\n",
       "22452     7.0\n",
       "22453     5.0\n",
       "22456     5.0\n",
       "22459    11.0\n",
       "Name: cityCenters_nearest, Length: 15027, dtype: float64"
      ]
     },
     "execution_count": 242,
     "metadata": {},
     "output_type": "execute_result"
    }
   ],
   "source": [
    "import math\n",
    "import numpy as np\n",
    "real_estate_ads['cityCenter_km'] = real_estate_ads['cityCenters_nearest'] / 1000\n",
    "real_estate_ads['cityCenter_km'] = real_estate_ads['cityCenter_km'].apply(np.ceil)\n",
    "cityCenter = real_estate_ads.query('locality_name == \"Санкт-Петербург\"')['cityCenters_nearest'] / 1000\n",
    "cityCenter.apply(np.ceil)"
   ]
  },
  {
   "cell_type": "code",
   "execution_count": 243,
   "metadata": {},
   "outputs": [
    {
     "name": "stdout",
     "output_type": "stream",
     "text": [
      "Средняя цена за каждый километр в Санкт-Петербурге: 1430147.2794335845\n"
     ]
    }
   ],
   "source": [
    "price_per_km = real_estate_ads.query('locality_name == \"Санкт-Петербург\"')['last_price'] / cityCenter\n",
    "print('Средняя цена за каждый километр в Санкт-Петербурге: {}'.format(price_per_km.mean()))"
   ]
  },
  {
   "cell_type": "code",
   "execution_count": 244,
   "metadata": {},
   "outputs": [
    {
     "data": {
      "text/plain": [
       "<matplotlib.axes._subplots.AxesSubplot at 0x131e69b5e88>"
      ]
     },
     "execution_count": 244,
     "metadata": {},
     "output_type": "execute_result"
    },
    {
     "data": {
      "image/png": "[encoded data removed]",
      "text/plain": [
       "<Figure size 432x288 with 1 Axes>"
      ]
     },
     "metadata": {
      "needs_background": "light"
     },
     "output_type": "display_data"
    }
   ],
   "source": [
    "real_estate_ads.query('locality_name == \"Санкт-Петербург\"').plot(x='cityCenter_km', y='last_price', kind='scatter', alpha=0.5, title='Зависимость цены от удаленности от центра')"
   ]
  },
  {
   "cell_type": "markdown",
   "metadata": {},
   "source": [
    "<b>Граница - 8 км удаленности от центра. Будем считать, что это центральная зона.</b>"
   ]
  },
  {
   "cell_type": "markdown",
   "metadata": {},
   "source": [
    "Выделим сегмент квартир в центре. Проанализируем эту территорию и изучим следующие параметры: площадь, цена, число комнат, высота потолков. Также выделим факторы, которые влияют на стоимость квартиры (число комнат, этаж, удалённость от центра, дата размещения объявления). Сделаем выводы. Отличаются ли они от общих выводов по всему городу?"
   ]
  },
  {
   "cell_type": "code",
   "execution_count": 245,
   "metadata": {
    "scrolled": false
   },
   "outputs": [
    {
     "data": {
      "text/html": [
       "<div>\n",
       "<style scoped>\n",
       "    .dataframe tbody tr th:only-of-type {\n",
       "        vertical-align: middle;\n",
       "    }\n",
       "\n",
       "    .dataframe tbody tr th {\n",
       "        vertical-align: top;\n",
       "    }\n",
       "\n",
       "    .dataframe thead th {\n",
       "        text-align: right;\n",
       "    }\n",
       "</style>\n",
       "<table border=\"1\" class=\"dataframe\">\n",
       "  <thead>\n",
       "    <tr style=\"text-align: right;\">\n",
       "      <th></th>\n",
       "      <th>total_images</th>\n",
       "      <th>last_price</th>\n",
       "      <th>total_area</th>\n",
       "      <th>first_day_exposition</th>\n",
       "      <th>rooms</th>\n",
       "      <th>ceiling_height</th>\n",
       "      <th>floors_total</th>\n",
       "      <th>living_area</th>\n",
       "      <th>floor</th>\n",
       "      <th>is_apartment</th>\n",
       "      <th>...</th>\n",
       "      <th>ponds_nearest</th>\n",
       "      <th>days_exposition</th>\n",
       "      <th>price_per_square_meter</th>\n",
       "      <th>year_exposition</th>\n",
       "      <th>month_exposition</th>\n",
       "      <th>day_exposition</th>\n",
       "      <th>home_floor</th>\n",
       "      <th>total_living_area</th>\n",
       "      <th>total_kitchen_area</th>\n",
       "      <th>cityCenter_km</th>\n",
       "    </tr>\n",
       "  </thead>\n",
       "  <tbody>\n",
       "    <tr>\n",
       "      <th>3</th>\n",
       "      <td>0</td>\n",
       "      <td>64900000</td>\n",
       "      <td>159.00</td>\n",
       "      <td>2015-07-24</td>\n",
       "      <td>3</td>\n",
       "      <td>2.85</td>\n",
       "      <td>14</td>\n",
       "      <td>90.6459</td>\n",
       "      <td>9</td>\n",
       "      <td>0</td>\n",
       "      <td>...</td>\n",
       "      <td>234.0</td>\n",
       "      <td>424.0</td>\n",
       "      <td>408176.100629</td>\n",
       "      <td>2015</td>\n",
       "      <td>7</td>\n",
       "      <td>24</td>\n",
       "      <td>другой</td>\n",
       "      <td>0.570100</td>\n",
       "      <td>0.171000</td>\n",
       "      <td>7.0</td>\n",
       "    </tr>\n",
       "    <tr>\n",
       "      <th>22</th>\n",
       "      <td>8</td>\n",
       "      <td>6500000</td>\n",
       "      <td>97.20</td>\n",
       "      <td>2015-10-31</td>\n",
       "      <td>2</td>\n",
       "      <td>2.85</td>\n",
       "      <td>3</td>\n",
       "      <td>46.5000</td>\n",
       "      <td>1</td>\n",
       "      <td>0</td>\n",
       "      <td>...</td>\n",
       "      <td>124.0</td>\n",
       "      <td>265.0</td>\n",
       "      <td>66872.427984</td>\n",
       "      <td>2015</td>\n",
       "      <td>10</td>\n",
       "      <td>31</td>\n",
       "      <td>первый</td>\n",
       "      <td>0.478395</td>\n",
       "      <td>0.201646</td>\n",
       "      <td>3.0</td>\n",
       "    </tr>\n",
       "    <tr>\n",
       "      <th>33</th>\n",
       "      <td>6</td>\n",
       "      <td>15500000</td>\n",
       "      <td>149.00</td>\n",
       "      <td>2017-06-26</td>\n",
       "      <td>5</td>\n",
       "      <td>2.85</td>\n",
       "      <td>5</td>\n",
       "      <td>104.0000</td>\n",
       "      <td>4</td>\n",
       "      <td>0</td>\n",
       "      <td>...</td>\n",
       "      <td>779.0</td>\n",
       "      <td>644.0</td>\n",
       "      <td>104026.845638</td>\n",
       "      <td>2017</td>\n",
       "      <td>6</td>\n",
       "      <td>26</td>\n",
       "      <td>другой</td>\n",
       "      <td>0.697987</td>\n",
       "      <td>0.114094</td>\n",
       "      <td>4.0</td>\n",
       "    </tr>\n",
       "    <tr>\n",
       "      <th>49</th>\n",
       "      <td>20</td>\n",
       "      <td>11795000</td>\n",
       "      <td>136.00</td>\n",
       "      <td>2017-09-22</td>\n",
       "      <td>6</td>\n",
       "      <td>3.00</td>\n",
       "      <td>2</td>\n",
       "      <td>94.0000</td>\n",
       "      <td>2</td>\n",
       "      <td>0</td>\n",
       "      <td>...</td>\n",
       "      <td>NaN</td>\n",
       "      <td>NaN</td>\n",
       "      <td>86727.941176</td>\n",
       "      <td>2017</td>\n",
       "      <td>9</td>\n",
       "      <td>22</td>\n",
       "      <td>последний</td>\n",
       "      <td>0.691176</td>\n",
       "      <td>0.080882</td>\n",
       "      <td>7.0</td>\n",
       "    </tr>\n",
       "    <tr>\n",
       "      <th>57</th>\n",
       "      <td>18</td>\n",
       "      <td>7990000</td>\n",
       "      <td>74.00</td>\n",
       "      <td>2017-08-24</td>\n",
       "      <td>2</td>\n",
       "      <td>2.85</td>\n",
       "      <td>4</td>\n",
       "      <td>43.0000</td>\n",
       "      <td>4</td>\n",
       "      <td>0</td>\n",
       "      <td>...</td>\n",
       "      <td>NaN</td>\n",
       "      <td>609.0</td>\n",
       "      <td>107972.972973</td>\n",
       "      <td>2017</td>\n",
       "      <td>8</td>\n",
       "      <td>24</td>\n",
       "      <td>последний</td>\n",
       "      <td>0.581081</td>\n",
       "      <td>0.270270</td>\n",
       "      <td>5.0</td>\n",
       "    </tr>\n",
       "    <tr>\n",
       "      <th>...</th>\n",
       "      <td>...</td>\n",
       "      <td>...</td>\n",
       "      <td>...</td>\n",
       "      <td>...</td>\n",
       "      <td>...</td>\n",
       "      <td>...</td>\n",
       "      <td>...</td>\n",
       "      <td>...</td>\n",
       "      <td>...</td>\n",
       "      <td>...</td>\n",
       "      <td>...</td>\n",
       "      <td>...</td>\n",
       "      <td>...</td>\n",
       "      <td>...</td>\n",
       "      <td>...</td>\n",
       "      <td>...</td>\n",
       "      <td>...</td>\n",
       "      <td>...</td>\n",
       "      <td>...</td>\n",
       "      <td>...</td>\n",
       "      <td>...</td>\n",
       "    </tr>\n",
       "    <tr>\n",
       "      <th>22427</th>\n",
       "      <td>11</td>\n",
       "      <td>4250000</td>\n",
       "      <td>47.00</td>\n",
       "      <td>2016-05-20</td>\n",
       "      <td>1</td>\n",
       "      <td>2.85</td>\n",
       "      <td>6</td>\n",
       "      <td>18.2000</td>\n",
       "      <td>1</td>\n",
       "      <td>0</td>\n",
       "      <td>...</td>\n",
       "      <td>519.0</td>\n",
       "      <td>131.0</td>\n",
       "      <td>90425.531915</td>\n",
       "      <td>2016</td>\n",
       "      <td>5</td>\n",
       "      <td>20</td>\n",
       "      <td>первый</td>\n",
       "      <td>0.387234</td>\n",
       "      <td>0.310638</td>\n",
       "      <td>5.0</td>\n",
       "    </tr>\n",
       "    <tr>\n",
       "      <th>22443</th>\n",
       "      <td>13</td>\n",
       "      <td>5250000</td>\n",
       "      <td>43.00</td>\n",
       "      <td>2018-05-11</td>\n",
       "      <td>2</td>\n",
       "      <td>2.50</td>\n",
       "      <td>5</td>\n",
       "      <td>29.0000</td>\n",
       "      <td>2</td>\n",
       "      <td>0</td>\n",
       "      <td>...</td>\n",
       "      <td>660.0</td>\n",
       "      <td>80.0</td>\n",
       "      <td>122093.023256</td>\n",
       "      <td>2018</td>\n",
       "      <td>5</td>\n",
       "      <td>11</td>\n",
       "      <td>другой</td>\n",
       "      <td>0.674419</td>\n",
       "      <td>0.139535</td>\n",
       "      <td>8.0</td>\n",
       "    </tr>\n",
       "    <tr>\n",
       "      <th>22452</th>\n",
       "      <td>3</td>\n",
       "      <td>5500000</td>\n",
       "      <td>52.00</td>\n",
       "      <td>2018-07-19</td>\n",
       "      <td>2</td>\n",
       "      <td>2.85</td>\n",
       "      <td>5</td>\n",
       "      <td>31.0000</td>\n",
       "      <td>2</td>\n",
       "      <td>0</td>\n",
       "      <td>...</td>\n",
       "      <td>NaN</td>\n",
       "      <td>15.0</td>\n",
       "      <td>105769.230769</td>\n",
       "      <td>2018</td>\n",
       "      <td>7</td>\n",
       "      <td>19</td>\n",
       "      <td>другой</td>\n",
       "      <td>0.596154</td>\n",
       "      <td>0.115385</td>\n",
       "      <td>7.0</td>\n",
       "    </tr>\n",
       "    <tr>\n",
       "      <th>22453</th>\n",
       "      <td>11</td>\n",
       "      <td>9470000</td>\n",
       "      <td>72.90</td>\n",
       "      <td>2016-10-13</td>\n",
       "      <td>2</td>\n",
       "      <td>2.75</td>\n",
       "      <td>25</td>\n",
       "      <td>40.3000</td>\n",
       "      <td>7</td>\n",
       "      <td>0</td>\n",
       "      <td>...</td>\n",
       "      <td>806.0</td>\n",
       "      <td>519.0</td>\n",
       "      <td>129903.978052</td>\n",
       "      <td>2016</td>\n",
       "      <td>10</td>\n",
       "      <td>13</td>\n",
       "      <td>другой</td>\n",
       "      <td>0.552812</td>\n",
       "      <td>0.145405</td>\n",
       "      <td>5.0</td>\n",
       "    </tr>\n",
       "    <tr>\n",
       "      <th>22456</th>\n",
       "      <td>9</td>\n",
       "      <td>9700000</td>\n",
       "      <td>133.81</td>\n",
       "      <td>2017-03-21</td>\n",
       "      <td>3</td>\n",
       "      <td>2.85</td>\n",
       "      <td>5</td>\n",
       "      <td>73.3000</td>\n",
       "      <td>3</td>\n",
       "      <td>0</td>\n",
       "      <td>...</td>\n",
       "      <td>381.0</td>\n",
       "      <td>NaN</td>\n",
       "      <td>72490.845228</td>\n",
       "      <td>2017</td>\n",
       "      <td>3</td>\n",
       "      <td>21</td>\n",
       "      <td>другой</td>\n",
       "      <td>0.547792</td>\n",
       "      <td>0.103356</td>\n",
       "      <td>5.0</td>\n",
       "    </tr>\n",
       "  </tbody>\n",
       "</table>\n",
       "<p>3474 rows × 30 columns</p>\n",
       "</div>"
      ],
      "text/plain": [
       "       total_images  last_price  total_area first_day_exposition  rooms  \\\n",
       "3                 0    64900000      159.00           2015-07-24      3   \n",
       "22                8     6500000       97.20           2015-10-31      2   \n",
       "33                6    15500000      149.00           2017-06-26      5   \n",
       "49               20    11795000      136.00           2017-09-22      6   \n",
       "57               18     7990000       74.00           2017-08-24      2   \n",
       "...             ...         ...         ...                  ...    ...   \n",
       "22427            11     4250000       47.00           2016-05-20      1   \n",
       "22443            13     5250000       43.00           2018-05-11      2   \n",
       "22452             3     5500000       52.00           2018-07-19      2   \n",
       "22453            11     9470000       72.90           2016-10-13      2   \n",
       "22456             9     9700000      133.81           2017-03-21      3   \n",
       "\n",
       "       ceiling_height  floors_total  living_area  floor  is_apartment  ...  \\\n",
       "3                2.85            14      90.6459      9             0  ...   \n",
       "22               2.85             3      46.5000      1             0  ...   \n",
       "33               2.85             5     104.0000      4             0  ...   \n",
       "49               3.00             2      94.0000      2             0  ...   \n",
       "57               2.85             4      43.0000      4             0  ...   \n",
       "...               ...           ...          ...    ...           ...  ...   \n",
       "22427            2.85             6      18.2000      1             0  ...   \n",
       "22443            2.50             5      29.0000      2             0  ...   \n",
       "22452            2.85             5      31.0000      2             0  ...   \n",
       "22453            2.75            25      40.3000      7             0  ...   \n",
       "22456            2.85             5      73.3000      3             0  ...   \n",
       "\n",
       "       ponds_nearest  days_exposition  price_per_square_meter  \\\n",
       "3              234.0            424.0           408176.100629   \n",
       "22             124.0            265.0            66872.427984   \n",
       "33             779.0            644.0           104026.845638   \n",
       "49               NaN              NaN            86727.941176   \n",
       "57               NaN            609.0           107972.972973   \n",
       "...              ...              ...                     ...   \n",
       "22427          519.0            131.0            90425.531915   \n",
       "22443          660.0             80.0           122093.023256   \n",
       "22452            NaN             15.0           105769.230769   \n",
       "22453          806.0            519.0           129903.978052   \n",
       "22456          381.0              NaN            72490.845228   \n",
       "\n",
       "       year_exposition month_exposition  day_exposition  home_floor  \\\n",
       "3                 2015                7              24      другой   \n",
       "22                2015               10              31      первый   \n",
       "33                2017                6              26      другой   \n",
       "49                2017                9              22   последний   \n",
       "57                2017                8              24   последний   \n",
       "...                ...              ...             ...         ...   \n",
       "22427             2016                5              20      первый   \n",
       "22443             2018                5              11      другой   \n",
       "22452             2018                7              19      другой   \n",
       "22453             2016               10              13      другой   \n",
       "22456             2017                3              21      другой   \n",
       "\n",
       "       total_living_area  total_kitchen_area  cityCenter_km  \n",
       "3               0.570100            0.171000            7.0  \n",
       "22              0.478395            0.201646            3.0  \n",
       "33              0.697987            0.114094            4.0  \n",
       "49              0.691176            0.080882            7.0  \n",
       "57              0.581081            0.270270            5.0  \n",
       "...                  ...                 ...            ...  \n",
       "22427           0.387234            0.310638            5.0  \n",
       "22443           0.674419            0.139535            8.0  \n",
       "22452           0.596154            0.115385            7.0  \n",
       "22453           0.552812            0.145405            5.0  \n",
       "22456           0.547792            0.103356            5.0  \n",
       "\n",
       "[3474 rows x 30 columns]"
      ]
     },
     "execution_count": 245,
     "metadata": {},
     "output_type": "execute_result"
    }
   ],
   "source": [
    "real_estate_central = real_estate_ads.query('cityCenter_km <= 8')\n",
    "real_estate_central"
   ]
  },
  {
   "cell_type": "markdown",
   "metadata": {},
   "source": [
    "3474 объявление, эти квартиры находятся в центре. Изучим параметры этих квартир."
   ]
  },
  {
   "cell_type": "code",
   "execution_count": 246,
   "metadata": {},
   "outputs": [
    {
     "name": "stdout",
     "output_type": "stream",
     "text": [
      "Средняя площадь квартиры в центре города: 92 кв. м.\n",
      "Средняя цена квартиры в центре города: 13923233\n",
      "Среднее количество комнат в квартире в центре города: 3 комнаты\n",
      "Средняя высота потолков в квартире в центре города: 3 м\n"
     ]
    }
   ],
   "source": [
    "print('Средняя площадь квартиры в центре города: {:.0f} кв. м.'.format(real_estate_central['total_area'].mean()))\n",
    "print('Средняя цена квартиры в центре города: {:.0f}'.format(real_estate_central['last_price'].mean()))\n",
    "print('Среднее количество комнат в квартире в центре города: {:.0f} комнаты'.format(real_estate_central['rooms'].mean()))\n",
    "print('Средняя высота потолков в квартире в центре города: {:.0f} м'.format(real_estate_central['ceiling_height'].mean()))"
   ]
  },
  {
   "cell_type": "markdown",
   "metadata": {},
   "source": [
    "Рассмотрим, какие факторы влияют на стоимость квартир в центре."
   ]
  },
  {
   "cell_type": "code",
   "execution_count": 247,
   "metadata": {},
   "outputs": [
    {
     "data": {
      "text/plain": [
       "<matplotlib.axes._subplots.AxesSubplot at 0x131e63d1748>"
      ]
     },
     "execution_count": 247,
     "metadata": {},
     "output_type": "execute_result"
    },
    {
     "data": {
      "image/png": "[encoded data removed]",
      "text/plain": [
       "<Figure size 432x288 with 1 Axes>"
      ]
     },
     "metadata": {
      "needs_background": "light"
     },
     "output_type": "display_data"
    },
    {
     "data": {
      "image/png": "[encoded data removed]",
      "text/plain": [
       "<Figure size 432x288 with 1 Axes>"
      ]
     },
     "metadata": {
      "needs_background": "light"
     },
     "output_type": "display_data"
    }
   ],
   "source": [
    "real_estate_central.plot(x='rooms', y='last_price', kind='scatter', title='Зависимость цены от количества комнат', grid=True)\n",
    "real_estate_central.pivot_table(index='rooms', values='last_price', aggfunc='median').plot.bar(title='Зависимость цены от количества комнат')"
   ]
  },
  {
   "cell_type": "markdown",
   "metadata": {},
   "source": [
    "Число комнат влияют на стоимость квартиры, чем их больше, тем дороже квартира, но такая тенденция продолжается в пределах 9 комнат, после этого значения число комнат не влияет на цену по разному."
   ]
  },
  {
   "cell_type": "code",
   "execution_count": 248,
   "metadata": {},
   "outputs": [
    {
     "data": {
      "text/plain": [
       "<matplotlib.axes._subplots.AxesSubplot at 0x131e5182248>"
      ]
     },
     "execution_count": 248,
     "metadata": {},
     "output_type": "execute_result"
    },
    {
     "data": {
      "image/png": "[encoded data removed]",
      "text/plain": [
       "<Figure size 432x288 with 1 Axes>"
      ]
     },
     "metadata": {
      "needs_background": "light"
     },
     "output_type": "display_data"
    },
    {
     "data": {
      "image/png": "[encoded data removed]",
      "text/plain": [
       "<Figure size 432x288 with 1 Axes>"
      ]
     },
     "metadata": {
      "needs_background": "light"
     },
     "output_type": "display_data"
    }
   ],
   "source": [
    "real_estate_central.plot(x='floor', y='last_price', kind='scatter', title='Зависимость цены от этажа', grid=True)\n",
    "real_estate_central.pivot_table(index='floor', values='last_price', aggfunc='median').plot.bar(title='Зависимость цены от этажа')"
   ]
  },
  {
   "cell_type": "markdown",
   "metadata": {},
   "source": [
    "В среднем, квартиры в центре, которые находятся на 1 этаже, дешевле всех остальных. Цена на квартиру растет в пределах от 1 до 8 этажа, а дальше идет разброс. Квартиры на самом высоком 25 этаже стоит дороже всех остальных."
   ]
  },
  {
   "cell_type": "code",
   "execution_count": 249,
   "metadata": {},
   "outputs": [
    {
     "data": {
      "text/plain": [
       "<matplotlib.axes._subplots.AxesSubplot at 0x131e52be608>"
      ]
     },
     "execution_count": 249,
     "metadata": {},
     "output_type": "execute_result"
    },
    {
     "data": {
      "image/png": "[encoded data removed]",
      "text/plain": [
       "<Figure size 432x288 with 1 Axes>"
      ]
     },
     "metadata": {
      "needs_background": "light"
     },
     "output_type": "display_data"
    },
    {
     "data": {
      "image/png": "[encoded data removed]",
      "text/plain": [
       "<Figure size 432x288 with 1 Axes>"
      ]
     },
     "metadata": {
      "needs_background": "light"
     },
     "output_type": "display_data"
    }
   ],
   "source": [
    "real_estate_central.plot(x='cityCenter_km', y='last_price', kind='scatter', title='Зависимость цены от удаленности от центра (км)', grid=True)\n",
    "real_estate_central.pivot_table(index='cityCenter_km', values='last_price', aggfunc='median').plot.bar()"
   ]
  },
  {
   "cell_type": "markdown",
   "metadata": {},
   "source": [
    "В среднем, удаленность от центра в центральном районе не сильно влияет на стоимость. Главное, что квартира находится в центральном районе, это и влияет на ее стоимость."
   ]
  },
  {
   "cell_type": "code",
   "execution_count": 250,
   "metadata": {},
   "outputs": [
    {
     "data": {
      "text/plain": [
       "<matplotlib.axes._subplots.AxesSubplot at 0x131e53acb48>"
      ]
     },
     "execution_count": 250,
     "metadata": {},
     "output_type": "execute_result"
    },
    {
     "data": {
      "image/png": "[encoded data removed]",
      "text/plain": [
       "<Figure size 432x288 with 1 Axes>"
      ]
     },
     "metadata": {
      "needs_background": "light"
     },
     "output_type": "display_data"
    },
    {
     "data": {
      "image/png": "[encoded data removed]",
      "text/plain": [
       "<Figure size 432x288 with 1 Axes>"
      ]
     },
     "metadata": {
      "needs_background": "light"
     },
     "output_type": "display_data"
    }
   ],
   "source": [
    "real_estate_central.plot(x='year_exposition', y='last_price', kind='scatter', title='Зависимость цены от года размещения', grid=True)\n",
    "real_estate_central.pivot_table(index='year_exposition', values='last_price').plot.bar()"
   ]
  },
  {
   "cell_type": "markdown",
   "metadata": {},
   "source": [
    "В среднем, в 2014 году квартиры в центре были дороже, и с каждым годом их цена снижалась."
   ]
  },
  {
   "cell_type": "markdown",
   "metadata": {},
   "source": [
    "Проверим, отличаются ли показатели в центре от показателей по всему городу."
   ]
  },
  {
   "cell_type": "code",
   "execution_count": 251,
   "metadata": {},
   "outputs": [
    {
     "data": {
      "text/plain": [
       "<matplotlib.axes._subplots.AxesSubplot at 0x131e265cbc8>"
      ]
     },
     "execution_count": 251,
     "metadata": {},
     "output_type": "execute_result"
    },
    {
     "data": {
      "image/png": "[encoded data removed]",
      "text/plain": [
       "<Figure size 432x288 with 1 Axes>"
      ]
     },
     "metadata": {
      "needs_background": "light"
     },
     "output_type": "display_data"
    },
    {
     "data": {
      "image/png": "[encoded data removed]",
      "text/plain": [
       "<Figure size 432x288 with 1 Axes>"
      ]
     },
     "metadata": {
      "needs_background": "light"
     },
     "output_type": "display_data"
    }
   ],
   "source": [
    "real_estate_spb = real_estate_ads.query('locality_name == \"Санкт-Петербург\"')\n",
    "\n",
    "real_estate_central.pivot_table(index='rooms', values='last_price', aggfunc='median').plot.bar(title='Центр')\n",
    "real_estate_spb.pivot_table(index='rooms', values='last_price', aggfunc='median').plot.bar(title='Весь город')"
   ]
  },
  {
   "cell_type": "markdown",
   "metadata": {},
   "source": [
    "<b>Число комнат одинаково влияют на цену как в центре, так и во всем городе"
   ]
  },
  {
   "cell_type": "code",
   "execution_count": 252,
   "metadata": {},
   "outputs": [
    {
     "data": {
      "text/plain": [
       "<matplotlib.axes._subplots.AxesSubplot at 0x131e27cd908>"
      ]
     },
     "execution_count": 252,
     "metadata": {},
     "output_type": "execute_result"
    },
    {
     "data": {
      "image/png": "[encoded data removed]",
      "text/plain": [
       "<Figure size 432x288 with 1 Axes>"
      ]
     },
     "metadata": {
      "needs_background": "light"
     },
     "output_type": "display_data"
    },
    {
     "data": {
      "image/png": "[encoded data removed]",
      "text/plain": [
       "<Figure size 432x288 with 1 Axes>"
      ]
     },
     "metadata": {
      "needs_background": "light"
     },
     "output_type": "display_data"
    }
   ],
   "source": [
    "real_estate_central.pivot_table(index='floor', values='last_price', aggfunc='median').plot.bar(title='Центр')\n",
    "real_estate_spb.pivot_table(index='floor', values='last_price', aggfunc='median').plot.bar(title='Весь город')"
   ]
  },
  {
   "cell_type": "markdown",
   "metadata": {},
   "source": [
    "В целом, влияние этажей на цену квартиры во всем городе остается таким же, как и в центре."
   ]
  },
  {
   "cell_type": "code",
   "execution_count": 253,
   "metadata": {},
   "outputs": [
    {
     "data": {
      "text/plain": [
       "<matplotlib.axes._subplots.AxesSubplot at 0x131e5cbdfc8>"
      ]
     },
     "execution_count": 253,
     "metadata": {},
     "output_type": "execute_result"
    },
    {
     "data": {
      "image/png": "[encoded data removed]",
      "text/plain": [
       "<Figure size 432x288 with 1 Axes>"
      ]
     },
     "metadata": {
      "needs_background": "light"
     },
     "output_type": "display_data"
    },
    {
     "data": {
      "image/png": "[encoded data removed]",
      "text/plain": [
       "<Figure size 432x288 with 1 Axes>"
      ]
     },
     "metadata": {
      "needs_background": "light"
     },
     "output_type": "display_data"
    }
   ],
   "source": [
    "real_estate_central.pivot_table(index='cityCenter_km', values='last_price', aggfunc='median').plot.bar(title='Центр')\n",
    "real_estate_spb.pivot_table(index='cityCenter_km', values='last_price', aggfunc='median').plot.bar(title='Весь город')"
   ]
  },
  {
   "cell_type": "markdown",
   "metadata": {},
   "source": [
    "Удаленность от центра во всем городе (начиная с 8 км) не сильно влияет на стоимость квартиры. Но цена повышается сразу, как только квартира находится на расстоянии 8 км и ближе к центру."
   ]
  },
  {
   "cell_type": "code",
   "execution_count": 254,
   "metadata": {},
   "outputs": [
    {
     "data": {
      "text/plain": [
       "<matplotlib.axes._subplots.AxesSubplot at 0x131e603c188>"
      ]
     },
     "execution_count": 254,
     "metadata": {},
     "output_type": "execute_result"
    },
    {
     "data": {
      "image/png": "[encoded data removed]",
      "text/plain": [
       "<Figure size 432x288 with 1 Axes>"
      ]
     },
     "metadata": {
      "needs_background": "light"
     },
     "output_type": "display_data"
    },
    {
     "data": {
      "image/png": "[encoded data removed]",
      "text/plain": [
       "<Figure size 432x288 with 1 Axes>"
      ]
     },
     "metadata": {
      "needs_background": "light"
     },
     "output_type": "display_data"
    }
   ],
   "source": [
    "real_estate_central.pivot_table(index='year_exposition', values='last_price', aggfunc='median').plot.bar(title='Центр')\n",
    "real_estate_spb.pivot_table(index='year_exposition', values='last_price', aggfunc='median').plot.bar(title='Весь город')"
   ]
  },
  {
   "cell_type": "markdown",
   "metadata": {},
   "source": [
    "Здесь наблюдаем такую же тендцению, что и в центре, квартиры были дорогими в 2014 году, а потом стали дешевле и особо не менялись в цене."
   ]
  },
  {
   "cell_type": "markdown",
   "metadata": {},
   "source": [
    "## Общий вывод"
   ]
  },
  {
   "cell_type": "markdown",
   "metadata": {},
   "source": [
    "Изначально наши данные имели достаточно большое количество пропусков, большинство из них пришлось оставить, ведь они имели смысл, какие-то пришлось заполнить, от каких-то объявлений пришлось избавиться. До предобработки в наших данных было 23699 объявлений, а после предобработки осталось 22461."
   ]
  },
  {
   "cell_type": "code",
   "execution_count": 255,
   "metadata": {},
   "outputs": [
    {
     "name": "stdout",
     "output_type": "stream",
     "text": [
      "Средняя стоимость квадратного метра: 99189\n",
      "Медиана доли жилой площади относительно общей площади: 57.01%\n",
      "Медиана доли площади кухни относительно общей площади: 17.10%\n"
     ]
    }
   ],
   "source": [
    "print('Средняя стоимость квадратного метра: {:.0f}'.format(real_estate_ads['price_per_square_meter'].mean()))\n",
    "total_area_living_area = real_estate_ads['living_area'] / real_estate_ads['total_area']\n",
    "print('Медиана доли жилой площади относительно общей площади: {:.2%}'.format(total_area_living_area.median()))\n",
    "\n",
    "total_area_kitchen_area = real_estate_ads['kitchen_area'] / real_estate_ads['total_area']\n",
    "print('Медиана доли площади кухни относительно общей площади: {:.2%}'.format(total_area_kitchen_area.median()))"
   ]
  },
  {
   "cell_type": "code",
   "execution_count": 256,
   "metadata": {},
   "outputs": [
    {
     "name": "stdout",
     "output_type": "stream",
     "text": [
      "Топ 10 населенных пунктов по количеству объявлений:                    count\n",
      "locality_name           \n",
      "Санкт-Петербург    15027\n",
      "посёлок Мурино       490\n",
      "посёлок Шушары       423\n",
      "Всеволожск           385\n",
      "Пушкин               348\n",
      "Колпино              329\n",
      "посёлок Парголово    305\n",
      "Гатчина              299\n",
      "деревня Кудрово      277\n",
      "Выборг               228\n"
     ]
    }
   ],
   "source": [
    "print('Топ 10 населенных пунктов по количеству объявлений: {}'.format(top_10_locality))"
   ]
  },
  {
   "cell_type": "code",
   "execution_count": 257,
   "metadata": {},
   "outputs": [
    {
     "name": "stdout",
     "output_type": "stream",
     "text": [
      "Медиана времени продажи квартиры: 96.00\n",
      "Среднее время продажи квартиры: 169.86\n"
     ]
    }
   ],
   "source": [
    "print('Медиана времени продажи квартиры: {:.2f}'.format(real_estate_ads['days_exposition'].median()))\n",
    "print('Среднее время продажи квартиры: {:.2f}'.format(real_estate_ads['days_exposition'].mean()))"
   ]
  },
  {
   "cell_type": "markdown",
   "metadata": {},
   "source": [
    "Цена за квадратный метр относительно населенного пункта:"
   ]
  },
  {
   "cell_type": "code",
   "execution_count": 258,
   "metadata": {},
   "outputs": [
    {
     "data": {
      "text/html": [
       "<div>\n",
       "<style scoped>\n",
       "    .dataframe tbody tr th:only-of-type {\n",
       "        vertical-align: middle;\n",
       "    }\n",
       "\n",
       "    .dataframe tbody tr th {\n",
       "        vertical-align: top;\n",
       "    }\n",
       "\n",
       "    .dataframe thead th {\n",
       "        text-align: right;\n",
       "    }\n",
       "</style>\n",
       "<table border=\"1\" class=\"dataframe\">\n",
       "  <thead>\n",
       "    <tr style=\"text-align: right;\">\n",
       "      <th></th>\n",
       "      <th>price_per_square_meter</th>\n",
       "    </tr>\n",
       "    <tr>\n",
       "      <th>locality_name</th>\n",
       "      <th></th>\n",
       "    </tr>\n",
       "  </thead>\n",
       "  <tbody>\n",
       "    <tr>\n",
       "      <th>Санкт-Петербург</th>\n",
       "      <td>113677.516181</td>\n",
       "    </tr>\n",
       "    <tr>\n",
       "      <th>Пушкин</th>\n",
       "      <td>102577.467363</td>\n",
       "    </tr>\n",
       "    <tr>\n",
       "      <th>деревня Кудрово</th>\n",
       "      <td>92469.304898</td>\n",
       "    </tr>\n",
       "    <tr>\n",
       "      <th>посёлок Парголово</th>\n",
       "      <td>89617.762289</td>\n",
       "    </tr>\n",
       "    <tr>\n",
       "      <th>посёлок Мурино</th>\n",
       "      <td>85558.193538</td>\n",
       "    </tr>\n",
       "    <tr>\n",
       "      <th>посёлок Шушары</th>\n",
       "      <td>78397.229739</td>\n",
       "    </tr>\n",
       "    <tr>\n",
       "      <th>Колпино</th>\n",
       "      <td>75297.303846</td>\n",
       "    </tr>\n",
       "    <tr>\n",
       "      <th>Гатчина</th>\n",
       "      <td>68902.681515</td>\n",
       "    </tr>\n",
       "    <tr>\n",
       "      <th>Всеволожск</th>\n",
       "      <td>68766.572031</td>\n",
       "    </tr>\n",
       "    <tr>\n",
       "      <th>Выборг</th>\n",
       "      <td>58672.864949</td>\n",
       "    </tr>\n",
       "  </tbody>\n",
       "</table>\n",
       "</div>"
      ],
      "text/plain": [
       "                   price_per_square_meter\n",
       "locality_name                            \n",
       "Санкт-Петербург             113677.516181\n",
       "Пушкин                      102577.467363\n",
       "деревня Кудрово              92469.304898\n",
       "посёлок Парголово            89617.762289\n",
       "посёлок Мурино               85558.193538\n",
       "посёлок Шушары               78397.229739\n",
       "Колпино                      75297.303846\n",
       "Гатчина                      68902.681515\n",
       "Всеволожск                   68766.572031\n",
       "Выборг                       58672.864949"
      ]
     },
     "execution_count": 258,
     "metadata": {},
     "output_type": "execute_result"
    }
   ],
   "source": [
    "real_estate_ads.query('locality_name in @top_10_locality.index').pivot_table(\n",
    "    index='locality_name', values='price_per_square_meter').sort_values(by='price_per_square_meter', ascending=False)"
   ]
  },
  {
   "cell_type": "code",
   "execution_count": 259,
   "metadata": {},
   "outputs": [
    {
     "name": "stdout",
     "output_type": "stream",
     "text": [
      "Средняя удаленность квартир от центра: 15 км\n"
     ]
    }
   ],
   "source": [
    "print('Средняя удаленность квартир от центра: {:.0f} км'.format(real_estate_ads['cityCenter_km'].mean()))"
   ]
  },
  {
   "cell_type": "markdown",
   "metadata": {},
   "source": [
    "Наиболее влияющие факторы на стоимость квартиры:\n",
    "\n",
    "- Общая площадь\n",
    "- Удаленность от центра\n",
    "- Количество комнат\n",
    "- Этаж (первый, другой, последний)\n",
    "\n",
    "\n",
    "Год, в котором цена на квартиры была самой большой: 2014 год"
   ]
  }
 ],
 "metadata": {
  "ExecuteTimeLog": [
   {
    "duration": 624,
    "start_time": "2021-07-07T15:49:24.396Z"
   },
   {
    "duration": 1805,
    "start_time": "2021-07-07T15:49:39.444Z"
   },
   {
    "duration": 73,
    "start_time": "2021-07-07T15:49:44.827Z"
   },
   {
    "duration": 75,
    "start_time": "2021-07-07T15:50:26.108Z"
   },
   {
    "duration": 73,
    "start_time": "2021-07-07T15:50:34.724Z"
   },
   {
    "duration": 253,
    "start_time": "2021-07-07T15:53:52.656Z"
   },
   {
    "duration": 182,
    "start_time": "2021-07-07T15:54:16.736Z"
   },
   {
    "duration": 8,
    "start_time": "2021-07-07T15:54:21.481Z"
   },
   {
    "duration": 195,
    "start_time": "2021-07-07T15:54:52.712Z"
   },
   {
    "duration": 9,
    "start_time": "2021-07-07T15:55:00.817Z"
   },
   {
    "duration": 9,
    "start_time": "2021-07-07T15:55:11.656Z"
   },
   {
    "duration": 8,
    "start_time": "2021-07-07T15:55:22.625Z"
   },
   {
    "duration": 9,
    "start_time": "2021-07-07T15:56:09.522Z"
   },
   {
    "duration": 8,
    "start_time": "2021-07-07T15:56:33.010Z"
   },
   {
    "duration": 11,
    "start_time": "2021-07-07T15:56:51.554Z"
   },
   {
    "duration": 8,
    "start_time": "2021-07-07T15:57:01.571Z"
   },
   {
    "duration": 8,
    "start_time": "2021-07-07T15:57:06.931Z"
   },
   {
    "duration": 8,
    "start_time": "2021-07-07T15:57:20.795Z"
   },
   {
    "duration": 73,
    "start_time": "2021-07-07T15:57:42.342Z"
   },
   {
    "duration": 9,
    "start_time": "2021-07-07T15:57:50.517Z"
   },
   {
    "duration": 8,
    "start_time": "2021-07-07T15:57:55.459Z"
   },
   {
    "duration": 9,
    "start_time": "2021-07-07T15:57:59.028Z"
   },
   {
    "duration": 10,
    "start_time": "2021-07-07T15:58:01.716Z"
   },
   {
    "duration": 10,
    "start_time": "2021-07-07T15:58:07.356Z"
   },
   {
    "duration": 9,
    "start_time": "2021-07-07T15:58:10.660Z"
   },
   {
    "duration": 202,
    "start_time": "2021-07-07T15:58:32.660Z"
   },
   {
    "duration": 8,
    "start_time": "2021-07-07T15:58:41.204Z"
   },
   {
    "duration": 7,
    "start_time": "2021-07-07T15:59:01.757Z"
   },
   {
    "duration": 190,
    "start_time": "2021-07-07T15:59:18.877Z"
   },
   {
    "duration": 8,
    "start_time": "2021-07-07T15:59:22.926Z"
   },
   {
    "duration": 10,
    "start_time": "2021-07-07T16:00:19.214Z"
   },
   {
    "duration": 175,
    "start_time": "2021-07-07T16:00:39.920Z"
   },
   {
    "duration": 31,
    "start_time": "2021-07-07T16:00:59.767Z"
   },
   {
    "duration": 17,
    "start_time": "2021-07-07T16:01:08.463Z"
   },
   {
    "duration": 23,
    "start_time": "2021-07-07T16:01:55.809Z"
   },
   {
    "duration": 184,
    "start_time": "2021-07-07T16:02:27.473Z"
   },
   {
    "duration": 32,
    "start_time": "2021-07-07T16:02:42.521Z"
   },
   {
    "duration": 61,
    "start_time": "2021-07-07T16:02:46.449Z"
   },
   {
    "duration": 23,
    "start_time": "2021-07-07T16:02:48.385Z"
   },
   {
    "duration": 24,
    "start_time": "2021-07-07T16:02:55.825Z"
   },
   {
    "duration": 24,
    "start_time": "2021-07-07T16:03:01.498Z"
   },
   {
    "duration": 204,
    "start_time": "2021-07-07T16:03:10.473Z"
   },
   {
    "duration": 23,
    "start_time": "2021-07-07T16:03:22.162Z"
   },
   {
    "duration": 24,
    "start_time": "2021-07-07T16:03:49.162Z"
   },
   {
    "duration": 20,
    "start_time": "2021-07-07T16:04:21.058Z"
   },
   {
    "duration": 75,
    "start_time": "2021-07-07T16:05:28.648Z"
   },
   {
    "duration": 265,
    "start_time": "2021-07-07T16:05:45.942Z"
   },
   {
    "duration": 266,
    "start_time": "2021-07-07T16:05:53.293Z"
   },
   {
    "duration": 76,
    "start_time": "2021-07-07T16:06:08.389Z"
   },
   {
    "duration": 73,
    "start_time": "2021-07-07T16:06:29.293Z"
   },
   {
    "duration": 441,
    "start_time": "2021-07-07T16:06:34.605Z"
   },
   {
    "duration": 73,
    "start_time": "2021-07-07T16:06:41.837Z"
   },
   {
    "duration": 90,
    "start_time": "2021-07-07T16:06:55.806Z"
   },
   {
    "duration": 92,
    "start_time": "2021-07-07T16:10:57.332Z"
   },
   {
    "duration": 69,
    "start_time": "2021-07-07T16:11:26.540Z"
   },
   {
    "duration": 87,
    "start_time": "2021-07-07T16:11:52.507Z"
   },
   {
    "duration": 87,
    "start_time": "2021-07-07T16:17:38.075Z"
   },
   {
    "duration": 276,
    "start_time": "2021-07-07T16:17:52.548Z"
   },
   {
    "duration": 236,
    "start_time": "2021-07-07T16:18:05.810Z"
   },
   {
    "duration": 256,
    "start_time": "2021-07-07T16:18:10.362Z"
   },
   {
    "duration": 85,
    "start_time": "2021-07-07T16:18:19.490Z"
   },
   {
    "duration": 21,
    "start_time": "2021-07-07T16:21:07.493Z"
   },
   {
    "duration": 58,
    "start_time": "2021-07-07T16:21:40.349Z"
   },
   {
    "duration": 64,
    "start_time": "2021-07-07T16:21:42.358Z"
   },
   {
    "duration": 34,
    "start_time": "2021-07-07T16:21:43.894Z"
   },
   {
    "duration": 16,
    "start_time": "2021-07-07T16:22:50.063Z"
   },
   {
    "duration": 13,
    "start_time": "2021-07-07T16:23:06.736Z"
   },
   {
    "duration": 14,
    "start_time": "2021-07-07T16:23:11.400Z"
   },
   {
    "duration": 15,
    "start_time": "2021-07-07T16:23:15.864Z"
   },
   {
    "duration": 18,
    "start_time": "2021-07-07T16:23:19.879Z"
   },
   {
    "duration": 17,
    "start_time": "2021-07-07T16:23:29.864Z"
   },
   {
    "duration": 26,
    "start_time": "2021-07-07T16:23:34.895Z"
   },
   {
    "duration": 24,
    "start_time": "2021-07-07T16:23:40.840Z"
   },
   {
    "duration": 25,
    "start_time": "2021-07-07T16:23:56.209Z"
   },
   {
    "duration": 25,
    "start_time": "2021-07-07T16:24:43.521Z"
   },
   {
    "duration": 26,
    "start_time": "2021-07-07T16:25:07.530Z"
   },
   {
    "duration": 93,
    "start_time": "2021-07-07T16:28:22.606Z"
   },
   {
    "duration": 25,
    "start_time": "2021-07-07T16:28:24.365Z"
   },
   {
    "duration": 7,
    "start_time": "2021-07-07T16:28:41.621Z"
   },
   {
    "duration": 8,
    "start_time": "2021-07-07T16:29:05.310Z"
   },
   {
    "duration": 8,
    "start_time": "2021-07-07T16:29:27.014Z"
   },
   {
    "duration": 198,
    "start_time": "2021-07-07T16:35:04.309Z"
   },
   {
    "duration": 5,
    "start_time": "2021-07-07T16:35:32.037Z"
   },
   {
    "duration": 7,
    "start_time": "2021-07-07T16:35:46.082Z"
   },
   {
    "duration": 8,
    "start_time": "2021-07-07T16:35:52.469Z"
   },
   {
    "duration": 8,
    "start_time": "2021-07-07T16:36:14.582Z"
   },
   {
    "duration": 9,
    "start_time": "2021-07-07T16:36:23.686Z"
   },
   {
    "duration": 8,
    "start_time": "2021-07-07T16:36:27.062Z"
   },
   {
    "duration": 89,
    "start_time": "2021-07-07T16:36:41.040Z"
   },
   {
    "duration": 24,
    "start_time": "2021-07-07T16:36:42.254Z"
   },
   {
    "duration": 7,
    "start_time": "2021-07-07T16:36:48.478Z"
   },
   {
    "duration": 8,
    "start_time": "2021-07-07T16:36:49.182Z"
   },
   {
    "duration": 6,
    "start_time": "2021-07-07T16:37:29.839Z"
   },
   {
    "duration": 88,
    "start_time": "2021-07-07T16:37:47.946Z"
   },
   {
    "duration": 8,
    "start_time": "2021-07-07T16:37:50.895Z"
   },
   {
    "duration": 89,
    "start_time": "2021-07-07T16:38:00.249Z"
   },
   {
    "duration": 26,
    "start_time": "2021-07-07T16:38:01.607Z"
   },
   {
    "duration": 8,
    "start_time": "2021-07-07T16:38:02.999Z"
   },
   {
    "duration": 8,
    "start_time": "2021-07-07T16:38:06.248Z"
   },
   {
    "duration": 6,
    "start_time": "2021-07-07T16:39:03.489Z"
   },
   {
    "duration": 22,
    "start_time": "2021-07-07T16:40:50.963Z"
   },
   {
    "duration": 2,
    "start_time": "2021-07-07T16:42:27.989Z"
   },
   {
    "duration": 90,
    "start_time": "2021-07-07T16:50:27.592Z"
   },
   {
    "duration": 24,
    "start_time": "2021-07-07T16:50:28.461Z"
   },
   {
    "duration": 8,
    "start_time": "2021-07-07T16:50:30.205Z"
   },
   {
    "duration": 8,
    "start_time": "2021-07-07T16:50:31.286Z"
   },
   {
    "duration": 4,
    "start_time": "2021-07-07T16:52:43.336Z"
   },
   {
    "duration": 4,
    "start_time": "2021-07-07T16:52:47.504Z"
   },
   {
    "duration": 4,
    "start_time": "2021-07-07T16:52:53.536Z"
   },
   {
    "duration": 5,
    "start_time": "2021-07-07T16:52:58.192Z"
   },
   {
    "duration": 10,
    "start_time": "2021-07-07T16:53:08.768Z"
   },
   {
    "duration": 10,
    "start_time": "2021-07-07T16:55:46.123Z"
   },
   {
    "duration": 12,
    "start_time": "2021-07-07T16:57:09.981Z"
   },
   {
    "duration": 19,
    "start_time": "2021-07-07T16:57:14.909Z"
   },
   {
    "duration": 196,
    "start_time": "2021-07-07T16:57:21.237Z"
   },
   {
    "duration": 202,
    "start_time": "2021-07-07T16:57:36.014Z"
   },
   {
    "duration": 27,
    "start_time": "2021-07-07T16:57:43.727Z"
   },
   {
    "duration": 20,
    "start_time": "2021-07-07T16:57:50.294Z"
   },
   {
    "duration": 206,
    "start_time": "2021-07-07T16:57:57.118Z"
   },
   {
    "duration": 206,
    "start_time": "2021-07-07T16:58:02.616Z"
   },
   {
    "duration": 89,
    "start_time": "2021-07-07T16:58:12.039Z"
   },
   {
    "duration": 26,
    "start_time": "2021-07-07T16:58:14.526Z"
   },
   {
    "duration": 7,
    "start_time": "2021-07-07T16:58:14.973Z"
   },
   {
    "duration": 8,
    "start_time": "2021-07-07T16:58:15.382Z"
   },
   {
    "duration": 223,
    "start_time": "2021-07-07T16:58:18.072Z"
   },
   {
    "duration": 200,
    "start_time": "2021-07-07T16:58:27.592Z"
   },
   {
    "duration": 21,
    "start_time": "2021-07-07T16:58:52.561Z"
   },
   {
    "duration": 41,
    "start_time": "2021-07-07T16:58:56.983Z"
   },
   {
    "duration": 21,
    "start_time": "2021-07-07T16:59:30.480Z"
   },
   {
    "duration": 41,
    "start_time": "2021-07-07T16:59:33.751Z"
   },
   {
    "duration": 21,
    "start_time": "2021-07-07T16:59:45.000Z"
   },
   {
    "duration": 40,
    "start_time": "2021-07-07T16:59:49.761Z"
   },
   {
    "duration": 20,
    "start_time": "2021-07-07T17:00:20.313Z"
   },
   {
    "duration": 10,
    "start_time": "2021-07-07T17:01:06.058Z"
   },
   {
    "duration": 14,
    "start_time": "2021-07-07T17:01:14.097Z"
   },
   {
    "duration": 26,
    "start_time": "2021-07-07T17:01:33.787Z"
   },
   {
    "duration": 42,
    "start_time": "2021-07-07T17:01:46.146Z"
   },
   {
    "duration": 21,
    "start_time": "2021-07-07T17:01:53.659Z"
   },
   {
    "duration": 39,
    "start_time": "2021-07-07T17:02:48.499Z"
   },
   {
    "duration": 67,
    "start_time": "2021-07-07T17:03:11.749Z"
   },
   {
    "duration": 41,
    "start_time": "2021-07-07T17:03:20.028Z"
   },
   {
    "duration": 42,
    "start_time": "2021-07-07T17:07:00.010Z"
   },
   {
    "duration": 37,
    "start_time": "2021-07-07T17:07:09.065Z"
   },
   {
    "duration": 38,
    "start_time": "2021-07-07T17:07:10.704Z"
   },
   {
    "duration": 37,
    "start_time": "2021-07-07T17:14:22.417Z"
   },
   {
    "duration": 37,
    "start_time": "2021-07-07T17:14:37.319Z"
   },
   {
    "duration": 38,
    "start_time": "2021-07-07T17:14:41.009Z"
   },
   {
    "duration": 4854,
    "start_time": "2021-07-07T17:22:08.640Z"
   },
   {
    "duration": 1243,
    "start_time": "2021-07-07T17:22:34.993Z"
   },
   {
    "duration": 178,
    "start_time": "2021-07-07T17:22:45.065Z"
   },
   {
    "duration": 5,
    "start_time": "2021-07-07T17:23:00.881Z"
   },
   {
    "duration": 8,
    "start_time": "2021-07-07T17:30:33.849Z"
   },
   {
    "duration": 7,
    "start_time": "2021-07-07T17:30:45.041Z"
   },
   {
    "duration": 271,
    "start_time": "2021-07-07T17:31:41.706Z"
   },
   {
    "duration": 173,
    "start_time": "2021-07-07T17:31:49.674Z"
   },
   {
    "duration": 158,
    "start_time": "2021-07-07T17:31:52.602Z"
   },
   {
    "duration": 171,
    "start_time": "2021-07-07T17:31:57.683Z"
   },
   {
    "duration": 197,
    "start_time": "2021-07-07T17:32:00.939Z"
   },
   {
    "duration": 2119,
    "start_time": "2021-07-07T17:32:18.018Z"
   },
   {
    "duration": 356,
    "start_time": "2021-07-07T17:32:26.100Z"
   },
   {
    "duration": 280,
    "start_time": "2021-07-07T17:32:35.923Z"
   },
   {
    "duration": 221,
    "start_time": "2021-07-07T17:32:40.740Z"
   },
   {
    "duration": 215,
    "start_time": "2021-07-07T17:32:44.875Z"
   },
   {
    "duration": 216,
    "start_time": "2021-07-07T17:32:48.259Z"
   },
   {
    "duration": 217,
    "start_time": "2021-07-07T17:32:51.836Z"
   },
   {
    "duration": 563,
    "start_time": "2021-07-07T17:33:29.340Z"
   },
   {
    "duration": 233,
    "start_time": "2021-07-07T17:33:32.644Z"
   },
   {
    "duration": 229,
    "start_time": "2021-07-07T17:33:53.869Z"
   },
   {
    "duration": 244,
    "start_time": "2021-07-07T17:34:01.405Z"
   },
   {
    "duration": 197,
    "start_time": "2021-07-07T17:34:06.789Z"
   },
   {
    "duration": 182,
    "start_time": "2021-07-07T17:34:12.029Z"
   },
   {
    "duration": 183,
    "start_time": "2021-07-07T17:34:16.605Z"
   },
   {
    "duration": 191,
    "start_time": "2021-07-07T17:34:21.773Z"
   },
   {
    "duration": 233,
    "start_time": "2021-07-07T17:34:47.046Z"
   },
   {
    "duration": 220,
    "start_time": "2021-07-07T17:34:55.461Z"
   },
   {
    "duration": 494,
    "start_time": "2021-07-07T17:35:07.006Z"
   },
   {
    "duration": 235,
    "start_time": "2021-07-07T17:35:13.535Z"
   },
   {
    "duration": 242,
    "start_time": "2021-07-07T17:36:22.392Z"
   },
   {
    "duration": 18,
    "start_time": "2021-07-07T17:37:57.969Z"
   },
   {
    "duration": 191,
    "start_time": "2021-07-07T17:41:42.733Z"
   },
   {
    "duration": 57,
    "start_time": "2021-07-07T17:49:38.958Z"
   },
   {
    "duration": 30,
    "start_time": "2021-07-07T17:50:16.175Z"
   },
   {
    "duration": 23,
    "start_time": "2021-07-07T17:51:53.433Z"
   },
   {
    "duration": 26,
    "start_time": "2021-07-07T17:56:13.645Z"
   },
   {
    "duration": 27,
    "start_time": "2021-07-07T17:57:06.926Z"
   },
   {
    "duration": 18,
    "start_time": "2021-07-07T17:57:24.831Z"
   },
   {
    "duration": 26,
    "start_time": "2021-07-07T17:57:27.078Z"
   },
   {
    "duration": 26,
    "start_time": "2021-07-07T17:58:53.152Z"
   },
   {
    "duration": 34,
    "start_time": "2021-07-07T17:59:47.233Z"
   },
   {
    "duration": 30,
    "start_time": "2021-07-07T17:59:56.953Z"
   },
   {
    "duration": 28,
    "start_time": "2021-07-07T18:00:16.131Z"
   },
   {
    "duration": 20,
    "start_time": "2021-07-07T18:00:23.946Z"
   },
   {
    "duration": 19,
    "start_time": "2021-07-07T18:00:30.754Z"
   },
   {
    "duration": 97,
    "start_time": "2021-07-07T18:00:35.268Z"
   },
   {
    "duration": 24,
    "start_time": "2021-07-07T18:00:35.930Z"
   },
   {
    "duration": 7,
    "start_time": "2021-07-07T18:00:36.322Z"
   },
   {
    "duration": 8,
    "start_time": "2021-07-07T18:00:36.713Z"
   },
   {
    "duration": 36,
    "start_time": "2021-07-07T18:00:37.418Z"
   },
   {
    "duration": 38,
    "start_time": "2021-07-07T18:00:37.730Z"
   },
   {
    "duration": 9,
    "start_time": "2021-07-07T18:00:38.210Z"
   },
   {
    "duration": 222,
    "start_time": "2021-07-07T18:00:38.545Z"
   },
   {
    "duration": 183,
    "start_time": "2021-07-07T18:00:38.924Z"
   },
   {
    "duration": 33,
    "start_time": "2021-07-07T18:00:39.466Z"
   },
   {
    "duration": 27,
    "start_time": "2021-07-07T18:00:40.210Z"
   },
   {
    "duration": 25,
    "start_time": "2021-07-07T18:00:47.018Z"
   },
   {
    "duration": 206,
    "start_time": "2021-07-07T18:01:00.123Z"
   },
   {
    "duration": 92,
    "start_time": "2021-07-07T18:01:20.100Z"
   },
   {
    "duration": 24,
    "start_time": "2021-07-07T18:01:20.794Z"
   },
   {
    "duration": 7,
    "start_time": "2021-07-07T18:01:21.234Z"
   },
   {
    "duration": 9,
    "start_time": "2021-07-07T18:01:21.690Z"
   },
   {
    "duration": 38,
    "start_time": "2021-07-07T18:01:22.498Z"
   },
   {
    "duration": 40,
    "start_time": "2021-07-07T18:01:22.827Z"
   },
   {
    "duration": 7,
    "start_time": "2021-07-07T18:01:23.346Z"
   },
   {
    "duration": 234,
    "start_time": "2021-07-07T18:01:24.122Z"
   },
   {
    "duration": 193,
    "start_time": "2021-07-07T18:01:24.770Z"
   },
   {
    "duration": 25,
    "start_time": "2021-07-07T18:01:26.667Z"
   },
   {
    "duration": 21,
    "start_time": "2021-07-07T18:01:29.818Z"
   },
   {
    "duration": 19,
    "start_time": "2021-07-07T18:03:03.709Z"
   },
   {
    "duration": 665,
    "start_time": "2021-07-08T21:07:32.100Z"
   },
   {
    "duration": 25,
    "start_time": "2021-07-08T21:07:34.064Z"
   },
   {
    "duration": 7,
    "start_time": "2021-07-08T21:07:35.033Z"
   },
   {
    "duration": 8,
    "start_time": "2021-07-08T21:07:35.809Z"
   },
   {
    "duration": 39,
    "start_time": "2021-07-08T21:07:37.026Z"
   },
   {
    "duration": 41,
    "start_time": "2021-07-08T21:07:37.523Z"
   },
   {
    "duration": 7,
    "start_time": "2021-07-08T21:07:38.425Z"
   },
   {
    "duration": 282,
    "start_time": "2021-07-08T21:07:38.937Z"
   },
   {
    "duration": 170,
    "start_time": "2021-07-08T21:07:39.650Z"
   },
   {
    "duration": 23,
    "start_time": "2021-07-08T21:07:40.612Z"
   },
   {
    "duration": 21,
    "start_time": "2021-07-08T21:07:41.465Z"
   },
   {
    "duration": 39,
    "start_time": "2021-07-08T21:14:23.649Z"
   },
   {
    "duration": 39,
    "start_time": "2021-07-08T21:14:41.081Z"
   },
   {
    "duration": 39,
    "start_time": "2021-07-08T21:19:15.683Z"
   },
   {
    "duration": 37,
    "start_time": "2021-07-08T21:19:41.852Z"
   },
   {
    "duration": 7,
    "start_time": "2021-07-08T21:21:27.628Z"
   },
   {
    "duration": 9,
    "start_time": "2021-07-08T21:21:30.156Z"
   },
   {
    "duration": 267,
    "start_time": "2021-07-08T21:22:05.940Z"
   },
   {
    "duration": 192,
    "start_time": "2021-07-08T21:22:07.772Z"
   },
   {
    "duration": 190,
    "start_time": "2021-07-08T21:34:57.622Z"
   },
   {
    "duration": 196,
    "start_time": "2021-07-08T21:35:16.239Z"
   },
   {
    "duration": 38,
    "start_time": "2021-07-08T21:37:03.033Z"
   },
   {
    "duration": 15,
    "start_time": "2021-07-08T21:37:07.761Z"
   },
   {
    "duration": 16,
    "start_time": "2021-07-08T21:37:45.721Z"
   },
   {
    "duration": 16,
    "start_time": "2021-07-08T21:38:41.578Z"
   },
   {
    "duration": 20,
    "start_time": "2021-07-08T21:42:56.815Z"
   },
   {
    "duration": 98,
    "start_time": "2021-07-08T21:43:28.577Z"
   },
   {
    "duration": 24,
    "start_time": "2021-07-08T21:43:29.583Z"
   },
   {
    "duration": 7,
    "start_time": "2021-07-08T21:43:30.158Z"
   },
   {
    "duration": 9,
    "start_time": "2021-07-08T21:43:30.719Z"
   },
   {
    "duration": 35,
    "start_time": "2021-07-08T21:43:31.712Z"
   },
   {
    "duration": 35,
    "start_time": "2021-07-08T21:43:32.112Z"
   },
   {
    "duration": 7,
    "start_time": "2021-07-08T21:43:32.697Z"
   },
   {
    "duration": 204,
    "start_time": "2021-07-08T21:43:33.086Z"
   },
   {
    "duration": 181,
    "start_time": "2021-07-08T21:43:33.463Z"
   },
   {
    "duration": 24,
    "start_time": "2021-07-08T21:43:33.871Z"
   },
   {
    "duration": 20,
    "start_time": "2021-07-08T21:43:34.318Z"
   },
   {
    "duration": 37,
    "start_time": "2021-07-08T21:43:36.592Z"
   },
   {
    "duration": 39,
    "start_time": "2021-07-08T21:43:37.072Z"
   },
   {
    "duration": 7,
    "start_time": "2021-07-08T21:43:37.695Z"
   },
   {
    "duration": 194,
    "start_time": "2021-07-08T21:43:38.535Z"
   },
   {
    "duration": 191,
    "start_time": "2021-07-08T21:43:39.870Z"
   },
   {
    "duration": 15,
    "start_time": "2021-07-08T21:43:41.039Z"
   },
   {
    "duration": 20,
    "start_time": "2021-07-08T21:43:43.775Z"
   },
   {
    "duration": 20,
    "start_time": "2021-07-08T21:43:48.415Z"
   },
   {
    "duration": 5,
    "start_time": "2021-07-08T21:43:58.657Z"
   },
   {
    "duration": 149,
    "start_time": "2021-07-08T21:44:24.184Z"
   },
   {
    "duration": 188,
    "start_time": "2021-07-08T21:44:28.203Z"
   },
   {
    "duration": 159,
    "start_time": "2021-07-08T21:44:30.440Z"
   },
   {
    "duration": 96,
    "start_time": "2021-07-08T21:44:35.706Z"
   },
   {
    "duration": 22,
    "start_time": "2021-07-08T21:44:37.064Z"
   },
   {
    "duration": 7,
    "start_time": "2021-07-08T21:44:37.639Z"
   },
   {
    "duration": 7,
    "start_time": "2021-07-08T21:44:41.216Z"
   },
   {
    "duration": 35,
    "start_time": "2021-07-08T21:44:42.913Z"
   },
   {
    "duration": 34,
    "start_time": "2021-07-08T21:44:43.553Z"
   },
   {
    "duration": 6,
    "start_time": "2021-07-08T21:44:44.344Z"
   },
   {
    "duration": 205,
    "start_time": "2021-07-08T21:44:44.832Z"
   },
   {
    "duration": 173,
    "start_time": "2021-07-08T21:44:45.320Z"
   },
   {
    "duration": 24,
    "start_time": "2021-07-08T21:44:47.112Z"
   },
   {
    "duration": 21,
    "start_time": "2021-07-08T21:44:47.792Z"
   },
   {
    "duration": 38,
    "start_time": "2021-07-08T21:44:49.353Z"
   },
   {
    "duration": 38,
    "start_time": "2021-07-08T21:44:49.809Z"
   },
   {
    "duration": 8,
    "start_time": "2021-07-08T21:44:51.088Z"
   },
   {
    "duration": 294,
    "start_time": "2021-07-08T21:44:52.288Z"
   },
   {
    "duration": 206,
    "start_time": "2021-07-08T21:44:55.856Z"
   },
   {
    "duration": 16,
    "start_time": "2021-07-08T21:44:58.280Z"
   },
   {
    "duration": 21,
    "start_time": "2021-07-08T21:44:59.368Z"
   },
   {
    "duration": 12,
    "start_time": "2021-07-08T21:45:36.529Z"
   },
   {
    "duration": 96,
    "start_time": "2021-07-08T21:45:47.554Z"
   },
   {
    "duration": 24,
    "start_time": "2021-07-08T21:45:51.985Z"
   },
   {
    "duration": 6,
    "start_time": "2021-07-08T21:45:54.505Z"
   },
   {
    "duration": 8,
    "start_time": "2021-07-08T21:45:55.489Z"
   },
   {
    "duration": 34,
    "start_time": "2021-07-08T21:45:58.146Z"
   },
   {
    "duration": 37,
    "start_time": "2021-07-08T21:45:59.802Z"
   },
   {
    "duration": 6,
    "start_time": "2021-07-08T21:46:03.073Z"
   },
   {
    "duration": 198,
    "start_time": "2021-07-08T21:46:03.985Z"
   },
   {
    "duration": 171,
    "start_time": "2021-07-08T21:46:08.657Z"
   },
   {
    "duration": 9,
    "start_time": "2021-07-08T21:46:11.074Z"
   },
   {
    "duration": 11,
    "start_time": "2021-07-08T21:46:16.522Z"
   },
   {
    "duration": 304,
    "start_time": "2021-07-08T21:46:51.946Z"
   },
   {
    "duration": 12,
    "start_time": "2021-07-08T21:47:05.730Z"
   },
   {
    "duration": 12,
    "start_time": "2021-07-08T21:47:28.187Z"
   },
   {
    "duration": 12,
    "start_time": "2021-07-08T21:47:30.771Z"
   },
   {
    "duration": 95,
    "start_time": "2021-07-08T21:47:35.204Z"
   },
   {
    "duration": 24,
    "start_time": "2021-07-08T21:47:35.874Z"
   },
   {
    "duration": 7,
    "start_time": "2021-07-08T21:47:36.370Z"
   },
   {
    "duration": 8,
    "start_time": "2021-07-08T21:47:36.786Z"
   },
   {
    "duration": 37,
    "start_time": "2021-07-08T21:47:37.419Z"
   },
   {
    "duration": 36,
    "start_time": "2021-07-08T21:47:37.668Z"
   },
   {
    "duration": 7,
    "start_time": "2021-07-08T21:47:38.051Z"
   },
   {
    "duration": 198,
    "start_time": "2021-07-08T21:47:38.458Z"
   },
   {
    "duration": 183,
    "start_time": "2021-07-08T21:47:39.131Z"
   },
   {
    "duration": 9,
    "start_time": "2021-07-08T21:47:43.995Z"
   },
   {
    "duration": 10,
    "start_time": "2021-07-08T21:47:51.915Z"
   },
   {
    "duration": 10,
    "start_time": "2021-07-08T21:48:03.947Z"
   },
   {
    "duration": 10,
    "start_time": "2021-07-08T21:48:20.508Z"
   },
   {
    "duration": 17,
    "start_time": "2021-07-08T21:48:23.644Z"
   },
   {
    "duration": 8,
    "start_time": "2021-07-08T21:48:25.964Z"
   },
   {
    "duration": 8,
    "start_time": "2021-07-08T21:48:50.604Z"
   },
   {
    "duration": 193,
    "start_time": "2021-07-08T21:48:55.878Z"
   },
   {
    "duration": 24,
    "start_time": "2021-07-08T21:48:56.628Z"
   },
   {
    "duration": 6,
    "start_time": "2021-07-08T21:48:57.092Z"
   },
   {
    "duration": 8,
    "start_time": "2021-07-08T21:48:57.540Z"
   },
   {
    "duration": 35,
    "start_time": "2021-07-08T21:48:58.317Z"
   },
   {
    "duration": 37,
    "start_time": "2021-07-08T21:48:58.645Z"
   },
   {
    "duration": 7,
    "start_time": "2021-07-08T21:48:59.148Z"
   },
   {
    "duration": 197,
    "start_time": "2021-07-08T21:48:59.460Z"
   },
   {
    "duration": 166,
    "start_time": "2021-07-08T21:48:59.812Z"
   },
   {
    "duration": 9,
    "start_time": "2021-07-08T21:49:00.476Z"
   },
   {
    "duration": 7,
    "start_time": "2021-07-08T21:49:01.116Z"
   },
   {
    "duration": 8,
    "start_time": "2021-07-08T21:49:25.988Z"
   },
   {
    "duration": 8,
    "start_time": "2021-07-08T21:49:30.549Z"
   },
   {
    "duration": 91,
    "start_time": "2021-07-08T21:49:36.351Z"
   },
   {
    "duration": 23,
    "start_time": "2021-07-08T21:49:37.228Z"
   },
   {
    "duration": 6,
    "start_time": "2021-07-08T21:49:37.797Z"
   },
   {
    "duration": 7,
    "start_time": "2021-07-08T21:49:38.349Z"
   },
   {
    "duration": 34,
    "start_time": "2021-07-08T21:49:39.269Z"
   },
   {
    "duration": 37,
    "start_time": "2021-07-08T21:49:39.645Z"
   },
   {
    "duration": 6,
    "start_time": "2021-07-08T21:49:40.229Z"
   },
   {
    "duration": 199,
    "start_time": "2021-07-08T21:49:40.652Z"
   },
   {
    "duration": 173,
    "start_time": "2021-07-08T21:49:41.644Z"
   },
   {
    "duration": 9,
    "start_time": "2021-07-08T21:49:42.989Z"
   },
   {
    "duration": 9,
    "start_time": "2021-07-08T21:49:45.845Z"
   },
   {
    "duration": 9,
    "start_time": "2021-07-08T21:49:57.541Z"
   },
   {
    "duration": 8,
    "start_time": "2021-07-08T21:50:05.853Z"
   },
   {
    "duration": 21,
    "start_time": "2021-07-08T21:50:30.390Z"
   },
   {
    "duration": 37,
    "start_time": "2021-07-08T21:50:38.815Z"
   },
   {
    "duration": 35,
    "start_time": "2021-07-08T21:50:39.191Z"
   },
   {
    "duration": 7,
    "start_time": "2021-07-08T21:50:39.782Z"
   },
   {
    "duration": 204,
    "start_time": "2021-07-08T21:50:40.429Z"
   },
   {
    "duration": 189,
    "start_time": "2021-07-08T21:50:41.326Z"
   },
   {
    "duration": 14,
    "start_time": "2021-07-08T21:50:41.974Z"
   },
   {
    "duration": 19,
    "start_time": "2021-07-08T21:50:44.470Z"
   },
   {
    "duration": 4,
    "start_time": "2021-07-08T21:55:47.954Z"
   },
   {
    "duration": 5,
    "start_time": "2021-07-08T21:56:02.003Z"
   },
   {
    "duration": 162,
    "start_time": "2021-07-08T21:59:03.947Z"
   },
   {
    "duration": 198,
    "start_time": "2021-07-08T21:59:15.243Z"
   },
   {
    "duration": 169,
    "start_time": "2021-07-08T22:04:02.759Z"
   },
   {
    "duration": 36,
    "start_time": "2021-07-08T22:04:21.016Z"
   },
   {
    "duration": 39,
    "start_time": "2021-07-08T22:04:25.591Z"
   },
   {
    "duration": 36,
    "start_time": "2021-07-08T22:04:38.432Z"
   },
   {
    "duration": 36,
    "start_time": "2021-07-08T22:04:41.440Z"
   },
   {
    "duration": 33,
    "start_time": "2021-07-08T22:04:46.584Z"
   },
   {
    "duration": 35,
    "start_time": "2021-07-08T22:04:57.601Z"
   },
   {
    "duration": 37,
    "start_time": "2021-07-08T22:05:28.650Z"
   },
   {
    "duration": 15,
    "start_time": "2021-07-08T22:05:55.313Z"
   },
   {
    "duration": 39,
    "start_time": "2021-07-08T22:11:38.082Z"
   },
   {
    "duration": 890,
    "start_time": "2021-07-09T11:11:17.530Z"
   },
   {
    "duration": 39,
    "start_time": "2021-07-09T11:11:19.291Z"
   },
   {
    "duration": 10,
    "start_time": "2021-07-09T11:11:23.068Z"
   },
   {
    "duration": 15,
    "start_time": "2021-07-09T11:11:24.444Z"
   },
   {
    "duration": 64,
    "start_time": "2021-07-09T11:11:26.406Z"
   },
   {
    "duration": 63,
    "start_time": "2021-07-09T11:11:27.181Z"
   },
   {
    "duration": 9,
    "start_time": "2021-07-09T11:11:28.316Z"
   },
   {
    "duration": 467,
    "start_time": "2021-07-09T11:11:29.180Z"
   },
   {
    "duration": 308,
    "start_time": "2021-07-09T11:11:29.902Z"
   },
   {
    "duration": 14,
    "start_time": "2021-07-09T11:11:30.840Z"
   },
   {
    "duration": 27,
    "start_time": "2021-07-09T11:11:31.568Z"
   },
   {
    "duration": 61,
    "start_time": "2021-07-09T11:11:34.553Z"
   },
   {
    "duration": 63,
    "start_time": "2021-07-09T11:11:35.764Z"
   },
   {
    "duration": 9,
    "start_time": "2021-07-09T11:11:36.996Z"
   },
   {
    "duration": 361,
    "start_time": "2021-07-09T11:11:39.519Z"
   },
   {
    "duration": 397,
    "start_time": "2021-07-09T11:11:42.164Z"
   },
   {
    "duration": 26,
    "start_time": "2021-07-09T11:11:43.297Z"
   },
   {
    "duration": 30,
    "start_time": "2021-07-09T11:11:44.673Z"
   },
   {
    "duration": 864,
    "start_time": "2021-07-09T14:23:23.146Z"
   },
   {
    "duration": 37,
    "start_time": "2021-07-09T14:23:24.098Z"
   },
   {
    "duration": 10,
    "start_time": "2021-07-09T14:23:24.711Z"
   },
   {
    "duration": 11,
    "start_time": "2021-07-09T14:23:25.331Z"
   },
   {
    "duration": 58,
    "start_time": "2021-07-09T14:23:26.356Z"
   },
   {
    "duration": 57,
    "start_time": "2021-07-09T14:23:26.769Z"
   },
   {
    "duration": 10,
    "start_time": "2021-07-09T14:23:27.472Z"
   },
   {
    "duration": 607,
    "start_time": "2021-07-09T14:23:28.037Z"
   },
   {
    "duration": 308,
    "start_time": "2021-07-09T14:23:28.647Z"
   },
   {
    "duration": 13,
    "start_time": "2021-07-09T14:23:29.425Z"
   },
   {
    "duration": 27,
    "start_time": "2021-07-09T14:23:30.113Z"
   },
   {
    "duration": 60,
    "start_time": "2021-07-09T14:23:31.611Z"
   },
   {
    "duration": 64,
    "start_time": "2021-07-09T14:23:32.207Z"
   },
   {
    "duration": 10,
    "start_time": "2021-07-09T14:23:33.253Z"
   },
   {
    "duration": 344,
    "start_time": "2021-07-09T14:23:36.074Z"
   },
   {
    "duration": 367,
    "start_time": "2021-07-09T14:23:37.649Z"
   },
   {
    "duration": 25,
    "start_time": "2021-07-09T14:23:40.809Z"
   },
   {
    "duration": 28,
    "start_time": "2021-07-09T14:23:42.711Z"
   },
   {
    "duration": 7,
    "start_time": "2021-07-09T14:23:44.926Z"
   },
   {
    "duration": 148,
    "start_time": "2021-07-09T15:33:35.041Z"
   },
   {
    "duration": 36,
    "start_time": "2021-07-09T15:33:35.980Z"
   },
   {
    "duration": 9,
    "start_time": "2021-07-09T15:33:36.596Z"
   },
   {
    "duration": 11,
    "start_time": "2021-07-09T15:33:37.180Z"
   },
   {
    "duration": 57,
    "start_time": "2021-07-09T15:33:38.197Z"
   },
   {
    "duration": 59,
    "start_time": "2021-07-09T15:33:38.870Z"
   },
   {
    "duration": 9,
    "start_time": "2021-07-09T15:33:40.285Z"
   },
   {
    "duration": 384,
    "start_time": "2021-07-09T15:34:02.196Z"
   },
   {
    "duration": 319,
    "start_time": "2021-07-09T15:34:02.613Z"
   },
   {
    "duration": 13,
    "start_time": "2021-07-09T15:34:03.181Z"
   },
   {
    "duration": 28,
    "start_time": "2021-07-09T15:34:03.765Z"
   },
   {
    "duration": 59,
    "start_time": "2021-07-09T15:34:04.869Z"
   },
   {
    "duration": 64,
    "start_time": "2021-07-09T15:34:05.286Z"
   },
   {
    "duration": 10,
    "start_time": "2021-07-09T15:34:05.932Z"
   },
   {
    "duration": 382,
    "start_time": "2021-07-09T15:34:06.997Z"
   },
   {
    "duration": 375,
    "start_time": "2021-07-09T15:34:10.757Z"
   },
   {
    "duration": 29,
    "start_time": "2021-07-09T15:34:14.141Z"
   },
   {
    "duration": 37,
    "start_time": "2021-07-09T15:34:17.341Z"
   },
   {
    "duration": 54,
    "start_time": "2021-07-09T15:38:29.488Z"
   },
   {
    "duration": 24,
    "start_time": "2021-07-09T15:46:16.253Z"
   },
   {
    "duration": 58,
    "start_time": "2021-07-09T15:47:13.376Z"
   },
   {
    "duration": 22,
    "start_time": "2021-07-09T15:48:22.521Z"
   },
   {
    "duration": 365,
    "start_time": "2021-07-09T15:48:39.544Z"
   },
   {
    "duration": 251,
    "start_time": "2021-07-09T15:48:42.985Z"
   },
   {
    "duration": 31,
    "start_time": "2021-07-09T15:48:47.752Z"
   },
   {
    "duration": 70,
    "start_time": "2021-07-09T15:50:22.026Z"
   },
   {
    "duration": 59,
    "start_time": "2021-07-09T15:50:40.979Z"
   },
   {
    "duration": 62,
    "start_time": "2021-07-09T15:50:49.155Z"
   },
   {
    "duration": 89,
    "start_time": "2021-07-09T15:50:52.084Z"
   },
   {
    "duration": 63,
    "start_time": "2021-07-09T15:51:43.221Z"
   },
   {
    "duration": 66,
    "start_time": "2021-07-09T15:51:51.804Z"
   },
   {
    "duration": 61,
    "start_time": "2021-07-09T15:51:54.140Z"
   },
   {
    "duration": 62,
    "start_time": "2021-07-09T15:51:56.508Z"
   },
   {
    "duration": 277,
    "start_time": "2021-07-09T16:03:37.640Z"
   },
   {
    "duration": 302,
    "start_time": "2021-07-09T16:03:48.402Z"
   },
   {
    "duration": 293,
    "start_time": "2021-07-09T16:04:32.474Z"
   },
   {
    "duration": 54,
    "start_time": "2021-07-09T16:04:41.682Z"
   },
   {
    "duration": 56,
    "start_time": "2021-07-09T16:04:52.938Z"
   },
   {
    "duration": 58,
    "start_time": "2021-07-09T16:04:56.362Z"
   },
   {
    "duration": 37,
    "start_time": "2021-07-09T16:05:18.742Z"
   },
   {
    "duration": 55,
    "start_time": "2021-07-09T16:06:14.692Z"
   },
   {
    "duration": 40,
    "start_time": "2021-07-09T16:07:48.037Z"
   },
   {
    "duration": 36,
    "start_time": "2021-07-09T16:08:11.381Z"
   },
   {
    "duration": 36,
    "start_time": "2021-07-09T16:08:27.510Z"
   },
   {
    "duration": 65,
    "start_time": "2021-07-09T16:08:53.855Z"
   },
   {
    "duration": 53,
    "start_time": "2021-07-09T16:09:03.518Z"
   },
   {
    "duration": 92,
    "start_time": "2021-07-09T16:10:51.209Z"
   },
   {
    "duration": 91,
    "start_time": "2021-07-09T16:11:06.449Z"
   },
   {
    "duration": 88,
    "start_time": "2021-07-09T16:11:12.704Z"
   },
   {
    "duration": 54,
    "start_time": "2021-07-09T16:11:17.432Z"
   },
   {
    "duration": 132,
    "start_time": "2021-07-09T16:11:40.275Z"
   },
   {
    "duration": 37,
    "start_time": "2021-07-09T16:11:41.072Z"
   },
   {
    "duration": 10,
    "start_time": "2021-07-09T16:11:41.561Z"
   },
   {
    "duration": 11,
    "start_time": "2021-07-09T16:11:42.097Z"
   },
   {
    "duration": 55,
    "start_time": "2021-07-09T16:11:43.018Z"
   },
   {
    "duration": 60,
    "start_time": "2021-07-09T16:11:43.353Z"
   },
   {
    "duration": 9,
    "start_time": "2021-07-09T16:11:43.913Z"
   },
   {
    "duration": 328,
    "start_time": "2021-07-09T16:11:44.281Z"
   },
   {
    "duration": 275,
    "start_time": "2021-07-09T16:11:44.651Z"
   },
   {
    "duration": 14,
    "start_time": "2021-07-09T16:11:45.049Z"
   },
   {
    "duration": 27,
    "start_time": "2021-07-09T16:11:45.432Z"
   },
   {
    "duration": 57,
    "start_time": "2021-07-09T16:11:46.386Z"
   },
   {
    "duration": 59,
    "start_time": "2021-07-09T16:11:46.770Z"
   },
   {
    "duration": 10,
    "start_time": "2021-07-09T16:11:47.409Z"
   },
   {
    "duration": 336,
    "start_time": "2021-07-09T16:11:48.001Z"
   },
   {
    "duration": 343,
    "start_time": "2021-07-09T16:11:48.913Z"
   },
   {
    "duration": 26,
    "start_time": "2021-07-09T16:11:49.385Z"
   },
   {
    "duration": 31,
    "start_time": "2021-07-09T16:11:50.297Z"
   },
   {
    "duration": 54,
    "start_time": "2021-07-09T16:11:51.083Z"
   },
   {
    "duration": 55,
    "start_time": "2021-07-09T16:11:52.947Z"
   },
   {
    "duration": 44,
    "start_time": "2021-07-09T16:11:55.201Z"
   },
   {
    "duration": 41,
    "start_time": "2021-07-09T16:12:06.882Z"
   },
   {
    "duration": 37,
    "start_time": "2021-07-09T16:13:15.691Z"
   },
   {
    "duration": 38,
    "start_time": "2021-07-09T16:13:21.891Z"
   },
   {
    "duration": 37,
    "start_time": "2021-07-09T16:13:35.739Z"
   },
   {
    "duration": 48,
    "start_time": "2021-07-09T16:13:40.851Z"
   },
   {
    "duration": 38,
    "start_time": "2021-07-09T16:15:47.158Z"
   },
   {
    "duration": 39,
    "start_time": "2021-07-09T16:16:12.175Z"
   },
   {
    "duration": 37,
    "start_time": "2021-07-09T16:16:18.031Z"
   },
   {
    "duration": 129,
    "start_time": "2021-07-09T16:16:52.864Z"
   },
   {
    "duration": 36,
    "start_time": "2021-07-09T16:16:53.622Z"
   },
   {
    "duration": 9,
    "start_time": "2021-07-09T16:16:54.030Z"
   },
   {
    "duration": 11,
    "start_time": "2021-07-09T16:16:54.406Z"
   },
   {
    "duration": 215,
    "start_time": "2021-07-09T16:16:55.048Z"
   },
   {
    "duration": 63,
    "start_time": "2021-07-09T16:16:55.336Z"
   },
   {
    "duration": 10,
    "start_time": "2021-07-09T16:16:55.774Z"
   },
   {
    "duration": 339,
    "start_time": "2021-07-09T16:16:56.062Z"
   },
   {
    "duration": 309,
    "start_time": "2021-07-09T16:16:56.404Z"
   },
   {
    "duration": 13,
    "start_time": "2021-07-09T16:16:56.716Z"
   },
   {
    "duration": 26,
    "start_time": "2021-07-09T16:16:56.958Z"
   },
   {
    "duration": 56,
    "start_time": "2021-07-09T16:16:57.727Z"
   },
   {
    "duration": 57,
    "start_time": "2021-07-09T16:16:58.064Z"
   },
   {
    "duration": 9,
    "start_time": "2021-07-09T16:17:00.231Z"
   },
   {
    "duration": 375,
    "start_time": "2021-07-09T16:17:01.895Z"
   },
   {
    "duration": 366,
    "start_time": "2021-07-09T16:17:02.273Z"
   },
   {
    "duration": 34,
    "start_time": "2021-07-09T16:17:02.642Z"
   },
   {
    "duration": 29,
    "start_time": "2021-07-09T16:17:04.222Z"
   },
   {
    "duration": 55,
    "start_time": "2021-07-09T16:17:05.952Z"
   },
   {
    "duration": 54,
    "start_time": "2021-07-09T16:17:07.576Z"
   },
   {
    "duration": 278,
    "start_time": "2021-07-09T16:18:57.497Z"
   },
   {
    "duration": 182,
    "start_time": "2021-07-09T16:19:13.090Z"
   },
   {
    "duration": 295,
    "start_time": "2021-07-09T16:19:17.049Z"
   },
   {
    "duration": 38,
    "start_time": "2021-07-09T16:21:49.277Z"
   },
   {
    "duration": 38,
    "start_time": "2021-07-09T16:22:12.669Z"
   },
   {
    "duration": 40,
    "start_time": "2021-07-09T16:22:19.397Z"
   },
   {
    "duration": 15,
    "start_time": "2021-07-09T16:22:36.902Z"
   },
   {
    "duration": 15,
    "start_time": "2021-07-09T16:23:06.175Z"
   },
   {
    "duration": 298,
    "start_time": "2021-07-09T16:23:11.198Z"
   },
   {
    "duration": 26,
    "start_time": "2021-07-09T16:37:56.158Z"
   },
   {
    "duration": 21,
    "start_time": "2021-07-09T16:39:03.024Z"
   },
   {
    "duration": 60,
    "start_time": "2021-07-09T16:39:28.579Z"
   },
   {
    "duration": 63,
    "start_time": "2021-07-09T16:39:42.137Z"
   },
   {
    "duration": 54,
    "start_time": "2021-07-09T16:39:45.593Z"
   },
   {
    "duration": 56,
    "start_time": "2021-07-09T16:39:51.073Z"
   },
   {
    "duration": 58,
    "start_time": "2021-07-09T16:39:55.289Z"
   },
   {
    "duration": 8,
    "start_time": "2021-07-09T16:47:35.768Z"
   },
   {
    "duration": 9,
    "start_time": "2021-07-09T16:47:44.944Z"
   },
   {
    "duration": 8,
    "start_time": "2021-07-09T16:51:31.405Z"
   },
   {
    "duration": 288,
    "start_time": "2021-07-09T16:51:37.941Z"
   },
   {
    "duration": 524,
    "start_time": "2021-07-09T16:51:47.837Z"
   },
   {
    "duration": 1605,
    "start_time": "2021-07-09T16:51:56.190Z"
   },
   {
    "duration": 746,
    "start_time": "2021-07-09T16:52:15.205Z"
   },
   {
    "duration": 539,
    "start_time": "2021-07-09T16:52:21.302Z"
   },
   {
    "duration": 247,
    "start_time": "2021-07-09T16:52:29.687Z"
   },
   {
    "duration": 291,
    "start_time": "2021-07-09T16:52:39.246Z"
   },
   {
    "duration": 256,
    "start_time": "2021-07-09T16:53:13.334Z"
   },
   {
    "duration": 25,
    "start_time": "2021-07-09T16:53:45.151Z"
   },
   {
    "duration": 21,
    "start_time": "2021-07-09T16:54:02.336Z"
   },
   {
    "duration": 18,
    "start_time": "2021-07-09T16:54:09.296Z"
   },
   {
    "duration": 304,
    "start_time": "2021-07-09T16:54:16.904Z"
   },
   {
    "duration": 267,
    "start_time": "2021-07-09T17:05:37.933Z"
   },
   {
    "duration": 265,
    "start_time": "2021-07-09T17:05:43.766Z"
   },
   {
    "duration": 252,
    "start_time": "2021-07-09T17:05:55.909Z"
   },
   {
    "duration": 263,
    "start_time": "2021-07-09T17:07:11.567Z"
   },
   {
    "duration": 1789,
    "start_time": "2021-07-09T17:09:14.305Z"
   },
   {
    "duration": 8,
    "start_time": "2021-07-09T17:09:42.778Z"
   },
   {
    "duration": 278,
    "start_time": "2021-07-09T17:09:53.305Z"
   },
   {
    "duration": 11,
    "start_time": "2021-07-09T17:10:28.722Z"
   },
   {
    "duration": 145,
    "start_time": "2021-07-09T17:10:56.460Z"
   },
   {
    "duration": 45,
    "start_time": "2021-07-09T17:10:57.249Z"
   },
   {
    "duration": 9,
    "start_time": "2021-07-09T17:10:57.714Z"
   },
   {
    "duration": 12,
    "start_time": "2021-07-09T17:10:58.194Z"
   },
   {
    "duration": 58,
    "start_time": "2021-07-09T17:10:58.995Z"
   },
   {
    "duration": 59,
    "start_time": "2021-07-09T17:10:59.299Z"
   },
   {
    "duration": 9,
    "start_time": "2021-07-09T17:10:59.779Z"
   },
   {
    "duration": 384,
    "start_time": "2021-07-09T17:11:00.098Z"
   },
   {
    "duration": 329,
    "start_time": "2021-07-09T17:11:00.486Z"
   },
   {
    "duration": 13,
    "start_time": "2021-07-09T17:11:00.818Z"
   },
   {
    "duration": 27,
    "start_time": "2021-07-09T17:11:01.074Z"
   },
   {
    "duration": 64,
    "start_time": "2021-07-09T17:11:01.860Z"
   },
   {
    "duration": 61,
    "start_time": "2021-07-09T17:11:02.171Z"
   },
   {
    "duration": 11,
    "start_time": "2021-07-09T17:11:02.666Z"
   },
   {
    "duration": 391,
    "start_time": "2021-07-09T17:11:02.994Z"
   },
   {
    "duration": 395,
    "start_time": "2021-07-09T17:11:03.388Z"
   },
   {
    "duration": 25,
    "start_time": "2021-07-09T17:11:03.786Z"
   },
   {
    "duration": 32,
    "start_time": "2021-07-09T17:11:04.227Z"
   },
   {
    "duration": 59,
    "start_time": "2021-07-09T17:11:05.171Z"
   },
   {
    "duration": 16,
    "start_time": "2021-07-09T17:11:06.618Z"
   },
   {
    "duration": 304,
    "start_time": "2021-07-09T17:11:06.994Z"
   },
   {
    "duration": 20,
    "start_time": "2021-07-09T17:11:07.907Z"
   },
   {
    "duration": 303,
    "start_time": "2021-07-09T17:11:10.771Z"
   },
   {
    "duration": 12,
    "start_time": "2021-07-09T17:11:15.538Z"
   },
   {
    "duration": 13,
    "start_time": "2021-07-09T17:11:54.307Z"
   },
   {
    "duration": 12,
    "start_time": "2021-07-09T17:11:58.395Z"
   },
   {
    "duration": 12,
    "start_time": "2021-07-09T17:12:01.403Z"
   },
   {
    "duration": 12,
    "start_time": "2021-07-09T17:12:50.797Z"
   },
   {
    "duration": 17,
    "start_time": "2021-07-09T17:12:57.957Z"
   },
   {
    "duration": 154,
    "start_time": "2021-07-09T17:13:03.374Z"
   },
   {
    "duration": 41,
    "start_time": "2021-07-09T17:13:04.172Z"
   },
   {
    "duration": 11,
    "start_time": "2021-07-09T17:13:04.685Z"
   },
   {
    "duration": 14,
    "start_time": "2021-07-09T17:13:05.172Z"
   },
   {
    "duration": 69,
    "start_time": "2021-07-09T17:13:05.925Z"
   },
   {
    "duration": 70,
    "start_time": "2021-07-09T17:13:06.221Z"
   },
   {
    "duration": 10,
    "start_time": "2021-07-09T17:13:06.669Z"
   },
   {
    "duration": 383,
    "start_time": "2021-07-09T17:13:06.980Z"
   },
   {
    "duration": 328,
    "start_time": "2021-07-09T17:13:07.367Z"
   },
   {
    "duration": 12,
    "start_time": "2021-07-09T17:13:07.699Z"
   },
   {
    "duration": 30,
    "start_time": "2021-07-09T17:13:08.021Z"
   },
   {
    "duration": 67,
    "start_time": "2021-07-09T17:13:08.949Z"
   },
   {
    "duration": 59,
    "start_time": "2021-07-09T17:13:09.286Z"
   },
   {
    "duration": 9,
    "start_time": "2021-07-09T17:13:09.788Z"
   },
   {
    "duration": 381,
    "start_time": "2021-07-09T17:13:10.116Z"
   },
   {
    "duration": 443,
    "start_time": "2021-07-09T17:13:10.500Z"
   },
   {
    "duration": 30,
    "start_time": "2021-07-09T17:13:10.955Z"
   },
   {
    "duration": 28,
    "start_time": "2021-07-09T17:13:11.293Z"
   },
   {
    "duration": 55,
    "start_time": "2021-07-09T17:13:11.797Z"
   },
   {
    "duration": 15,
    "start_time": "2021-07-09T17:13:12.724Z"
   },
   {
    "duration": 267,
    "start_time": "2021-07-09T17:13:13.068Z"
   },
   {
    "duration": 21,
    "start_time": "2021-07-09T17:13:16.060Z"
   },
   {
    "duration": 302,
    "start_time": "2021-07-09T17:13:16.277Z"
   },
   {
    "duration": 13,
    "start_time": "2021-07-09T17:13:19.437Z"
   },
   {
    "duration": 13,
    "start_time": "2021-07-09T17:15:14.911Z"
   },
   {
    "duration": 139,
    "start_time": "2021-07-09T17:15:19.465Z"
   },
   {
    "duration": 40,
    "start_time": "2021-07-09T17:15:20.167Z"
   },
   {
    "duration": 12,
    "start_time": "2021-07-09T17:15:20.550Z"
   },
   {
    "duration": 11,
    "start_time": "2021-07-09T17:15:20.943Z"
   },
   {
    "duration": 95,
    "start_time": "2021-07-09T17:15:21.568Z"
   },
   {
    "duration": 73,
    "start_time": "2021-07-09T17:15:21.823Z"
   },
   {
    "duration": 11,
    "start_time": "2021-07-09T17:15:22.198Z"
   },
   {
    "duration": 378,
    "start_time": "2021-07-09T17:15:22.472Z"
   },
   {
    "duration": 344,
    "start_time": "2021-07-09T17:15:22.856Z"
   },
   {
    "duration": 14,
    "start_time": "2021-07-09T17:15:23.202Z"
   },
   {
    "duration": 28,
    "start_time": "2021-07-09T17:15:23.311Z"
   },
   {
    "duration": 68,
    "start_time": "2021-07-09T17:15:24.056Z"
   },
   {
    "duration": 66,
    "start_time": "2021-07-09T17:15:24.344Z"
   },
   {
    "duration": 9,
    "start_time": "2021-07-09T17:15:24.815Z"
   },
   {
    "duration": 378,
    "start_time": "2021-07-09T17:15:25.102Z"
   },
   {
    "duration": 411,
    "start_time": "2021-07-09T17:15:25.483Z"
   },
   {
    "duration": 25,
    "start_time": "2021-07-09T17:15:25.896Z"
   },
   {
    "duration": 36,
    "start_time": "2021-07-09T17:15:26.151Z"
   },
   {
    "duration": 54,
    "start_time": "2021-07-09T17:15:26.600Z"
   },
   {
    "duration": 16,
    "start_time": "2021-07-09T17:15:27.206Z"
   },
   {
    "duration": 297,
    "start_time": "2021-07-09T17:15:27.519Z"
   },
   {
    "duration": 20,
    "start_time": "2021-07-09T17:15:28.279Z"
   },
   {
    "duration": 295,
    "start_time": "2021-07-09T17:15:28.799Z"
   },
   {
    "duration": 13,
    "start_time": "2021-07-09T17:15:32.868Z"
   },
   {
    "duration": 14,
    "start_time": "2021-07-09T17:16:34.880Z"
   },
   {
    "duration": 290,
    "start_time": "2021-07-09T17:16:57.905Z"
   },
   {
    "duration": 277,
    "start_time": "2021-07-09T17:17:48.882Z"
   },
   {
    "duration": 287,
    "start_time": "2021-07-09T17:18:43.691Z"
   },
   {
    "duration": 261,
    "start_time": "2021-07-09T17:18:57.468Z"
   },
   {
    "duration": 288,
    "start_time": "2021-07-09T17:19:49.404Z"
   },
   {
    "duration": 12,
    "start_time": "2021-07-09T17:20:10.310Z"
   },
   {
    "duration": 294,
    "start_time": "2021-07-09T17:20:23.916Z"
   },
   {
    "duration": 325,
    "start_time": "2021-07-09T17:42:17.175Z"
   },
   {
    "duration": 66,
    "start_time": "2021-07-09T17:42:35.328Z"
   },
   {
    "duration": 57,
    "start_time": "2021-07-09T17:42:44.783Z"
   },
   {
    "duration": 57,
    "start_time": "2021-07-09T17:42:56.984Z"
   },
   {
    "duration": 281,
    "start_time": "2021-07-09T17:43:45.904Z"
   },
   {
    "duration": 95,
    "start_time": "2021-07-09T17:44:10.648Z"
   },
   {
    "duration": 52,
    "start_time": "2021-07-09T17:44:56.865Z"
   },
   {
    "duration": 56,
    "start_time": "2021-07-09T17:45:12.665Z"
   },
   {
    "duration": 20,
    "start_time": "2021-07-09T17:45:49.314Z"
   },
   {
    "duration": 24,
    "start_time": "2021-07-09T17:46:31.355Z"
   },
   {
    "duration": 21,
    "start_time": "2021-07-09T17:46:39.683Z"
   },
   {
    "duration": 21,
    "start_time": "2021-07-09T17:46:48.523Z"
   },
   {
    "duration": 21,
    "start_time": "2021-07-09T17:49:10.677Z"
   },
   {
    "duration": 262,
    "start_time": "2021-07-09T17:49:18.541Z"
   },
   {
    "duration": 20,
    "start_time": "2021-07-09T17:49:35.261Z"
   },
   {
    "duration": 26,
    "start_time": "2021-07-09T17:49:48.734Z"
   },
   {
    "duration": 25,
    "start_time": "2021-07-09T17:49:56.846Z"
   },
   {
    "duration": 16,
    "start_time": "2021-07-09T17:50:21.887Z"
   },
   {
    "duration": 23,
    "start_time": "2021-07-09T17:50:26.846Z"
   },
   {
    "duration": 23,
    "start_time": "2021-07-09T17:50:31.527Z"
   },
   {
    "duration": 93,
    "start_time": "2021-07-09T17:53:17.801Z"
   },
   {
    "duration": 6485,
    "start_time": "2021-07-09T17:53:26.650Z"
   },
   {
    "duration": 26,
    "start_time": "2021-07-09T17:54:03.660Z"
   },
   {
    "duration": 6072,
    "start_time": "2021-07-09T17:54:06.786Z"
   },
   {
    "duration": 6714,
    "start_time": "2021-07-09T17:54:36.907Z"
   },
   {
    "duration": 6046,
    "start_time": "2021-07-09T17:55:46.572Z"
   },
   {
    "duration": 6114,
    "start_time": "2021-07-09T17:58:09.382Z"
   },
   {
    "duration": 22,
    "start_time": "2021-07-09T17:58:21.447Z"
   },
   {
    "duration": 6232,
    "start_time": "2021-07-09T17:58:37.935Z"
   },
   {
    "duration": 6377,
    "start_time": "2021-07-09T18:00:45.034Z"
   },
   {
    "duration": 6649,
    "start_time": "2021-07-09T18:01:08.194Z"
   },
   {
    "duration": 24,
    "start_time": "2021-07-09T18:01:25.090Z"
   },
   {
    "duration": 22,
    "start_time": "2021-07-09T18:01:46.267Z"
   },
   {
    "duration": 18,
    "start_time": "2021-07-09T18:01:56.467Z"
   },
   {
    "duration": 2176,
    "start_time": "2021-07-09T18:02:13.675Z"
   },
   {
    "duration": 23,
    "start_time": "2021-07-09T18:02:19.107Z"
   },
   {
    "duration": 11,
    "start_time": "2021-07-09T18:03:06.757Z"
   },
   {
    "duration": 2022,
    "start_time": "2021-07-09T18:03:32.053Z"
   },
   {
    "duration": 2025,
    "start_time": "2021-07-09T18:03:58.541Z"
   },
   {
    "duration": 21,
    "start_time": "2021-07-09T18:04:21.966Z"
   },
   {
    "duration": 285,
    "start_time": "2021-07-09T18:04:29.869Z"
   },
   {
    "duration": 6404,
    "start_time": "2021-07-09T18:04:39.286Z"
   },
   {
    "duration": 21,
    "start_time": "2021-07-09T18:04:50.942Z"
   },
   {
    "duration": 6098,
    "start_time": "2021-07-09T18:05:15.238Z"
   },
   {
    "duration": 22,
    "start_time": "2021-07-09T18:05:38.736Z"
   },
   {
    "duration": 21,
    "start_time": "2021-07-09T18:05:57.391Z"
   },
   {
    "duration": 19,
    "start_time": "2021-07-09T18:06:04.495Z"
   },
   {
    "duration": 22,
    "start_time": "2021-07-09T18:06:13.792Z"
   },
   {
    "duration": 2056,
    "start_time": "2021-07-09T18:06:21.895Z"
   },
   {
    "duration": 19,
    "start_time": "2021-07-09T18:06:36.735Z"
   },
   {
    "duration": 99,
    "start_time": "2021-07-09T18:06:53.096Z"
   },
   {
    "duration": 6751,
    "start_time": "2021-07-09T18:07:09.080Z"
   },
   {
    "duration": 25,
    "start_time": "2021-07-09T18:08:27.865Z"
   },
   {
    "duration": 6978,
    "start_time": "2021-07-09T18:09:23.275Z"
   },
   {
    "duration": 7262,
    "start_time": "2021-07-09T18:09:30.723Z"
   },
   {
    "duration": 132,
    "start_time": "2021-07-09T18:09:43.989Z"
   },
   {
    "duration": 38,
    "start_time": "2021-07-09T18:09:44.994Z"
   },
   {
    "duration": 10,
    "start_time": "2021-07-09T18:09:45.811Z"
   },
   {
    "duration": 11,
    "start_time": "2021-07-09T18:09:45.917Z"
   },
   {
    "duration": 60,
    "start_time": "2021-07-09T18:09:46.075Z"
   },
   {
    "duration": 60,
    "start_time": "2021-07-09T18:09:46.144Z"
   },
   {
    "duration": 9,
    "start_time": "2021-07-09T18:09:46.239Z"
   },
   {
    "duration": 951,
    "start_time": "2021-07-09T18:09:46.317Z"
   },
   {
    "duration": 320,
    "start_time": "2021-07-09T18:09:47.271Z"
   },
   {
    "duration": 12,
    "start_time": "2021-07-09T18:09:47.594Z"
   },
   {
    "duration": 49,
    "start_time": "2021-07-09T18:09:47.609Z"
   },
   {
    "duration": 56,
    "start_time": "2021-07-09T18:09:47.661Z"
   },
   {
    "duration": 78,
    "start_time": "2021-07-09T18:09:47.719Z"
   },
   {
    "duration": 10,
    "start_time": "2021-07-09T18:09:47.801Z"
   },
   {
    "duration": 368,
    "start_time": "2021-07-09T18:09:47.815Z"
   },
   {
    "duration": 355,
    "start_time": "2021-07-09T18:09:48.186Z"
   },
   {
    "duration": 33,
    "start_time": "2021-07-09T18:09:48.543Z"
   },
   {
    "duration": 30,
    "start_time": "2021-07-09T18:09:48.579Z"
   },
   {
    "duration": 75,
    "start_time": "2021-07-09T18:09:48.612Z"
   },
   {
    "duration": 14,
    "start_time": "2021-07-09T18:09:48.690Z"
   },
   {
    "duration": 309,
    "start_time": "2021-07-09T18:09:48.706Z"
   },
   {
    "duration": 20,
    "start_time": "2021-07-09T18:09:49.017Z"
   },
   {
    "duration": 308,
    "start_time": "2021-07-09T18:09:49.039Z"
   },
   {
    "duration": 15,
    "start_time": "2021-07-09T18:09:49.349Z"
   },
   {
    "duration": 284,
    "start_time": "2021-07-09T18:09:49.366Z"
   },
   {
    "duration": 24,
    "start_time": "2021-07-09T18:09:58.356Z"
   },
   {
    "duration": 13,
    "start_time": "2021-07-09T18:10:05.677Z"
   },
   {
    "duration": 12,
    "start_time": "2021-07-09T18:10:34.884Z"
   },
   {
    "duration": 24,
    "start_time": "2021-07-09T18:12:13.182Z"
   },
   {
    "duration": 63,
    "start_time": "2021-07-09T18:13:01.247Z"
   },
   {
    "duration": 59,
    "start_time": "2021-07-09T18:27:12.606Z"
   },
   {
    "duration": 60,
    "start_time": "2021-07-09T18:27:21.600Z"
   },
   {
    "duration": 117,
    "start_time": "2021-07-09T18:28:19.130Z"
   },
   {
    "duration": 238,
    "start_time": "2021-07-09T18:44:18.602Z"
   },
   {
    "duration": 249,
    "start_time": "2021-07-09T18:44:39.386Z"
   },
   {
    "duration": 15,
    "start_time": "2021-07-09T18:44:51.178Z"
   },
   {
    "duration": 15,
    "start_time": "2021-07-09T18:44:54.554Z"
   },
   {
    "duration": 16,
    "start_time": "2021-07-09T18:45:00.099Z"
   },
   {
    "duration": 16,
    "start_time": "2021-07-09T18:45:05.379Z"
   },
   {
    "duration": 15,
    "start_time": "2021-07-09T18:45:09.883Z"
   },
   {
    "duration": 275,
    "start_time": "2021-07-09T18:46:03.575Z"
   },
   {
    "duration": 261,
    "start_time": "2021-07-09T18:46:13.653Z"
   },
   {
    "duration": 261,
    "start_time": "2021-07-09T18:46:47.933Z"
   },
   {
    "duration": 255,
    "start_time": "2021-07-09T18:47:08.909Z"
   },
   {
    "duration": 15,
    "start_time": "2021-07-09T18:47:32.462Z"
   },
   {
    "duration": 136,
    "start_time": "2021-07-09T18:47:44.672Z"
   },
   {
    "duration": 37,
    "start_time": "2021-07-09T18:47:45.405Z"
   },
   {
    "duration": 9,
    "start_time": "2021-07-09T18:47:45.797Z"
   },
   {
    "duration": 11,
    "start_time": "2021-07-09T18:47:47.533Z"
   },
   {
    "duration": 18,
    "start_time": "2021-07-09T18:47:49.581Z"
   },
   {
    "duration": 128,
    "start_time": "2021-07-09T18:47:53.999Z"
   },
   {
    "duration": 37,
    "start_time": "2021-07-09T18:47:54.693Z"
   },
   {
    "duration": 10,
    "start_time": "2021-07-09T18:47:56.253Z"
   },
   {
    "duration": 13,
    "start_time": "2021-07-09T18:47:56.669Z"
   },
   {
    "duration": 20,
    "start_time": "2021-07-09T18:48:03.504Z"
   },
   {
    "duration": 18,
    "start_time": "2021-07-09T18:48:11.825Z"
   },
   {
    "duration": 18,
    "start_time": "2021-07-09T18:48:18.078Z"
   },
   {
    "duration": 17,
    "start_time": "2021-07-09T18:48:31.951Z"
   },
   {
    "duration": 17,
    "start_time": "2021-07-09T18:48:37.846Z"
   },
   {
    "duration": 18,
    "start_time": "2021-07-09T18:49:02.960Z"
   },
   {
    "duration": 60,
    "start_time": "2021-07-09T18:49:03.952Z"
   },
   {
    "duration": 37,
    "start_time": "2021-07-09T18:49:10.072Z"
   },
   {
    "duration": 265,
    "start_time": "2021-07-09T18:49:23.463Z"
   },
   {
    "duration": 36,
    "start_time": "2021-07-09T18:50:36.704Z"
   },
   {
    "duration": 60,
    "start_time": "2021-07-09T18:50:40.280Z"
   },
   {
    "duration": 295,
    "start_time": "2021-07-09T18:51:07.202Z"
   },
   {
    "duration": 307,
    "start_time": "2021-07-09T18:51:18.810Z"
   },
   {
    "duration": 20,
    "start_time": "2021-07-09T18:51:26.003Z"
   },
   {
    "duration": 19,
    "start_time": "2021-07-09T18:51:39.898Z"
   },
   {
    "duration": 17,
    "start_time": "2021-07-09T18:51:49.842Z"
   },
   {
    "duration": 19,
    "start_time": "2021-07-09T18:51:51.402Z"
   },
   {
    "duration": 19,
    "start_time": "2021-07-09T18:52:01.115Z"
   },
   {
    "duration": 19,
    "start_time": "2021-07-09T18:52:30.875Z"
   },
   {
    "duration": 57,
    "start_time": "2021-07-09T19:03:34.384Z"
   },
   {
    "duration": 54,
    "start_time": "2021-07-09T19:03:59.801Z"
   },
   {
    "duration": 71,
    "start_time": "2021-07-09T19:04:25.642Z"
   },
   {
    "duration": 38,
    "start_time": "2021-07-09T19:06:00.378Z"
   },
   {
    "duration": 892,
    "start_time": "2021-07-10T15:54:33.301Z"
   },
   {
    "duration": 39,
    "start_time": "2021-07-10T15:54:35.666Z"
   },
   {
    "duration": 10,
    "start_time": "2021-07-10T15:54:38.234Z"
   },
   {
    "duration": 11,
    "start_time": "2021-07-10T15:54:40.258Z"
   },
   {
    "duration": 20,
    "start_time": "2021-07-10T15:55:37.692Z"
   },
   {
    "duration": 34,
    "start_time": "2021-07-10T15:55:38.524Z"
   },
   {
    "duration": 33,
    "start_time": "2021-07-10T15:58:41.312Z"
   },
   {
    "duration": 101,
    "start_time": "2021-07-10T15:59:18.625Z"
   },
   {
    "duration": 65,
    "start_time": "2021-07-10T16:11:43.302Z"
   },
   {
    "duration": 59,
    "start_time": "2021-07-10T16:11:47.480Z"
   },
   {
    "duration": 7978,
    "start_time": "2021-07-10T16:13:08.567Z"
   },
   {
    "duration": 9,
    "start_time": "2021-07-10T16:13:35.881Z"
   },
   {
    "duration": 59,
    "start_time": "2021-07-10T16:13:41.247Z"
   },
   {
    "duration": 58,
    "start_time": "2021-07-10T16:14:09.225Z"
   },
   {
    "duration": 9,
    "start_time": "2021-07-10T16:15:16.620Z"
   },
   {
    "duration": 8,
    "start_time": "2021-07-10T16:15:20.386Z"
   },
   {
    "duration": 9,
    "start_time": "2021-07-10T16:16:24.611Z"
   },
   {
    "duration": 9,
    "start_time": "2021-07-10T16:16:57.484Z"
   },
   {
    "duration": 493,
    "start_time": "2021-07-10T16:18:29.656Z"
   },
   {
    "duration": 298,
    "start_time": "2021-07-10T16:18:53.278Z"
   },
   {
    "duration": 294,
    "start_time": "2021-07-10T16:19:01.919Z"
   },
   {
    "duration": 300,
    "start_time": "2021-07-10T16:19:24.335Z"
   },
   {
    "duration": 23,
    "start_time": "2021-07-10T16:19:36.943Z"
   },
   {
    "duration": 202,
    "start_time": "2021-07-10T16:19:50.930Z"
   },
   {
    "duration": 58,
    "start_time": "2021-07-10T16:19:51.791Z"
   },
   {
    "duration": 13,
    "start_time": "2021-07-10T16:19:52.311Z"
   },
   {
    "duration": 11,
    "start_time": "2021-07-10T16:19:52.879Z"
   },
   {
    "duration": 20,
    "start_time": "2021-07-10T16:19:53.759Z"
   },
   {
    "duration": 34,
    "start_time": "2021-07-10T16:19:54.055Z"
   },
   {
    "duration": 62,
    "start_time": "2021-07-10T16:19:54.352Z"
   },
   {
    "duration": 59,
    "start_time": "2021-07-10T16:19:55.672Z"
   },
   {
    "duration": 8,
    "start_time": "2021-07-10T16:19:55.824Z"
   },
   {
    "duration": 9,
    "start_time": "2021-07-10T16:19:55.998Z"
   },
   {
    "duration": 279,
    "start_time": "2021-07-10T16:19:59.023Z"
   },
   {
    "duration": 23,
    "start_time": "2021-07-10T16:20:28.208Z"
   },
   {
    "duration": 135,
    "start_time": "2021-07-10T16:20:49.570Z"
   },
   {
    "duration": 37,
    "start_time": "2021-07-10T16:20:50.496Z"
   },
   {
    "duration": 9,
    "start_time": "2021-07-10T16:20:51.008Z"
   },
   {
    "duration": 11,
    "start_time": "2021-07-10T16:20:51.511Z"
   },
   {
    "duration": 22,
    "start_time": "2021-07-10T16:20:52.543Z"
   },
   {
    "duration": 34,
    "start_time": "2021-07-10T16:20:52.944Z"
   },
   {
    "duration": 61,
    "start_time": "2021-07-10T16:20:53.329Z"
   },
   {
    "duration": 59,
    "start_time": "2021-07-10T16:20:53.537Z"
   },
   {
    "duration": 9,
    "start_time": "2021-07-10T16:20:53.728Z"
   },
   {
    "duration": 11,
    "start_time": "2021-07-10T16:20:59.361Z"
   },
   {
    "duration": 26,
    "start_time": "2021-07-10T16:21:10.546Z"
   },
   {
    "duration": 135,
    "start_time": "2021-07-10T16:21:35.380Z"
   },
   {
    "duration": 59,
    "start_time": "2021-07-10T16:21:36.448Z"
   },
   {
    "duration": 13,
    "start_time": "2021-07-10T16:21:37.009Z"
   },
   {
    "duration": 15,
    "start_time": "2021-07-10T16:21:37.553Z"
   },
   {
    "duration": 29,
    "start_time": "2021-07-10T16:21:38.537Z"
   },
   {
    "duration": 34,
    "start_time": "2021-07-10T16:21:39.777Z"
   },
   {
    "duration": 61,
    "start_time": "2021-07-10T16:21:40.089Z"
   },
   {
    "duration": 59,
    "start_time": "2021-07-10T16:21:40.240Z"
   },
   {
    "duration": 12,
    "start_time": "2021-07-10T16:21:40.377Z"
   },
   {
    "duration": 12,
    "start_time": "2021-07-10T16:21:42.561Z"
   },
   {
    "duration": 290,
    "start_time": "2021-07-10T16:21:44.401Z"
   },
   {
    "duration": 289,
    "start_time": "2021-07-10T16:21:46.521Z"
   },
   {
    "duration": 10,
    "start_time": "2021-07-10T16:21:59.258Z"
   },
   {
    "duration": 286,
    "start_time": "2021-07-10T16:22:00.193Z"
   },
   {
    "duration": 423,
    "start_time": "2021-07-10T16:22:02.066Z"
   },
   {
    "duration": 24,
    "start_time": "2021-07-10T16:22:16.988Z"
   },
   {
    "duration": 60,
    "start_time": "2021-07-10T16:22:23.050Z"
   },
   {
    "duration": 24,
    "start_time": "2021-07-10T16:22:33.675Z"
   },
   {
    "duration": 31,
    "start_time": "2021-07-10T16:23:24.851Z"
   },
   {
    "duration": 9,
    "start_time": "2021-07-10T16:23:25.331Z"
   },
   {
    "duration": 11,
    "start_time": "2021-07-10T16:23:25.851Z"
   },
   {
    "duration": 138,
    "start_time": "2021-07-10T16:23:28.525Z"
   },
   {
    "duration": 38,
    "start_time": "2021-07-10T16:23:29.466Z"
   },
   {
    "duration": 10,
    "start_time": "2021-07-10T16:23:30.074Z"
   },
   {
    "duration": 11,
    "start_time": "2021-07-10T16:23:31.235Z"
   },
   {
    "duration": 20,
    "start_time": "2021-07-10T16:24:16.748Z"
   },
   {
    "duration": 21,
    "start_time": "2021-07-10T16:24:22.084Z"
   },
   {
    "duration": 20,
    "start_time": "2021-07-10T16:24:55.549Z"
   },
   {
    "duration": 21,
    "start_time": "2021-07-10T16:25:00.860Z"
   },
   {
    "duration": 20,
    "start_time": "2021-07-10T16:25:17.012Z"
   },
   {
    "duration": 33,
    "start_time": "2021-07-10T16:25:17.525Z"
   },
   {
    "duration": 61,
    "start_time": "2021-07-10T16:25:17.918Z"
   },
   {
    "duration": 59,
    "start_time": "2021-07-10T16:25:18.238Z"
   },
   {
    "duration": 10,
    "start_time": "2021-07-10T16:25:18.476Z"
   },
   {
    "duration": 9,
    "start_time": "2021-07-10T16:25:18.925Z"
   },
   {
    "duration": 299,
    "start_time": "2021-07-10T16:25:20.885Z"
   },
   {
    "duration": 311,
    "start_time": "2021-07-10T16:25:22.813Z"
   },
   {
    "duration": 114,
    "start_time": "2021-07-10T16:30:20.322Z"
   },
   {
    "duration": 455,
    "start_time": "2021-07-10T16:31:17.739Z"
   },
   {
    "duration": 341,
    "start_time": "2021-07-10T16:31:24.436Z"
   },
   {
    "duration": 418,
    "start_time": "2021-07-10T16:32:23.502Z"
   },
   {
    "duration": 29,
    "start_time": "2021-07-10T16:32:44.005Z"
   },
   {
    "duration": 28,
    "start_time": "2021-07-10T16:33:07.734Z"
   },
   {
    "duration": 347,
    "start_time": "2021-07-10T16:33:39.630Z"
   },
   {
    "duration": 341,
    "start_time": "2021-07-10T16:33:54.894Z"
   },
   {
    "duration": 355,
    "start_time": "2021-07-10T16:34:00.183Z"
   },
   {
    "duration": 365,
    "start_time": "2021-07-10T16:34:09.415Z"
   },
   {
    "duration": 42,
    "start_time": "2021-07-10T16:36:26.210Z"
   },
   {
    "duration": 527,
    "start_time": "2021-07-10T16:38:14.125Z"
   },
   {
    "duration": 526,
    "start_time": "2021-07-10T16:38:27.012Z"
   },
   {
    "duration": 540,
    "start_time": "2021-07-10T16:38:32.532Z"
   },
   {
    "duration": 678,
    "start_time": "2021-07-10T16:38:38.316Z"
   },
   {
    "duration": 346,
    "start_time": "2021-07-10T16:38:51.940Z"
   },
   {
    "duration": 345,
    "start_time": "2021-07-10T16:39:08.525Z"
   },
   {
    "duration": 358,
    "start_time": "2021-07-10T16:39:17.717Z"
   },
   {
    "duration": 393,
    "start_time": "2021-07-10T16:39:27.261Z"
   },
   {
    "duration": 369,
    "start_time": "2021-07-10T16:39:51.542Z"
   },
   {
    "duration": 361,
    "start_time": "2021-07-10T16:40:03.118Z"
   },
   {
    "duration": 30,
    "start_time": "2021-07-10T16:40:38.566Z"
   },
   {
    "duration": 57,
    "start_time": "2021-07-10T16:40:47.487Z"
   },
   {
    "duration": 15,
    "start_time": "2021-07-10T16:42:17.264Z"
   },
   {
    "duration": 276,
    "start_time": "2021-07-10T16:42:20.896Z"
   },
   {
    "duration": 20,
    "start_time": "2021-07-10T16:43:24.633Z"
   },
   {
    "duration": 301,
    "start_time": "2021-07-10T16:43:36.026Z"
   },
   {
    "duration": 11,
    "start_time": "2021-07-10T16:43:59.850Z"
   },
   {
    "duration": 441,
    "start_time": "2021-07-10T16:44:00.954Z"
   },
   {
    "duration": 25,
    "start_time": "2021-07-10T16:44:41.651Z"
   },
   {
    "duration": 31,
    "start_time": "2021-07-10T16:44:48.204Z"
   },
   {
    "duration": 56,
    "start_time": "2021-07-10T16:44:59.220Z"
   },
   {
    "duration": 56,
    "start_time": "2021-07-10T16:45:53.535Z"
   },
   {
    "duration": 23,
    "start_time": "2021-07-10T16:47:34.839Z"
   },
   {
    "duration": 10,
    "start_time": "2021-07-10T16:47:56.639Z"
   },
   {
    "duration": 23,
    "start_time": "2021-07-10T16:48:09.031Z"
   },
   {
    "duration": 100,
    "start_time": "2021-07-10T16:48:43.984Z"
   },
   {
    "duration": 464,
    "start_time": "2021-07-10T16:48:49.504Z"
   },
   {
    "duration": 396,
    "start_time": "2021-07-10T16:49:16.650Z"
   },
   {
    "duration": 12,
    "start_time": "2021-07-10T16:50:17.162Z"
   },
   {
    "duration": 10,
    "start_time": "2021-07-10T16:50:23.314Z"
   },
   {
    "duration": 379,
    "start_time": "2021-07-10T16:51:40.627Z"
   },
   {
    "duration": 364,
    "start_time": "2021-07-10T16:51:46.179Z"
   },
   {
    "duration": 26,
    "start_time": "2021-07-10T16:56:00.825Z"
   },
   {
    "duration": 25,
    "start_time": "2021-07-10T16:56:42.650Z"
   },
   {
    "duration": 23,
    "start_time": "2021-07-10T17:01:12.184Z"
   },
   {
    "duration": 303,
    "start_time": "2021-07-10T17:01:31.615Z"
   },
   {
    "duration": 23,
    "start_time": "2021-07-10T17:01:41.439Z"
   },
   {
    "duration": 22,
    "start_time": "2021-07-10T17:01:45.528Z"
   },
   {
    "duration": 113,
    "start_time": "2021-07-10T17:03:17.073Z"
   },
   {
    "duration": 108,
    "start_time": "2021-07-10T17:03:28.897Z"
   },
   {
    "duration": 39,
    "start_time": "2021-07-10T17:03:37.994Z"
   },
   {
    "duration": 11,
    "start_time": "2021-07-10T17:07:56.871Z"
   },
   {
    "duration": 312,
    "start_time": "2021-07-10T17:10:45.611Z"
   },
   {
    "duration": 315,
    "start_time": "2021-07-10T17:11:02.258Z"
   },
   {
    "duration": 3615,
    "start_time": "2021-07-10T17:11:26.667Z"
   },
   {
    "duration": 3551,
    "start_time": "2021-07-10T17:11:54.172Z"
   },
   {
    "duration": 10,
    "start_time": "2021-07-10T17:12:03.404Z"
   },
   {
    "duration": 144,
    "start_time": "2021-07-10T17:12:57.897Z"
   },
   {
    "duration": 40,
    "start_time": "2021-07-10T17:12:58.513Z"
   },
   {
    "duration": 10,
    "start_time": "2021-07-10T17:12:58.618Z"
   },
   {
    "duration": 12,
    "start_time": "2021-07-10T17:12:58.711Z"
   },
   {
    "duration": 23,
    "start_time": "2021-07-10T17:12:58.908Z"
   },
   {
    "duration": 33,
    "start_time": "2021-07-10T17:12:58.973Z"
   },
   {
    "duration": 63,
    "start_time": "2021-07-10T17:12:59.049Z"
   },
   {
    "duration": 68,
    "start_time": "2021-07-10T17:12:59.114Z"
   },
   {
    "duration": 10,
    "start_time": "2021-07-10T17:12:59.184Z"
   },
   {
    "duration": 16,
    "start_time": "2021-07-10T17:12:59.196Z"
   },
   {
    "duration": 395,
    "start_time": "2021-07-10T17:12:59.215Z"
   },
   {
    "duration": 396,
    "start_time": "2021-07-10T17:12:59.614Z"
   },
   {
    "duration": 368,
    "start_time": "2021-07-10T17:13:00.013Z"
   },
   {
    "duration": 369,
    "start_time": "2021-07-10T17:13:00.384Z"
   },
   {
    "duration": 379,
    "start_time": "2021-07-10T17:13:00.755Z"
   },
   {
    "duration": 384,
    "start_time": "2021-07-10T17:13:01.137Z"
   },
   {
    "duration": 45,
    "start_time": "2021-07-10T17:13:01.524Z"
   },
   {
    "duration": 73,
    "start_time": "2021-07-10T17:13:01.573Z"
   },
   {
    "duration": 23,
    "start_time": "2021-07-10T17:13:01.648Z"
   },
   {
    "duration": 314,
    "start_time": "2021-07-10T17:13:01.673Z"
   },
   {
    "duration": 20,
    "start_time": "2021-07-10T17:13:02.676Z"
   },
   {
    "duration": 297,
    "start_time": "2021-07-10T17:13:03.260Z"
   },
   {
    "duration": 13,
    "start_time": "2021-07-10T17:13:04.164Z"
   },
   {
    "duration": 292,
    "start_time": "2021-07-10T17:13:04.500Z"
   },
   {
    "duration": 23,
    "start_time": "2021-07-10T17:13:05.180Z"
   },
   {
    "duration": 56,
    "start_time": "2021-07-10T17:13:05.334Z"
   },
   {
    "duration": 10,
    "start_time": "2021-07-10T17:13:06.236Z"
   },
   {
    "duration": 354,
    "start_time": "2021-07-10T17:13:07.092Z"
   },
   {
    "duration": 25,
    "start_time": "2021-07-10T17:13:08.148Z"
   },
   {
    "duration": 23,
    "start_time": "2021-07-10T17:13:13.108Z"
   },
   {
    "duration": 4500,
    "start_time": "2021-07-10T17:13:20.972Z"
   },
   {
    "duration": 4496,
    "start_time": "2021-07-10T17:13:40.366Z"
   },
   {
    "duration": 1362,
    "start_time": "2021-07-10T17:13:43.502Z"
   },
   {
    "duration": 8,
    "start_time": "2021-07-10T17:13:48.637Z"
   },
   {
    "duration": 22,
    "start_time": "2021-07-10T17:14:16.078Z"
   },
   {
    "duration": 361,
    "start_time": "2021-07-10T17:14:31.862Z"
   },
   {
    "duration": 8561,
    "start_time": "2021-07-10T17:14:41.431Z"
   },
   {
    "duration": 63,
    "start_time": "2021-07-10T17:14:50.056Z"
   },
   {
    "duration": 145,
    "start_time": "2021-07-10T17:15:02.137Z"
   },
   {
    "duration": 39,
    "start_time": "2021-07-10T17:15:02.779Z"
   },
   {
    "duration": 9,
    "start_time": "2021-07-10T17:15:02.867Z"
   },
   {
    "duration": 12,
    "start_time": "2021-07-10T17:15:02.974Z"
   },
   {
    "duration": 20,
    "start_time": "2021-07-10T17:15:03.173Z"
   },
   {
    "duration": 34,
    "start_time": "2021-07-10T17:15:03.235Z"
   },
   {
    "duration": 59,
    "start_time": "2021-07-10T17:15:03.299Z"
   },
   {
    "duration": 60,
    "start_time": "2021-07-10T17:15:03.361Z"
   },
   {
    "duration": 9,
    "start_time": "2021-07-10T17:15:03.424Z"
   },
   {
    "duration": 9,
    "start_time": "2021-07-10T17:15:03.463Z"
   },
   {
    "duration": 411,
    "start_time": "2021-07-10T17:15:03.475Z"
   },
   {
    "duration": 394,
    "start_time": "2021-07-10T17:15:03.889Z"
   },
   {
    "duration": 382,
    "start_time": "2021-07-10T17:15:04.286Z"
   },
   {
    "duration": 380,
    "start_time": "2021-07-10T17:15:04.671Z"
   },
   {
    "duration": 385,
    "start_time": "2021-07-10T17:15:05.053Z"
   },
   {
    "duration": 384,
    "start_time": "2021-07-10T17:15:05.440Z"
   },
   {
    "duration": 43,
    "start_time": "2021-07-10T17:15:05.826Z"
   },
   {
    "duration": 59,
    "start_time": "2021-07-10T17:15:05.872Z"
   },
   {
    "duration": 37,
    "start_time": "2021-07-10T17:15:05.935Z"
   },
   {
    "duration": 309,
    "start_time": "2021-07-10T17:15:05.974Z"
   },
   {
    "duration": 20,
    "start_time": "2021-07-10T17:15:06.285Z"
   },
   {
    "duration": 321,
    "start_time": "2021-07-10T17:15:06.308Z"
   },
   {
    "duration": 12,
    "start_time": "2021-07-10T17:15:06.631Z"
   },
   {
    "duration": 334,
    "start_time": "2021-07-10T17:15:06.645Z"
   },
   {
    "duration": 24,
    "start_time": "2021-07-10T17:15:06.982Z"
   },
   {
    "duration": 80,
    "start_time": "2021-07-10T17:15:07.009Z"
   },
   {
    "duration": 10,
    "start_time": "2021-07-10T17:15:07.092Z"
   },
   {
    "duration": 397,
    "start_time": "2021-07-10T17:15:07.105Z"
   },
   {
    "duration": 24,
    "start_time": "2021-07-10T17:15:07.505Z"
   },
   {
    "duration": 44,
    "start_time": "2021-07-10T17:15:07.531Z"
   },
   {
    "duration": 4431,
    "start_time": "2021-07-10T17:15:12.792Z"
   },
   {
    "duration": 332,
    "start_time": "2021-07-10T17:17:08.780Z"
   },
   {
    "duration": 4692,
    "start_time": "2021-07-10T17:17:15.731Z"
   },
   {
    "duration": 64,
    "start_time": "2021-07-10T17:17:28.331Z"
   },
   {
    "duration": 10,
    "start_time": "2021-07-10T17:17:30.626Z"
   },
   {
    "duration": 25,
    "start_time": "2021-07-10T17:17:46.643Z"
   },
   {
    "duration": 36,
    "start_time": "2021-07-10T17:18:00.475Z"
   },
   {
    "duration": 136,
    "start_time": "2021-07-10T17:19:44.398Z"
   },
   {
    "duration": 40,
    "start_time": "2021-07-10T17:19:45.028Z"
   },
   {
    "duration": 11,
    "start_time": "2021-07-10T17:19:45.133Z"
   },
   {
    "duration": 13,
    "start_time": "2021-07-10T17:19:45.224Z"
   },
   {
    "duration": 22,
    "start_time": "2021-07-10T17:19:45.433Z"
   },
   {
    "duration": 33,
    "start_time": "2021-07-10T17:19:45.496Z"
   },
   {
    "duration": 59,
    "start_time": "2021-07-10T17:19:45.560Z"
   },
   {
    "duration": 74,
    "start_time": "2021-07-10T17:19:45.622Z"
   },
   {
    "duration": 10,
    "start_time": "2021-07-10T17:19:45.698Z"
   },
   {
    "duration": 9,
    "start_time": "2021-07-10T17:19:45.711Z"
   },
   {
    "duration": 405,
    "start_time": "2021-07-10T17:19:45.723Z"
   },
   {
    "duration": 384,
    "start_time": "2021-07-10T17:19:46.131Z"
   },
   {
    "duration": 366,
    "start_time": "2021-07-10T17:19:46.518Z"
   },
   {
    "duration": 362,
    "start_time": "2021-07-10T17:19:46.886Z"
   },
   {
    "duration": 557,
    "start_time": "2021-07-10T17:19:47.251Z"
   },
   {
    "duration": 551,
    "start_time": "2021-07-10T17:19:47.811Z"
   },
   {
    "duration": 42,
    "start_time": "2021-07-10T17:19:48.365Z"
   },
   {
    "duration": 110,
    "start_time": "2021-07-10T17:19:48.412Z"
   },
   {
    "duration": 36,
    "start_time": "2021-07-10T17:19:48.526Z"
   },
   {
    "duration": 420,
    "start_time": "2021-07-10T17:19:48.565Z"
   },
   {
    "duration": 28,
    "start_time": "2021-07-10T17:19:48.988Z"
   },
   {
    "duration": 451,
    "start_time": "2021-07-10T17:19:49.019Z"
   },
   {
    "duration": 15,
    "start_time": "2021-07-10T17:19:49.473Z"
   },
   {
    "duration": 464,
    "start_time": "2021-07-10T17:19:49.491Z"
   },
   {
    "duration": 33,
    "start_time": "2021-07-10T17:19:49.958Z"
   },
   {
    "duration": 111,
    "start_time": "2021-07-10T17:19:49.994Z"
   },
   {
    "duration": 13,
    "start_time": "2021-07-10T17:19:50.108Z"
   },
   {
    "duration": 568,
    "start_time": "2021-07-10T17:19:50.125Z"
   },
   {
    "duration": 36,
    "start_time": "2021-07-10T17:19:50.696Z"
   },
   {
    "duration": 34,
    "start_time": "2021-07-10T17:19:50.860Z"
   },
   {
    "duration": 5218,
    "start_time": "2021-07-10T17:19:54.645Z"
   },
   {
    "duration": 3014,
    "start_time": "2021-07-10T17:20:39.775Z"
   },
   {
    "duration": 10,
    "start_time": "2021-07-10T17:20:56.478Z"
   },
   {
    "duration": 11,
    "start_time": "2021-07-10T17:21:11.271Z"
   },
   {
    "duration": 429,
    "start_time": "2021-07-10T17:21:53.671Z"
   },
   {
    "duration": 1196,
    "start_time": "2021-07-10T17:22:09.521Z"
   },
   {
    "duration": 18,
    "start_time": "2021-07-10T17:22:37.944Z"
   },
   {
    "duration": 12,
    "start_time": "2021-07-10T17:25:35.300Z"
   },
   {
    "duration": 14,
    "start_time": "2021-07-10T17:26:05.044Z"
   },
   {
    "duration": 15,
    "start_time": "2021-07-10T17:26:08.964Z"
   },
   {
    "duration": 24,
    "start_time": "2021-07-10T17:26:09.404Z"
   },
   {
    "duration": 156,
    "start_time": "2021-07-10T17:26:25.493Z"
   },
   {
    "duration": 372,
    "start_time": "2021-07-10T17:27:54.671Z"
   },
   {
    "duration": 371,
    "start_time": "2021-07-10T17:28:07.086Z"
   },
   {
    "duration": 24,
    "start_time": "2021-07-10T17:28:18.103Z"
   },
   {
    "duration": 36,
    "start_time": "2021-07-10T17:28:21.807Z"
   },
   {
    "duration": 582,
    "start_time": "2021-07-10T17:28:37.856Z"
   },
   {
    "duration": 141,
    "start_time": "2021-07-10T19:00:54.515Z"
   },
   {
    "duration": 39,
    "start_time": "2021-07-10T19:00:54.682Z"
   },
   {
    "duration": 11,
    "start_time": "2021-07-10T19:00:54.776Z"
   },
   {
    "duration": 11,
    "start_time": "2021-07-10T19:00:54.872Z"
   },
   {
    "duration": 21,
    "start_time": "2021-07-10T19:00:55.081Z"
   },
   {
    "duration": 33,
    "start_time": "2021-07-10T19:00:55.137Z"
   },
   {
    "duration": 62,
    "start_time": "2021-07-10T19:00:55.216Z"
   },
   {
    "duration": 59,
    "start_time": "2021-07-10T19:00:55.281Z"
   },
   {
    "duration": 10,
    "start_time": "2021-07-10T19:00:55.362Z"
   },
   {
    "duration": 18,
    "start_time": "2021-07-10T19:00:55.374Z"
   },
   {
    "duration": 374,
    "start_time": "2021-07-10T19:00:55.404Z"
   },
   {
    "duration": 370,
    "start_time": "2021-07-10T19:00:55.781Z"
   },
   {
    "duration": 392,
    "start_time": "2021-07-10T19:00:56.154Z"
   },
   {
    "duration": 374,
    "start_time": "2021-07-10T19:00:56.550Z"
   },
   {
    "duration": 371,
    "start_time": "2021-07-10T19:00:56.927Z"
   },
   {
    "duration": 379,
    "start_time": "2021-07-10T19:00:57.302Z"
   },
   {
    "duration": 30,
    "start_time": "2021-07-10T19:00:57.683Z"
   },
   {
    "duration": 86,
    "start_time": "2021-07-10T19:00:57.716Z"
   },
   {
    "duration": 16,
    "start_time": "2021-07-10T19:00:57.804Z"
   },
   {
    "duration": 318,
    "start_time": "2021-07-10T19:00:57.823Z"
   },
   {
    "duration": 29,
    "start_time": "2021-07-10T19:00:58.144Z"
   },
   {
    "duration": 316,
    "start_time": "2021-07-10T19:00:58.176Z"
   },
   {
    "duration": 11,
    "start_time": "2021-07-10T19:00:58.494Z"
   },
   {
    "duration": 330,
    "start_time": "2021-07-10T19:00:58.508Z"
   },
   {
    "duration": 33,
    "start_time": "2021-07-10T19:00:58.840Z"
   },
   {
    "duration": 56,
    "start_time": "2021-07-10T19:00:58.875Z"
   },
   {
    "duration": 33,
    "start_time": "2021-07-10T19:00:58.933Z"
   },
   {
    "duration": 388,
    "start_time": "2021-07-10T19:00:58.968Z"
   },
   {
    "duration": 25,
    "start_time": "2021-07-10T19:01:00.544Z"
   },
   {
    "duration": 15,
    "start_time": "2021-07-10T19:01:02.815Z"
   },
   {
    "duration": 24,
    "start_time": "2021-07-10T19:01:05.032Z"
   },
   {
    "duration": 153,
    "start_time": "2021-07-10T19:01:11.400Z"
   },
   {
    "duration": 374,
    "start_time": "2021-07-10T19:01:13.695Z"
   },
   {
    "duration": 24,
    "start_time": "2021-07-10T19:01:18.216Z"
   },
   {
    "duration": 61,
    "start_time": "2021-07-10T19:02:39.521Z"
   },
   {
    "duration": 34,
    "start_time": "2021-07-10T19:07:32.984Z"
   },
   {
    "duration": 33,
    "start_time": "2021-07-10T19:08:22.025Z"
   },
   {
    "duration": 310,
    "start_time": "2021-07-10T19:08:32.809Z"
   },
   {
    "duration": 3507,
    "start_time": "2021-07-10T19:08:50.714Z"
   },
   {
    "duration": 313,
    "start_time": "2021-07-10T19:09:05.497Z"
   },
   {
    "duration": 7,
    "start_time": "2021-07-10T19:09:24.770Z"
   },
   {
    "duration": 6,
    "start_time": "2021-07-10T19:09:29.865Z"
   },
   {
    "duration": 32,
    "start_time": "2021-07-10T19:11:09.692Z"
   },
   {
    "duration": 58,
    "start_time": "2021-07-10T19:11:52.357Z"
   },
   {
    "duration": 59,
    "start_time": "2021-07-10T19:12:33.838Z"
   },
   {
    "duration": 23,
    "start_time": "2021-07-10T19:16:06.203Z"
   },
   {
    "duration": 319,
    "start_time": "2021-07-10T19:18:53.174Z"
   },
   {
    "duration": 559,
    "start_time": "2021-07-10T19:18:59.108Z"
   },
   {
    "duration": 3108,
    "start_time": "2021-07-10T19:19:04.717Z"
   },
   {
    "duration": 7,
    "start_time": "2021-07-10T19:19:23.060Z"
   },
   {
    "duration": 9,
    "start_time": "2021-07-10T19:19:26.756Z"
   },
   {
    "duration": 24,
    "start_time": "2021-07-10T19:19:51.871Z"
   },
   {
    "duration": 12,
    "start_time": "2021-07-10T19:23:45.026Z"
   },
   {
    "duration": 56,
    "start_time": "2021-07-10T19:23:55.882Z"
   },
   {
    "duration": 311,
    "start_time": "2021-07-10T19:28:03.862Z"
   },
   {
    "duration": 54,
    "start_time": "2021-07-10T19:28:18.895Z"
   },
   {
    "duration": 123,
    "start_time": "2021-07-10T19:28:24.288Z"
   },
   {
    "duration": 85,
    "start_time": "2021-07-10T19:28:47.340Z"
   },
   {
    "duration": 84,
    "start_time": "2021-07-10T19:29:06.681Z"
   },
   {
    "duration": 440,
    "start_time": "2021-07-10T19:30:35.098Z"
   },
   {
    "duration": 356,
    "start_time": "2021-07-10T19:30:55.850Z"
   },
   {
    "duration": 311,
    "start_time": "2021-07-10T19:31:09.434Z"
   },
   {
    "duration": 65,
    "start_time": "2021-07-10T19:34:18.662Z"
   },
   {
    "duration": 336,
    "start_time": "2021-07-10T19:35:30.718Z"
   },
   {
    "duration": 303,
    "start_time": "2021-07-10T19:35:46.670Z"
   },
   {
    "duration": 578,
    "start_time": "2021-07-10T19:36:00.727Z"
   },
   {
    "duration": 573,
    "start_time": "2021-07-10T19:36:08.103Z"
   },
   {
    "duration": 2079,
    "start_time": "2021-07-10T19:36:38.776Z"
   },
   {
    "duration": 635,
    "start_time": "2021-07-10T19:36:58.377Z"
   },
   {
    "duration": 959,
    "start_time": "2021-07-10T19:37:04.000Z"
   },
   {
    "duration": 579,
    "start_time": "2021-07-10T19:37:18.728Z"
   },
   {
    "duration": 545,
    "start_time": "2021-07-10T19:37:21.929Z"
   },
   {
    "duration": 59,
    "start_time": "2021-07-10T19:37:24.200Z"
   },
   {
    "duration": 580,
    "start_time": "2021-07-10T19:37:31.592Z"
   },
   {
    "duration": 38,
    "start_time": "2021-07-10T19:37:49.196Z"
   },
   {
    "duration": 40,
    "start_time": "2021-07-10T19:38:00.193Z"
   },
   {
    "duration": 40,
    "start_time": "2021-07-10T19:38:05.153Z"
   },
   {
    "duration": 64,
    "start_time": "2021-07-10T19:38:16.498Z"
   },
   {
    "duration": 62,
    "start_time": "2021-07-10T19:38:23.339Z"
   },
   {
    "duration": 64,
    "start_time": "2021-07-10T19:38:34.435Z"
   },
   {
    "duration": 41,
    "start_time": "2021-07-10T19:38:54.540Z"
   },
   {
    "duration": 26,
    "start_time": "2021-07-10T19:43:01.175Z"
   },
   {
    "duration": 49,
    "start_time": "2021-07-10T19:43:11.983Z"
   },
   {
    "duration": 355,
    "start_time": "2021-07-10T19:44:35.929Z"
   },
   {
    "duration": 311,
    "start_time": "2021-07-10T19:44:45.568Z"
   },
   {
    "duration": 21,
    "start_time": "2021-07-10T19:44:55.161Z"
   },
   {
    "duration": 16,
    "start_time": "2021-07-10T19:45:06.361Z"
   },
   {
    "duration": 19,
    "start_time": "2021-07-10T19:45:10.960Z"
   },
   {
    "duration": 22,
    "start_time": "2021-07-10T19:45:22.097Z"
   },
   {
    "duration": 17,
    "start_time": "2021-07-10T19:45:36.913Z"
   },
   {
    "duration": 792,
    "start_time": "2021-07-10T19:45:45.865Z"
   },
   {
    "duration": 195,
    "start_time": "2021-07-10T19:47:18.478Z"
   },
   {
    "duration": 58,
    "start_time": "2021-07-10T19:47:19.102Z"
   },
   {
    "duration": 14,
    "start_time": "2021-07-10T19:47:19.204Z"
   },
   {
    "duration": 15,
    "start_time": "2021-07-10T19:47:19.309Z"
   },
   {
    "duration": 27,
    "start_time": "2021-07-10T19:47:19.498Z"
   },
   {
    "duration": 49,
    "start_time": "2021-07-10T19:47:19.565Z"
   },
   {
    "duration": 65,
    "start_time": "2021-07-10T19:47:19.630Z"
   },
   {
    "duration": 78,
    "start_time": "2021-07-10T19:47:19.698Z"
   },
   {
    "duration": 10,
    "start_time": "2021-07-10T19:47:19.779Z"
   },
   {
    "duration": 8,
    "start_time": "2021-07-10T19:47:19.792Z"
   },
   {
    "duration": 410,
    "start_time": "2021-07-10T19:47:19.803Z"
   },
   {
    "duration": 387,
    "start_time": "2021-07-10T19:47:20.216Z"
   },
   {
    "duration": 375,
    "start_time": "2021-07-10T19:47:20.606Z"
   },
   {
    "duration": 380,
    "start_time": "2021-07-10T19:47:20.984Z"
   },
   {
    "duration": 374,
    "start_time": "2021-07-10T19:47:21.367Z"
   },
   {
    "duration": 382,
    "start_time": "2021-07-10T19:47:21.744Z"
   },
   {
    "duration": 43,
    "start_time": "2021-07-10T19:47:22.129Z"
   },
   {
    "duration": 57,
    "start_time": "2021-07-10T19:47:22.176Z"
   },
   {
    "duration": 36,
    "start_time": "2021-07-10T19:47:22.236Z"
   },
   {
    "duration": 310,
    "start_time": "2021-07-10T19:47:22.275Z"
   },
   {
    "duration": 20,
    "start_time": "2021-07-10T19:47:22.587Z"
   },
   {
    "duration": 355,
    "start_time": "2021-07-10T19:47:22.609Z"
   },
   {
    "duration": 12,
    "start_time": "2021-07-10T19:47:22.966Z"
   },
   {
    "duration": 364,
    "start_time": "2021-07-10T19:47:22.981Z"
   },
   {
    "duration": 24,
    "start_time": "2021-07-10T19:47:23.348Z"
   },
   {
    "duration": 57,
    "start_time": "2021-07-10T19:47:23.375Z"
   },
   {
    "duration": 31,
    "start_time": "2021-07-10T19:47:23.434Z"
   },
   {
    "duration": 378,
    "start_time": "2021-07-10T19:47:23.467Z"
   },
   {
    "duration": 34,
    "start_time": "2021-07-10T19:47:23.847Z"
   },
   {
    "duration": 15,
    "start_time": "2021-07-10T19:47:23.884Z"
   },
   {
    "duration": 22,
    "start_time": "2021-07-10T19:47:23.901Z"
   },
   {
    "duration": 154,
    "start_time": "2021-07-10T19:47:24.283Z"
   },
   {
    "duration": 390,
    "start_time": "2021-07-10T19:47:25.059Z"
   },
   {
    "duration": 574,
    "start_time": "2021-07-10T19:47:26.538Z"
   },
   {
    "duration": 17,
    "start_time": "2021-07-10T19:47:29.851Z"
   },
   {
    "duration": 538,
    "start_time": "2021-07-10T19:47:34.402Z"
   },
   {
    "duration": 49,
    "start_time": "2021-07-10T19:48:33.229Z"
   },
   {
    "duration": 49,
    "start_time": "2021-07-10T19:49:11.055Z"
   },
   {
    "duration": 4210,
    "start_time": "2021-07-10T19:49:20.711Z"
   },
   {
    "duration": 281,
    "start_time": "2021-07-10T19:49:35.302Z"
   },
   {
    "duration": 58,
    "start_time": "2021-07-10T19:49:53.462Z"
   },
   {
    "duration": 61,
    "start_time": "2021-07-10T19:50:51.464Z"
   },
   {
    "duration": 14,
    "start_time": "2021-07-10T19:51:47.120Z"
   },
   {
    "duration": 965,
    "start_time": "2021-07-11T13:08:39.081Z"
   },
   {
    "duration": 43,
    "start_time": "2021-07-11T13:08:40.055Z"
   },
   {
    "duration": 10,
    "start_time": "2021-07-11T13:08:40.102Z"
   },
   {
    "duration": 44,
    "start_time": "2021-07-11T13:08:40.116Z"
   },
   {
    "duration": 27,
    "start_time": "2021-07-11T13:08:40.163Z"
   },
   {
    "duration": 34,
    "start_time": "2021-07-11T13:08:40.192Z"
   },
   {
    "duration": 135,
    "start_time": "2021-07-11T13:08:40.229Z"
   },
   {
    "duration": 106,
    "start_time": "2021-07-11T13:08:40.369Z"
   },
   {
    "duration": 14,
    "start_time": "2021-07-11T13:08:40.478Z"
   },
   {
    "duration": 11,
    "start_time": "2021-07-11T13:08:40.495Z"
   },
   {
    "duration": 561,
    "start_time": "2021-07-11T13:08:40.509Z"
   },
   {
    "duration": 583,
    "start_time": "2021-07-11T13:08:41.074Z"
   },
   {
    "duration": 383,
    "start_time": "2021-07-11T13:08:41.660Z"
   },
   {
    "duration": 428,
    "start_time": "2021-07-11T13:08:42.045Z"
   },
   {
    "duration": 381,
    "start_time": "2021-07-11T13:08:42.476Z"
   },
   {
    "duration": 458,
    "start_time": "2021-07-11T13:08:42.860Z"
   },
   {
    "duration": 40,
    "start_time": "2021-07-11T13:08:43.320Z"
   },
   {
    "duration": 57,
    "start_time": "2021-07-11T13:08:43.362Z"
   },
   {
    "duration": 48,
    "start_time": "2021-07-11T13:08:43.422Z"
   },
   {
    "duration": 339,
    "start_time": "2021-07-11T13:08:43.474Z"
   },
   {
    "duration": 21,
    "start_time": "2021-07-11T13:08:43.816Z"
   },
   {
    "duration": 340,
    "start_time": "2021-07-11T13:08:43.840Z"
   },
   {
    "duration": 17,
    "start_time": "2021-07-11T13:08:44.183Z"
   },
   {
    "duration": 385,
    "start_time": "2021-07-11T13:08:44.202Z"
   },
   {
    "duration": 22,
    "start_time": "2021-07-11T13:08:44.591Z"
   },
   {
    "duration": 84,
    "start_time": "2021-07-11T13:08:44.616Z"
   },
   {
    "duration": 11,
    "start_time": "2021-07-11T13:08:44.703Z"
   },
   {
    "duration": 414,
    "start_time": "2021-07-11T13:08:44.717Z"
   },
   {
    "duration": 38,
    "start_time": "2021-07-11T13:08:45.133Z"
   },
   {
    "duration": 15,
    "start_time": "2021-07-11T13:08:45.174Z"
   },
   {
    "duration": 25,
    "start_time": "2021-07-11T13:08:45.192Z"
   },
   {
    "duration": 177,
    "start_time": "2021-07-11T13:08:45.254Z"
   },
   {
    "duration": 424,
    "start_time": "2021-07-11T13:08:45.435Z"
   },
   {
    "duration": 16,
    "start_time": "2021-07-11T13:10:25.407Z"
   },
   {
    "duration": 558,
    "start_time": "2021-07-11T13:10:27.790Z"
   },
   {
    "duration": 718,
    "start_time": "2021-07-11T13:10:46.560Z"
   },
   {
    "duration": 17,
    "start_time": "2021-07-11T13:10:47.281Z"
   },
   {
    "duration": 680,
    "start_time": "2021-07-11T13:10:49.600Z"
   },
   {
    "duration": 574,
    "start_time": "2021-07-11T13:10:53.255Z"
   },
   {
    "duration": 50,
    "start_time": "2021-07-11T13:11:08.208Z"
   },
   {
    "duration": 57,
    "start_time": "2021-07-11T13:11:13.601Z"
   },
   {
    "duration": 15,
    "start_time": "2021-07-11T13:11:19.608Z"
   },
   {
    "duration": 23,
    "start_time": "2021-07-11T13:12:26.793Z"
   },
   {
    "duration": 21,
    "start_time": "2021-07-11T13:12:49.098Z"
   },
   {
    "duration": 9,
    "start_time": "2021-07-11T13:16:19.238Z"
   },
   {
    "duration": 7,
    "start_time": "2021-07-11T13:16:26.150Z"
   },
   {
    "duration": 7,
    "start_time": "2021-07-11T13:16:29.973Z"
   },
   {
    "duration": 8,
    "start_time": "2021-07-11T13:16:39.789Z"
   },
   {
    "duration": 8,
    "start_time": "2021-07-11T13:16:47.854Z"
   },
   {
    "duration": 6,
    "start_time": "2021-07-11T13:17:24.895Z"
   },
   {
    "duration": 6,
    "start_time": "2021-07-11T13:17:32.535Z"
   },
   {
    "duration": 6,
    "start_time": "2021-07-11T13:17:36.496Z"
   },
   {
    "duration": 9,
    "start_time": "2021-07-11T13:18:32.208Z"
   },
   {
    "duration": 10,
    "start_time": "2021-07-11T13:18:35.161Z"
   },
   {
    "duration": 10,
    "start_time": "2021-07-11T13:18:50.144Z"
   },
   {
    "duration": 8,
    "start_time": "2021-07-11T13:33:14.809Z"
   },
   {
    "duration": 353,
    "start_time": "2021-07-11T13:33:21.945Z"
   },
   {
    "duration": 7,
    "start_time": "2021-07-11T13:33:29.073Z"
   },
   {
    "duration": 327,
    "start_time": "2021-07-11T13:33:42.178Z"
   },
   {
    "duration": 3457,
    "start_time": "2021-07-11T13:34:04.754Z"
   },
   {
    "duration": 6262,
    "start_time": "2021-07-11T13:34:19.398Z"
   },
   {
    "duration": 1147,
    "start_time": "2021-07-11T13:34:31.329Z"
   },
   {
    "duration": 1153,
    "start_time": "2021-07-11T13:34:47.380Z"
   },
   {
    "duration": 83,
    "start_time": "2021-07-11T13:35:15.531Z"
   },
   {
    "duration": 1152,
    "start_time": "2021-07-11T13:35:25.315Z"
   },
   {
    "duration": 6593,
    "start_time": "2021-07-11T13:35:27.363Z"
   },
   {
    "duration": 6374,
    "start_time": "2021-07-11T13:35:43.180Z"
   },
   {
    "duration": 6169,
    "start_time": "2021-07-11T13:36:38.741Z"
   },
   {
    "duration": 6096,
    "start_time": "2021-07-11T13:36:50.549Z"
   },
   {
    "duration": 3921,
    "start_time": "2021-07-11T13:38:06.128Z"
   },
   {
    "duration": 27,
    "start_time": "2021-07-11T13:38:25.439Z"
   },
   {
    "duration": 61,
    "start_time": "2021-07-11T13:38:28.942Z"
   },
   {
    "duration": 56,
    "start_time": "2021-07-11T13:38:38.464Z"
   },
   {
    "duration": 4076,
    "start_time": "2021-07-11T13:38:47.144Z"
   },
   {
    "duration": 5,
    "start_time": "2021-07-11T13:39:00.200Z"
   },
   {
    "duration": 4110,
    "start_time": "2021-07-11T13:39:02.856Z"
   },
   {
    "duration": 255,
    "start_time": "2021-07-11T13:40:38.614Z"
   },
   {
    "duration": 249,
    "start_time": "2021-07-11T13:40:51.051Z"
   },
   {
    "duration": 275,
    "start_time": "2021-07-11T13:41:08.626Z"
   },
   {
    "duration": 12,
    "start_time": "2021-07-11T13:42:05.819Z"
   },
   {
    "duration": 204,
    "start_time": "2021-07-11T13:42:27.484Z"
   },
   {
    "duration": 866,
    "start_time": "2021-07-11T13:43:00.804Z"
   },
   {
    "duration": 14,
    "start_time": "2021-07-11T13:43:29.837Z"
   },
   {
    "duration": 1121,
    "start_time": "2021-07-11T13:43:53.310Z"
   },
   {
    "duration": 1098,
    "start_time": "2021-07-11T13:44:06.886Z"
   },
   {
    "duration": 1111,
    "start_time": "2021-07-11T13:44:16.814Z"
   },
   {
    "duration": 148,
    "start_time": "2021-07-11T13:44:28.847Z"
   },
   {
    "duration": 42,
    "start_time": "2021-07-11T13:44:29.468Z"
   },
   {
    "duration": 14,
    "start_time": "2021-07-11T13:44:29.569Z"
   },
   {
    "duration": 13,
    "start_time": "2021-07-11T13:44:29.674Z"
   },
   {
    "duration": 25,
    "start_time": "2021-07-11T13:44:29.876Z"
   },
   {
    "duration": 35,
    "start_time": "2021-07-11T13:44:29.935Z"
   },
   {
    "duration": 69,
    "start_time": "2021-07-11T13:44:30.005Z"
   },
   {
    "duration": 61,
    "start_time": "2021-07-11T13:44:30.078Z"
   },
   {
    "duration": 37,
    "start_time": "2021-07-11T13:44:30.142Z"
   },
   {
    "duration": 10,
    "start_time": "2021-07-11T13:44:30.183Z"
   },
   {
    "duration": 417,
    "start_time": "2021-07-11T13:44:30.195Z"
   },
   {
    "duration": 418,
    "start_time": "2021-07-11T13:44:30.615Z"
   },
   {
    "duration": 385,
    "start_time": "2021-07-11T13:44:31.038Z"
   },
   {
    "duration": 600,
    "start_time": "2021-07-11T13:44:31.427Z"
   },
   {
    "duration": 597,
    "start_time": "2021-07-11T13:44:32.030Z"
   },
   {
    "duration": 601,
    "start_time": "2021-07-11T13:44:32.630Z"
   },
   {
    "duration": 53,
    "start_time": "2021-07-11T13:44:33.235Z"
   },
   {
    "duration": 83,
    "start_time": "2021-07-11T13:44:33.294Z"
   },
   {
    "duration": 15,
    "start_time": "2021-07-11T13:44:33.380Z"
   },
   {
    "duration": 309,
    "start_time": "2021-07-11T13:44:33.397Z"
   },
   {
    "duration": 19,
    "start_time": "2021-07-11T13:44:33.708Z"
   },
   {
    "duration": 319,
    "start_time": "2021-07-11T13:44:33.729Z"
   },
   {
    "duration": 16,
    "start_time": "2021-07-11T13:44:34.054Z"
   },
   {
    "duration": 404,
    "start_time": "2021-07-11T13:44:34.073Z"
   },
   {
    "duration": 25,
    "start_time": "2021-07-11T13:44:34.480Z"
   },
   {
    "duration": 85,
    "start_time": "2021-07-11T13:44:34.507Z"
   },
   {
    "duration": 11,
    "start_time": "2021-07-11T13:44:34.595Z"
   },
   {
    "duration": 395,
    "start_time": "2021-07-11T13:44:34.609Z"
   },
   {
    "duration": 25,
    "start_time": "2021-07-11T13:44:35.007Z"
   },
   {
    "duration": 37,
    "start_time": "2021-07-11T13:44:35.035Z"
   },
   {
    "duration": 25,
    "start_time": "2021-07-11T13:44:35.074Z"
   },
   {
    "duration": 196,
    "start_time": "2021-07-11T13:44:35.101Z"
   },
   {
    "duration": 416,
    "start_time": "2021-07-11T13:44:35.302Z"
   },
   {
    "duration": 648,
    "start_time": "2021-07-11T13:44:35.721Z"
   },
   {
    "duration": 17,
    "start_time": "2021-07-11T13:44:36.372Z"
   },
   {
    "duration": 1288,
    "start_time": "2021-07-11T13:44:36.391Z"
   },
   {
    "duration": 884,
    "start_time": "2021-07-11T13:44:37.682Z"
   },
   {
    "duration": 52,
    "start_time": "2021-07-11T13:44:38.570Z"
   },
   {
    "duration": 104,
    "start_time": "2021-07-11T13:44:38.626Z"
   },
   {
    "duration": 34,
    "start_time": "2021-07-11T13:44:38.733Z"
   },
   {
    "duration": 35,
    "start_time": "2021-07-11T13:44:39.254Z"
   },
   {
    "duration": 5,
    "start_time": "2021-07-11T13:44:39.493Z"
   },
   {
    "duration": 10,
    "start_time": "2021-07-11T13:44:40.469Z"
   },
   {
    "duration": 14,
    "start_time": "2021-07-11T13:44:41.797Z"
   },
   {
    "duration": 2236,
    "start_time": "2021-07-11T13:44:42.189Z"
   },
   {
    "duration": 1971,
    "start_time": "2021-07-11T13:44:48.990Z"
   },
   {
    "duration": 322,
    "start_time": "2021-07-11T13:45:21.487Z"
   },
   {
    "duration": 325,
    "start_time": "2021-07-11T13:45:31.567Z"
   },
   {
    "duration": 285,
    "start_time": "2021-07-11T13:45:40.807Z"
   },
   {
    "duration": 296,
    "start_time": "2021-07-11T13:45:48.056Z"
   },
   {
    "duration": 66,
    "start_time": "2021-07-11T13:50:08.300Z"
   },
   {
    "duration": 64,
    "start_time": "2021-07-11T13:51:11.040Z"
   },
   {
    "duration": 334,
    "start_time": "2021-07-11T13:54:28.890Z"
   },
   {
    "duration": 62,
    "start_time": "2021-07-11T13:55:14.108Z"
   },
   {
    "duration": 12,
    "start_time": "2021-07-11T13:55:17.171Z"
   },
   {
    "duration": 25,
    "start_time": "2021-07-11T13:55:25.011Z"
   },
   {
    "duration": 298,
    "start_time": "2021-07-11T13:56:11.091Z"
   },
   {
    "duration": 307,
    "start_time": "2021-07-11T13:56:32.852Z"
   },
   {
    "duration": 18,
    "start_time": "2021-07-11T13:58:44.135Z"
   },
   {
    "duration": 17,
    "start_time": "2021-07-11T13:58:58.127Z"
   },
   {
    "duration": 37,
    "start_time": "2021-07-11T14:00:20.209Z"
   },
   {
    "duration": 36,
    "start_time": "2021-07-11T14:00:50.010Z"
   },
   {
    "duration": 24,
    "start_time": "2021-07-11T14:01:51.003Z"
   },
   {
    "duration": 25,
    "start_time": "2021-07-11T14:02:44.003Z"
   },
   {
    "duration": 6282,
    "start_time": "2021-07-11T14:03:31.844Z"
   },
   {
    "duration": 6131,
    "start_time": "2021-07-11T14:05:12.662Z"
   },
   {
    "duration": 6614,
    "start_time": "2021-07-11T14:05:24.846Z"
   },
   {
    "duration": 305,
    "start_time": "2021-07-11T14:05:34.462Z"
   },
   {
    "duration": 23,
    "start_time": "2021-07-11T14:05:43.975Z"
   },
   {
    "duration": 85,
    "start_time": "2021-07-11T14:05:55.464Z"
   },
   {
    "duration": 6529,
    "start_time": "2021-07-11T14:05:59.742Z"
   },
   {
    "duration": 22,
    "start_time": "2021-07-11T14:06:13.881Z"
   },
   {
    "duration": 17,
    "start_time": "2021-07-11T14:06:22.488Z"
   },
   {
    "duration": 22,
    "start_time": "2021-07-11T14:06:27.469Z"
   },
   {
    "duration": 20,
    "start_time": "2021-07-11T14:06:41.326Z"
   },
   {
    "duration": 6725,
    "start_time": "2021-07-11T14:06:48.671Z"
   },
   {
    "duration": 19,
    "start_time": "2021-07-11T14:07:06.258Z"
   },
   {
    "duration": 23,
    "start_time": "2021-07-11T14:07:48.257Z"
   },
   {
    "duration": 1201,
    "start_time": "2021-07-11T14:08:17.102Z"
   },
   {
    "duration": 28,
    "start_time": "2021-07-11T14:08:26.954Z"
   },
   {
    "duration": 266,
    "start_time": "2021-07-11T14:08:55.818Z"
   },
   {
    "duration": 264,
    "start_time": "2021-07-11T14:09:57.708Z"
   },
   {
    "duration": 84,
    "start_time": "2021-07-11T14:10:08.676Z"
   },
   {
    "duration": 19,
    "start_time": "2021-07-11T14:10:11.373Z"
   },
   {
    "duration": 20,
    "start_time": "2021-07-11T14:10:14.940Z"
   },
   {
    "duration": 307,
    "start_time": "2021-07-11T14:10:25.059Z"
   },
   {
    "duration": 302,
    "start_time": "2021-07-11T14:10:27.611Z"
   },
   {
    "duration": 18,
    "start_time": "2021-07-11T14:12:05.519Z"
   },
   {
    "duration": 15,
    "start_time": "2021-07-11T14:12:07.702Z"
   },
   {
    "duration": 13,
    "start_time": "2021-07-11T14:17:28.812Z"
   },
   {
    "duration": 20,
    "start_time": "2021-07-11T14:17:44.733Z"
   },
   {
    "duration": 745,
    "start_time": "2021-07-11T14:17:51.300Z"
   },
   {
    "duration": 6754,
    "start_time": "2021-07-11T14:19:14.735Z"
   },
   {
    "duration": 6272,
    "start_time": "2021-07-11T14:19:29.799Z"
   },
   {
    "duration": 6363,
    "start_time": "2021-07-11T14:19:46.992Z"
   },
   {
    "duration": 641,
    "start_time": "2021-07-11T14:19:56.376Z"
   },
   {
    "duration": 18,
    "start_time": "2021-07-11T14:27:01.607Z"
   },
   {
    "duration": 11,
    "start_time": "2021-07-11T14:29:20.179Z"
   },
   {
    "duration": 12,
    "start_time": "2021-07-11T14:29:29.978Z"
   },
   {
    "duration": 12,
    "start_time": "2021-07-11T14:30:16.379Z"
   },
   {
    "duration": 21,
    "start_time": "2021-07-11T14:30:59.310Z"
   },
   {
    "duration": 23,
    "start_time": "2021-07-11T14:33:49.376Z"
   },
   {
    "duration": 17,
    "start_time": "2021-07-11T14:33:53.096Z"
   },
   {
    "duration": 16,
    "start_time": "2021-07-11T14:34:00.271Z"
   },
   {
    "duration": 16,
    "start_time": "2021-07-11T14:34:11.447Z"
   },
   {
    "duration": 735,
    "start_time": "2021-07-11T14:34:39.169Z"
   },
   {
    "duration": 275,
    "start_time": "2021-07-11T14:35:00.184Z"
   },
   {
    "duration": 266,
    "start_time": "2021-07-11T14:35:15.977Z"
   },
   {
    "duration": 643,
    "start_time": "2021-07-11T14:35:38.418Z"
   },
   {
    "duration": 314,
    "start_time": "2021-07-11T14:35:45.068Z"
   },
   {
    "duration": 9,
    "start_time": "2021-07-11T14:38:51.478Z"
   },
   {
    "duration": 19,
    "start_time": "2021-07-11T14:39:18.662Z"
   },
   {
    "duration": 7,
    "start_time": "2021-07-11T14:39:47.382Z"
   },
   {
    "duration": 6,
    "start_time": "2021-07-11T14:39:49.558Z"
   },
   {
    "duration": 322,
    "start_time": "2021-07-11T14:41:48.170Z"
   },
   {
    "duration": 272,
    "start_time": "2021-07-11T14:41:57.536Z"
   },
   {
    "duration": 26,
    "start_time": "2021-07-11T14:43:35.955Z"
   },
   {
    "duration": 13,
    "start_time": "2021-07-11T14:43:41.027Z"
   },
   {
    "duration": 6576,
    "start_time": "2021-07-11T14:47:25.479Z"
   },
   {
    "duration": 6713,
    "start_time": "2021-07-11T14:47:44.209Z"
   },
   {
    "duration": 1250,
    "start_time": "2021-07-11T14:48:11.824Z"
   },
   {
    "duration": 6038,
    "start_time": "2021-07-11T14:48:39.265Z"
   },
   {
    "duration": 5180,
    "start_time": "2021-07-11T14:49:06.412Z"
   },
   {
    "duration": 1014,
    "start_time": "2021-07-11T14:49:14.517Z"
   },
   {
    "duration": 5078,
    "start_time": "2021-07-11T14:49:28.777Z"
   },
   {
    "duration": 5335,
    "start_time": "2021-07-11T14:49:45.090Z"
   },
   {
    "duration": 26067,
    "start_time": "2021-07-11T14:50:32.635Z"
   },
   {
    "duration": 25610,
    "start_time": "2021-07-11T14:51:00.267Z"
   },
   {
    "duration": 14,
    "start_time": "2021-07-11T14:52:40.669Z"
   },
   {
    "duration": 12,
    "start_time": "2021-07-11T14:52:54.109Z"
   },
   {
    "duration": 407,
    "start_time": "2021-07-11T14:54:06.271Z"
   },
   {
    "duration": 393,
    "start_time": "2021-07-11T14:54:17.287Z"
   },
   {
    "duration": 301,
    "start_time": "2021-07-11T14:54:22.775Z"
   },
   {
    "duration": 296,
    "start_time": "2021-07-11T14:54:28.575Z"
   },
   {
    "duration": 305,
    "start_time": "2021-07-11T14:54:34.287Z"
   },
   {
    "duration": 304,
    "start_time": "2021-07-11T14:54:35.255Z"
   },
   {
    "duration": 298,
    "start_time": "2021-07-11T14:54:37.688Z"
   },
   {
    "duration": 329,
    "start_time": "2021-07-11T14:54:39.007Z"
   },
   {
    "duration": 308,
    "start_time": "2021-07-11T14:55:24.592Z"
   },
   {
    "duration": 483,
    "start_time": "2021-07-11T14:56:04.979Z"
   },
   {
    "duration": 496,
    "start_time": "2021-07-11T14:56:07.138Z"
   },
   {
    "duration": 7,
    "start_time": "2021-07-11T14:56:53.931Z"
   },
   {
    "duration": 7,
    "start_time": "2021-07-11T14:57:06.954Z"
   },
   {
    "duration": 7,
    "start_time": "2021-07-11T14:57:13.259Z"
   },
   {
    "duration": 33,
    "start_time": "2021-07-11T15:02:51.034Z"
   },
   {
    "duration": 57,
    "start_time": "2021-07-11T15:03:08.233Z"
   },
   {
    "duration": 57,
    "start_time": "2021-07-11T15:03:20.059Z"
   },
   {
    "duration": 58,
    "start_time": "2021-07-11T15:03:26.706Z"
   },
   {
    "duration": 12,
    "start_time": "2021-07-11T15:04:07.018Z"
   },
   {
    "duration": 291,
    "start_time": "2021-07-11T15:04:11.083Z"
   },
   {
    "duration": 145,
    "start_time": "2021-07-11T15:04:39.580Z"
   },
   {
    "duration": 41,
    "start_time": "2021-07-11T15:04:40.228Z"
   },
   {
    "duration": 10,
    "start_time": "2021-07-11T15:04:40.334Z"
   },
   {
    "duration": 11,
    "start_time": "2021-07-11T15:04:40.446Z"
   },
   {
    "duration": 21,
    "start_time": "2021-07-11T15:04:40.650Z"
   },
   {
    "duration": 34,
    "start_time": "2021-07-11T15:04:40.726Z"
   },
   {
    "duration": 61,
    "start_time": "2021-07-11T15:04:40.806Z"
   },
   {
    "duration": 62,
    "start_time": "2021-07-11T15:04:40.871Z"
   },
   {
    "duration": 10,
    "start_time": "2021-07-11T15:04:40.955Z"
   },
   {
    "duration": 8,
    "start_time": "2021-07-11T15:04:40.968Z"
   },
   {
    "duration": 369,
    "start_time": "2021-07-11T15:04:41.035Z"
   },
   {
    "duration": 374,
    "start_time": "2021-07-11T15:04:41.407Z"
   },
   {
    "duration": 365,
    "start_time": "2021-07-11T15:04:41.786Z"
   },
   {
    "duration": 367,
    "start_time": "2021-07-11T15:04:42.155Z"
   },
   {
    "duration": 371,
    "start_time": "2021-07-11T15:04:42.524Z"
   },
   {
    "duration": 383,
    "start_time": "2021-07-11T15:04:42.898Z"
   },
   {
    "duration": 30,
    "start_time": "2021-07-11T15:04:43.284Z"
   },
   {
    "duration": 85,
    "start_time": "2021-07-11T15:04:43.317Z"
   },
   {
    "duration": 15,
    "start_time": "2021-07-11T15:04:43.405Z"
   },
   {
    "duration": 308,
    "start_time": "2021-07-11T15:04:43.423Z"
   },
   {
    "duration": 34,
    "start_time": "2021-07-11T15:04:43.733Z"
   },
   {
    "duration": 321,
    "start_time": "2021-07-11T15:04:43.770Z"
   },
   {
    "duration": 13,
    "start_time": "2021-07-11T15:04:44.093Z"
   },
   {
    "duration": 1090,
    "start_time": "2021-07-11T15:04:44.109Z"
   },
   {
    "duration": 23,
    "start_time": "2021-07-11T15:04:45.202Z"
   },
   {
    "duration": 78,
    "start_time": "2021-07-11T15:04:45.229Z"
   },
   {
    "duration": 22,
    "start_time": "2021-07-11T15:04:45.310Z"
   },
   {
    "duration": 507,
    "start_time": "2021-07-11T15:04:45.335Z"
   },
   {
    "duration": 30,
    "start_time": "2021-07-11T15:04:45.845Z"
   },
   {
    "duration": 16,
    "start_time": "2021-07-11T15:04:45.877Z"
   },
   {
    "duration": 32,
    "start_time": "2021-07-11T15:04:45.897Z"
   },
   {
    "duration": 167,
    "start_time": "2021-07-11T15:04:45.955Z"
   },
   {
    "duration": 394,
    "start_time": "2021-07-11T15:04:46.124Z"
   },
   {
    "duration": 586,
    "start_time": "2021-07-11T15:04:46.521Z"
   },
   {
    "duration": 18,
    "start_time": "2021-07-11T15:04:47.109Z"
   },
   {
    "duration": 615,
    "start_time": "2021-07-11T15:04:47.130Z"
   },
   {
    "duration": 946,
    "start_time": "2021-07-11T15:04:47.757Z"
   },
   {
    "duration": 98,
    "start_time": "2021-07-11T15:04:48.707Z"
   },
   {
    "duration": 109,
    "start_time": "2021-07-11T15:04:48.809Z"
   },
   {
    "duration": 17,
    "start_time": "2021-07-11T15:04:48.921Z"
   },
   {
    "duration": 35,
    "start_time": "2021-07-11T15:04:48.940Z"
   },
   {
    "duration": 5,
    "start_time": "2021-07-11T15:04:48.978Z"
   },
   {
    "duration": 18,
    "start_time": "2021-07-11T15:04:48.987Z"
   },
   {
    "duration": 57,
    "start_time": "2021-07-11T15:04:49.008Z"
   },
   {
    "duration": 1966,
    "start_time": "2021-07-11T15:04:49.069Z"
   },
   {
    "duration": 337,
    "start_time": "2021-07-11T15:04:51.038Z"
   },
   {
    "duration": 314,
    "start_time": "2021-07-11T15:04:51.377Z"
   },
   {
    "duration": 76,
    "start_time": "2021-07-11T15:04:51.693Z"
   },
   {
    "duration": 63,
    "start_time": "2021-07-11T15:04:51.772Z"
   },
   {
    "duration": 322,
    "start_time": "2021-07-11T15:04:51.853Z"
   },
   {
    "duration": 20,
    "start_time": "2021-07-11T15:04:52.178Z"
   },
   {
    "duration": 57,
    "start_time": "2021-07-11T15:04:52.201Z"
   },
   {
    "duration": 21,
    "start_time": "2021-07-11T15:04:52.260Z"
   },
   {
    "duration": 322,
    "start_time": "2021-07-11T15:04:52.284Z"
   },
   {
    "duration": 16,
    "start_time": "2021-07-11T15:04:52.609Z"
   },
   {
    "duration": 34,
    "start_time": "2021-07-11T15:04:52.629Z"
   },
   {
    "duration": 27,
    "start_time": "2021-07-11T15:04:52.666Z"
   },
   {
    "duration": 16,
    "start_time": "2021-07-11T15:04:52.695Z"
   },
   {
    "duration": 44,
    "start_time": "2021-07-11T15:04:52.713Z"
   },
   {
    "duration": 21,
    "start_time": "2021-07-11T15:04:52.760Z"
   },
   {
    "duration": 26144,
    "start_time": "2021-07-11T15:04:52.783Z"
   },
   {
    "duration": 28,
    "start_time": "2021-07-11T15:05:18.931Z"
   },
   {
    "duration": 324,
    "start_time": "2021-07-11T15:05:18.963Z"
   },
   {
    "duration": 325,
    "start_time": "2021-07-11T15:05:19.290Z"
   },
   {
    "duration": 317,
    "start_time": "2021-07-11T15:05:19.618Z"
   },
   {
    "duration": 316,
    "start_time": "2021-07-11T15:05:19.938Z"
   },
   {
    "duration": 343,
    "start_time": "2021-07-11T15:05:20.257Z"
   },
   {
    "duration": 7,
    "start_time": "2021-07-11T15:05:20.602Z"
   },
   {
    "duration": 87,
    "start_time": "2021-07-11T15:05:20.611Z"
   },
   {
    "duration": 10,
    "start_time": "2021-07-11T15:05:20.700Z"
   },
   {
    "duration": 5,
    "start_time": "2021-07-11T15:05:24.997Z"
   },
   {
    "duration": 550,
    "start_time": "2021-07-11T15:06:53.126Z"
   },
   {
    "duration": 1281,
    "start_time": "2021-07-11T15:08:21.504Z"
   },
   {
    "duration": 6278,
    "start_time": "2021-07-11T15:09:49.730Z"
   },
   {
    "duration": 30,
    "start_time": "2021-07-11T15:15:43.698Z"
   },
   {
    "duration": 1691,
    "start_time": "2021-07-11T15:16:21.026Z"
   },
   {
    "duration": 655,
    "start_time": "2021-07-11T16:47:05.167Z"
   },
   {
    "duration": 601,
    "start_time": "2021-07-11T16:47:07.528Z"
   },
   {
    "duration": 608,
    "start_time": "2021-07-11T16:47:26.217Z"
   },
   {
    "duration": 651,
    "start_time": "2021-07-11T16:47:34.168Z"
   },
   {
    "duration": 644,
    "start_time": "2021-07-11T16:47:43.160Z"
   },
   {
    "duration": 647,
    "start_time": "2021-07-11T16:47:44.864Z"
   },
   {
    "duration": 630,
    "start_time": "2021-07-11T16:47:54.491Z"
   },
   {
    "duration": 519,
    "start_time": "2021-07-11T16:48:44.729Z"
   },
   {
    "duration": 640,
    "start_time": "2021-07-11T16:48:47.442Z"
   },
   {
    "duration": 672,
    "start_time": "2021-07-11T16:48:53.848Z"
   },
   {
    "duration": 650,
    "start_time": "2021-07-11T16:49:04.249Z"
   },
   {
    "duration": 596,
    "start_time": "2021-07-11T16:49:10.625Z"
   },
   {
    "duration": 626,
    "start_time": "2021-07-11T16:49:32.410Z"
   },
   {
    "duration": 633,
    "start_time": "2021-07-11T16:49:37.370Z"
   },
   {
    "duration": 707,
    "start_time": "2021-07-11T16:51:22.325Z"
   },
   {
    "duration": 498,
    "start_time": "2021-07-11T16:51:45.877Z"
   },
   {
    "duration": 649,
    "start_time": "2021-07-11T16:51:53.093Z"
   },
   {
    "duration": 1765,
    "start_time": "2021-07-11T16:53:07.175Z"
   },
   {
    "duration": 299,
    "start_time": "2021-07-11T16:55:06.257Z"
   },
   {
    "duration": 253,
    "start_time": "2021-07-11T16:55:53.770Z"
   },
   {
    "duration": 323,
    "start_time": "2021-07-11T16:55:58.281Z"
   },
   {
    "duration": 498,
    "start_time": "2021-07-11T16:56:23.442Z"
   },
   {
    "duration": 335,
    "start_time": "2021-07-11T16:57:14.843Z"
   },
   {
    "duration": 1454,
    "start_time": "2021-07-11T16:57:34.061Z"
   },
   {
    "duration": 325,
    "start_time": "2021-07-11T17:01:20.457Z"
   },
   {
    "duration": 321,
    "start_time": "2021-07-11T17:01:22.688Z"
   },
   {
    "duration": 310,
    "start_time": "2021-07-11T17:01:40.472Z"
   },
   {
    "duration": 385,
    "start_time": "2021-07-11T17:02:01.137Z"
   },
   {
    "duration": 1463,
    "start_time": "2021-07-11T17:03:51.769Z"
   },
   {
    "duration": 16,
    "start_time": "2021-07-11T17:04:20.211Z"
   },
   {
    "duration": 20,
    "start_time": "2021-07-11T17:04:25.923Z"
   },
   {
    "duration": 20,
    "start_time": "2021-07-11T17:04:39.203Z"
   },
   {
    "duration": 251,
    "start_time": "2021-07-11T17:04:45.235Z"
   },
   {
    "duration": 253,
    "start_time": "2021-07-11T17:16:34.010Z"
   },
   {
    "duration": 254,
    "start_time": "2021-07-11T17:16:55.890Z"
   },
   {
    "duration": 294,
    "start_time": "2021-07-11T17:17:15.042Z"
   },
   {
    "duration": 273,
    "start_time": "2021-07-11T17:17:20.203Z"
   },
   {
    "duration": 263,
    "start_time": "2021-07-11T17:17:30.371Z"
   },
   {
    "duration": 264,
    "start_time": "2021-07-11T17:17:37.794Z"
   },
   {
    "duration": 240,
    "start_time": "2021-07-11T17:20:21.471Z"
   },
   {
    "duration": 266,
    "start_time": "2021-07-11T17:20:26.854Z"
   },
   {
    "duration": 255,
    "start_time": "2021-07-11T17:28:43.239Z"
   },
   {
    "duration": 269,
    "start_time": "2021-07-11T17:29:01.104Z"
   },
   {
    "duration": 269,
    "start_time": "2021-07-11T17:29:06.935Z"
   },
   {
    "duration": 289,
    "start_time": "2021-07-11T17:31:11.554Z"
   },
   {
    "duration": 336,
    "start_time": "2021-07-11T17:31:28.746Z"
   },
   {
    "duration": 279,
    "start_time": "2021-07-11T17:31:34.435Z"
   },
   {
    "duration": 332,
    "start_time": "2021-07-11T17:33:21.876Z"
   },
   {
    "duration": 340,
    "start_time": "2021-07-11T17:33:25.062Z"
   },
   {
    "duration": 516,
    "start_time": "2021-07-11T17:34:40.438Z"
   },
   {
    "duration": 248,
    "start_time": "2021-07-11T17:39:37.451Z"
   },
   {
    "duration": 15,
    "start_time": "2021-07-11T17:39:48.859Z"
   },
   {
    "duration": 21,
    "start_time": "2021-07-11T17:39:54.411Z"
   },
   {
    "duration": 19,
    "start_time": "2021-07-11T17:40:01.604Z"
   },
   {
    "duration": 16,
    "start_time": "2021-07-11T17:40:13.301Z"
   },
   {
    "duration": 1024,
    "start_time": "2021-07-11T17:40:23.819Z"
   },
   {
    "duration": 20,
    "start_time": "2021-07-11T17:40:39.125Z"
   },
   {
    "duration": 252,
    "start_time": "2021-07-11T17:40:55.405Z"
   },
   {
    "duration": 21,
    "start_time": "2021-07-11T17:41:00.724Z"
   },
   {
    "duration": 26,
    "start_time": "2021-07-11T17:41:03.781Z"
   },
   {
    "duration": 21,
    "start_time": "2021-07-11T17:44:52.873Z"
   },
   {
    "duration": 273,
    "start_time": "2021-07-11T17:46:03.954Z"
   },
   {
    "duration": 30,
    "start_time": "2021-07-11T17:46:52.948Z"
   },
   {
    "duration": 28,
    "start_time": "2021-07-11T17:47:16.436Z"
   },
   {
    "duration": 26,
    "start_time": "2021-07-11T17:47:24.851Z"
   },
   {
    "duration": 29,
    "start_time": "2021-07-11T17:47:26.660Z"
   },
   {
    "duration": 26,
    "start_time": "2021-07-11T17:48:37.829Z"
   },
   {
    "duration": 24,
    "start_time": "2021-07-11T17:48:50.701Z"
   },
   {
    "duration": 30,
    "start_time": "2021-07-11T17:48:59.750Z"
   },
   {
    "duration": 27,
    "start_time": "2021-07-11T17:50:54.273Z"
   },
   {
    "duration": 28,
    "start_time": "2021-07-11T17:50:56.232Z"
   },
   {
    "duration": 313,
    "start_time": "2021-07-11T17:55:05.246Z"
   },
   {
    "duration": 300,
    "start_time": "2021-07-11T17:55:14.405Z"
   },
   {
    "duration": 15,
    "start_time": "2021-07-11T17:55:21.237Z"
   },
   {
    "duration": 17,
    "start_time": "2021-07-11T17:55:32.141Z"
   },
   {
    "duration": 79,
    "start_time": "2021-07-11T17:55:40.925Z"
   },
   {
    "duration": 255,
    "start_time": "2021-07-11T17:55:49.326Z"
   },
   {
    "duration": 21,
    "start_time": "2021-07-11T17:55:58.191Z"
   },
   {
    "duration": 21,
    "start_time": "2021-07-11T17:56:06.238Z"
   },
   {
    "duration": 21,
    "start_time": "2021-07-11T17:56:09.494Z"
   },
   {
    "duration": 15,
    "start_time": "2021-07-11T17:57:15.625Z"
   },
   {
    "duration": 401,
    "start_time": "2021-07-11T17:57:33.472Z"
   },
   {
    "duration": 298,
    "start_time": "2021-07-11T17:57:45.368Z"
   },
   {
    "duration": 13,
    "start_time": "2021-07-11T17:58:17.809Z"
   },
   {
    "duration": 13,
    "start_time": "2021-07-11T17:59:01.433Z"
   },
   {
    "duration": 13,
    "start_time": "2021-07-11T17:59:03.082Z"
   },
   {
    "duration": 282,
    "start_time": "2021-07-11T18:01:17.780Z"
   },
   {
    "duration": 1022,
    "start_time": "2021-07-11T18:01:21.956Z"
   },
   {
    "duration": 985,
    "start_time": "2021-07-11T18:01:47.156Z"
   },
   {
    "duration": 140,
    "start_time": "2021-07-11T18:01:57.272Z"
   },
   {
    "duration": 39,
    "start_time": "2021-07-11T18:01:57.936Z"
   },
   {
    "duration": 10,
    "start_time": "2021-07-11T18:01:58.068Z"
   },
   {
    "duration": 13,
    "start_time": "2021-07-11T18:01:58.199Z"
   },
   {
    "duration": 22,
    "start_time": "2021-07-11T18:01:58.449Z"
   },
   {
    "duration": 34,
    "start_time": "2021-07-11T18:01:58.542Z"
   },
   {
    "duration": 62,
    "start_time": "2021-07-11T18:01:58.634Z"
   },
   {
    "duration": 78,
    "start_time": "2021-07-11T18:01:58.699Z"
   },
   {
    "duration": 10,
    "start_time": "2021-07-11T18:01:58.780Z"
   },
   {
    "duration": 9,
    "start_time": "2021-07-11T18:01:58.815Z"
   },
   {
    "duration": 362,
    "start_time": "2021-07-11T18:01:58.907Z"
   },
   {
    "duration": 372,
    "start_time": "2021-07-11T18:01:59.271Z"
   },
   {
    "duration": 356,
    "start_time": "2021-07-11T18:01:59.647Z"
   },
   {
    "duration": 368,
    "start_time": "2021-07-11T18:02:00.006Z"
   },
   {
    "duration": 374,
    "start_time": "2021-07-11T18:02:00.376Z"
   },
   {
    "duration": 371,
    "start_time": "2021-07-11T18:02:00.755Z"
   },
   {
    "duration": 44,
    "start_time": "2021-07-11T18:02:01.129Z"
   },
   {
    "duration": 79,
    "start_time": "2021-07-11T18:02:01.177Z"
   },
   {
    "duration": 16,
    "start_time": "2021-07-11T18:02:01.258Z"
   },
   {
    "duration": 310,
    "start_time": "2021-07-11T18:02:01.276Z"
   },
   {
    "duration": 20,
    "start_time": "2021-07-11T18:02:01.588Z"
   },
   {
    "duration": 326,
    "start_time": "2021-07-11T18:02:01.610Z"
   },
   {
    "duration": 21,
    "start_time": "2021-07-11T18:02:01.940Z"
   },
   {
    "duration": 319,
    "start_time": "2021-07-11T18:02:01.963Z"
   },
   {
    "duration": 22,
    "start_time": "2021-07-11T18:02:02.284Z"
   },
   {
    "duration": 83,
    "start_time": "2021-07-11T18:02:02.308Z"
   },
   {
    "duration": 9,
    "start_time": "2021-07-11T18:02:02.394Z"
   },
   {
    "duration": 391,
    "start_time": "2021-07-11T18:02:02.406Z"
   },
   {
    "duration": 27,
    "start_time": "2021-07-11T18:02:02.800Z"
   },
   {
    "duration": 15,
    "start_time": "2021-07-11T18:02:02.855Z"
   },
   {
    "duration": 42,
    "start_time": "2021-07-11T18:02:02.874Z"
   },
   {
    "duration": 171,
    "start_time": "2021-07-11T18:02:02.918Z"
   },
   {
    "duration": 380,
    "start_time": "2021-07-11T18:02:03.091Z"
   },
   {
    "duration": 572,
    "start_time": "2021-07-11T18:02:03.473Z"
   },
   {
    "duration": 18,
    "start_time": "2021-07-11T18:02:04.055Z"
   },
   {
    "duration": 585,
    "start_time": "2021-07-11T18:02:04.075Z"
   },
   {
    "duration": 563,
    "start_time": "2021-07-11T18:02:04.662Z"
   },
   {
    "duration": 62,
    "start_time": "2021-07-11T18:02:05.228Z"
   },
   {
    "duration": 81,
    "start_time": "2021-07-11T18:02:05.294Z"
   },
   {
    "duration": 16,
    "start_time": "2021-07-11T18:02:05.378Z"
   },
   {
    "duration": 23,
    "start_time": "2021-07-11T18:02:05.396Z"
   },
   {
    "duration": 5,
    "start_time": "2021-07-11T18:02:05.455Z"
   },
   {
    "duration": 10,
    "start_time": "2021-07-11T18:02:05.463Z"
   },
   {
    "duration": 16,
    "start_time": "2021-07-11T18:02:05.475Z"
   },
   {
    "duration": 1934,
    "start_time": "2021-07-11T18:02:05.494Z"
   },
   {
    "duration": 326,
    "start_time": "2021-07-11T18:02:07.431Z"
   },
   {
    "duration": 310,
    "start_time": "2021-07-11T18:02:07.759Z"
   },
   {
    "duration": 55,
    "start_time": "2021-07-11T18:02:08.072Z"
   },
   {
    "duration": 64,
    "start_time": "2021-07-11T18:02:08.154Z"
   },
   {
    "duration": 329,
    "start_time": "2021-07-11T18:02:08.220Z"
   },
   {
    "duration": 20,
    "start_time": "2021-07-11T18:02:08.555Z"
   },
   {
    "duration": 37,
    "start_time": "2021-07-11T18:02:08.578Z"
   },
   {
    "duration": 53,
    "start_time": "2021-07-11T18:02:08.618Z"
   },
   {
    "duration": 346,
    "start_time": "2021-07-11T18:02:08.674Z"
   },
   {
    "duration": 39,
    "start_time": "2021-07-11T18:02:09.025Z"
   },
   {
    "duration": 21,
    "start_time": "2021-07-11T18:02:09.067Z"
   },
   {
    "duration": 76,
    "start_time": "2021-07-11T18:02:09.092Z"
   },
   {
    "duration": 20,
    "start_time": "2021-07-11T18:02:09.171Z"
   },
   {
    "duration": 6,
    "start_time": "2021-07-11T18:02:10.316Z"
   },
   {
    "duration": 15,
    "start_time": "2021-07-11T18:02:10.644Z"
   },
   {
    "duration": 25940,
    "start_time": "2021-07-11T18:02:10.940Z"
   },
   {
    "duration": 13,
    "start_time": "2021-07-11T18:02:36.883Z"
   },
   {
    "duration": 303,
    "start_time": "2021-07-11T18:02:36.899Z"
   },
   {
    "duration": 496,
    "start_time": "2021-07-11T18:02:37.205Z"
   },
   {
    "duration": 440,
    "start_time": "2021-07-11T18:02:37.703Z"
   },
   {
    "duration": 314,
    "start_time": "2021-07-11T18:02:38.146Z"
   },
   {
    "duration": 331,
    "start_time": "2021-07-11T18:02:38.462Z"
   },
   {
    "duration": 8,
    "start_time": "2021-07-11T18:02:38.797Z"
   },
   {
    "duration": 83,
    "start_time": "2021-07-11T18:02:38.808Z"
   },
   {
    "duration": 9,
    "start_time": "2021-07-11T18:02:38.894Z"
   },
   {
    "duration": 6,
    "start_time": "2021-07-11T18:02:38.905Z"
   },
   {
    "duration": 678,
    "start_time": "2021-07-11T18:02:38.913Z"
   },
   {
    "duration": 635,
    "start_time": "2021-07-11T18:02:39.593Z"
   },
   {
    "duration": 635,
    "start_time": "2021-07-11T18:02:40.230Z"
   },
   {
    "duration": 278,
    "start_time": "2021-07-11T18:02:40.867Z"
   },
   {
    "duration": 293,
    "start_time": "2021-07-11T18:02:41.147Z"
   },
   {
    "duration": 360,
    "start_time": "2021-07-11T18:02:41.443Z"
   },
   {
    "duration": 524,
    "start_time": "2021-07-11T18:02:41.806Z"
   },
   {
    "duration": 33,
    "start_time": "2021-07-11T18:02:42.333Z"
   },
   {
    "duration": 28,
    "start_time": "2021-07-11T18:02:42.369Z"
   },
   {
    "duration": 60,
    "start_time": "2021-07-11T18:02:42.399Z"
   },
   {
    "duration": 36,
    "start_time": "2021-07-11T18:03:14.438Z"
   },
   {
    "duration": 14,
    "start_time": "2021-07-11T18:03:22.334Z"
   },
   {
    "duration": 16,
    "start_time": "2021-07-11T18:03:29.719Z"
   },
   {
    "duration": 601,
    "start_time": "2021-07-11T18:09:13.653Z"
   },
   {
    "duration": 6141,
    "start_time": "2021-07-11T18:10:52.774Z"
   },
   {
    "duration": 595,
    "start_time": "2021-07-11T18:11:06.345Z"
   },
   {
    "duration": 336,
    "start_time": "2021-07-11T18:11:14.631Z"
   },
   {
    "duration": 1557,
    "start_time": "2021-07-11T18:11:52.393Z"
   },
   {
    "duration": 590,
    "start_time": "2021-07-11T18:11:59.921Z"
   },
   {
    "duration": 844,
    "start_time": "2021-07-11T18:12:52.795Z"
   },
   {
    "duration": 42,
    "start_time": "2021-07-11T18:12:53.642Z"
   },
   {
    "duration": 9,
    "start_time": "2021-07-11T18:12:53.688Z"
   },
   {
    "duration": 15,
    "start_time": "2021-07-11T18:12:53.700Z"
   },
   {
    "duration": 53,
    "start_time": "2021-07-11T18:12:53.718Z"
   },
   {
    "duration": 33,
    "start_time": "2021-07-11T18:12:53.774Z"
   },
   {
    "duration": 99,
    "start_time": "2021-07-11T18:12:53.810Z"
   },
   {
    "duration": 83,
    "start_time": "2021-07-11T18:12:53.912Z"
   },
   {
    "duration": 11,
    "start_time": "2021-07-11T18:12:53.998Z"
   },
   {
    "duration": 13,
    "start_time": "2021-07-11T18:12:54.012Z"
   },
   {
    "duration": 515,
    "start_time": "2021-07-11T18:12:54.028Z"
   },
   {
    "duration": 375,
    "start_time": "2021-07-11T18:12:54.545Z"
   },
   {
    "duration": 349,
    "start_time": "2021-07-11T18:12:54.923Z"
   },
   {
    "duration": 412,
    "start_time": "2021-07-11T18:12:55.274Z"
   },
   {
    "duration": 368,
    "start_time": "2021-07-11T18:12:55.690Z"
   },
   {
    "duration": 384,
    "start_time": "2021-07-11T18:12:56.061Z"
   },
   {
    "duration": 30,
    "start_time": "2021-07-11T18:12:56.448Z"
   },
   {
    "duration": 89,
    "start_time": "2021-07-11T18:12:56.480Z"
   },
   {
    "duration": 14,
    "start_time": "2021-07-11T18:12:56.572Z"
   },
   {
    "duration": 311,
    "start_time": "2021-07-11T18:12:56.588Z"
   },
   {
    "duration": 21,
    "start_time": "2021-07-11T18:12:56.902Z"
   },
   {
    "duration": 336,
    "start_time": "2021-07-11T18:12:56.926Z"
   },
   {
    "duration": 11,
    "start_time": "2021-07-11T18:12:57.265Z"
   },
   {
    "duration": 334,
    "start_time": "2021-07-11T18:12:57.280Z"
   },
   {
    "duration": 39,
    "start_time": "2021-07-11T18:12:57.618Z"
   },
   {
    "duration": 54,
    "start_time": "2021-07-11T18:12:57.659Z"
   },
   {
    "duration": 38,
    "start_time": "2021-07-11T18:12:57.716Z"
   },
   {
    "duration": 381,
    "start_time": "2021-07-11T18:12:57.757Z"
   },
   {
    "duration": 35,
    "start_time": "2021-07-11T18:12:58.140Z"
   },
   {
    "duration": 15,
    "start_time": "2021-07-11T18:12:58.178Z"
   },
   {
    "duration": 60,
    "start_time": "2021-07-11T18:12:58.196Z"
   },
   {
    "duration": 166,
    "start_time": "2021-07-11T18:12:58.259Z"
   },
   {
    "duration": 378,
    "start_time": "2021-07-11T18:12:58.428Z"
   },
   {
    "duration": 578,
    "start_time": "2021-07-11T18:12:58.808Z"
   },
   {
    "duration": 23,
    "start_time": "2021-07-11T18:12:59.389Z"
   },
   {
    "duration": 681,
    "start_time": "2021-07-11T18:12:59.415Z"
   },
   {
    "duration": 559,
    "start_time": "2021-07-11T18:13:00.098Z"
   },
   {
    "duration": 51,
    "start_time": "2021-07-11T18:13:00.660Z"
   },
   {
    "duration": 86,
    "start_time": "2021-07-11T18:13:00.713Z"
   },
   {
    "duration": 19,
    "start_time": "2021-07-11T18:13:00.801Z"
   },
   {
    "duration": 24,
    "start_time": "2021-07-11T18:13:00.855Z"
   },
   {
    "duration": 9,
    "start_time": "2021-07-11T18:13:00.882Z"
   },
   {
    "duration": 22,
    "start_time": "2021-07-11T18:13:00.894Z"
   },
   {
    "duration": 39,
    "start_time": "2021-07-11T18:13:00.921Z"
   },
   {
    "duration": 1901,
    "start_time": "2021-07-11T18:13:00.963Z"
   },
   {
    "duration": 347,
    "start_time": "2021-07-11T18:13:02.866Z"
   },
   {
    "duration": 305,
    "start_time": "2021-07-11T18:13:03.216Z"
   },
   {
    "duration": 71,
    "start_time": "2021-07-11T18:13:03.524Z"
   },
   {
    "duration": 86,
    "start_time": "2021-07-11T18:13:03.598Z"
   },
   {
    "duration": 331,
    "start_time": "2021-07-11T18:13:03.686Z"
   },
   {
    "duration": 18,
    "start_time": "2021-07-11T18:13:04.019Z"
   },
   {
    "duration": 39,
    "start_time": "2021-07-11T18:13:04.055Z"
   },
   {
    "duration": 19,
    "start_time": "2021-07-11T18:13:04.096Z"
   },
   {
    "duration": 323,
    "start_time": "2021-07-11T18:13:04.118Z"
   },
   {
    "duration": 22,
    "start_time": "2021-07-11T18:13:04.444Z"
   },
   {
    "duration": 24,
    "start_time": "2021-07-11T18:13:04.470Z"
   },
   {
    "duration": 26,
    "start_time": "2021-07-11T18:13:04.865Z"
   },
   {
    "duration": 16,
    "start_time": "2021-07-11T18:13:05.057Z"
   },
   {
    "duration": 5,
    "start_time": "2021-07-11T18:13:05.569Z"
   },
   {
    "duration": 15,
    "start_time": "2021-07-11T18:13:05.889Z"
   },
   {
    "duration": 25431,
    "start_time": "2021-07-11T18:13:07.913Z"
   },
   {
    "duration": 11,
    "start_time": "2021-07-11T18:13:33.355Z"
   },
   {
    "duration": 331,
    "start_time": "2021-07-11T18:13:33.369Z"
   },
   {
    "duration": 314,
    "start_time": "2021-07-11T18:13:33.703Z"
   },
   {
    "duration": 337,
    "start_time": "2021-07-11T18:13:34.019Z"
   },
   {
    "duration": 422,
    "start_time": "2021-07-11T18:13:34.359Z"
   },
   {
    "duration": 425,
    "start_time": "2021-07-11T18:13:34.784Z"
   },
   {
    "duration": 8,
    "start_time": "2021-07-11T18:13:35.215Z"
   },
   {
    "duration": 84,
    "start_time": "2021-07-11T18:13:35.227Z"
   },
   {
    "duration": 42,
    "start_time": "2021-07-11T18:13:35.314Z"
   },
   {
    "duration": 7,
    "start_time": "2021-07-11T18:13:35.359Z"
   },
   {
    "duration": 663,
    "start_time": "2021-07-11T18:13:35.369Z"
   },
   {
    "duration": 659,
    "start_time": "2021-07-11T18:13:36.035Z"
   },
   {
    "duration": 633,
    "start_time": "2021-07-11T18:13:36.697Z"
   },
   {
    "duration": 301,
    "start_time": "2021-07-11T18:13:37.333Z"
   },
   {
    "duration": 310,
    "start_time": "2021-07-11T18:13:37.637Z"
   },
   {
    "duration": 377,
    "start_time": "2021-07-11T18:13:37.950Z"
   },
   {
    "duration": 637,
    "start_time": "2021-07-11T18:13:38.329Z"
   },
   {
    "duration": 21,
    "start_time": "2021-07-11T18:13:38.968Z"
   },
   {
    "duration": 45,
    "start_time": "2021-07-11T18:13:38.991Z"
   },
   {
    "duration": 40,
    "start_time": "2021-07-11T18:13:39.039Z"
   },
   {
    "duration": 34,
    "start_time": "2021-07-11T18:13:39.081Z"
   },
   {
    "duration": 15,
    "start_time": "2021-07-11T18:13:39.155Z"
   },
   {
    "duration": 695,
    "start_time": "2021-07-11T18:13:39.173Z"
   },
   {
    "duration": 620,
    "start_time": "2021-07-11T18:14:09.530Z"
   },
   {
    "duration": 57,
    "start_time": "2021-07-11T18:18:18.127Z"
   },
   {
    "duration": 56,
    "start_time": "2021-07-11T18:18:24.592Z"
   },
   {
    "duration": 59,
    "start_time": "2021-07-11T18:18:55.593Z"
   },
   {
    "duration": 58,
    "start_time": "2021-07-11T18:19:00.408Z"
   },
   {
    "duration": 58,
    "start_time": "2021-07-11T18:19:47.577Z"
   },
   {
    "duration": 6,
    "start_time": "2021-07-11T18:20:33.873Z"
   },
   {
    "duration": 5,
    "start_time": "2021-07-11T18:20:41.281Z"
   },
   {
    "duration": 7,
    "start_time": "2021-07-11T18:21:04.874Z"
   },
   {
    "duration": 6,
    "start_time": "2021-07-11T18:21:12.938Z"
   },
   {
    "duration": 6,
    "start_time": "2021-07-11T18:21:19.426Z"
   },
   {
    "duration": 6,
    "start_time": "2021-07-11T18:21:23.482Z"
   },
   {
    "duration": 8,
    "start_time": "2021-07-11T18:21:46.290Z"
   },
   {
    "duration": 7,
    "start_time": "2021-07-11T18:21:51.802Z"
   },
   {
    "duration": 9,
    "start_time": "2021-07-11T18:22:00.755Z"
   },
   {
    "duration": 8,
    "start_time": "2021-07-11T18:22:30.411Z"
   },
   {
    "duration": 8,
    "start_time": "2021-07-11T18:22:34.099Z"
   },
   {
    "duration": 8,
    "start_time": "2021-07-11T18:22:38.995Z"
   },
   {
    "duration": 8,
    "start_time": "2021-07-11T18:22:43.523Z"
   },
   {
    "duration": 8,
    "start_time": "2021-07-11T18:22:57.971Z"
   },
   {
    "duration": 354,
    "start_time": "2021-07-11T18:23:47.309Z"
   },
   {
    "duration": 441,
    "start_time": "2021-07-11T18:24:31.053Z"
   },
   {
    "duration": 428,
    "start_time": "2021-07-11T18:24:35.774Z"
   },
   {
    "duration": 566,
    "start_time": "2021-07-11T18:26:14.919Z"
   },
   {
    "duration": 579,
    "start_time": "2021-07-11T18:26:23.121Z"
   },
   {
    "duration": 464,
    "start_time": "2021-07-11T18:28:05.546Z"
   },
   {
    "duration": 457,
    "start_time": "2021-07-11T18:28:19.354Z"
   },
   {
    "duration": 431,
    "start_time": "2021-07-11T18:32:02.966Z"
   },
   {
    "duration": 444,
    "start_time": "2021-07-11T18:32:11.134Z"
   },
   {
    "duration": 468,
    "start_time": "2021-07-11T18:32:56.132Z"
   },
   {
    "duration": 482,
    "start_time": "2021-07-11T18:32:58.312Z"
   },
   {
    "duration": 273,
    "start_time": "2021-07-11T18:34:53.371Z"
   },
   {
    "duration": 304,
    "start_time": "2021-07-11T18:35:11.130Z"
   },
   {
    "duration": 277,
    "start_time": "2021-07-11T18:35:16.490Z"
   },
   {
    "duration": 794,
    "start_time": "2021-07-11T18:36:22.883Z"
   },
   {
    "duration": 876,
    "start_time": "2021-07-11T18:36:56.932Z"
   },
   {
    "duration": 722,
    "start_time": "2021-07-11T18:38:31.877Z"
   },
   {
    "duration": 725,
    "start_time": "2021-07-11T18:38:59.735Z"
   },
   {
    "duration": 843,
    "start_time": "2021-07-11T18:39:11.038Z"
   },
   {
    "duration": 607,
    "start_time": "2021-07-11T18:39:22.670Z"
   },
   {
    "duration": 893,
    "start_time": "2021-07-11T18:39:29.440Z"
   },
   {
    "duration": 903,
    "start_time": "2021-07-11T18:39:59.703Z"
   },
   {
    "duration": 716,
    "start_time": "2021-07-11T18:40:34.264Z"
   },
   {
    "duration": 711,
    "start_time": "2021-07-11T18:41:24.162Z"
   },
   {
    "duration": 125,
    "start_time": "2021-07-11T18:42:14.538Z"
   },
   {
    "duration": 682,
    "start_time": "2021-07-11T18:42:18.146Z"
   },
   {
    "duration": 7261,
    "start_time": "2021-07-11T18:42:35.627Z"
   },
   {
    "duration": 692,
    "start_time": "2021-07-11T18:42:57.995Z"
   },
   {
    "duration": 711,
    "start_time": "2021-07-11T18:43:01.451Z"
   },
   {
    "duration": 909,
    "start_time": "2021-07-11T18:43:57.180Z"
   },
   {
    "duration": 938,
    "start_time": "2021-07-11T18:44:06.094Z"
   },
   {
    "duration": 758,
    "start_time": "2021-07-11T18:44:49.517Z"
   },
   {
    "duration": 870,
    "start_time": "2021-07-11T18:44:55.317Z"
   },
   {
    "duration": 559,
    "start_time": "2021-07-11T18:46:29.223Z"
   },
   {
    "duration": 579,
    "start_time": "2021-07-11T18:46:32.799Z"
   },
   {
    "duration": 6,
    "start_time": "2021-07-11T18:49:30.563Z"
   },
   {
    "duration": 269,
    "start_time": "2021-07-11T19:04:00.723Z"
   },
   {
    "duration": 7,
    "start_time": "2021-07-11T19:04:03.427Z"
   },
   {
    "duration": 10,
    "start_time": "2021-07-11T19:04:28.604Z"
   },
   {
    "duration": 15,
    "start_time": "2021-07-11T19:05:22.213Z"
   },
   {
    "duration": 11,
    "start_time": "2021-07-11T19:05:37.054Z"
   },
   {
    "duration": 6,
    "start_time": "2021-07-11T19:05:38.175Z"
   },
   {
    "duration": 7,
    "start_time": "2021-07-11T19:05:41.132Z"
   },
   {
    "duration": 7,
    "start_time": "2021-07-11T19:05:42.660Z"
   },
   {
    "duration": 7,
    "start_time": "2021-07-11T19:06:04.574Z"
   },
   {
    "duration": 29,
    "start_time": "2021-07-11T19:06:56.974Z"
   },
   {
    "duration": 6,
    "start_time": "2021-07-11T19:07:57.887Z"
   },
   {
    "duration": 6,
    "start_time": "2021-07-11T19:08:02.871Z"
   },
   {
    "duration": 6,
    "start_time": "2021-07-11T19:08:05.560Z"
   },
   {
    "duration": 117,
    "start_time": "2021-07-12T11:13:58.032Z"
   },
   {
    "duration": 401,
    "start_time": "2021-07-12T11:28:36.474Z"
   },
   {
    "duration": 1010,
    "start_time": "2021-07-12T11:28:40.907Z"
   },
   {
    "duration": 38,
    "start_time": "2021-07-12T11:28:41.920Z"
   },
   {
    "duration": 11,
    "start_time": "2021-07-12T11:28:41.961Z"
   },
   {
    "duration": 43,
    "start_time": "2021-07-12T11:28:41.975Z"
   },
   {
    "duration": 18,
    "start_time": "2021-07-12T11:28:42.021Z"
   },
   {
    "duration": 23,
    "start_time": "2021-07-12T11:28:42.042Z"
   },
   {
    "duration": 65,
    "start_time": "2021-07-12T11:28:42.068Z"
   },
   {
    "duration": 92,
    "start_time": "2021-07-12T11:28:42.137Z"
   },
   {
    "duration": 105,
    "start_time": "2021-07-12T11:28:42.232Z"
   },
   {
    "duration": 15,
    "start_time": "2021-07-12T11:28:42.340Z"
   },
   {
    "duration": 10,
    "start_time": "2021-07-12T11:28:42.358Z"
   },
   {
    "duration": 515,
    "start_time": "2021-07-12T11:28:42.372Z"
   },
   {
    "duration": 379,
    "start_time": "2021-07-12T11:28:42.890Z"
   },
   {
    "duration": 366,
    "start_time": "2021-07-12T11:28:43.272Z"
   },
   {
    "duration": 426,
    "start_time": "2021-07-12T11:28:43.641Z"
   },
   {
    "duration": 374,
    "start_time": "2021-07-12T11:28:44.069Z"
   },
   {
    "duration": 370,
    "start_time": "2021-07-12T11:28:44.445Z"
   },
   {
    "duration": 28,
    "start_time": "2021-07-12T11:28:44.818Z"
   },
   {
    "duration": 80,
    "start_time": "2021-07-12T11:28:44.849Z"
   },
   {
    "duration": 14,
    "start_time": "2021-07-12T11:28:44.932Z"
   },
   {
    "duration": 315,
    "start_time": "2021-07-12T11:28:44.948Z"
   },
   {
    "duration": 21,
    "start_time": "2021-07-12T11:28:45.265Z"
   },
   {
    "duration": 311,
    "start_time": "2021-07-12T11:28:45.309Z"
   },
   {
    "duration": 11,
    "start_time": "2021-07-12T11:28:45.625Z"
   },
   {
    "duration": 322,
    "start_time": "2021-07-12T11:28:45.639Z"
   },
   {
    "duration": 22,
    "start_time": "2021-07-12T11:28:45.963Z"
   },
   {
    "duration": 70,
    "start_time": "2021-07-12T11:28:45.987Z"
   },
   {
    "duration": 9,
    "start_time": "2021-07-12T11:28:46.059Z"
   },
   {
    "duration": 409,
    "start_time": "2021-07-12T11:28:46.071Z"
   },
   {
    "duration": 39,
    "start_time": "2021-07-12T11:28:46.483Z"
   },
   {
    "duration": 16,
    "start_time": "2021-07-12T11:28:46.525Z"
   },
   {
    "duration": 35,
    "start_time": "2021-07-12T11:28:46.544Z"
   },
   {
    "duration": 247,
    "start_time": "2021-07-12T11:28:46.582Z"
   },
   {
    "duration": 408,
    "start_time": "2021-07-12T11:28:46.832Z"
   },
   {
    "duration": 593,
    "start_time": "2021-07-12T11:28:47.242Z"
   },
   {
    "duration": 16,
    "start_time": "2021-07-12T11:28:47.838Z"
   },
   {
    "duration": 836,
    "start_time": "2021-07-12T11:28:47.856Z"
   },
   {
    "duration": 683,
    "start_time": "2021-07-12T11:28:48.694Z"
   },
   {
    "duration": 66,
    "start_time": "2021-07-12T11:28:49.380Z"
   },
   {
    "duration": 82,
    "start_time": "2021-07-12T11:28:49.448Z"
   },
   {
    "duration": 15,
    "start_time": "2021-07-12T11:28:49.532Z"
   },
   {
    "duration": 38,
    "start_time": "2021-07-12T11:28:49.549Z"
   },
   {
    "duration": 19,
    "start_time": "2021-07-12T11:28:49.590Z"
   },
   {
    "duration": 11,
    "start_time": "2021-07-12T11:28:49.613Z"
   },
   {
    "duration": 25,
    "start_time": "2021-07-12T11:28:49.627Z"
   },
   {
    "duration": 1934,
    "start_time": "2021-07-12T11:28:49.655Z"
   },
   {
    "duration": 345,
    "start_time": "2021-07-12T11:28:51.592Z"
   },
   {
    "duration": 326,
    "start_time": "2021-07-12T11:28:51.940Z"
   },
   {
    "duration": 68,
    "start_time": "2021-07-12T11:28:52.268Z"
   },
   {
    "duration": 75,
    "start_time": "2021-07-12T11:28:52.338Z"
   },
   {
    "duration": 319,
    "start_time": "2021-07-12T11:28:52.416Z"
   },
   {
    "duration": 18,
    "start_time": "2021-07-12T11:28:52.738Z"
   },
   {
    "duration": 56,
    "start_time": "2021-07-12T11:28:52.758Z"
   },
   {
    "duration": 22,
    "start_time": "2021-07-12T11:28:52.817Z"
   },
   {
    "duration": 332,
    "start_time": "2021-07-12T11:28:52.842Z"
   },
   {
    "duration": 32,
    "start_time": "2021-07-12T11:28:53.177Z"
   },
   {
    "duration": 16,
    "start_time": "2021-07-12T11:28:53.211Z"
   },
   {
    "duration": 26,
    "start_time": "2021-07-12T11:28:53.230Z"
   },
   {
    "duration": 16,
    "start_time": "2021-07-12T11:28:53.259Z"
   },
   {
    "duration": 5,
    "start_time": "2021-07-12T11:28:53.310Z"
   },
   {
    "duration": 19,
    "start_time": "2021-07-12T11:28:53.318Z"
   },
   {
    "duration": 26109,
    "start_time": "2021-07-12T11:28:53.340Z"
   },
   {
    "duration": 15,
    "start_time": "2021-07-12T11:29:19.452Z"
   },
   {
    "duration": 340,
    "start_time": "2021-07-12T11:29:19.469Z"
   },
   {
    "duration": 323,
    "start_time": "2021-07-12T11:29:19.811Z"
   },
   {
    "duration": 317,
    "start_time": "2021-07-12T11:29:20.137Z"
   },
   {
    "duration": 339,
    "start_time": "2021-07-12T11:29:20.457Z"
   },
   {
    "duration": 414,
    "start_time": "2021-07-12T11:29:20.809Z"
   },
   {
    "duration": 7,
    "start_time": "2021-07-12T11:29:21.227Z"
   },
   {
    "duration": 83,
    "start_time": "2021-07-12T11:29:21.237Z"
   },
   {
    "duration": 12,
    "start_time": "2021-07-12T11:29:21.322Z"
   },
   {
    "duration": 7,
    "start_time": "2021-07-12T11:29:21.336Z"
   },
   {
    "duration": 650,
    "start_time": "2021-07-12T11:29:21.345Z"
   },
   {
    "duration": 671,
    "start_time": "2021-07-12T11:29:21.997Z"
   },
   {
    "duration": 632,
    "start_time": "2021-07-12T11:29:22.670Z"
   },
   {
    "duration": 285,
    "start_time": "2021-07-12T11:29:23.305Z"
   },
   {
    "duration": 316,
    "start_time": "2021-07-12T11:29:23.593Z"
   },
   {
    "duration": 361,
    "start_time": "2021-07-12T11:29:23.912Z"
   },
   {
    "duration": 534,
    "start_time": "2021-07-12T11:29:24.276Z"
   },
   {
    "duration": 21,
    "start_time": "2021-07-12T11:29:24.813Z"
   },
   {
    "duration": 29,
    "start_time": "2021-07-12T11:29:24.836Z"
   },
   {
    "duration": 55,
    "start_time": "2021-07-12T11:29:24.868Z"
   },
   {
    "duration": 35,
    "start_time": "2021-07-12T11:29:24.926Z"
   },
   {
    "duration": 13,
    "start_time": "2021-07-12T11:29:24.963Z"
   },
   {
    "duration": 661,
    "start_time": "2021-07-12T11:29:24.978Z"
   },
   {
    "duration": 69,
    "start_time": "2021-07-12T11:29:25.642Z"
   },
   {
    "duration": 9,
    "start_time": "2021-07-12T11:29:25.713Z"
   },
   {
    "duration": 791,
    "start_time": "2021-07-12T11:29:25.725Z"
   },
   {
    "duration": 943,
    "start_time": "2021-07-12T11:29:26.519Z"
   },
   {
    "duration": 772,
    "start_time": "2021-07-12T11:29:27.464Z"
   },
   {
    "duration": 1316,
    "start_time": "2021-07-12T11:29:28.239Z"
   },
   {
    "duration": 740,
    "start_time": "2021-07-12T11:29:29.558Z"
   },
   {
    "duration": 957,
    "start_time": "2021-07-12T11:29:30.301Z"
   },
   {
    "duration": 823,
    "start_time": "2021-07-12T11:29:31.260Z"
   },
   {
    "duration": 584,
    "start_time": "2021-07-12T11:29:32.087Z"
   },
   {
    "duration": 12,
    "start_time": "2021-07-12T11:29:32.674Z"
   },
   {
    "duration": 23,
    "start_time": "2021-07-12T11:29:32.688Z"
   },
   {
    "duration": 8,
    "start_time": "2021-07-12T11:29:32.713Z"
   },
   {
    "duration": 31,
    "start_time": "2021-07-12T11:29:32.724Z"
   },
   {
    "duration": 5,
    "start_time": "2021-07-12T11:29:32.757Z"
   },
   {
    "duration": 26286,
    "start_time": "2021-07-12T11:29:06.936Z"
   },
   {
    "duration": 12,
    "start_time": "2021-07-12T11:30:28.727Z"
   },
   {
    "duration": 13,
    "start_time": "2021-07-12T11:31:31.124Z"
   },
   {
    "duration": 11,
    "start_time": "2021-07-12T11:31:40.613Z"
   },
   {
    "duration": 12,
    "start_time": "2021-07-12T11:32:49.434Z"
   },
   {
    "duration": 149,
    "start_time": "2021-07-12T11:32:52.486Z"
   },
   {
    "duration": 71,
    "start_time": "2021-07-12T11:32:52.638Z"
   },
   {
    "duration": 14,
    "start_time": "2021-07-12T11:32:52.713Z"
   },
   {
    "duration": 10,
    "start_time": "2021-07-12T11:32:52.730Z"
   },
   {
    "duration": 17,
    "start_time": "2021-07-12T11:32:52.742Z"
   },
   {
    "duration": 22,
    "start_time": "2021-07-12T11:32:52.810Z"
   },
   {
    "duration": 35,
    "start_time": "2021-07-12T11:32:52.834Z"
   },
   {
    "duration": 91,
    "start_time": "2021-07-12T11:32:52.873Z"
   },
   {
    "duration": 84,
    "start_time": "2021-07-12T11:32:52.967Z"
   },
   {
    "duration": 10,
    "start_time": "2021-07-12T11:32:53.054Z"
   },
   {
    "duration": 13,
    "start_time": "2021-07-12T11:32:53.066Z"
   },
   {
    "duration": 389,
    "start_time": "2021-07-12T11:32:53.082Z"
   },
   {
    "duration": 372,
    "start_time": "2021-07-12T11:32:53.473Z"
   },
   {
    "duration": 356,
    "start_time": "2021-07-12T11:32:53.848Z"
   },
   {
    "duration": 365,
    "start_time": "2021-07-12T11:32:54.210Z"
   },
   {
    "duration": 377,
    "start_time": "2021-07-12T11:32:54.578Z"
   },
   {
    "duration": 516,
    "start_time": "2021-07-12T11:32:54.958Z"
   },
   {
    "duration": 47,
    "start_time": "2021-07-12T11:32:55.477Z"
   },
   {
    "duration": 57,
    "start_time": "2021-07-12T11:32:55.527Z"
   },
   {
    "duration": 34,
    "start_time": "2021-07-12T11:32:55.586Z"
   },
   {
    "duration": 497,
    "start_time": "2021-07-12T11:32:55.623Z"
   },
   {
    "duration": 20,
    "start_time": "2021-07-12T11:32:56.122Z"
   },
   {
    "duration": 460,
    "start_time": "2021-07-12T11:32:56.148Z"
   },
   {
    "duration": 11,
    "start_time": "2021-07-12T11:32:56.612Z"
   },
   {
    "duration": 323,
    "start_time": "2021-07-12T11:32:56.625Z"
   },
   {
    "duration": 24,
    "start_time": "2021-07-12T11:32:56.950Z"
   },
   {
    "duration": 75,
    "start_time": "2021-07-12T11:32:56.977Z"
   },
   {
    "duration": 10,
    "start_time": "2021-07-12T11:32:57.054Z"
   },
   {
    "duration": 414,
    "start_time": "2021-07-12T11:32:57.067Z"
   },
   {
    "duration": 39,
    "start_time": "2021-07-12T11:32:57.483Z"
   },
   {
    "duration": 12,
    "start_time": "2021-07-12T11:32:57.525Z"
   },
   {
    "duration": 23,
    "start_time": "2021-07-12T11:32:57.540Z"
   },
   {
    "duration": 189,
    "start_time": "2021-07-12T11:32:57.566Z"
   },
   {
    "duration": 394,
    "start_time": "2021-07-12T11:32:57.757Z"
   },
   {
    "duration": 578,
    "start_time": "2021-07-12T11:32:58.153Z"
   },
   {
    "duration": 17,
    "start_time": "2021-07-12T11:32:58.733Z"
   },
   {
    "duration": 564,
    "start_time": "2021-07-12T11:32:58.753Z"
   },
   {
    "duration": 557,
    "start_time": "2021-07-12T11:32:59.320Z"
   },
   {
    "duration": 59,
    "start_time": "2021-07-12T11:32:59.880Z"
   },
   {
    "duration": 79,
    "start_time": "2021-07-12T11:32:59.941Z"
   },
   {
    "duration": 15,
    "start_time": "2021-07-12T11:33:00.022Z"
   },
   {
    "duration": 22,
    "start_time": "2021-07-12T11:33:00.040Z"
   },
   {
    "duration": 14,
    "start_time": "2021-07-12T11:33:00.065Z"
   },
   {
    "duration": 33,
    "start_time": "2021-07-12T11:33:00.081Z"
   },
   {
    "duration": 23,
    "start_time": "2021-07-12T11:33:00.116Z"
   },
   {
    "duration": 1939,
    "start_time": "2021-07-12T11:33:00.141Z"
   },
   {
    "duration": 359,
    "start_time": "2021-07-12T11:33:02.083Z"
   },
   {
    "duration": 305,
    "start_time": "2021-07-12T11:33:02.445Z"
   },
   {
    "duration": 70,
    "start_time": "2021-07-12T11:33:02.752Z"
   },
   {
    "duration": 63,
    "start_time": "2021-07-12T11:33:02.825Z"
   },
   {
    "duration": 325,
    "start_time": "2021-07-12T11:33:02.890Z"
   },
   {
    "duration": 19,
    "start_time": "2021-07-12T11:33:03.217Z"
   },
   {
    "duration": 51,
    "start_time": "2021-07-12T11:33:03.239Z"
   },
   {
    "duration": 31,
    "start_time": "2021-07-12T11:33:03.293Z"
   },
   {
    "duration": 479,
    "start_time": "2021-07-12T11:33:03.326Z"
   },
   {
    "duration": 17,
    "start_time": "2021-07-12T11:33:03.809Z"
   },
   {
    "duration": 25,
    "start_time": "2021-07-12T11:33:03.829Z"
   },
   {
    "duration": 26,
    "start_time": "2021-07-12T11:33:03.857Z"
   },
   {
    "duration": 37,
    "start_time": "2021-07-12T11:33:03.886Z"
   },
   {
    "duration": 5,
    "start_time": "2021-07-12T11:33:03.926Z"
   },
   {
    "duration": 18,
    "start_time": "2021-07-12T11:33:03.933Z"
   },
   {
    "duration": 26144,
    "start_time": "2021-07-12T11:33:03.953Z"
   },
   {
    "duration": 16,
    "start_time": "2021-07-12T11:33:30.100Z"
   },
   {
    "duration": 318,
    "start_time": "2021-07-12T11:33:30.119Z"
   },
   {
    "duration": 335,
    "start_time": "2021-07-12T11:33:30.439Z"
   },
   {
    "duration": 317,
    "start_time": "2021-07-12T11:33:30.776Z"
   },
   {
    "duration": 326,
    "start_time": "2021-07-12T11:33:31.095Z"
   },
   {
    "duration": 361,
    "start_time": "2021-07-12T11:33:31.430Z"
   },
   {
    "duration": 16,
    "start_time": "2021-07-12T11:33:31.794Z"
   },
   {
    "duration": 66,
    "start_time": "2021-07-12T11:33:31.812Z"
   },
   {
    "duration": 11,
    "start_time": "2021-07-12T11:33:31.880Z"
   },
   {
    "duration": 6,
    "start_time": "2021-07-12T11:33:31.910Z"
   },
   {
    "duration": 695,
    "start_time": "2021-07-12T11:33:31.919Z"
   },
   {
    "duration": 667,
    "start_time": "2021-07-12T11:33:32.616Z"
   },
   {
    "duration": 650,
    "start_time": "2021-07-12T11:33:33.286Z"
   },
   {
    "duration": 287,
    "start_time": "2021-07-12T11:33:33.939Z"
   },
   {
    "duration": 309,
    "start_time": "2021-07-12T11:33:34.229Z"
   },
   {
    "duration": 371,
    "start_time": "2021-07-12T11:33:34.540Z"
   },
   {
    "duration": 537,
    "start_time": "2021-07-12T11:33:34.914Z"
   },
   {
    "duration": 20,
    "start_time": "2021-07-12T11:33:35.454Z"
   },
   {
    "duration": 49,
    "start_time": "2021-07-12T11:33:35.476Z"
   },
   {
    "duration": 28,
    "start_time": "2021-07-12T11:33:35.527Z"
   },
   {
    "duration": 59,
    "start_time": "2021-07-12T11:33:35.557Z"
   },
   {
    "duration": 13,
    "start_time": "2021-07-12T11:33:35.618Z"
   },
   {
    "duration": 647,
    "start_time": "2021-07-12T11:33:35.634Z"
   },
   {
    "duration": 70,
    "start_time": "2021-07-12T11:33:36.283Z"
   },
   {
    "duration": 7,
    "start_time": "2021-07-12T11:33:36.356Z"
   },
   {
    "duration": 833,
    "start_time": "2021-07-12T11:33:36.365Z"
   },
   {
    "duration": 886,
    "start_time": "2021-07-12T11:33:37.200Z"
   },
   {
    "duration": 743,
    "start_time": "2021-07-12T11:33:38.088Z"
   },
   {
    "duration": 710,
    "start_time": "2021-07-12T11:33:38.834Z"
   },
   {
    "duration": 707,
    "start_time": "2021-07-12T11:33:39.546Z"
   },
   {
    "duration": 1118,
    "start_time": "2021-07-12T11:33:40.256Z"
   },
   {
    "duration": 785,
    "start_time": "2021-07-12T11:33:41.376Z"
   },
   {
    "duration": 574,
    "start_time": "2021-07-12T11:33:42.164Z"
   },
   {
    "duration": 10,
    "start_time": "2021-07-12T11:33:42.740Z"
   },
   {
    "duration": 20,
    "start_time": "2021-07-12T11:33:42.753Z"
   },
   {
    "duration": 9,
    "start_time": "2021-07-12T11:33:42.775Z"
   },
   {
    "duration": 49,
    "start_time": "2021-07-12T11:33:42.786Z"
   },
   {
    "duration": 5,
    "start_time": "2021-07-12T11:33:42.837Z"
   },
   {
    "duration": 122,
    "start_time": "2021-07-12T11:35:38.611Z"
   },
   {
    "duration": 131,
    "start_time": "2021-07-12T11:38:27.334Z"
   },
   {
    "duration": 106,
    "start_time": "2021-07-12T11:41:04.153Z"
   },
   {
    "duration": 122,
    "start_time": "2021-07-12T11:51:11.517Z"
   },
   {
    "duration": 109,
    "start_time": "2021-07-12T12:02:21.393Z"
   },
   {
    "duration": 135,
    "start_time": "2021-07-12T12:19:27.248Z"
   },
   {
    "duration": 156,
    "start_time": "2021-07-12T12:20:15.362Z"
   },
   {
    "duration": 38,
    "start_time": "2021-07-12T12:20:15.521Z"
   },
   {
    "duration": 59,
    "start_time": "2021-07-12T12:20:15.562Z"
   },
   {
    "duration": 10,
    "start_time": "2021-07-12T12:20:15.624Z"
   },
   {
    "duration": 47,
    "start_time": "2021-07-12T12:20:15.636Z"
   },
   {
    "duration": 51,
    "start_time": "2021-07-12T12:20:15.686Z"
   },
   {
    "duration": 57,
    "start_time": "2021-07-12T12:20:15.739Z"
   },
   {
    "duration": 65,
    "start_time": "2021-07-12T12:20:15.798Z"
   },
   {
    "duration": 74,
    "start_time": "2021-07-12T12:20:15.867Z"
   },
   {
    "duration": 10,
    "start_time": "2021-07-12T12:20:15.945Z"
   },
   {
    "duration": 16,
    "start_time": "2021-07-12T12:20:15.957Z"
   },
   {
    "duration": 383,
    "start_time": "2021-07-12T12:20:15.975Z"
   },
   {
    "duration": 437,
    "start_time": "2021-07-12T12:20:16.361Z"
   },
   {
    "duration": 378,
    "start_time": "2021-07-12T12:20:16.801Z"
   },
   {
    "duration": 422,
    "start_time": "2021-07-12T12:20:17.182Z"
   },
   {
    "duration": 376,
    "start_time": "2021-07-12T12:20:17.610Z"
   },
   {
    "duration": 384,
    "start_time": "2021-07-12T12:20:17.988Z"
   },
   {
    "duration": 43,
    "start_time": "2021-07-12T12:20:18.375Z"
   },
   {
    "duration": 59,
    "start_time": "2021-07-12T12:20:18.420Z"
   },
   {
    "duration": 39,
    "start_time": "2021-07-12T12:20:18.482Z"
   },
   {
    "duration": 401,
    "start_time": "2021-07-12T12:20:18.524Z"
   },
   {
    "duration": 28,
    "start_time": "2021-07-12T12:20:18.929Z"
   },
   {
    "duration": 495,
    "start_time": "2021-07-12T12:20:18.961Z"
   },
   {
    "duration": 15,
    "start_time": "2021-07-12T12:20:19.459Z"
   },
   {
    "duration": 336,
    "start_time": "2021-07-12T12:20:19.476Z"
   },
   {
    "duration": 24,
    "start_time": "2021-07-12T12:20:19.814Z"
   },
   {
    "duration": 79,
    "start_time": "2021-07-12T12:20:19.845Z"
   },
   {
    "duration": 10,
    "start_time": "2021-07-12T12:20:19.928Z"
   },
   {
    "duration": 436,
    "start_time": "2021-07-12T12:20:19.940Z"
   },
   {
    "duration": 39,
    "start_time": "2021-07-12T12:20:20.379Z"
   },
   {
    "duration": 14,
    "start_time": "2021-07-12T12:20:20.421Z"
   },
   {
    "duration": 26,
    "start_time": "2021-07-12T12:20:20.438Z"
   },
   {
    "duration": 192,
    "start_time": "2021-07-12T12:20:20.466Z"
   },
   {
    "duration": 390,
    "start_time": "2021-07-12T12:20:20.661Z"
   },
   {
    "duration": 590,
    "start_time": "2021-07-12T12:20:21.054Z"
   },
   {
    "duration": 18,
    "start_time": "2021-07-12T12:20:21.647Z"
   },
   {
    "duration": 599,
    "start_time": "2021-07-12T12:20:21.668Z"
   },
   {
    "duration": 591,
    "start_time": "2021-07-12T12:20:22.270Z"
   },
   {
    "duration": 61,
    "start_time": "2021-07-12T12:20:22.863Z"
   },
   {
    "duration": 316,
    "start_time": "2021-07-12T12:20:22.927Z"
   },
   {
    "duration": 16,
    "start_time": "2021-07-12T12:20:23.246Z"
   },
   {
    "duration": 50,
    "start_time": "2021-07-12T12:20:23.265Z"
   },
   {
    "duration": 6,
    "start_time": "2021-07-12T12:20:23.318Z"
   },
   {
    "duration": 11,
    "start_time": "2021-07-12T12:20:23.327Z"
   },
   {
    "duration": 17,
    "start_time": "2021-07-12T12:20:23.341Z"
   },
   {
    "duration": 2031,
    "start_time": "2021-07-12T12:20:23.361Z"
   },
   {
    "duration": 348,
    "start_time": "2021-07-12T12:20:25.394Z"
   },
   {
    "duration": 315,
    "start_time": "2021-07-12T12:20:25.744Z"
   },
   {
    "duration": 69,
    "start_time": "2021-07-12T12:20:26.061Z"
   },
   {
    "duration": 80,
    "start_time": "2021-07-12T12:20:26.133Z"
   },
   {
    "duration": 324,
    "start_time": "2021-07-12T12:20:26.216Z"
   },
   {
    "duration": 20,
    "start_time": "2021-07-12T12:20:26.542Z"
   },
   {
    "duration": 58,
    "start_time": "2021-07-12T12:20:26.564Z"
   },
   {
    "duration": 20,
    "start_time": "2021-07-12T12:20:26.624Z"
   },
   {
    "duration": 326,
    "start_time": "2021-07-12T12:20:26.646Z"
   },
   {
    "duration": 17,
    "start_time": "2021-07-12T12:20:26.974Z"
   },
   {
    "duration": 31,
    "start_time": "2021-07-12T12:20:26.993Z"
   },
   {
    "duration": 26,
    "start_time": "2021-07-12T12:20:27.027Z"
   },
   {
    "duration": 14,
    "start_time": "2021-07-12T12:20:27.055Z"
   },
   {
    "duration": 13,
    "start_time": "2021-07-12T12:20:27.072Z"
   },
   {
    "duration": 37,
    "start_time": "2021-07-12T12:20:27.087Z"
   },
   {
    "duration": 27133,
    "start_time": "2021-07-12T12:20:27.127Z"
   },
   {
    "duration": 12,
    "start_time": "2021-07-12T12:20:54.263Z"
   },
   {
    "duration": 338,
    "start_time": "2021-07-12T12:20:54.277Z"
   },
   {
    "duration": 320,
    "start_time": "2021-07-12T12:20:54.617Z"
   },
   {
    "duration": 311,
    "start_time": "2021-07-12T12:20:54.939Z"
   },
   {
    "duration": 313,
    "start_time": "2021-07-12T12:20:55.252Z"
   },
   {
    "duration": 324,
    "start_time": "2021-07-12T12:20:55.567Z"
   },
   {
    "duration": 16,
    "start_time": "2021-07-12T12:20:55.893Z"
   },
   {
    "duration": 58,
    "start_time": "2021-07-12T12:20:55.911Z"
   },
   {
    "duration": 38,
    "start_time": "2021-07-12T12:20:55.971Z"
   },
   {
    "duration": 5,
    "start_time": "2021-07-12T12:20:56.011Z"
   },
   {
    "duration": 665,
    "start_time": "2021-07-12T12:20:56.018Z"
   },
   {
    "duration": 627,
    "start_time": "2021-07-12T12:20:56.686Z"
   },
   {
    "duration": 660,
    "start_time": "2021-07-12T12:20:57.315Z"
   },
   {
    "duration": 273,
    "start_time": "2021-07-12T12:20:57.977Z"
   },
   {
    "duration": 310,
    "start_time": "2021-07-12T12:20:58.253Z"
   },
   {
    "duration": 364,
    "start_time": "2021-07-12T12:20:58.566Z"
   },
   {
    "duration": 538,
    "start_time": "2021-07-12T12:20:58.933Z"
   },
   {
    "duration": 40,
    "start_time": "2021-07-12T12:20:59.474Z"
   },
   {
    "duration": 32,
    "start_time": "2021-07-12T12:20:59.524Z"
   },
   {
    "duration": 57,
    "start_time": "2021-07-12T12:20:59.560Z"
   },
   {
    "duration": 36,
    "start_time": "2021-07-12T12:20:59.620Z"
   },
   {
    "duration": 52,
    "start_time": "2021-07-12T12:20:59.659Z"
   },
   {
    "duration": 639,
    "start_time": "2021-07-12T12:20:59.714Z"
   },
   {
    "duration": 75,
    "start_time": "2021-07-12T12:21:00.356Z"
   },
   {
    "duration": 7,
    "start_time": "2021-07-12T12:21:00.433Z"
   },
   {
    "duration": 825,
    "start_time": "2021-07-12T12:21:00.443Z"
   },
   {
    "duration": 950,
    "start_time": "2021-07-12T12:21:01.270Z"
   },
   {
    "duration": 798,
    "start_time": "2021-07-12T12:21:02.222Z"
   },
   {
    "duration": 706,
    "start_time": "2021-07-12T12:21:03.023Z"
   },
   {
    "duration": 728,
    "start_time": "2021-07-12T12:21:03.731Z"
   },
   {
    "duration": 939,
    "start_time": "2021-07-12T12:21:04.462Z"
   },
   {
    "duration": 790,
    "start_time": "2021-07-12T12:21:05.403Z"
   },
   {
    "duration": 367,
    "start_time": "2021-07-12T12:21:06.195Z"
   },
   {
    "duration": 26244,
    "start_time": "2021-07-12T12:20:40.321Z"
   },
   {
    "duration": 26234,
    "start_time": "2021-07-12T12:20:40.332Z"
   },
   {
    "duration": 26226,
    "start_time": "2021-07-12T12:20:40.342Z"
   },
   {
    "duration": 26224,
    "start_time": "2021-07-12T12:20:40.346Z"
   },
   {
    "duration": 26219,
    "start_time": "2021-07-12T12:20:40.352Z"
   },
   {
    "duration": 26209,
    "start_time": "2021-07-12T12:20:40.364Z"
   },
   {
    "duration": 1001,
    "start_time": "2021-07-12T12:21:44.325Z"
   },
   {
    "duration": 324,
    "start_time": "2021-07-12T12:21:58.099Z"
   },
   {
    "duration": 1001,
    "start_time": "2021-07-12T12:22:01.210Z"
   },
   {
    "duration": 728,
    "start_time": "2021-07-12T12:23:14.541Z"
   },
   {
    "duration": 779,
    "start_time": "2021-07-12T12:23:23.019Z"
   },
   {
    "duration": 805,
    "start_time": "2021-07-12T12:23:51.458Z"
   },
   {
    "duration": 866,
    "start_time": "2021-07-12T12:23:57.052Z"
   },
   {
    "duration": 796,
    "start_time": "2021-07-12T12:24:07.886Z"
   },
   {
    "duration": 807,
    "start_time": "2021-07-12T12:24:12.095Z"
   },
   {
    "duration": 377,
    "start_time": "2021-07-12T17:14:14.009Z"
   },
   {
    "duration": 1186,
    "start_time": "2021-07-12T17:24:08.309Z"
   },
   {
    "duration": 45,
    "start_time": "2021-07-12T17:24:09.498Z"
   },
   {
    "duration": 21,
    "start_time": "2021-07-12T17:24:09.546Z"
   },
   {
    "duration": 46,
    "start_time": "2021-07-12T17:24:09.570Z"
   },
   {
    "duration": 18,
    "start_time": "2021-07-12T17:24:09.619Z"
   },
   {
    "duration": 21,
    "start_time": "2021-07-12T17:24:09.639Z"
   },
   {
    "duration": 72,
    "start_time": "2021-07-12T17:24:09.662Z"
   },
   {
    "duration": 121,
    "start_time": "2021-07-12T17:24:09.738Z"
   },
   {
    "duration": 112,
    "start_time": "2021-07-12T17:24:09.862Z"
   },
   {
    "duration": 15,
    "start_time": "2021-07-12T17:24:10.810Z"
   },
   {
    "duration": 12,
    "start_time": "2021-07-12T17:24:11.311Z"
   },
   {
    "duration": 496,
    "start_time": "2021-07-12T17:24:11.429Z"
   },
   {
    "duration": 419,
    "start_time": "2021-07-12T17:24:11.928Z"
   },
   {
    "duration": 375,
    "start_time": "2021-07-12T17:24:12.351Z"
   },
   {
    "duration": 435,
    "start_time": "2021-07-12T17:24:12.729Z"
   },
   {
    "duration": 395,
    "start_time": "2021-07-12T17:24:13.166Z"
   },
   {
    "duration": 531,
    "start_time": "2021-07-12T17:24:13.564Z"
   },
   {
    "duration": 45,
    "start_time": "2021-07-12T17:24:14.098Z"
   },
   {
    "duration": 113,
    "start_time": "2021-07-12T17:24:14.148Z"
   },
   {
    "duration": 21,
    "start_time": "2021-07-12T17:24:14.264Z"
   },
   {
    "duration": 401,
    "start_time": "2021-07-12T17:24:14.634Z"
   },
   {
    "duration": 27,
    "start_time": "2021-07-12T17:24:15.682Z"
   },
   {
    "duration": 288,
    "start_time": "2021-07-12T17:24:15.865Z"
   },
   {
    "duration": 11,
    "start_time": "2021-07-12T17:24:16.801Z"
   },
   {
    "duration": 303,
    "start_time": "2021-07-12T17:24:17.169Z"
   },
   {
    "duration": 24,
    "start_time": "2021-07-12T17:24:17.929Z"
   },
   {
    "duration": 52,
    "start_time": "2021-07-12T17:24:18.124Z"
   },
   {
    "duration": 10,
    "start_time": "2021-07-12T17:24:18.666Z"
   },
   {
    "duration": 366,
    "start_time": "2021-07-12T17:24:19.049Z"
   },
   {
    "duration": 25,
    "start_time": "2021-07-12T17:24:19.785Z"
   },
   {
    "duration": 16,
    "start_time": "2021-07-12T17:24:20.305Z"
   },
   {
    "duration": 25,
    "start_time": "2021-07-12T17:24:20.474Z"
   },
   {
    "duration": 187,
    "start_time": "2021-07-12T17:24:21.018Z"
   },
   {
    "duration": 371,
    "start_time": "2021-07-12T17:24:21.593Z"
   },
   {
    "duration": 572,
    "start_time": "2021-07-12T17:24:22.513Z"
   },
   {
    "duration": 31,
    "start_time": "2021-07-12T17:24:23.089Z"
   },
   {
    "duration": 621,
    "start_time": "2021-07-12T17:24:23.265Z"
   },
   {
    "duration": 584,
    "start_time": "2021-07-12T17:24:23.889Z"
   },
   {
    "duration": 57,
    "start_time": "2021-07-12T17:24:24.476Z"
   },
   {
    "duration": 109,
    "start_time": "2021-07-12T17:24:24.537Z"
   },
   {
    "duration": 18,
    "start_time": "2021-07-12T17:24:24.649Z"
   },
   {
    "duration": 24,
    "start_time": "2021-07-12T17:24:24.913Z"
   },
   {
    "duration": 7,
    "start_time": "2021-07-12T17:24:25.089Z"
   },
   {
    "duration": 12,
    "start_time": "2021-07-12T17:24:25.642Z"
   },
   {
    "duration": 14,
    "start_time": "2021-07-12T17:24:26.225Z"
   },
   {
    "duration": 1988,
    "start_time": "2021-07-12T17:24:26.409Z"
   },
   {
    "duration": 338,
    "start_time": "2021-07-12T17:24:28.401Z"
   },
   {
    "duration": 309,
    "start_time": "2021-07-12T17:24:28.742Z"
   },
   {
    "duration": 77,
    "start_time": "2021-07-12T17:24:29.054Z"
   },
   {
    "duration": 62,
    "start_time": "2021-07-12T17:24:29.425Z"
   },
   {
    "duration": 302,
    "start_time": "2021-07-12T17:24:29.849Z"
   },
   {
    "duration": 21,
    "start_time": "2021-07-12T17:24:30.241Z"
   },
   {
    "duration": 38,
    "start_time": "2021-07-12T17:24:30.626Z"
   },
   {
    "duration": 20,
    "start_time": "2021-07-12T17:24:31.026Z"
   },
   {
    "duration": 315,
    "start_time": "2021-07-12T17:24:31.210Z"
   },
   {
    "duration": 23,
    "start_time": "2021-07-12T17:24:31.771Z"
   },
   {
    "duration": 15,
    "start_time": "2021-07-12T17:24:31.931Z"
   },
   {
    "duration": 26,
    "start_time": "2021-07-12T17:24:32.057Z"
   },
   {
    "duration": 21,
    "start_time": "2021-07-12T17:24:32.175Z"
   },
   {
    "duration": 7,
    "start_time": "2021-07-12T17:24:32.341Z"
   },
   {
    "duration": 19,
    "start_time": "2021-07-12T17:24:32.457Z"
   },
   {
    "duration": 28272,
    "start_time": "2021-07-12T17:24:32.575Z"
   },
   {
    "duration": 13,
    "start_time": "2021-07-12T17:25:00.849Z"
   },
   {
    "duration": 451,
    "start_time": "2021-07-12T17:25:00.865Z"
   },
   {
    "duration": 347,
    "start_time": "2021-07-12T17:25:01.319Z"
   },
   {
    "duration": 443,
    "start_time": "2021-07-12T17:25:01.669Z"
   },
   {
    "duration": 438,
    "start_time": "2021-07-12T17:25:02.115Z"
   },
   {
    "duration": 573,
    "start_time": "2021-07-12T17:25:02.556Z"
   },
   {
    "duration": 7,
    "start_time": "2021-07-12T17:25:03.133Z"
   },
   {
    "duration": 105,
    "start_time": "2021-07-12T17:25:03.144Z"
   },
   {
    "duration": 13,
    "start_time": "2021-07-12T17:25:03.252Z"
   },
   {
    "duration": 6,
    "start_time": "2021-07-12T17:25:03.269Z"
   },
   {
    "duration": 739,
    "start_time": "2021-07-12T17:25:03.310Z"
   },
   {
    "duration": 666,
    "start_time": "2021-07-12T17:25:04.052Z"
   },
   {
    "duration": 692,
    "start_time": "2021-07-12T17:25:04.721Z"
   },
   {
    "duration": 399,
    "start_time": "2021-07-12T17:25:05.416Z"
   },
   {
    "duration": 418,
    "start_time": "2021-07-12T17:25:05.818Z"
   },
   {
    "duration": 503,
    "start_time": "2021-07-12T17:25:06.238Z"
   },
   {
    "duration": 784,
    "start_time": "2021-07-12T17:25:06.744Z"
   },
   {
    "duration": 28,
    "start_time": "2021-07-12T17:25:07.531Z"
   },
   {
    "duration": 72,
    "start_time": "2021-07-12T17:25:07.562Z"
   },
   {
    "duration": 37,
    "start_time": "2021-07-12T17:25:07.636Z"
   },
   {
    "duration": 82,
    "start_time": "2021-07-12T17:25:07.676Z"
   },
   {
    "duration": 44,
    "start_time": "2021-07-12T17:25:07.765Z"
   },
   {
    "duration": 677,
    "start_time": "2021-07-12T17:25:07.813Z"
   },
   {
    "duration": 90,
    "start_time": "2021-07-12T17:25:08.493Z"
   },
   {
    "duration": 28,
    "start_time": "2021-07-12T17:25:08.586Z"
   },
   {
    "duration": 774,
    "start_time": "2021-07-12T17:25:08.617Z"
   },
   {
    "duration": 822,
    "start_time": "2021-07-12T17:25:09.394Z"
   },
   {
    "duration": 710,
    "start_time": "2021-07-12T17:25:10.220Z"
   },
   {
    "duration": 887,
    "start_time": "2021-07-12T17:25:10.932Z"
   },
   {
    "duration": 714,
    "start_time": "2021-07-12T17:25:11.822Z"
   },
   {
    "duration": 913,
    "start_time": "2021-07-12T17:25:12.539Z"
   },
   {
    "duration": 966,
    "start_time": "2021-07-12T17:25:13.455Z"
   },
   {
    "duration": 1015,
    "start_time": "2021-07-12T17:25:14.424Z"
   },
   {
    "duration": 623,
    "start_time": "2021-07-12T17:25:15.442Z"
   },
   {
    "duration": 12,
    "start_time": "2021-07-12T17:25:16.068Z"
   },
   {
    "duration": 6,
    "start_time": "2021-07-12T17:25:16.083Z"
   },
   {
    "duration": 18,
    "start_time": "2021-07-12T17:25:16.092Z"
   },
   {
    "duration": 40,
    "start_time": "2021-07-12T17:25:16.113Z"
   },
   {
    "duration": 6,
    "start_time": "2021-07-12T17:25:16.155Z"
   },
   {
    "duration": 3,
    "start_time": "2021-07-12T17:33:32.885Z"
   },
   {
    "duration": 17,
    "start_time": "2021-07-12T17:33:36.404Z"
   },
   {
    "duration": 138,
    "start_time": "2021-07-12T17:33:45.127Z"
   },
   {
    "duration": 41,
    "start_time": "2021-07-12T17:33:46.076Z"
   },
   {
    "duration": 16,
    "start_time": "2021-07-12T17:33:46.396Z"
   },
   {
    "duration": 9,
    "start_time": "2021-07-12T17:33:46.901Z"
   },
   {
    "duration": 11,
    "start_time": "2021-07-12T17:33:47.965Z"
   },
   {
    "duration": 3,
    "start_time": "2021-07-12T17:33:53.383Z"
   },
   {
    "duration": 38,
    "start_time": "2021-07-12T17:33:56.117Z"
   },
   {
    "duration": 68,
    "start_time": "2021-07-12T17:34:07.422Z"
   },
   {
    "duration": 4,
    "start_time": "2021-07-12T17:34:44.222Z"
   },
   {
    "duration": 362,
    "start_time": "2021-07-12T17:34:45.630Z"
   },
   {
    "duration": 367,
    "start_time": "2021-07-12T17:34:49.014Z"
   },
   {
    "duration": 520,
    "start_time": "2021-07-12T17:34:51.197Z"
   },
   {
    "duration": 357,
    "start_time": "2021-07-12T17:34:55.463Z"
   },
   {
    "duration": 394,
    "start_time": "2021-07-12T17:35:14.654Z"
   },
   {
    "duration": 3,
    "start_time": "2021-07-12T17:35:25.335Z"
   },
   {
    "duration": 4,
    "start_time": "2021-07-12T17:35:25.854Z"
   },
   {
    "duration": 37,
    "start_time": "2021-07-12T17:35:58.975Z"
   },
   {
    "duration": 57,
    "start_time": "2021-07-12T17:36:13.104Z"
   },
   {
    "duration": 16,
    "start_time": "2021-07-12T17:36:32.520Z"
   },
   {
    "duration": 314,
    "start_time": "2021-07-12T17:36:45.305Z"
   },
   {
    "duration": 20,
    "start_time": "2021-07-12T17:36:59.497Z"
   },
   {
    "duration": 612,
    "start_time": "2021-07-12T17:37:06.777Z"
   },
   {
    "duration": 909,
    "start_time": "2021-07-12T17:37:24.091Z"
   },
   {
    "duration": 918,
    "start_time": "2021-07-12T17:37:28.346Z"
   },
   {
    "duration": 644,
    "start_time": "2021-07-12T17:37:41.818Z"
   },
   {
    "duration": 106,
    "start_time": "2021-07-12T17:37:53.730Z"
   },
   {
    "duration": 12,
    "start_time": "2021-07-12T17:38:01.954Z"
   },
   {
    "duration": 278,
    "start_time": "2021-07-12T17:38:07.985Z"
   },
   {
    "duration": 4,
    "start_time": "2021-07-12T17:39:14.445Z"
   },
   {
    "duration": 3,
    "start_time": "2021-07-12T17:39:18.126Z"
   },
   {
    "duration": 3,
    "start_time": "2021-07-12T17:39:23.453Z"
   },
   {
    "duration": 374,
    "start_time": "2021-07-12T17:39:25.403Z"
   },
   {
    "duration": 40,
    "start_time": "2021-07-12T17:39:40.988Z"
   },
   {
    "duration": 3,
    "start_time": "2021-07-12T17:41:03.353Z"
   },
   {
    "duration": 25,
    "start_time": "2021-07-12T17:41:04.071Z"
   },
   {
    "duration": 16,
    "start_time": "2021-07-12T17:41:33.951Z"
   },
   {
    "duration": 25,
    "start_time": "2021-07-12T17:41:35.134Z"
   },
   {
    "duration": 3,
    "start_time": "2021-07-12T17:41:47.790Z"
   },
   {
    "duration": 556,
    "start_time": "2021-07-12T17:41:50.237Z"
   },
   {
    "duration": 546,
    "start_time": "2021-07-12T17:41:59.880Z"
   },
   {
    "duration": 1113,
    "start_time": "2021-07-12T17:42:10.182Z"
   },
   {
    "duration": 568,
    "start_time": "2021-07-12T17:42:33.367Z"
   },
   {
    "duration": 19,
    "start_time": "2021-07-12T17:42:41.006Z"
   },
   {
    "duration": 556,
    "start_time": "2021-07-12T17:42:41.198Z"
   },
   {
    "duration": 737,
    "start_time": "2021-07-12T17:42:42.919Z"
   },
   {
    "duration": 51,
    "start_time": "2021-07-12T17:42:45.186Z"
   },
   {
    "duration": 57,
    "start_time": "2021-07-12T17:42:47.648Z"
   },
   {
    "duration": 18,
    "start_time": "2021-07-12T17:42:49.599Z"
   },
   {
    "duration": 33,
    "start_time": "2021-07-12T17:42:51.183Z"
   },
   {
    "duration": 5,
    "start_time": "2021-07-12T17:42:57.583Z"
   },
   {
    "duration": 10,
    "start_time": "2021-07-12T17:43:02.152Z"
   },
   {
    "duration": 16,
    "start_time": "2021-07-12T17:43:05.271Z"
   },
   {
    "duration": 3410,
    "start_time": "2021-07-12T17:43:14.160Z"
   },
   {
    "duration": 352,
    "start_time": "2021-07-12T17:43:22.335Z"
   },
   {
    "duration": 306,
    "start_time": "2021-07-12T17:43:23.993Z"
   },
   {
    "duration": 57,
    "start_time": "2021-07-12T17:43:45.994Z"
   },
   {
    "duration": 71,
    "start_time": "2021-07-12T17:43:48.544Z"
   },
   {
    "duration": 284,
    "start_time": "2021-07-12T17:43:49.776Z"
   },
   {
    "duration": 28,
    "start_time": "2021-07-12T17:43:56.521Z"
   },
   {
    "duration": 61,
    "start_time": "2021-07-12T17:44:01.528Z"
   },
   {
    "duration": 54,
    "start_time": "2021-07-12T17:44:11.970Z"
   },
   {
    "duration": 3,
    "start_time": "2021-07-12T17:44:46.451Z"
   },
   {
    "duration": 290,
    "start_time": "2021-07-12T17:44:48.690Z"
   },
   {
    "duration": 26,
    "start_time": "2021-07-12T17:44:56.762Z"
   },
   {
    "duration": 18,
    "start_time": "2021-07-12T17:45:08.978Z"
   },
   {
    "duration": 472,
    "start_time": "2021-07-12T17:45:10.930Z"
   },
   {
    "duration": 360,
    "start_time": "2021-07-12T17:46:07.446Z"
   },
   {
    "duration": 18,
    "start_time": "2021-07-12T17:46:28.613Z"
   },
   {
    "duration": 17,
    "start_time": "2021-07-12T17:46:31.213Z"
   },
   {
    "duration": 15,
    "start_time": "2021-07-12T17:47:25.901Z"
   },
   {
    "duration": 6,
    "start_time": "2021-07-12T17:47:45.949Z"
   },
   {
    "duration": 18,
    "start_time": "2021-07-12T17:47:48.341Z"
   },
   {
    "duration": 37921,
    "start_time": "2021-07-12T17:47:49.149Z"
   },
   {
    "duration": 14,
    "start_time": "2021-07-12T17:48:27.072Z"
   },
   {
    "duration": 323,
    "start_time": "2021-07-12T17:48:41.111Z"
   },
   {
    "duration": 290,
    "start_time": "2021-07-12T17:48:42.013Z"
   },
   {
    "duration": 313,
    "start_time": "2021-07-12T17:48:44.502Z"
   },
   {
    "duration": 314,
    "start_time": "2021-07-12T17:48:44.819Z"
   },
   {
    "duration": 309,
    "start_time": "2021-07-12T17:48:46.838Z"
   },
   {
    "duration": 8,
    "start_time": "2021-07-12T17:48:47.774Z"
   },
   {
    "duration": 62,
    "start_time": "2021-07-12T17:48:57.319Z"
   },
   {
    "duration": 12,
    "start_time": "2021-07-12T17:49:03.937Z"
   },
   {
    "duration": 6,
    "start_time": "2021-07-12T17:49:04.838Z"
   },
   {
    "duration": 718,
    "start_time": "2021-07-12T17:49:06.190Z"
   },
   {
    "duration": 680,
    "start_time": "2021-07-12T17:49:08.662Z"
   },
   {
    "duration": 740,
    "start_time": "2021-07-12T17:49:10.974Z"
   },
   {
    "duration": 268,
    "start_time": "2021-07-12T17:49:13.510Z"
   },
   {
    "duration": 283,
    "start_time": "2021-07-12T17:49:17.574Z"
   },
   {
    "duration": 342,
    "start_time": "2021-07-12T17:49:19.623Z"
   },
   {
    "duration": 509,
    "start_time": "2021-07-12T17:49:21.478Z"
   },
   {
    "duration": 22,
    "start_time": "2021-07-12T17:49:25.623Z"
   },
   {
    "duration": 31,
    "start_time": "2021-07-12T17:49:28.487Z"
   },
   {
    "duration": 30,
    "start_time": "2021-07-12T17:49:30.494Z"
   },
   {
    "duration": 1258,
    "start_time": "2021-07-12T17:49:33.582Z"
   },
   {
    "duration": 22,
    "start_time": "2021-07-12T17:50:56.616Z"
   },
   {
    "duration": 16,
    "start_time": "2021-07-12T17:51:36.185Z"
   },
   {
    "duration": 651,
    "start_time": "2021-07-12T17:51:37.401Z"
   },
   {
    "duration": 58,
    "start_time": "2021-07-12T17:51:53.939Z"
   },
   {
    "duration": 9,
    "start_time": "2021-07-12T17:51:57.913Z"
   },
   {
    "duration": 792,
    "start_time": "2021-07-12T17:52:00.578Z"
   },
   {
    "duration": 878,
    "start_time": "2021-07-12T17:52:04.377Z"
   },
   {
    "duration": 39778,
    "start_time": "2021-07-12T17:52:08.145Z"
   },
   {
    "duration": 699,
    "start_time": "2021-07-12T17:53:19.916Z"
   },
   {
    "duration": 734,
    "start_time": "2021-07-12T17:53:23.684Z"
   },
   {
    "duration": 1036,
    "start_time": "2021-07-12T17:53:26.412Z"
   },
   {
    "duration": 142703,
    "start_time": "2021-07-12T17:53:37.260Z"
   },
   {
    "duration": 93668,
    "start_time": "2021-07-12T17:58:24.318Z"
   },
   {
    "duration": 570,
    "start_time": "2021-07-12T17:59:57.989Z"
   },
   {
    "duration": 3,
    "start_time": "2021-07-12T18:00:09.421Z"
   },
   {
    "duration": 4,
    "start_time": "2021-07-12T18:00:39.963Z"
   },
   {
    "duration": 647,
    "start_time": "2021-07-12T18:00:41.924Z"
   },
   {
    "duration": 5,
    "start_time": "2021-07-12T18:00:54.044Z"
   },
   {
    "duration": 14,
    "start_time": "2021-07-12T18:01:09.891Z"
   },
   {
    "duration": 9,
    "start_time": "2021-07-12T18:01:11.373Z"
   },
   {
    "duration": 8,
    "start_time": "2021-07-12T18:01:12.540Z"
   },
   {
    "duration": 27,
    "start_time": "2021-07-12T18:01:15.076Z"
   },
   {
    "duration": 8,
    "start_time": "2021-07-12T18:01:17.959Z"
   },
   {
    "duration": 1008,
    "start_time": "2021-07-12T21:14:30.364Z"
   },
   {
    "duration": 39,
    "start_time": "2021-07-12T21:14:31.375Z"
   },
   {
    "duration": 20,
    "start_time": "2021-07-12T21:14:31.418Z"
   },
   {
    "duration": 36,
    "start_time": "2021-07-12T21:14:31.441Z"
   },
   {
    "duration": 22,
    "start_time": "2021-07-12T21:14:31.479Z"
   },
   {
    "duration": 7,
    "start_time": "2021-07-12T21:14:31.504Z"
   },
   {
    "duration": 60,
    "start_time": "2021-07-12T21:14:31.513Z"
   },
   {
    "duration": 64,
    "start_time": "2021-07-12T21:14:31.575Z"
   },
   {
    "duration": 92,
    "start_time": "2021-07-12T21:14:31.644Z"
   },
   {
    "duration": 3,
    "start_time": "2021-07-12T21:14:31.741Z"
   },
   {
    "duration": 4,
    "start_time": "2021-07-12T21:14:31.766Z"
   },
   {
    "duration": 502,
    "start_time": "2021-07-12T21:14:31.772Z"
   },
   {
    "duration": 370,
    "start_time": "2021-07-12T21:14:32.277Z"
   },
   {
    "duration": 381,
    "start_time": "2021-07-12T21:14:32.650Z"
   },
   {
    "duration": 409,
    "start_time": "2021-07-12T21:14:33.034Z"
   },
   {
    "duration": 3,
    "start_time": "2021-07-12T21:14:33.446Z"
   },
   {
    "duration": 26,
    "start_time": "2021-07-12T21:14:33.451Z"
   },
   {
    "duration": 50,
    "start_time": "2021-07-12T21:14:33.479Z"
   },
   {
    "duration": 60,
    "start_time": "2021-07-12T21:14:33.531Z"
   },
   {
    "duration": 15,
    "start_time": "2021-07-12T21:14:33.594Z"
   },
   {
    "duration": 326,
    "start_time": "2021-07-12T21:14:33.611Z"
   },
   {
    "duration": 30,
    "start_time": "2021-07-12T21:14:33.940Z"
   },
   {
    "duration": 565,
    "start_time": "2021-07-12T21:14:33.973Z"
   },
   {
    "duration": 12,
    "start_time": "2021-07-12T21:14:34.540Z"
   },
   {
    "duration": 302,
    "start_time": "2021-07-12T21:14:34.567Z"
   },
   {
    "duration": 3,
    "start_time": "2021-07-12T21:14:34.872Z"
   },
   {
    "duration": 4,
    "start_time": "2021-07-12T21:14:34.882Z"
   },
   {
    "duration": 4,
    "start_time": "2021-07-12T21:14:34.890Z"
   },
   {
    "duration": 405,
    "start_time": "2021-07-12T21:14:34.897Z"
   },
   {
    "duration": 39,
    "start_time": "2021-07-12T21:14:35.305Z"
   },
   {
    "duration": 17,
    "start_time": "2021-07-12T21:14:35.367Z"
   },
   {
    "duration": 26,
    "start_time": "2021-07-12T21:14:35.387Z"
   },
   {
    "duration": 4,
    "start_time": "2021-07-12T21:14:35.416Z"
   },
   {
    "duration": 1173,
    "start_time": "2021-07-12T21:14:35.424Z"
   },
   {
    "duration": 686,
    "start_time": "2021-07-12T21:14:36.600Z"
   },
   {
    "duration": 20,
    "start_time": "2021-07-12T21:14:37.290Z"
   },
   {
    "duration": 592,
    "start_time": "2021-07-12T21:14:37.313Z"
   },
   {
    "duration": 569,
    "start_time": "2021-07-12T21:14:37.908Z"
   },
   {
    "duration": 53,
    "start_time": "2021-07-12T21:14:38.480Z"
   },
   {
    "duration": 82,
    "start_time": "2021-07-12T21:14:38.537Z"
   },
   {
    "duration": 45,
    "start_time": "2021-07-12T21:14:38.622Z"
   },
   {
    "duration": 34,
    "start_time": "2021-07-12T21:14:38.670Z"
   },
   {
    "duration": 8,
    "start_time": "2021-07-12T21:14:38.707Z"
   },
   {
    "duration": 49,
    "start_time": "2021-07-12T21:14:38.718Z"
   },
   {
    "duration": 17,
    "start_time": "2021-07-12T21:14:38.770Z"
   },
   {
    "duration": 2855,
    "start_time": "2021-07-12T21:14:38.790Z"
   },
   {
    "duration": 336,
    "start_time": "2021-07-12T21:14:41.647Z"
   },
   {
    "duration": 323,
    "start_time": "2021-07-12T21:14:41.986Z"
   },
   {
    "duration": 74,
    "start_time": "2021-07-12T21:14:42.311Z"
   },
   {
    "duration": 86,
    "start_time": "2021-07-12T21:14:42.387Z"
   },
   {
    "duration": 308,
    "start_time": "2021-07-12T21:14:42.475Z"
   },
   {
    "duration": 28,
    "start_time": "2021-07-12T21:14:42.785Z"
   },
   {
    "duration": 84,
    "start_time": "2021-07-12T21:14:42.815Z"
   },
   {
    "duration": 4,
    "start_time": "2021-07-12T21:14:42.901Z"
   },
   {
    "duration": 320,
    "start_time": "2021-07-12T21:14:42.907Z"
   },
   {
    "duration": 37,
    "start_time": "2021-07-12T21:14:43.230Z"
   },
   {
    "duration": 17,
    "start_time": "2021-07-12T21:14:43.269Z"
   },
   {
    "duration": 29,
    "start_time": "2021-07-12T21:14:43.289Z"
   },
   {
    "duration": 53,
    "start_time": "2021-07-12T21:14:43.321Z"
   },
   {
    "duration": 7,
    "start_time": "2021-07-12T21:14:43.377Z"
   },
   {
    "duration": 20,
    "start_time": "2021-07-12T21:14:43.386Z"
   },
   {
    "duration": 39387,
    "start_time": "2021-07-12T21:14:43.409Z"
   },
   {
    "duration": 15,
    "start_time": "2021-07-12T21:15:22.799Z"
   },
   {
    "duration": 340,
    "start_time": "2021-07-12T21:15:22.817Z"
   },
   {
    "duration": 302,
    "start_time": "2021-07-12T21:15:23.160Z"
   },
   {
    "duration": 425,
    "start_time": "2021-07-12T21:15:23.464Z"
   },
   {
    "duration": 301,
    "start_time": "2021-07-12T21:15:23.892Z"
   },
   {
    "duration": 329,
    "start_time": "2021-07-12T21:15:24.195Z"
   },
   {
    "duration": 8,
    "start_time": "2021-07-12T21:15:24.527Z"
   },
   {
    "duration": 87,
    "start_time": "2021-07-12T21:15:24.537Z"
   },
   {
    "duration": 11,
    "start_time": "2021-07-12T21:15:24.626Z"
   },
   {
    "duration": 28,
    "start_time": "2021-07-12T21:15:24.639Z"
   },
   {
    "duration": 820,
    "start_time": "2021-07-12T21:15:24.669Z"
   },
   {
    "duration": 728,
    "start_time": "2021-07-12T21:15:25.491Z"
   },
   {
    "duration": 675,
    "start_time": "2021-07-12T21:15:26.221Z"
   },
   {
    "duration": 282,
    "start_time": "2021-07-12T21:15:26.898Z"
   },
   {
    "duration": 294,
    "start_time": "2021-07-12T21:15:27.182Z"
   },
   {
    "duration": 360,
    "start_time": "2021-07-12T21:15:27.478Z"
   },
   {
    "duration": 513,
    "start_time": "2021-07-12T21:15:27.840Z"
   },
   {
    "duration": 31,
    "start_time": "2021-07-12T21:15:28.356Z"
   },
   {
    "duration": 31,
    "start_time": "2021-07-12T21:15:28.396Z"
   },
   {
    "duration": 60,
    "start_time": "2021-07-12T21:15:28.430Z"
   },
   {
    "duration": 460,
    "start_time": "2021-07-12T21:15:28.492Z"
   },
   {
    "duration": 26658,
    "start_time": "2021-07-12T21:15:02.297Z"
   },
   {
    "duration": 26653,
    "start_time": "2021-07-12T21:15:02.303Z"
   },
   {
    "duration": 26650,
    "start_time": "2021-07-12T21:15:02.308Z"
   },
   {
    "duration": 26647,
    "start_time": "2021-07-12T21:15:02.313Z"
   },
   {
    "duration": 26645,
    "start_time": "2021-07-12T21:15:02.317Z"
   },
   {
    "duration": 26639,
    "start_time": "2021-07-12T21:15:02.324Z"
   },
   {
    "duration": 26626,
    "start_time": "2021-07-12T21:15:02.339Z"
   },
   {
    "duration": 26624,
    "start_time": "2021-07-12T21:15:02.343Z"
   },
   {
    "duration": 26619,
    "start_time": "2021-07-12T21:15:02.349Z"
   },
   {
    "duration": 26615,
    "start_time": "2021-07-12T21:15:02.355Z"
   },
   {
    "duration": 26612,
    "start_time": "2021-07-12T21:15:02.359Z"
   },
   {
    "duration": 26609,
    "start_time": "2021-07-12T21:15:02.364Z"
   },
   {
    "duration": 26604,
    "start_time": "2021-07-12T21:15:02.370Z"
   },
   {
    "duration": 26599,
    "start_time": "2021-07-12T21:15:02.377Z"
   },
   {
    "duration": 26595,
    "start_time": "2021-07-12T21:15:02.382Z"
   },
   {
    "duration": 26582,
    "start_time": "2021-07-12T21:15:02.396Z"
   },
   {
    "duration": 26573,
    "start_time": "2021-07-12T21:15:02.406Z"
   },
   {
    "duration": 26566,
    "start_time": "2021-07-12T21:15:02.414Z"
   },
   {
    "duration": 2039,
    "start_time": "2021-07-12T21:15:37.338Z"
   },
   {
    "duration": 19,
    "start_time": "2021-07-12T21:15:49.294Z"
   },
   {
    "duration": 14,
    "start_time": "2021-07-12T21:15:52.478Z"
   },
   {
    "duration": 592,
    "start_time": "2021-07-12T21:15:54.425Z"
   },
   {
    "duration": 57,
    "start_time": "2021-07-12T21:16:01.458Z"
   },
   {
    "duration": 9,
    "start_time": "2021-07-12T21:16:01.518Z"
   },
   {
    "duration": 833,
    "start_time": "2021-07-12T21:16:01.530Z"
   },
   {
    "duration": 972,
    "start_time": "2021-07-12T21:16:02.367Z"
   },
   {
    "duration": 756,
    "start_time": "2021-07-12T21:16:03.342Z"
   },
   {
    "duration": 720,
    "start_time": "2021-07-12T21:16:04.100Z"
   },
   {
    "duration": 717,
    "start_time": "2021-07-12T21:16:04.823Z"
   },
   {
    "duration": 952,
    "start_time": "2021-07-12T21:16:05.543Z"
   },
   {
    "duration": 812,
    "start_time": "2021-07-12T21:16:06.499Z"
   },
   {
    "duration": 4,
    "start_time": "2021-07-12T21:16:07.313Z"
   },
   {
    "duration": 588,
    "start_time": "2021-07-12T21:16:07.319Z"
   },
   {
    "duration": 9,
    "start_time": "2021-07-12T21:16:07.910Z"
   },
   {
    "duration": 10,
    "start_time": "2021-07-12T21:16:07.921Z"
   },
   {
    "duration": 34,
    "start_time": "2021-07-12T21:16:07.933Z"
   },
   {
    "duration": 29,
    "start_time": "2021-07-12T21:16:07.969Z"
   },
   {
    "duration": 5,
    "start_time": "2021-07-12T21:16:08.000Z"
   },
   {
    "duration": 892,
    "start_time": "2021-07-12T21:16:13.764Z"
   },
   {
    "duration": 124,
    "start_time": "2021-07-12T21:16:53.680Z"
   },
   {
    "duration": 113,
    "start_time": "2021-07-12T21:17:50.153Z"
   }
  ],
  "kernelspec": {
   "display_name": "Python 3",
   "language": "python",
   "name": "python3"
  },
  "language_info": {
   "codemirror_mode": {
    "name": "ipython",
    "version": 3
   },
   "file_extension": ".py",
   "mimetype": "text/x-python",
   "name": "python",
   "nbconvert_exporter": "python",
   "pygments_lexer": "ipython3",
   "version": "3.7.6"
  },
  "toc": {
   "base_numbering": 1,
   "nav_menu": {},
   "number_sections": true,
   "sideBar": true,
   "skip_h1_title": true,
   "title_cell": "Содержание",
   "title_sidebar": "Contents",
   "toc_cell": true,
   "toc_position": {
    "height": "calc(100% - 180px)",
    "left": "10px",
    "top": "150px",
    "width": "165px"
   },
   "toc_section_display": true,
   "toc_window_display": true
  }
 },
 "nbformat": 4,
 "nbformat_minor": 2
}
